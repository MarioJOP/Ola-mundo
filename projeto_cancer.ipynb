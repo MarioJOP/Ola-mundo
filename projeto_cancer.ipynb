{
  "nbformat": 4,
  "nbformat_minor": 0,
  "metadata": {
    "colab": {
      "provenance": [],
      "collapsed_sections": [
        "oqRb4NcSz2Tx",
        "PrY4yoVx0ENr",
        "9cPYKk_48Epw",
        "IzKVmtlNvmxd",
        "agfJ5jjk8v6h",
        "2pfdJv2-84kx",
        "-PDdxxNCx84L",
        "gu0qu9DC4nYS",
        "Nqxuy3DaGELs",
        "jfIaxJqVI5Qr",
        "hOAiDsqMMQ5U",
        "fE4CQP7cN5Aa",
        "yIpwUYVybxht",
        "thapMzGghHq3"
      ],
      "authorship_tag": "ABX9TyP2sOmyMptn78iG1ShKdQWA",
      "include_colab_link": true
    },
    "kernelspec": {
      "name": "python3",
      "display_name": "Python 3"
    },
    "language_info": {
      "name": "python"
    },
    "widgets": {
      "application/vnd.jupyter.widget-state+json": {
        "846b622a10f4411285f21f6f2c7ba31a": {
          "model_module": "catboost-widget",
          "model_name": "CatboostWidgetModel",
          "model_module_version": "^1.0.0",
          "state": {
            "_dom_classes": [],
            "_model_module": "catboost-widget",
            "_model_module_version": "^1.0.0",
            "_model_name": "CatboostWidgetModel",
            "_view_count": null,
            "_view_module": "catboost-widget",
            "_view_module_version": "^1.0.0",
            "_view_name": "CatboostWidgetView",
            "data": {
              "catboost_info": {
                "path": "catboost_info",
                "name": "catboost_info",
                "content": {
                  "passed_iterations": 99,
                  "total_iterations": 100,
                  "data": {
                    "iterations": [
                      {
                        "learn": [
                          0.9213250518,
                          0.5725439577
                        ],
                        "iteration": 0,
                        "passed_time": 0.01993259305,
                        "remaining_time": 1.973326712,
                        "test": [
                          0.8953488372,
                          0.575807077
                        ]
                      },
                      {
                        "learn": [
                          0.9420289855,
                          0.4576627675
                        ],
                        "iteration": 1,
                        "passed_time": 0.03971529852,
                        "remaining_time": 1.946049628,
                        "test": [
                          0.9418604651,
                          0.4573380549
                        ]
                      },
                      {
                        "learn": [
                          0.9565217391,
                          0.3728312602
                        ],
                        "iteration": 2,
                        "passed_time": 0.05165984578,
                        "remaining_time": 1.670335013,
                        "test": [
                          0.9302325581,
                          0.379391928
                        ]
                      },
                      {
                        "learn": [
                          0.9689440994,
                          0.3179060341
                        ],
                        "iteration": 3,
                        "passed_time": 0.06674926312,
                        "remaining_time": 1.601982315,
                        "test": [
                          0.9186046512,
                          0.3248341832
                        ]
                      },
                      {
                        "learn": [
                          0.9730848861,
                          0.2752249039
                        ],
                        "iteration": 4,
                        "passed_time": 0.08304803048,
                        "remaining_time": 1.577912579,
                        "test": [
                          0.9186046512,
                          0.2823277896
                        ]
                      },
                      {
                        "learn": [
                          0.9689440994,
                          0.2375167549
                        ],
                        "iteration": 5,
                        "passed_time": 0.09318910297,
                        "remaining_time": 1.459962613,
                        "test": [
                          0.9302325581,
                          0.2559191169
                        ]
                      },
                      {
                        "learn": [
                          0.9751552795,
                          0.2037255982
                        ],
                        "iteration": 6,
                        "passed_time": 0.1053624635,
                        "remaining_time": 1.399815587,
                        "test": [
                          0.9418604651,
                          0.2289766259
                        ]
                      },
                      {
                        "learn": [
                          0.9772256729,
                          0.1776623439
                        ],
                        "iteration": 7,
                        "passed_time": 0.1144587758,
                        "remaining_time": 1.316275921,
                        "test": [
                          0.9534883721,
                          0.2047301946
                        ]
                      },
                      {
                        "learn": [
                          0.9792960663,
                          0.1559504366
                        ],
                        "iteration": 8,
                        "passed_time": 0.1282402532,
                        "remaining_time": 1.296651449,
                        "test": [
                          0.9534883721,
                          0.1852398449
                        ]
                      },
                      {
                        "learn": [
                          0.9813664596,
                          0.1352985452
                        ],
                        "iteration": 9,
                        "passed_time": 0.140594654,
                        "remaining_time": 1.265351886,
                        "test": [
                          0.9534883721,
                          0.169028114
                        ]
                      },
                      {
                        "learn": [
                          0.9813664596,
                          0.120014169
                        ],
                        "iteration": 10,
                        "passed_time": 0.1600829463,
                        "remaining_time": 1.295216565,
                        "test": [
                          0.9534883721,
                          0.160093479
                        ]
                      },
                      {
                        "learn": [
                          0.983436853,
                          0.1098355957
                        ],
                        "iteration": 11,
                        "passed_time": 0.1714144528,
                        "remaining_time": 1.257039321,
                        "test": [
                          0.9534883721,
                          0.1516768707
                        ]
                      },
                      {
                        "learn": [
                          0.9813664596,
                          0.1009686393
                        ],
                        "iteration": 12,
                        "passed_time": 0.1859407781,
                        "remaining_time": 1.244372899,
                        "test": [
                          0.9534883721,
                          0.1476580105
                        ]
                      },
                      {
                        "learn": [
                          0.9855072464,
                          0.09205237568
                        ],
                        "iteration": 13,
                        "passed_time": 0.1975106755,
                        "remaining_time": 1.213279864,
                        "test": [
                          0.9534883721,
                          0.144562392
                        ]
                      },
                      {
                        "learn": [
                          0.9896480331,
                          0.08530266685
                        ],
                        "iteration": 14,
                        "passed_time": 0.2105818978,
                        "remaining_time": 1.193297421,
                        "test": [
                          0.9534883721,
                          0.1424701229
                        ]
                      },
                      {
                        "learn": [
                          0.9896480331,
                          0.07899230967
                        ],
                        "iteration": 15,
                        "passed_time": 0.2269144452,
                        "remaining_time": 1.191300837,
                        "test": [
                          0.9534883721,
                          0.1384462648
                        ]
                      },
                      {
                        "learn": [
                          0.9917184265,
                          0.0729497371
                        ],
                        "iteration": 16,
                        "passed_time": 0.2449314614,
                        "remaining_time": 1.195841841,
                        "test": [
                          0.9534883721,
                          0.1323359799
                        ]
                      },
                      {
                        "learn": [
                          0.9917184265,
                          0.06862000459
                        ],
                        "iteration": 17,
                        "passed_time": 0.2738641097,
                        "remaining_time": 1.247603166,
                        "test": [
                          0.9651162791,
                          0.1271719955
                        ]
                      },
                      {
                        "learn": [
                          0.9937888199,
                          0.06334634343
                        ],
                        "iteration": 18,
                        "passed_time": 0.2942469473,
                        "remaining_time": 1.254421196,
                        "test": [
                          0.9534883721,
                          0.1224904086
                        ]
                      },
                      {
                        "learn": [
                          0.9917184265,
                          0.06052841113
                        ],
                        "iteration": 19,
                        "passed_time": 0.3133582151,
                        "remaining_time": 1.25343286,
                        "test": [
                          0.9534883721,
                          0.119304088
                        ]
                      },
                      {
                        "learn": [
                          0.9937888199,
                          0.05688458246
                        ],
                        "iteration": 20,
                        "passed_time": 0.3416860092,
                        "remaining_time": 1.285390225,
                        "test": [
                          0.9651162791,
                          0.1157669749
                        ]
                      },
                      {
                        "learn": [
                          0.9937888199,
                          0.05427055511
                        ],
                        "iteration": 21,
                        "passed_time": 0.3624698574,
                        "remaining_time": 1.285120403,
                        "test": [
                          0.9651162791,
                          0.1152048551
                        ]
                      },
                      {
                        "learn": [
                          0.9937888199,
                          0.05327397991
                        ],
                        "iteration": 22,
                        "passed_time": 0.3817595081,
                        "remaining_time": 1.27806444,
                        "test": [
                          0.9651162791,
                          0.1146541959
                        ]
                      },
                      {
                        "learn": [
                          0.9958592133,
                          0.0499123342
                        ],
                        "iteration": 23,
                        "passed_time": 0.3979835316,
                        "remaining_time": 1.260281184,
                        "test": [
                          0.9651162791,
                          0.1141106396
                        ]
                      },
                      {
                        "learn": [
                          0.9958592133,
                          0.04715504984
                        ],
                        "iteration": 24,
                        "passed_time": 0.423816241,
                        "remaining_time": 1.271448723,
                        "test": [
                          0.9651162791,
                          0.1115989631
                        ]
                      },
                      {
                        "learn": [
                          0.9958592133,
                          0.04604393789
                        ],
                        "iteration": 25,
                        "passed_time": 0.4498855783,
                        "remaining_time": 1.280443569,
                        "test": [
                          0.9651162791,
                          0.1112722384
                        ]
                      },
                      {
                        "learn": [
                          0.9958592133,
                          0.04349614572
                        ],
                        "iteration": 26,
                        "passed_time": 0.471778873,
                        "remaining_time": 1.275550286,
                        "test": [
                          0.976744186,
                          0.1099792825
                        ]
                      },
                      {
                        "learn": [
                          0.9958592133,
                          0.04231883841
                        ],
                        "iteration": 27,
                        "passed_time": 0.5032511918,
                        "remaining_time": 1.294074493,
                        "test": [
                          0.976744186,
                          0.1094330583
                        ]
                      },
                      {
                        "learn": [
                          0.9958592133,
                          0.04076322734
                        ],
                        "iteration": 28,
                        "passed_time": 0.524235988,
                        "remaining_time": 1.283474315,
                        "test": [
                          0.976744186,
                          0.1083929019
                        ]
                      },
                      {
                        "learn": [
                          0.9958592133,
                          0.03891856962
                        ],
                        "iteration": 29,
                        "passed_time": 0.5383200997,
                        "remaining_time": 1.256080233,
                        "test": [
                          0.976744186,
                          0.1077491569
                        ]
                      },
                      {
                        "learn": [
                          0.9958592133,
                          0.03693289729
                        ],
                        "iteration": 30,
                        "passed_time": 0.5538923971,
                        "remaining_time": 1.232857271,
                        "test": [
                          0.976744186,
                          0.1068675381
                        ]
                      },
                      {
                        "learn": [
                          0.9958592133,
                          0.03522799786
                        ],
                        "iteration": 31,
                        "passed_time": 0.5673269599,
                        "remaining_time": 1.20556979,
                        "test": [
                          0.976744186,
                          0.1052271721
                        ]
                      },
                      {
                        "learn": [
                          0.9958592133,
                          0.0335645723
                        ],
                        "iteration": 32,
                        "passed_time": 0.5814748934,
                        "remaining_time": 1.180570238,
                        "test": [
                          0.976744186,
                          0.1058082038
                        ]
                      },
                      {
                        "learn": [
                          0.9958592133,
                          0.0322953852
                        ],
                        "iteration": 33,
                        "passed_time": 0.607226686,
                        "remaining_time": 1.178734155,
                        "test": [
                          0.976744186,
                          0.1072289136
                        ]
                      },
                      {
                        "learn": [
                          0.9979296066,
                          0.03113781216
                        ],
                        "iteration": 34,
                        "passed_time": 0.6260593219,
                        "remaining_time": 1.162681598,
                        "test": [
                          0.976744186,
                          0.1077048874
                        ]
                      },
                      {
                        "learn": [
                          0.9979296066,
                          0.03048271279
                        ],
                        "iteration": 35,
                        "passed_time": 0.6482697513,
                        "remaining_time": 1.152479558,
                        "test": [
                          0.976744186,
                          0.1066435608
                        ]
                      },
                      {
                        "learn": [
                          0.9979296066,
                          0.02916654491
                        ],
                        "iteration": 36,
                        "passed_time": 0.6799988396,
                        "remaining_time": 1.157835862,
                        "test": [
                          0.976744186,
                          0.1074507181
                        ]
                      },
                      {
                        "learn": [
                          0.9979296066,
                          0.02808184
                        ],
                        "iteration": 37,
                        "passed_time": 0.7043697058,
                        "remaining_time": 1.149234783,
                        "test": [
                          0.976744186,
                          0.1081682451
                        ]
                      },
                      {
                        "learn": [
                          0.9979296066,
                          0.0274444969
                        ],
                        "iteration": 38,
                        "passed_time": 0.7241996162,
                        "remaining_time": 1.132722477,
                        "test": [
                          0.976744186,
                          0.1082754066
                        ]
                      },
                      {
                        "learn": [
                          0.9979296066,
                          0.02710211545
                        ],
                        "iteration": 39,
                        "passed_time": 0.7328161467,
                        "remaining_time": 1.09922422,
                        "test": [
                          0.976744186,
                          0.1095004315
                        ]
                      },
                      {
                        "learn": [
                          0.9979296066,
                          0.02591272244
                        ],
                        "iteration": 40,
                        "passed_time": 0.7442036211,
                        "remaining_time": 1.070927162,
                        "test": [
                          0.976744186,
                          0.1086990608
                        ]
                      },
                      {
                        "learn": [
                          0.9979296066,
                          0.02459505115
                        ],
                        "iteration": 41,
                        "passed_time": 0.7555297385,
                        "remaining_time": 1.043350591,
                        "test": [
                          0.976744186,
                          0.1117022021
                        ]
                      },
                      {
                        "learn": [
                          1,
                          0.02420873265
                        ],
                        "iteration": 42,
                        "passed_time": 0.7657685935,
                        "remaining_time": 1.015088601,
                        "test": [
                          0.976744186,
                          0.1123956716
                        ]
                      },
                      {
                        "learn": [
                          1,
                          0.02325922586
                        ],
                        "iteration": 43,
                        "passed_time": 0.7773173313,
                        "remaining_time": 0.9893129671,
                        "test": [
                          0.976744186,
                          0.1137574871
                        ]
                      },
                      {
                        "learn": [
                          0.9979296066,
                          0.02265501269
                        ],
                        "iteration": 44,
                        "passed_time": 0.7886584654,
                        "remaining_time": 0.9639159021,
                        "test": [
                          0.976744186,
                          0.1136811697
                        ]
                      },
                      {
                        "learn": [
                          1,
                          0.02210486972
                        ],
                        "iteration": 45,
                        "passed_time": 0.8052212642,
                        "remaining_time": 0.945259745,
                        "test": [
                          0.976744186,
                          0.1141325301
                        ]
                      },
                      {
                        "learn": [
                          1,
                          0.02151026733
                        ],
                        "iteration": 46,
                        "passed_time": 0.8173993013,
                        "remaining_time": 0.9217481482,
                        "test": [
                          0.976744186,
                          0.1128248759
                        ]
                      },
                      {
                        "learn": [
                          1,
                          0.02113223724
                        ],
                        "iteration": 47,
                        "passed_time": 0.8277437555,
                        "remaining_time": 0.8967224018,
                        "test": [
                          0.976744186,
                          0.1116215628
                        ]
                      },
                      {
                        "learn": [
                          1,
                          0.02018778965
                        ],
                        "iteration": 48,
                        "passed_time": 0.8381013837,
                        "remaining_time": 0.8723096034,
                        "test": [
                          0.976744186,
                          0.114797943
                        ]
                      },
                      {
                        "learn": [
                          1,
                          0.01970103953
                        ],
                        "iteration": 49,
                        "passed_time": 0.8498849512,
                        "remaining_time": 0.8498849512,
                        "test": [
                          0.976744186,
                          0.1139803245
                        ]
                      },
                      {
                        "learn": [
                          1,
                          0.01932330287
                        ],
                        "iteration": 50,
                        "passed_time": 0.8620299901,
                        "remaining_time": 0.8282248925,
                        "test": [
                          0.976744186,
                          0.1139607654
                        ]
                      },
                      {
                        "learn": [
                          1,
                          0.01885451313
                        ],
                        "iteration": 51,
                        "passed_time": 0.8712868302,
                        "remaining_time": 0.8042647664,
                        "test": [
                          0.976744186,
                          0.114768422
                        ]
                      },
                      {
                        "learn": [
                          1,
                          0.01873663437
                        ],
                        "iteration": 52,
                        "passed_time": 0.8859924702,
                        "remaining_time": 0.7856914358,
                        "test": [
                          0.976744186,
                          0.1148279254
                        ]
                      },
                      {
                        "learn": [
                          1,
                          0.01805914385
                        ],
                        "iteration": 53,
                        "passed_time": 0.8985175628,
                        "remaining_time": 0.7654038498,
                        "test": [
                          0.976744186,
                          0.1152476646
                        ]
                      },
                      {
                        "learn": [
                          1,
                          0.01764541016
                        ],
                        "iteration": 54,
                        "passed_time": 0.9120355542,
                        "remaining_time": 0.746210908,
                        "test": [
                          0.976744186,
                          0.116436013
                        ]
                      },
                      {
                        "learn": [
                          1,
                          0.01756645317
                        ],
                        "iteration": 55,
                        "passed_time": 0.9264427326,
                        "remaining_time": 0.7279192899,
                        "test": [
                          0.976744186,
                          0.1165177706
                        ]
                      },
                      {
                        "learn": [
                          1,
                          0.01711715148
                        ],
                        "iteration": 56,
                        "passed_time": 0.9376458495,
                        "remaining_time": 0.7073468689,
                        "test": [
                          0.976744186,
                          0.1177542559
                        ]
                      },
                      {
                        "learn": [
                          1,
                          0.01695983352
                        ],
                        "iteration": 57,
                        "passed_time": 0.9461140297,
                        "remaining_time": 0.685117056,
                        "test": [
                          0.976744186,
                          0.1187137942
                        ]
                      },
                      {
                        "learn": [
                          1,
                          0.01660006435
                        ],
                        "iteration": 58,
                        "passed_time": 0.9605657466,
                        "remaining_time": 0.66751179,
                        "test": [
                          0.976744186,
                          0.1187019572
                        ]
                      },
                      {
                        "learn": [
                          1,
                          0.01622887504
                        ],
                        "iteration": 59,
                        "passed_time": 0.9703879998,
                        "remaining_time": 0.6469253332,
                        "test": [
                          0.976744186,
                          0.1187708558
                        ]
                      },
                      {
                        "learn": [
                          1,
                          0.01587525846
                        ],
                        "iteration": 60,
                        "passed_time": 0.9824149938,
                        "remaining_time": 0.6281013895,
                        "test": [
                          0.976744186,
                          0.1192526482
                        ]
                      },
                      {
                        "learn": [
                          1,
                          0.01572622276
                        ],
                        "iteration": 61,
                        "passed_time": 0.9973042095,
                        "remaining_time": 0.6112509671,
                        "test": [
                          0.976744186,
                          0.1192438544
                        ]
                      },
                      {
                        "learn": [
                          1,
                          0.01540175797
                        ],
                        "iteration": 62,
                        "passed_time": 1.009364448,
                        "remaining_time": 0.5928013425,
                        "test": [
                          0.976744186,
                          0.1194362827
                        ]
                      },
                      {
                        "learn": [
                          1,
                          0.01493005536
                        ],
                        "iteration": 63,
                        "passed_time": 1.02014053,
                        "remaining_time": 0.5738290481,
                        "test": [
                          0.976744186,
                          0.1184372398
                        ]
                      },
                      {
                        "learn": [
                          1,
                          0.01454744107
                        ],
                        "iteration": 64,
                        "passed_time": 1.033018782,
                        "remaining_time": 0.5562408825,
                        "test": [
                          0.976744186,
                          0.1193036756
                        ]
                      },
                      {
                        "learn": [
                          1,
                          0.01423940739
                        ],
                        "iteration": 65,
                        "passed_time": 1.043493438,
                        "remaining_time": 0.5375572259,
                        "test": [
                          0.976744186,
                          0.1196935692
                        ]
                      },
                      {
                        "learn": [
                          1,
                          0.01413544333
                        ],
                        "iteration": 66,
                        "passed_time": 1.053934717,
                        "remaining_time": 0.5191021741,
                        "test": [
                          0.976744186,
                          0.1192473996
                        ]
                      },
                      {
                        "learn": [
                          1,
                          0.01393475291
                        ],
                        "iteration": 67,
                        "passed_time": 1.06442771,
                        "remaining_time": 0.5009071575,
                        "test": [
                          0.976744186,
                          0.1185352101
                        ]
                      },
                      {
                        "learn": [
                          1,
                          0.01377151606
                        ],
                        "iteration": 68,
                        "passed_time": 1.083777415,
                        "remaining_time": 0.4869144907,
                        "test": [
                          0.976744186,
                          0.1179158314
                        ]
                      },
                      {
                        "learn": [
                          1,
                          0.01351419941
                        ],
                        "iteration": 69,
                        "passed_time": 1.098328878,
                        "remaining_time": 0.4707123762,
                        "test": [
                          0.976744186,
                          0.117338456
                        ]
                      },
                      {
                        "learn": [
                          1,
                          0.01347786193
                        ],
                        "iteration": 70,
                        "passed_time": 1.108488023,
                        "remaining_time": 0.4527627135,
                        "test": [
                          0.976744186,
                          0.1173189459
                        ]
                      },
                      {
                        "learn": [
                          1,
                          0.01326395646
                        ],
                        "iteration": 71,
                        "passed_time": 1.118576904,
                        "remaining_time": 0.4350021292,
                        "test": [
                          0.976744186,
                          0.1176126007
                        ]
                      },
                      {
                        "learn": [
                          1,
                          0.01272098934
                        ],
                        "iteration": 72,
                        "passed_time": 1.13550652,
                        "remaining_time": 0.4199818634,
                        "test": [
                          0.976744186,
                          0.1192037475
                        ]
                      },
                      {
                        "learn": [
                          1,
                          0.0126045124
                        ],
                        "iteration": 73,
                        "passed_time": 1.147569972,
                        "remaining_time": 0.4032002604,
                        "test": [
                          0.976744186,
                          0.1193188904
                        ]
                      },
                      {
                        "learn": [
                          1,
                          0.01240714563
                        ],
                        "iteration": 74,
                        "passed_time": 1.15783472,
                        "remaining_time": 0.3859449068,
                        "test": [
                          0.976744186,
                          0.1194082759
                        ]
                      },
                      {
                        "learn": [
                          1,
                          0.01213874016
                        ],
                        "iteration": 75,
                        "passed_time": 1.179090593,
                        "remaining_time": 0.3723443977,
                        "test": [
                          0.976744186,
                          0.1201723732
                        ]
                      },
                      {
                        "learn": [
                          1,
                          0.01192268659
                        ],
                        "iteration": 76,
                        "passed_time": 1.190900034,
                        "remaining_time": 0.3557233867,
                        "test": [
                          0.976744186,
                          0.1199058174
                        ]
                      },
                      {
                        "learn": [
                          1,
                          0.01143691244
                        ],
                        "iteration": 77,
                        "passed_time": 1.207146266,
                        "remaining_time": 0.340477152,
                        "test": [
                          0.976744186,
                          0.1208473616
                        ]
                      },
                      {
                        "learn": [
                          1,
                          0.011052759
                        ],
                        "iteration": 78,
                        "passed_time": 1.22982563,
                        "remaining_time": 0.3269156737,
                        "test": [
                          0.976744186,
                          0.1225889141
                        ]
                      },
                      {
                        "learn": [
                          1,
                          0.01084459514
                        ],
                        "iteration": 79,
                        "passed_time": 1.238856382,
                        "remaining_time": 0.3097140955,
                        "test": [
                          0.9651162791,
                          0.1234323305
                        ]
                      },
                      {
                        "learn": [
                          1,
                          0.01081519132
                        ],
                        "iteration": 80,
                        "passed_time": 1.250972357,
                        "remaining_time": 0.2934379604,
                        "test": [
                          0.976744186,
                          0.1235413916
                        ]
                      },
                      {
                        "learn": [
                          1,
                          0.01069288655
                        ],
                        "iteration": 81,
                        "passed_time": 1.271009137,
                        "remaining_time": 0.2790020056,
                        "test": [
                          0.976744186,
                          0.1233440462
                        ]
                      },
                      {
                        "learn": [
                          1,
                          0.01065638132
                        ],
                        "iteration": 82,
                        "passed_time": 1.292754462,
                        "remaining_time": 0.2647810344,
                        "test": [
                          0.976744186,
                          0.1234357366
                        ]
                      },
                      {
                        "learn": [
                          1,
                          0.01048969975
                        ],
                        "iteration": 83,
                        "passed_time": 1.311289216,
                        "remaining_time": 0.2497693744,
                        "test": [
                          0.976744186,
                          0.1248868701
                        ]
                      },
                      {
                        "learn": [
                          1,
                          0.0103112222
                        ],
                        "iteration": 84,
                        "passed_time": 1.320350894,
                        "remaining_time": 0.233003099,
                        "test": [
                          0.976744186,
                          0.1253446252
                        ]
                      },
                      {
                        "learn": [
                          1,
                          0.01019238775
                        ],
                        "iteration": 85,
                        "passed_time": 1.341150708,
                        "remaining_time": 0.2183268595,
                        "test": [
                          0.976744186,
                          0.1240686887
                        ]
                      },
                      {
                        "learn": [
                          1,
                          0.009839018279
                        ],
                        "iteration": 86,
                        "passed_time": 1.367469663,
                        "remaining_time": 0.2043345474,
                        "test": [
                          0.976744186,
                          0.12411044
                        ]
                      },
                      {
                        "learn": [
                          1,
                          0.009812001922
                        ],
                        "iteration": 87,
                        "passed_time": 1.385983722,
                        "remaining_time": 0.1889977803,
                        "test": [
                          0.976744186,
                          0.1241848282
                        ]
                      },
                      {
                        "learn": [
                          1,
                          0.009794000143
                        ],
                        "iteration": 88,
                        "passed_time": 1.396872516,
                        "remaining_time": 0.1726471648,
                        "test": [
                          0.976744186,
                          0.1240478895
                        ]
                      },
                      {
                        "learn": [
                          1,
                          0.009505312451
                        ],
                        "iteration": 89,
                        "passed_time": 1.415188933,
                        "remaining_time": 0.1572432148,
                        "test": [
                          0.976744186,
                          0.124461626
                        ]
                      },
                      {
                        "learn": [
                          1,
                          0.009243896309
                        ],
                        "iteration": 90,
                        "passed_time": 1.43580419,
                        "remaining_time": 0.1420026122,
                        "test": [
                          0.976744186,
                          0.1258358543
                        ]
                      },
                      {
                        "learn": [
                          1,
                          0.008994274625
                        ],
                        "iteration": 91,
                        "passed_time": 1.452277499,
                        "remaining_time": 0.1262849999,
                        "test": [
                          0.9651162791,
                          0.1270547698
                        ]
                      },
                      {
                        "learn": [
                          1,
                          0.008994181305
                        ],
                        "iteration": 92,
                        "passed_time": 1.470442725,
                        "remaining_time": 0.1106784847,
                        "test": [
                          0.9651162791,
                          0.1270571468
                        ]
                      },
                      {
                        "learn": [
                          1,
                          0.008977168777
                        ],
                        "iteration": 93,
                        "passed_time": 1.489902385,
                        "remaining_time": 0.09510015225,
                        "test": [
                          0.9651162791,
                          0.126983028
                        ]
                      },
                      {
                        "learn": [
                          1,
                          0.008963245143
                        ],
                        "iteration": 94,
                        "passed_time": 1.500038696,
                        "remaining_time": 0.07894940504,
                        "test": [
                          0.9651162791,
                          0.126985017
                        ]
                      },
                      {
                        "learn": [
                          1,
                          0.008947531462
                        ],
                        "iteration": 95,
                        "passed_time": 1.510153613,
                        "remaining_time": 0.06292306721,
                        "test": [
                          0.9651162791,
                          0.1269431576
                        ]
                      },
                      {
                        "learn": [
                          1,
                          0.008934724898
                        ],
                        "iteration": 96,
                        "passed_time": 1.524990086,
                        "remaining_time": 0.04716464185,
                        "test": [
                          0.9651162791,
                          0.1269464353
                        ]
                      },
                      {
                        "learn": [
                          1,
                          0.008781382871
                        ],
                        "iteration": 97,
                        "passed_time": 1.535942368,
                        "remaining_time": 0.0313457626,
                        "test": [
                          0.9651162791,
                          0.1275882198
                        ]
                      },
                      {
                        "learn": [
                          1,
                          0.008642104678
                        ],
                        "iteration": 98,
                        "passed_time": 1.545874569,
                        "remaining_time": 0.01561489464,
                        "test": [
                          0.9651162791,
                          0.1274787196
                        ]
                      },
                      {
                        "learn": [
                          1,
                          0.008328748071
                        ],
                        "iteration": 99,
                        "passed_time": 1.556265549,
                        "remaining_time": 0,
                        "test": [
                          0.9651162791,
                          0.1273822842
                        ]
                      }
                    ],
                    "meta": {
                      "test_sets": [
                        "test"
                      ],
                      "test_metrics": [
                        {
                          "best_value": "Max",
                          "name": "Accuracy"
                        },
                        {
                          "best_value": "Min",
                          "name": "Logloss"
                        }
                      ],
                      "learn_metrics": [
                        {
                          "best_value": "Max",
                          "name": "Accuracy"
                        },
                        {
                          "best_value": "Min",
                          "name": "Logloss"
                        }
                      ],
                      "launch_mode": "Train",
                      "parameters": "",
                      "iteration_count": 100,
                      "learn_sets": [
                        "learn"
                      ],
                      "name": "experiment"
                    }
                  }
                }
              }
            },
            "layout": "IPY_MODEL_54610ae711134a79a6c43d68aba16b51"
          }
        }
      }
    }
  },
  "cells": [
    {
      "cell_type": "markdown",
      "metadata": {
        "id": "view-in-github",
        "colab_type": "text"
      },
      "source": [
        "<a href=\"https://colab.research.google.com/github/MarioJOP/Ola-mundo/blob/main/projeto_cancer.ipynb\" target=\"_parent\"><img src=\"https://colab.research.google.com/assets/colab-badge.svg\" alt=\"Open In Colab\"/></a>"
      ]
    },
    {
      "cell_type": "markdown",
      "source": [
        "# Importando bibliotecas:\n"
      ],
      "metadata": {
        "id": "oqRb4NcSz2Tx"
      }
    },
    {
      "cell_type": "code",
      "execution_count": 1,
      "metadata": {
        "id": "GiinpbFexG_c"
      },
      "outputs": [],
      "source": [
        "import pandas as pd\n",
        "import numpy as np\n",
        "import matplotlib.pyplot as plt\n",
        "import plotly.express as px\n",
        "import seaborn as sns"
      ]
    },
    {
      "cell_type": "markdown",
      "source": [
        "# Importando a base de dados:\n"
      ],
      "metadata": {
        "id": "PrY4yoVx0ENr"
      }
    },
    {
      "cell_type": "code",
      "source": [
        "from google.colab import drive\n",
        "drive.mount('/content/drive')"
      ],
      "metadata": {
        "colab": {
          "base_uri": "https://localhost:8080/"
        },
        "id": "8xdx0yd6xtxN",
        "outputId": "de8c873c-258f-469d-ce89-38d614ad1bee"
      },
      "execution_count": 2,
      "outputs": [
        {
          "output_type": "stream",
          "name": "stdout",
          "text": [
            "Mounted at /content/drive\n"
          ]
        }
      ]
    },
    {
      "cell_type": "code",
      "source": [
        "df = pd.read_csv('/content/drive/MyDrive/Colab Notebooks/curso_ML/projeto2/data_cancer2.csv')\n",
        "df_copy = df.copy()\n",
        "df['Unnamed: 32'].unique()"
      ],
      "metadata": {
        "id": "AyRDRzLIxyMp",
        "colab": {
          "base_uri": "https://localhost:8080/"
        },
        "outputId": "8bf42df0-d195-45f4-8626-d48d6869915d"
      },
      "execution_count": 3,
      "outputs": [
        {
          "output_type": "execute_result",
          "data": {
            "text/plain": [
              "array([nan])"
            ]
          },
          "metadata": {},
          "execution_count": 3
        }
      ]
    },
    {
      "cell_type": "code",
      "source": [
        "# Como a coluna \"Unnamed: 32\" está apenas com valores NaN, irei exclui-la.\n",
        "df_copy.drop('Unnamed: 32', axis=1, inplace=True)"
      ],
      "metadata": {
        "id": "7qUE6WeAyf7C"
      },
      "execution_count": 4,
      "outputs": []
    },
    {
      "cell_type": "code",
      "source": [],
      "metadata": {
        "id": "R9Cmui7v0czy"
      },
      "execution_count": 4,
      "outputs": []
    },
    {
      "cell_type": "code",
      "source": [
        "df_copy"
      ],
      "metadata": {
        "colab": {
          "base_uri": "https://localhost:8080/",
          "height": 0
        },
        "id": "JmM1pSsDy0--",
        "outputId": "e7e7f283-0da4-465f-a4c4-07cbad547ac6"
      },
      "execution_count": 5,
      "outputs": [
        {
          "output_type": "execute_result",
          "data": {
            "text/plain": [
              "           id diagnosis  radius_mean  texture_mean  perimeter_mean  area_mean  \\\n",
              "0      842302         M        17.99         10.38          122.80     1001.0   \n",
              "1      842517         M        20.57         17.77          132.90     1326.0   \n",
              "2    84300903         M        19.69         21.25          130.00     1203.0   \n",
              "3    84348301         M        11.42         20.38           77.58      386.1   \n",
              "4    84358402         M        20.29         14.34          135.10     1297.0   \n",
              "..        ...       ...          ...           ...             ...        ...   \n",
              "564    926424         M        21.56         22.39          142.00     1479.0   \n",
              "565    926682         M        20.13         28.25          131.20     1261.0   \n",
              "566    926954         M        16.60         28.08          108.30      858.1   \n",
              "567    927241         M        20.60         29.33          140.10     1265.0   \n",
              "568     92751         B         7.76         24.54           47.92      181.0   \n",
              "\n",
              "     smoothness_mean  compactness_mean  concavity_mean  concave points_mean  \\\n",
              "0            0.11840           0.27760         0.30010              0.14710   \n",
              "1            0.08474           0.07864         0.08690              0.07017   \n",
              "2            0.10960           0.15990         0.19740              0.12790   \n",
              "3            0.14250           0.28390         0.24140              0.10520   \n",
              "4            0.10030           0.13280         0.19800              0.10430   \n",
              "..               ...               ...             ...                  ...   \n",
              "564          0.11100           0.11590         0.24390              0.13890   \n",
              "565          0.09780           0.10340         0.14400              0.09791   \n",
              "566          0.08455           0.10230         0.09251              0.05302   \n",
              "567          0.11780           0.27700         0.35140              0.15200   \n",
              "568          0.05263           0.04362         0.00000              0.00000   \n",
              "\n",
              "     ...  radius_worst  texture_worst  perimeter_worst  area_worst  \\\n",
              "0    ...        25.380          17.33           184.60      2019.0   \n",
              "1    ...        24.990          23.41           158.80      1956.0   \n",
              "2    ...        23.570          25.53           152.50      1709.0   \n",
              "3    ...        14.910          26.50            98.87       567.7   \n",
              "4    ...        22.540          16.67           152.20      1575.0   \n",
              "..   ...           ...            ...              ...         ...   \n",
              "564  ...        25.450          26.40           166.10      2027.0   \n",
              "565  ...        23.690          38.25           155.00      1731.0   \n",
              "566  ...        18.980          34.12           126.70      1124.0   \n",
              "567  ...        25.740          39.42           184.60      1821.0   \n",
              "568  ...         9.456          30.37            59.16       268.6   \n",
              "\n",
              "     smoothness_worst  compactness_worst  concavity_worst  \\\n",
              "0             0.16220            0.66560           0.7119   \n",
              "1             0.12380            0.18660           0.2416   \n",
              "2             0.14440            0.42450           0.4504   \n",
              "3             0.20980            0.86630           0.6869   \n",
              "4             0.13740            0.20500           0.4000   \n",
              "..                ...                ...              ...   \n",
              "564           0.14100            0.21130           0.4107   \n",
              "565           0.11660            0.19220           0.3215   \n",
              "566           0.11390            0.30940           0.3403   \n",
              "567           0.16500            0.86810           0.9387   \n",
              "568           0.08996            0.06444           0.0000   \n",
              "\n",
              "     concave points_worst  symmetry_worst  fractal_dimension_worst  \n",
              "0                  0.2654          0.4601                  0.11890  \n",
              "1                  0.1860          0.2750                  0.08902  \n",
              "2                  0.2430          0.3613                  0.08758  \n",
              "3                  0.2575          0.6638                  0.17300  \n",
              "4                  0.1625          0.2364                  0.07678  \n",
              "..                    ...             ...                      ...  \n",
              "564                0.2216          0.2060                  0.07115  \n",
              "565                0.1628          0.2572                  0.06637  \n",
              "566                0.1418          0.2218                  0.07820  \n",
              "567                0.2650          0.4087                  0.12400  \n",
              "568                0.0000          0.2871                  0.07039  \n",
              "\n",
              "[569 rows x 32 columns]"
            ],
            "text/html": [
              "\n",
              "  <div id=\"df-c6890782-5206-416b-9924-1cc8909cd78b\">\n",
              "    <div class=\"colab-df-container\">\n",
              "      <div>\n",
              "<style scoped>\n",
              "    .dataframe tbody tr th:only-of-type {\n",
              "        vertical-align: middle;\n",
              "    }\n",
              "\n",
              "    .dataframe tbody tr th {\n",
              "        vertical-align: top;\n",
              "    }\n",
              "\n",
              "    .dataframe thead th {\n",
              "        text-align: right;\n",
              "    }\n",
              "</style>\n",
              "<table border=\"1\" class=\"dataframe\">\n",
              "  <thead>\n",
              "    <tr style=\"text-align: right;\">\n",
              "      <th></th>\n",
              "      <th>id</th>\n",
              "      <th>diagnosis</th>\n",
              "      <th>radius_mean</th>\n",
              "      <th>texture_mean</th>\n",
              "      <th>perimeter_mean</th>\n",
              "      <th>area_mean</th>\n",
              "      <th>smoothness_mean</th>\n",
              "      <th>compactness_mean</th>\n",
              "      <th>concavity_mean</th>\n",
              "      <th>concave points_mean</th>\n",
              "      <th>...</th>\n",
              "      <th>radius_worst</th>\n",
              "      <th>texture_worst</th>\n",
              "      <th>perimeter_worst</th>\n",
              "      <th>area_worst</th>\n",
              "      <th>smoothness_worst</th>\n",
              "      <th>compactness_worst</th>\n",
              "      <th>concavity_worst</th>\n",
              "      <th>concave points_worst</th>\n",
              "      <th>symmetry_worst</th>\n",
              "      <th>fractal_dimension_worst</th>\n",
              "    </tr>\n",
              "  </thead>\n",
              "  <tbody>\n",
              "    <tr>\n",
              "      <th>0</th>\n",
              "      <td>842302</td>\n",
              "      <td>M</td>\n",
              "      <td>17.99</td>\n",
              "      <td>10.38</td>\n",
              "      <td>122.80</td>\n",
              "      <td>1001.0</td>\n",
              "      <td>0.11840</td>\n",
              "      <td>0.27760</td>\n",
              "      <td>0.30010</td>\n",
              "      <td>0.14710</td>\n",
              "      <td>...</td>\n",
              "      <td>25.380</td>\n",
              "      <td>17.33</td>\n",
              "      <td>184.60</td>\n",
              "      <td>2019.0</td>\n",
              "      <td>0.16220</td>\n",
              "      <td>0.66560</td>\n",
              "      <td>0.7119</td>\n",
              "      <td>0.2654</td>\n",
              "      <td>0.4601</td>\n",
              "      <td>0.11890</td>\n",
              "    </tr>\n",
              "    <tr>\n",
              "      <th>1</th>\n",
              "      <td>842517</td>\n",
              "      <td>M</td>\n",
              "      <td>20.57</td>\n",
              "      <td>17.77</td>\n",
              "      <td>132.90</td>\n",
              "      <td>1326.0</td>\n",
              "      <td>0.08474</td>\n",
              "      <td>0.07864</td>\n",
              "      <td>0.08690</td>\n",
              "      <td>0.07017</td>\n",
              "      <td>...</td>\n",
              "      <td>24.990</td>\n",
              "      <td>23.41</td>\n",
              "      <td>158.80</td>\n",
              "      <td>1956.0</td>\n",
              "      <td>0.12380</td>\n",
              "      <td>0.18660</td>\n",
              "      <td>0.2416</td>\n",
              "      <td>0.1860</td>\n",
              "      <td>0.2750</td>\n",
              "      <td>0.08902</td>\n",
              "    </tr>\n",
              "    <tr>\n",
              "      <th>2</th>\n",
              "      <td>84300903</td>\n",
              "      <td>M</td>\n",
              "      <td>19.69</td>\n",
              "      <td>21.25</td>\n",
              "      <td>130.00</td>\n",
              "      <td>1203.0</td>\n",
              "      <td>0.10960</td>\n",
              "      <td>0.15990</td>\n",
              "      <td>0.19740</td>\n",
              "      <td>0.12790</td>\n",
              "      <td>...</td>\n",
              "      <td>23.570</td>\n",
              "      <td>25.53</td>\n",
              "      <td>152.50</td>\n",
              "      <td>1709.0</td>\n",
              "      <td>0.14440</td>\n",
              "      <td>0.42450</td>\n",
              "      <td>0.4504</td>\n",
              "      <td>0.2430</td>\n",
              "      <td>0.3613</td>\n",
              "      <td>0.08758</td>\n",
              "    </tr>\n",
              "    <tr>\n",
              "      <th>3</th>\n",
              "      <td>84348301</td>\n",
              "      <td>M</td>\n",
              "      <td>11.42</td>\n",
              "      <td>20.38</td>\n",
              "      <td>77.58</td>\n",
              "      <td>386.1</td>\n",
              "      <td>0.14250</td>\n",
              "      <td>0.28390</td>\n",
              "      <td>0.24140</td>\n",
              "      <td>0.10520</td>\n",
              "      <td>...</td>\n",
              "      <td>14.910</td>\n",
              "      <td>26.50</td>\n",
              "      <td>98.87</td>\n",
              "      <td>567.7</td>\n",
              "      <td>0.20980</td>\n",
              "      <td>0.86630</td>\n",
              "      <td>0.6869</td>\n",
              "      <td>0.2575</td>\n",
              "      <td>0.6638</td>\n",
              "      <td>0.17300</td>\n",
              "    </tr>\n",
              "    <tr>\n",
              "      <th>4</th>\n",
              "      <td>84358402</td>\n",
              "      <td>M</td>\n",
              "      <td>20.29</td>\n",
              "      <td>14.34</td>\n",
              "      <td>135.10</td>\n",
              "      <td>1297.0</td>\n",
              "      <td>0.10030</td>\n",
              "      <td>0.13280</td>\n",
              "      <td>0.19800</td>\n",
              "      <td>0.10430</td>\n",
              "      <td>...</td>\n",
              "      <td>22.540</td>\n",
              "      <td>16.67</td>\n",
              "      <td>152.20</td>\n",
              "      <td>1575.0</td>\n",
              "      <td>0.13740</td>\n",
              "      <td>0.20500</td>\n",
              "      <td>0.4000</td>\n",
              "      <td>0.1625</td>\n",
              "      <td>0.2364</td>\n",
              "      <td>0.07678</td>\n",
              "    </tr>\n",
              "    <tr>\n",
              "      <th>...</th>\n",
              "      <td>...</td>\n",
              "      <td>...</td>\n",
              "      <td>...</td>\n",
              "      <td>...</td>\n",
              "      <td>...</td>\n",
              "      <td>...</td>\n",
              "      <td>...</td>\n",
              "      <td>...</td>\n",
              "      <td>...</td>\n",
              "      <td>...</td>\n",
              "      <td>...</td>\n",
              "      <td>...</td>\n",
              "      <td>...</td>\n",
              "      <td>...</td>\n",
              "      <td>...</td>\n",
              "      <td>...</td>\n",
              "      <td>...</td>\n",
              "      <td>...</td>\n",
              "      <td>...</td>\n",
              "      <td>...</td>\n",
              "      <td>...</td>\n",
              "    </tr>\n",
              "    <tr>\n",
              "      <th>564</th>\n",
              "      <td>926424</td>\n",
              "      <td>M</td>\n",
              "      <td>21.56</td>\n",
              "      <td>22.39</td>\n",
              "      <td>142.00</td>\n",
              "      <td>1479.0</td>\n",
              "      <td>0.11100</td>\n",
              "      <td>0.11590</td>\n",
              "      <td>0.24390</td>\n",
              "      <td>0.13890</td>\n",
              "      <td>...</td>\n",
              "      <td>25.450</td>\n",
              "      <td>26.40</td>\n",
              "      <td>166.10</td>\n",
              "      <td>2027.0</td>\n",
              "      <td>0.14100</td>\n",
              "      <td>0.21130</td>\n",
              "      <td>0.4107</td>\n",
              "      <td>0.2216</td>\n",
              "      <td>0.2060</td>\n",
              "      <td>0.07115</td>\n",
              "    </tr>\n",
              "    <tr>\n",
              "      <th>565</th>\n",
              "      <td>926682</td>\n",
              "      <td>M</td>\n",
              "      <td>20.13</td>\n",
              "      <td>28.25</td>\n",
              "      <td>131.20</td>\n",
              "      <td>1261.0</td>\n",
              "      <td>0.09780</td>\n",
              "      <td>0.10340</td>\n",
              "      <td>0.14400</td>\n",
              "      <td>0.09791</td>\n",
              "      <td>...</td>\n",
              "      <td>23.690</td>\n",
              "      <td>38.25</td>\n",
              "      <td>155.00</td>\n",
              "      <td>1731.0</td>\n",
              "      <td>0.11660</td>\n",
              "      <td>0.19220</td>\n",
              "      <td>0.3215</td>\n",
              "      <td>0.1628</td>\n",
              "      <td>0.2572</td>\n",
              "      <td>0.06637</td>\n",
              "    </tr>\n",
              "    <tr>\n",
              "      <th>566</th>\n",
              "      <td>926954</td>\n",
              "      <td>M</td>\n",
              "      <td>16.60</td>\n",
              "      <td>28.08</td>\n",
              "      <td>108.30</td>\n",
              "      <td>858.1</td>\n",
              "      <td>0.08455</td>\n",
              "      <td>0.10230</td>\n",
              "      <td>0.09251</td>\n",
              "      <td>0.05302</td>\n",
              "      <td>...</td>\n",
              "      <td>18.980</td>\n",
              "      <td>34.12</td>\n",
              "      <td>126.70</td>\n",
              "      <td>1124.0</td>\n",
              "      <td>0.11390</td>\n",
              "      <td>0.30940</td>\n",
              "      <td>0.3403</td>\n",
              "      <td>0.1418</td>\n",
              "      <td>0.2218</td>\n",
              "      <td>0.07820</td>\n",
              "    </tr>\n",
              "    <tr>\n",
              "      <th>567</th>\n",
              "      <td>927241</td>\n",
              "      <td>M</td>\n",
              "      <td>20.60</td>\n",
              "      <td>29.33</td>\n",
              "      <td>140.10</td>\n",
              "      <td>1265.0</td>\n",
              "      <td>0.11780</td>\n",
              "      <td>0.27700</td>\n",
              "      <td>0.35140</td>\n",
              "      <td>0.15200</td>\n",
              "      <td>...</td>\n",
              "      <td>25.740</td>\n",
              "      <td>39.42</td>\n",
              "      <td>184.60</td>\n",
              "      <td>1821.0</td>\n",
              "      <td>0.16500</td>\n",
              "      <td>0.86810</td>\n",
              "      <td>0.9387</td>\n",
              "      <td>0.2650</td>\n",
              "      <td>0.4087</td>\n",
              "      <td>0.12400</td>\n",
              "    </tr>\n",
              "    <tr>\n",
              "      <th>568</th>\n",
              "      <td>92751</td>\n",
              "      <td>B</td>\n",
              "      <td>7.76</td>\n",
              "      <td>24.54</td>\n",
              "      <td>47.92</td>\n",
              "      <td>181.0</td>\n",
              "      <td>0.05263</td>\n",
              "      <td>0.04362</td>\n",
              "      <td>0.00000</td>\n",
              "      <td>0.00000</td>\n",
              "      <td>...</td>\n",
              "      <td>9.456</td>\n",
              "      <td>30.37</td>\n",
              "      <td>59.16</td>\n",
              "      <td>268.6</td>\n",
              "      <td>0.08996</td>\n",
              "      <td>0.06444</td>\n",
              "      <td>0.0000</td>\n",
              "      <td>0.0000</td>\n",
              "      <td>0.2871</td>\n",
              "      <td>0.07039</td>\n",
              "    </tr>\n",
              "  </tbody>\n",
              "</table>\n",
              "<p>569 rows × 32 columns</p>\n",
              "</div>\n",
              "      <button class=\"colab-df-convert\" onclick=\"convertToInteractive('df-c6890782-5206-416b-9924-1cc8909cd78b')\"\n",
              "              title=\"Convert this dataframe to an interactive table.\"\n",
              "              style=\"display:none;\">\n",
              "        \n",
              "  <svg xmlns=\"http://www.w3.org/2000/svg\" height=\"24px\"viewBox=\"0 0 24 24\"\n",
              "       width=\"24px\">\n",
              "    <path d=\"M0 0h24v24H0V0z\" fill=\"none\"/>\n",
              "    <path d=\"M18.56 5.44l.94 2.06.94-2.06 2.06-.94-2.06-.94-.94-2.06-.94 2.06-2.06.94zm-11 1L8.5 8.5l.94-2.06 2.06-.94-2.06-.94L8.5 2.5l-.94 2.06-2.06.94zm10 10l.94 2.06.94-2.06 2.06-.94-2.06-.94-.94-2.06-.94 2.06-2.06.94z\"/><path d=\"M17.41 7.96l-1.37-1.37c-.4-.4-.92-.59-1.43-.59-.52 0-1.04.2-1.43.59L10.3 9.45l-7.72 7.72c-.78.78-.78 2.05 0 2.83L4 21.41c.39.39.9.59 1.41.59.51 0 1.02-.2 1.41-.59l7.78-7.78 2.81-2.81c.8-.78.8-2.07 0-2.86zM5.41 20L4 18.59l7.72-7.72 1.47 1.35L5.41 20z\"/>\n",
              "  </svg>\n",
              "      </button>\n",
              "      \n",
              "  <style>\n",
              "    .colab-df-container {\n",
              "      display:flex;\n",
              "      flex-wrap:wrap;\n",
              "      gap: 12px;\n",
              "    }\n",
              "\n",
              "    .colab-df-convert {\n",
              "      background-color: #E8F0FE;\n",
              "      border: none;\n",
              "      border-radius: 50%;\n",
              "      cursor: pointer;\n",
              "      display: none;\n",
              "      fill: #1967D2;\n",
              "      height: 32px;\n",
              "      padding: 0 0 0 0;\n",
              "      width: 32px;\n",
              "    }\n",
              "\n",
              "    .colab-df-convert:hover {\n",
              "      background-color: #E2EBFA;\n",
              "      box-shadow: 0px 1px 2px rgba(60, 64, 67, 0.3), 0px 1px 3px 1px rgba(60, 64, 67, 0.15);\n",
              "      fill: #174EA6;\n",
              "    }\n",
              "\n",
              "    [theme=dark] .colab-df-convert {\n",
              "      background-color: #3B4455;\n",
              "      fill: #D2E3FC;\n",
              "    }\n",
              "\n",
              "    [theme=dark] .colab-df-convert:hover {\n",
              "      background-color: #434B5C;\n",
              "      box-shadow: 0px 1px 3px 1px rgba(0, 0, 0, 0.15);\n",
              "      filter: drop-shadow(0px 1px 2px rgba(0, 0, 0, 0.3));\n",
              "      fill: #FFFFFF;\n",
              "    }\n",
              "  </style>\n",
              "\n",
              "      <script>\n",
              "        const buttonEl =\n",
              "          document.querySelector('#df-c6890782-5206-416b-9924-1cc8909cd78b button.colab-df-convert');\n",
              "        buttonEl.style.display =\n",
              "          google.colab.kernel.accessAllowed ? 'block' : 'none';\n",
              "\n",
              "        async function convertToInteractive(key) {\n",
              "          const element = document.querySelector('#df-c6890782-5206-416b-9924-1cc8909cd78b');\n",
              "          const dataTable =\n",
              "            await google.colab.kernel.invokeFunction('convertToInteractive',\n",
              "                                                     [key], {});\n",
              "          if (!dataTable) return;\n",
              "\n",
              "          const docLinkHtml = 'Like what you see? Visit the ' +\n",
              "            '<a target=\"_blank\" href=https://colab.research.google.com/notebooks/data_table.ipynb>data table notebook</a>'\n",
              "            + ' to learn more about interactive tables.';\n",
              "          element.innerHTML = '';\n",
              "          dataTable['output_type'] = 'display_data';\n",
              "          await google.colab.output.renderOutput(dataTable, element);\n",
              "          const docLink = document.createElement('div');\n",
              "          docLink.innerHTML = docLinkHtml;\n",
              "          element.appendChild(docLink);\n",
              "        }\n",
              "      </script>\n",
              "    </div>\n",
              "  </div>\n",
              "  "
            ]
          },
          "metadata": {},
          "execution_count": 5
        }
      ]
    },
    {
      "cell_type": "markdown",
      "source": [
        "# Tratamento/Exploração dos Dados:"
      ],
      "metadata": {
        "id": "9cPYKk_48Epw"
      }
    },
    {
      "cell_type": "code",
      "source": [
        "df_copy.diagnosis.value_counts()"
      ],
      "metadata": {
        "colab": {
          "base_uri": "https://localhost:8080/"
        },
        "id": "M60E_wj6y9y_",
        "outputId": "39d32487-acb2-44c6-9f2e-90dd3599af24"
      },
      "execution_count": 6,
      "outputs": [
        {
          "output_type": "execute_result",
          "data": {
            "text/plain": [
              "B    357\n",
              "M    212\n",
              "Name: diagnosis, dtype: int64"
            ]
          },
          "metadata": {},
          "execution_count": 6
        }
      ]
    },
    {
      "cell_type": "code",
      "source": [
        "df_copy.duplicated().sum()"
      ],
      "metadata": {
        "colab": {
          "base_uri": "https://localhost:8080/"
        },
        "id": "KGFVFAjJ_S74",
        "outputId": "c184c68b-75bf-4f5d-d55a-d8d47178d28d"
      },
      "execution_count": 7,
      "outputs": [
        {
          "output_type": "execute_result",
          "data": {
            "text/plain": [
              "0"
            ]
          },
          "metadata": {},
          "execution_count": 7
        }
      ]
    },
    {
      "cell_type": "code",
      "source": [
        "df_copy.isna().sum()"
      ],
      "metadata": {
        "colab": {
          "base_uri": "https://localhost:8080/"
        },
        "id": "AIsA0aWzzN8a",
        "outputId": "ad0b0b01-41ad-46b6-84bb-3e5b17509d89"
      },
      "execution_count": 8,
      "outputs": [
        {
          "output_type": "execute_result",
          "data": {
            "text/plain": [
              "id                         0\n",
              "diagnosis                  0\n",
              "radius_mean                0\n",
              "texture_mean               0\n",
              "perimeter_mean             0\n",
              "area_mean                  0\n",
              "smoothness_mean            0\n",
              "compactness_mean           0\n",
              "concavity_mean             0\n",
              "concave points_mean        0\n",
              "symmetry_mean              0\n",
              "fractal_dimension_mean     0\n",
              "radius_se                  0\n",
              "texture_se                 0\n",
              "perimeter_se               0\n",
              "area_se                    0\n",
              "smoothness_se              0\n",
              "compactness_se             0\n",
              "concavity_se               0\n",
              "concave points_se          0\n",
              "symmetry_se                0\n",
              "fractal_dimension_se       0\n",
              "radius_worst               0\n",
              "texture_worst              0\n",
              "perimeter_worst            0\n",
              "area_worst                 0\n",
              "smoothness_worst           0\n",
              "compactness_worst          0\n",
              "concavity_worst            0\n",
              "concave points_worst       0\n",
              "symmetry_worst             0\n",
              "fractal_dimension_worst    0\n",
              "dtype: int64"
            ]
          },
          "metadata": {},
          "execution_count": 8
        }
      ]
    },
    {
      "cell_type": "code",
      "source": [
        "# A coluna \"id\" não será necessária.\n",
        "df_copy.drop('id', axis=1, inplace=True)"
      ],
      "metadata": {
        "id": "KJzXi1TUzaR-"
      },
      "execution_count": 9,
      "outputs": []
    },
    {
      "cell_type": "code",
      "source": [
        "df_copy.info()"
      ],
      "metadata": {
        "colab": {
          "base_uri": "https://localhost:8080/"
        },
        "id": "YmKnu1H_zezX",
        "outputId": "469ed82e-622e-48d1-9844-9939c33d9b96"
      },
      "execution_count": 10,
      "outputs": [
        {
          "output_type": "stream",
          "name": "stdout",
          "text": [
            "<class 'pandas.core.frame.DataFrame'>\n",
            "RangeIndex: 569 entries, 0 to 568\n",
            "Data columns (total 31 columns):\n",
            " #   Column                   Non-Null Count  Dtype  \n",
            "---  ------                   --------------  -----  \n",
            " 0   diagnosis                569 non-null    object \n",
            " 1   radius_mean              569 non-null    float64\n",
            " 2   texture_mean             569 non-null    float64\n",
            " 3   perimeter_mean           569 non-null    float64\n",
            " 4   area_mean                569 non-null    float64\n",
            " 5   smoothness_mean          569 non-null    float64\n",
            " 6   compactness_mean         569 non-null    float64\n",
            " 7   concavity_mean           569 non-null    float64\n",
            " 8   concave points_mean      569 non-null    float64\n",
            " 9   symmetry_mean            569 non-null    float64\n",
            " 10  fractal_dimension_mean   569 non-null    float64\n",
            " 11  radius_se                569 non-null    float64\n",
            " 12  texture_se               569 non-null    float64\n",
            " 13  perimeter_se             569 non-null    float64\n",
            " 14  area_se                  569 non-null    float64\n",
            " 15  smoothness_se            569 non-null    float64\n",
            " 16  compactness_se           569 non-null    float64\n",
            " 17  concavity_se             569 non-null    float64\n",
            " 18  concave points_se        569 non-null    float64\n",
            " 19  symmetry_se              569 non-null    float64\n",
            " 20  fractal_dimension_se     569 non-null    float64\n",
            " 21  radius_worst             569 non-null    float64\n",
            " 22  texture_worst            569 non-null    float64\n",
            " 23  perimeter_worst          569 non-null    float64\n",
            " 24  area_worst               569 non-null    float64\n",
            " 25  smoothness_worst         569 non-null    float64\n",
            " 26  compactness_worst        569 non-null    float64\n",
            " 27  concavity_worst          569 non-null    float64\n",
            " 28  concave points_worst     569 non-null    float64\n",
            " 29  symmetry_worst           569 non-null    float64\n",
            " 30  fractal_dimension_worst  569 non-null    float64\n",
            "dtypes: float64(30), object(1)\n",
            "memory usage: 137.9+ KB\n"
          ]
        }
      ]
    },
    {
      "cell_type": "code",
      "source": [
        "sns.countplot(df_copy.diagnosis)"
      ],
      "metadata": {
        "colab": {
          "base_uri": "https://localhost:8080/",
          "height": 354
        },
        "id": "KEN8pwuC0olJ",
        "outputId": "75931a81-0f09-490f-dc34-8ce55febd26e"
      },
      "execution_count": 11,
      "outputs": [
        {
          "output_type": "stream",
          "name": "stderr",
          "text": [
            "/usr/local/lib/python3.9/dist-packages/seaborn/_decorators.py:36: FutureWarning: Pass the following variable as a keyword arg: x. From version 0.12, the only valid positional argument will be `data`, and passing other arguments without an explicit keyword will result in an error or misinterpretation.\n",
            "  warnings.warn(\n"
          ]
        },
        {
          "output_type": "execute_result",
          "data": {
            "text/plain": [
              "<AxesSubplot:xlabel='diagnosis', ylabel='count'>"
            ]
          },
          "metadata": {},
          "execution_count": 11
        },
        {
          "output_type": "display_data",
          "data": {
            "text/plain": [
              "<Figure size 432x288 with 1 Axes>"
            ],
            "image/png": "[encoded data removed]"
          },
          "metadata": {
            "needs_background": "light"
          }
        }
      ]
    },
    {
      "cell_type": "code",
      "source": [
        "df_copy.describe()"
      ],
      "metadata": {
        "colab": {
          "base_uri": "https://localhost:8080/",
          "height": 411
        },
        "id": "DJ4WprQY07iL",
        "outputId": "b0059d6b-4523-447e-be3c-17d3a009d450"
      },
      "execution_count": 12,
      "outputs": [
        {
          "output_type": "execute_result",
          "data": {
            "text/plain": [
              "       radius_mean  texture_mean  perimeter_mean    area_mean  \\\n",
              "count   569.000000    569.000000      569.000000   569.000000   \n",
              "mean     14.127292     19.289649       91.969033   654.889104   \n",
              "std       3.524049      4.301036       24.298981   351.914129   \n",
              "min       6.981000      9.710000       43.790000   143.500000   \n",
              "25%      11.700000     16.170000       75.170000   420.300000   \n",
              "50%      13.370000     18.840000       86.240000   551.100000   \n",
              "75%      15.780000     21.800000      104.100000   782.700000   \n",
              "max      28.110000     39.280000      188.500000  2501.000000   \n",
              "\n",
              "       smoothness_mean  compactness_mean  concavity_mean  concave points_mean  \\\n",
              "count       569.000000        569.000000      569.000000           569.000000   \n",
              "mean          0.096360          0.104341        0.088799             0.048919   \n",
              "std           0.014064          0.052813        0.079720             0.038803   \n",
              "min           0.052630          0.019380        0.000000             0.000000   \n",
              "25%           0.086370          0.064920        0.029560             0.020310   \n",
              "50%           0.095870          0.092630        0.061540             0.033500   \n",
              "75%           0.105300          0.130400        0.130700             0.074000   \n",
              "max           0.163400          0.345400        0.426800             0.201200   \n",
              "\n",
              "       symmetry_mean  fractal_dimension_mean  ...  radius_worst  \\\n",
              "count     569.000000              569.000000  ...    569.000000   \n",
              "mean        0.181162                0.062798  ...     16.269190   \n",
              "std         0.027414                0.007060  ...      4.833242   \n",
              "min         0.106000                0.049960  ...      7.930000   \n",
              "25%         0.161900                0.057700  ...     13.010000   \n",
              "50%         0.179200                0.061540  ...     14.970000   \n",
              "75%         0.195700                0.066120  ...     18.790000   \n",
              "max         0.304000                0.097440  ...     36.040000   \n",
              "\n",
              "       texture_worst  perimeter_worst   area_worst  smoothness_worst  \\\n",
              "count     569.000000       569.000000   569.000000        569.000000   \n",
              "mean       25.677223       107.261213   880.583128          0.132369   \n",
              "std         6.146258        33.602542   569.356993          0.022832   \n",
              "min        12.020000        50.410000   185.200000          0.071170   \n",
              "25%        21.080000        84.110000   515.300000          0.116600   \n",
              "50%        25.410000        97.660000   686.500000          0.131300   \n",
              "75%        29.720000       125.400000  1084.000000          0.146000   \n",
              "max        49.540000       251.200000  4254.000000          0.222600   \n",
              "\n",
              "       compactness_worst  concavity_worst  concave points_worst  \\\n",
              "count         569.000000       569.000000            569.000000   \n",
              "mean            0.254265         0.272188              0.114606   \n",
              "std             0.157336         0.208624              0.065732   \n",
              "min             0.027290         0.000000              0.000000   \n",
              "25%             0.147200         0.114500              0.064930   \n",
              "50%             0.211900         0.226700              0.099930   \n",
              "75%             0.339100         0.382900              0.161400   \n",
              "max             1.058000         1.252000              0.291000   \n",
              "\n",
              "       symmetry_worst  fractal_dimension_worst  \n",
              "count      569.000000               569.000000  \n",
              "mean         0.290076                 0.083946  \n",
              "std          0.061867                 0.018061  \n",
              "min          0.156500                 0.055040  \n",
              "25%          0.250400                 0.071460  \n",
              "50%          0.282200                 0.080040  \n",
              "75%          0.317900                 0.092080  \n",
              "max          0.663800                 0.207500  \n",
              "\n",
              "[8 rows x 30 columns]"
            ],
            "text/html": [
              "\n",
              "  <div id=\"df-497cf12b-a23d-493f-b830-fe2ce21f3795\">\n",
              "    <div class=\"colab-df-container\">\n",
              "      <div>\n",
              "<style scoped>\n",
              "    .dataframe tbody tr th:only-of-type {\n",
              "        vertical-align: middle;\n",
              "    }\n",
              "\n",
              "    .dataframe tbody tr th {\n",
              "        vertical-align: top;\n",
              "    }\n",
              "\n",
              "    .dataframe thead th {\n",
              "        text-align: right;\n",
              "    }\n",
              "</style>\n",
              "<table border=\"1\" class=\"dataframe\">\n",
              "  <thead>\n",
              "    <tr style=\"text-align: right;\">\n",
              "      <th></th>\n",
              "      <th>radius_mean</th>\n",
              "      <th>texture_mean</th>\n",
              "      <th>perimeter_mean</th>\n",
              "      <th>area_mean</th>\n",
              "      <th>smoothness_mean</th>\n",
              "      <th>compactness_mean</th>\n",
              "      <th>concavity_mean</th>\n",
              "      <th>concave points_mean</th>\n",
              "      <th>symmetry_mean</th>\n",
              "      <th>fractal_dimension_mean</th>\n",
              "      <th>...</th>\n",
              "      <th>radius_worst</th>\n",
              "      <th>texture_worst</th>\n",
              "      <th>perimeter_worst</th>\n",
              "      <th>area_worst</th>\n",
              "      <th>smoothness_worst</th>\n",
              "      <th>compactness_worst</th>\n",
              "      <th>concavity_worst</th>\n",
              "      <th>concave points_worst</th>\n",
              "      <th>symmetry_worst</th>\n",
              "      <th>fractal_dimension_worst</th>\n",
              "    </tr>\n",
              "  </thead>\n",
              "  <tbody>\n",
              "    <tr>\n",
              "      <th>count</th>\n",
              "      <td>569.000000</td>\n",
              "      <td>569.000000</td>\n",
              "      <td>569.000000</td>\n",
              "      <td>569.000000</td>\n",
              "      <td>569.000000</td>\n",
              "      <td>569.000000</td>\n",
              "      <td>569.000000</td>\n",
              "      <td>569.000000</td>\n",
              "      <td>569.000000</td>\n",
              "      <td>569.000000</td>\n",
              "      <td>...</td>\n",
              "      <td>569.000000</td>\n",
              "      <td>569.000000</td>\n",
              "      <td>569.000000</td>\n",
              "      <td>569.000000</td>\n",
              "      <td>569.000000</td>\n",
              "      <td>569.000000</td>\n",
              "      <td>569.000000</td>\n",
              "      <td>569.000000</td>\n",
              "      <td>569.000000</td>\n",
              "      <td>569.000000</td>\n",
              "    </tr>\n",
              "    <tr>\n",
              "      <th>mean</th>\n",
              "      <td>14.127292</td>\n",
              "      <td>19.289649</td>\n",
              "      <td>91.969033</td>\n",
              "      <td>654.889104</td>\n",
              "      <td>0.096360</td>\n",
              "      <td>0.104341</td>\n",
              "      <td>0.088799</td>\n",
              "      <td>0.048919</td>\n",
              "      <td>0.181162</td>\n",
              "      <td>0.062798</td>\n",
              "      <td>...</td>\n",
              "      <td>16.269190</td>\n",
              "      <td>25.677223</td>\n",
              "      <td>107.261213</td>\n",
              "      <td>880.583128</td>\n",
              "      <td>0.132369</td>\n",
              "      <td>0.254265</td>\n",
              "      <td>0.272188</td>\n",
              "      <td>0.114606</td>\n",
              "      <td>0.290076</td>\n",
              "      <td>0.083946</td>\n",
              "    </tr>\n",
              "    <tr>\n",
              "      <th>std</th>\n",
              "      <td>3.524049</td>\n",
              "      <td>4.301036</td>\n",
              "      <td>24.298981</td>\n",
              "      <td>351.914129</td>\n",
              "      <td>0.014064</td>\n",
              "      <td>0.052813</td>\n",
              "      <td>0.079720</td>\n",
              "      <td>0.038803</td>\n",
              "      <td>0.027414</td>\n",
              "      <td>0.007060</td>\n",
              "      <td>...</td>\n",
              "      <td>4.833242</td>\n",
              "      <td>6.146258</td>\n",
              "      <td>33.602542</td>\n",
              "      <td>569.356993</td>\n",
              "      <td>0.022832</td>\n",
              "      <td>0.157336</td>\n",
              "      <td>0.208624</td>\n",
              "      <td>0.065732</td>\n",
              "      <td>0.061867</td>\n",
              "      <td>0.018061</td>\n",
              "    </tr>\n",
              "    <tr>\n",
              "      <th>min</th>\n",
              "      <td>6.981000</td>\n",
              "      <td>9.710000</td>\n",
              "      <td>43.790000</td>\n",
              "      <td>143.500000</td>\n",
              "      <td>0.052630</td>\n",
              "      <td>0.019380</td>\n",
              "      <td>0.000000</td>\n",
              "      <td>0.000000</td>\n",
              "      <td>0.106000</td>\n",
              "      <td>0.049960</td>\n",
              "      <td>...</td>\n",
              "      <td>7.930000</td>\n",
              "      <td>12.020000</td>\n",
              "      <td>50.410000</td>\n",
              "      <td>185.200000</td>\n",
              "      <td>0.071170</td>\n",
              "      <td>0.027290</td>\n",
              "      <td>0.000000</td>\n",
              "      <td>0.000000</td>\n",
              "      <td>0.156500</td>\n",
              "      <td>0.055040</td>\n",
              "    </tr>\n",
              "    <tr>\n",
              "      <th>25%</th>\n",
              "      <td>11.700000</td>\n",
              "      <td>16.170000</td>\n",
              "      <td>75.170000</td>\n",
              "      <td>420.300000</td>\n",
              "      <td>0.086370</td>\n",
              "      <td>0.064920</td>\n",
              "      <td>0.029560</td>\n",
              "      <td>0.020310</td>\n",
              "      <td>0.161900</td>\n",
              "      <td>0.057700</td>\n",
              "      <td>...</td>\n",
              "      <td>13.010000</td>\n",
              "      <td>21.080000</td>\n",
              "      <td>84.110000</td>\n",
              "      <td>515.300000</td>\n",
              "      <td>0.116600</td>\n",
              "      <td>0.147200</td>\n",
              "      <td>0.114500</td>\n",
              "      <td>0.064930</td>\n",
              "      <td>0.250400</td>\n",
              "      <td>0.071460</td>\n",
              "    </tr>\n",
              "    <tr>\n",
              "      <th>50%</th>\n",
              "      <td>13.370000</td>\n",
              "      <td>18.840000</td>\n",
              "      <td>86.240000</td>\n",
              "      <td>551.100000</td>\n",
              "      <td>0.095870</td>\n",
              "      <td>0.092630</td>\n",
              "      <td>0.061540</td>\n",
              "      <td>0.033500</td>\n",
              "      <td>0.179200</td>\n",
              "      <td>0.061540</td>\n",
              "      <td>...</td>\n",
              "      <td>14.970000</td>\n",
              "      <td>25.410000</td>\n",
              "      <td>97.660000</td>\n",
              "      <td>686.500000</td>\n",
              "      <td>0.131300</td>\n",
              "      <td>0.211900</td>\n",
              "      <td>0.226700</td>\n",
              "      <td>0.099930</td>\n",
              "      <td>0.282200</td>\n",
              "      <td>0.080040</td>\n",
              "    </tr>\n",
              "    <tr>\n",
              "      <th>75%</th>\n",
              "      <td>15.780000</td>\n",
              "      <td>21.800000</td>\n",
              "      <td>104.100000</td>\n",
              "      <td>782.700000</td>\n",
              "      <td>0.105300</td>\n",
              "      <td>0.130400</td>\n",
              "      <td>0.130700</td>\n",
              "      <td>0.074000</td>\n",
              "      <td>0.195700</td>\n",
              "      <td>0.066120</td>\n",
              "      <td>...</td>\n",
              "      <td>18.790000</td>\n",
              "      <td>29.720000</td>\n",
              "      <td>125.400000</td>\n",
              "      <td>1084.000000</td>\n",
              "      <td>0.146000</td>\n",
              "      <td>0.339100</td>\n",
              "      <td>0.382900</td>\n",
              "      <td>0.161400</td>\n",
              "      <td>0.317900</td>\n",
              "      <td>0.092080</td>\n",
              "    </tr>\n",
              "    <tr>\n",
              "      <th>max</th>\n",
              "      <td>28.110000</td>\n",
              "      <td>39.280000</td>\n",
              "      <td>188.500000</td>\n",
              "      <td>2501.000000</td>\n",
              "      <td>0.163400</td>\n",
              "      <td>0.345400</td>\n",
              "      <td>0.426800</td>\n",
              "      <td>0.201200</td>\n",
              "      <td>0.304000</td>\n",
              "      <td>0.097440</td>\n",
              "      <td>...</td>\n",
              "      <td>36.040000</td>\n",
              "      <td>49.540000</td>\n",
              "      <td>251.200000</td>\n",
              "      <td>4254.000000</td>\n",
              "      <td>0.222600</td>\n",
              "      <td>1.058000</td>\n",
              "      <td>1.252000</td>\n",
              "      <td>0.291000</td>\n",
              "      <td>0.663800</td>\n",
              "      <td>0.207500</td>\n",
              "    </tr>\n",
              "  </tbody>\n",
              "</table>\n",
              "<p>8 rows × 30 columns</p>\n",
              "</div>\n",
              "      <button class=\"colab-df-convert\" onclick=\"convertToInteractive('df-497cf12b-a23d-493f-b830-fe2ce21f3795')\"\n",
              "              title=\"Convert this dataframe to an interactive table.\"\n",
              "              style=\"display:none;\">\n",
              "        \n",
              "  <svg xmlns=\"http://www.w3.org/2000/svg\" height=\"24px\"viewBox=\"0 0 24 24\"\n",
              "       width=\"24px\">\n",
              "    <path d=\"M0 0h24v24H0V0z\" fill=\"none\"/>\n",
              "    <path d=\"M18.56 5.44l.94 2.06.94-2.06 2.06-.94-2.06-.94-.94-2.06-.94 2.06-2.06.94zm-11 1L8.5 8.5l.94-2.06 2.06-.94-2.06-.94L8.5 2.5l-.94 2.06-2.06.94zm10 10l.94 2.06.94-2.06 2.06-.94-2.06-.94-.94-2.06-.94 2.06-2.06.94z\"/><path d=\"M17.41 7.96l-1.37-1.37c-.4-.4-.92-.59-1.43-.59-.52 0-1.04.2-1.43.59L10.3 9.45l-7.72 7.72c-.78.78-.78 2.05 0 2.83L4 21.41c.39.39.9.59 1.41.59.51 0 1.02-.2 1.41-.59l7.78-7.78 2.81-2.81c.8-.78.8-2.07 0-2.86zM5.41 20L4 18.59l7.72-7.72 1.47 1.35L5.41 20z\"/>\n",
              "  </svg>\n",
              "      </button>\n",
              "      \n",
              "  <style>\n",
              "    .colab-df-container {\n",
              "      display:flex;\n",
              "      flex-wrap:wrap;\n",
              "      gap: 12px;\n",
              "    }\n",
              "\n",
              "    .colab-df-convert {\n",
              "      background-color: #E8F0FE;\n",
              "      border: none;\n",
              "      border-radius: 50%;\n",
              "      cursor: pointer;\n",
              "      display: none;\n",
              "      fill: #1967D2;\n",
              "      height: 32px;\n",
              "      padding: 0 0 0 0;\n",
              "      width: 32px;\n",
              "    }\n",
              "\n",
              "    .colab-df-convert:hover {\n",
              "      background-color: #E2EBFA;\n",
              "      box-shadow: 0px 1px 2px rgba(60, 64, 67, 0.3), 0px 1px 3px 1px rgba(60, 64, 67, 0.15);\n",
              "      fill: #174EA6;\n",
              "    }\n",
              "\n",
              "    [theme=dark] .colab-df-convert {\n",
              "      background-color: #3B4455;\n",
              "      fill: #D2E3FC;\n",
              "    }\n",
              "\n",
              "    [theme=dark] .colab-df-convert:hover {\n",
              "      background-color: #434B5C;\n",
              "      box-shadow: 0px 1px 3px 1px rgba(0, 0, 0, 0.15);\n",
              "      filter: drop-shadow(0px 1px 2px rgba(0, 0, 0, 0.3));\n",
              "      fill: #FFFFFF;\n",
              "    }\n",
              "  </style>\n",
              "\n",
              "      <script>\n",
              "        const buttonEl =\n",
              "          document.querySelector('#df-497cf12b-a23d-493f-b830-fe2ce21f3795 button.colab-df-convert');\n",
              "        buttonEl.style.display =\n",
              "          google.colab.kernel.accessAllowed ? 'block' : 'none';\n",
              "\n",
              "        async function convertToInteractive(key) {\n",
              "          const element = document.querySelector('#df-497cf12b-a23d-493f-b830-fe2ce21f3795');\n",
              "          const dataTable =\n",
              "            await google.colab.kernel.invokeFunction('convertToInteractive',\n",
              "                                                     [key], {});\n",
              "          if (!dataTable) return;\n",
              "\n",
              "          const docLinkHtml = 'Like what you see? Visit the ' +\n",
              "            '<a target=\"_blank\" href=https://colab.research.google.com/notebooks/data_table.ipynb>data table notebook</a>'\n",
              "            + ' to learn more about interactive tables.';\n",
              "          element.innerHTML = '';\n",
              "          dataTable['output_type'] = 'display_data';\n",
              "          await google.colab.output.renderOutput(dataTable, element);\n",
              "          const docLink = document.createElement('div');\n",
              "          docLink.innerHTML = docLinkHtml;\n",
              "          element.appendChild(docLink);\n",
              "        }\n",
              "      </script>\n",
              "    </div>\n",
              "  </div>\n",
              "  "
            ]
          },
          "metadata": {},
          "execution_count": 12
        }
      ]
    },
    {
      "cell_type": "code",
      "source": [
        "df_copy"
      ],
      "metadata": {
        "colab": {
          "base_uri": "https://localhost:8080/",
          "height": 505
        },
        "id": "Hy6f9XH39dmF",
        "outputId": "117948c0-3238-42af-b28f-5e47f25c96fd"
      },
      "execution_count": 13,
      "outputs": [
        {
          "output_type": "execute_result",
          "data": {
            "text/plain": [
              "    diagnosis  radius_mean  texture_mean  perimeter_mean  area_mean  \\\n",
              "0           M        17.99         10.38          122.80     1001.0   \n",
              "1           M        20.57         17.77          132.90     1326.0   \n",
              "2           M        19.69         21.25          130.00     1203.0   \n",
              "3           M        11.42         20.38           77.58      386.1   \n",
              "4           M        20.29         14.34          135.10     1297.0   \n",
              "..        ...          ...           ...             ...        ...   \n",
              "564         M        21.56         22.39          142.00     1479.0   \n",
              "565         M        20.13         28.25          131.20     1261.0   \n",
              "566         M        16.60         28.08          108.30      858.1   \n",
              "567         M        20.60         29.33          140.10     1265.0   \n",
              "568         B         7.76         24.54           47.92      181.0   \n",
              "\n",
              "     smoothness_mean  compactness_mean  concavity_mean  concave points_mean  \\\n",
              "0            0.11840           0.27760         0.30010              0.14710   \n",
              "1            0.08474           0.07864         0.08690              0.07017   \n",
              "2            0.10960           0.15990         0.19740              0.12790   \n",
              "3            0.14250           0.28390         0.24140              0.10520   \n",
              "4            0.10030           0.13280         0.19800              0.10430   \n",
              "..               ...               ...             ...                  ...   \n",
              "564          0.11100           0.11590         0.24390              0.13890   \n",
              "565          0.09780           0.10340         0.14400              0.09791   \n",
              "566          0.08455           0.10230         0.09251              0.05302   \n",
              "567          0.11780           0.27700         0.35140              0.15200   \n",
              "568          0.05263           0.04362         0.00000              0.00000   \n",
              "\n",
              "     symmetry_mean  ...  radius_worst  texture_worst  perimeter_worst  \\\n",
              "0           0.2419  ...        25.380          17.33           184.60   \n",
              "1           0.1812  ...        24.990          23.41           158.80   \n",
              "2           0.2069  ...        23.570          25.53           152.50   \n",
              "3           0.2597  ...        14.910          26.50            98.87   \n",
              "4           0.1809  ...        22.540          16.67           152.20   \n",
              "..             ...  ...           ...            ...              ...   \n",
              "564         0.1726  ...        25.450          26.40           166.10   \n",
              "565         0.1752  ...        23.690          38.25           155.00   \n",
              "566         0.1590  ...        18.980          34.12           126.70   \n",
              "567         0.2397  ...        25.740          39.42           184.60   \n",
              "568         0.1587  ...         9.456          30.37            59.16   \n",
              "\n",
              "     area_worst  smoothness_worst  compactness_worst  concavity_worst  \\\n",
              "0        2019.0           0.16220            0.66560           0.7119   \n",
              "1        1956.0           0.12380            0.18660           0.2416   \n",
              "2        1709.0           0.14440            0.42450           0.4504   \n",
              "3         567.7           0.20980            0.86630           0.6869   \n",
              "4        1575.0           0.13740            0.20500           0.4000   \n",
              "..          ...               ...                ...              ...   \n",
              "564      2027.0           0.14100            0.21130           0.4107   \n",
              "565      1731.0           0.11660            0.19220           0.3215   \n",
              "566      1124.0           0.11390            0.30940           0.3403   \n",
              "567      1821.0           0.16500            0.86810           0.9387   \n",
              "568       268.6           0.08996            0.06444           0.0000   \n",
              "\n",
              "     concave points_worst  symmetry_worst  fractal_dimension_worst  \n",
              "0                  0.2654          0.4601                  0.11890  \n",
              "1                  0.1860          0.2750                  0.08902  \n",
              "2                  0.2430          0.3613                  0.08758  \n",
              "3                  0.2575          0.6638                  0.17300  \n",
              "4                  0.1625          0.2364                  0.07678  \n",
              "..                    ...             ...                      ...  \n",
              "564                0.2216          0.2060                  0.07115  \n",
              "565                0.1628          0.2572                  0.06637  \n",
              "566                0.1418          0.2218                  0.07820  \n",
              "567                0.2650          0.4087                  0.12400  \n",
              "568                0.0000          0.2871                  0.07039  \n",
              "\n",
              "[569 rows x 31 columns]"
            ],
            "text/html": [
              "\n",
              "  <div id=\"df-8da66fd9-3bed-4e11-951a-643ecbb2b606\">\n",
              "    <div class=\"colab-df-container\">\n",
              "      <div>\n",
              "<style scoped>\n",
              "    .dataframe tbody tr th:only-of-type {\n",
              "        vertical-align: middle;\n",
              "    }\n",
              "\n",
              "    .dataframe tbody tr th {\n",
              "        vertical-align: top;\n",
              "    }\n",
              "\n",
              "    .dataframe thead th {\n",
              "        text-align: right;\n",
              "    }\n",
              "</style>\n",
              "<table border=\"1\" class=\"dataframe\">\n",
              "  <thead>\n",
              "    <tr style=\"text-align: right;\">\n",
              "      <th></th>\n",
              "      <th>diagnosis</th>\n",
              "      <th>radius_mean</th>\n",
              "      <th>texture_mean</th>\n",
              "      <th>perimeter_mean</th>\n",
              "      <th>area_mean</th>\n",
              "      <th>smoothness_mean</th>\n",
              "      <th>compactness_mean</th>\n",
              "      <th>concavity_mean</th>\n",
              "      <th>concave points_mean</th>\n",
              "      <th>symmetry_mean</th>\n",
              "      <th>...</th>\n",
              "      <th>radius_worst</th>\n",
              "      <th>texture_worst</th>\n",
              "      <th>perimeter_worst</th>\n",
              "      <th>area_worst</th>\n",
              "      <th>smoothness_worst</th>\n",
              "      <th>compactness_worst</th>\n",
              "      <th>concavity_worst</th>\n",
              "      <th>concave points_worst</th>\n",
              "      <th>symmetry_worst</th>\n",
              "      <th>fractal_dimension_worst</th>\n",
              "    </tr>\n",
              "  </thead>\n",
              "  <tbody>\n",
              "    <tr>\n",
              "      <th>0</th>\n",
              "      <td>M</td>\n",
              "      <td>17.99</td>\n",
              "      <td>10.38</td>\n",
              "      <td>122.80</td>\n",
              "      <td>1001.0</td>\n",
              "      <td>0.11840</td>\n",
              "      <td>0.27760</td>\n",
              "      <td>0.30010</td>\n",
              "      <td>0.14710</td>\n",
              "      <td>0.2419</td>\n",
              "      <td>...</td>\n",
              "      <td>25.380</td>\n",
              "      <td>17.33</td>\n",
              "      <td>184.60</td>\n",
              "      <td>2019.0</td>\n",
              "      <td>0.16220</td>\n",
              "      <td>0.66560</td>\n",
              "      <td>0.7119</td>\n",
              "      <td>0.2654</td>\n",
              "      <td>0.4601</td>\n",
              "      <td>0.11890</td>\n",
              "    </tr>\n",
              "    <tr>\n",
              "      <th>1</th>\n",
              "      <td>M</td>\n",
              "      <td>20.57</td>\n",
              "      <td>17.77</td>\n",
              "      <td>132.90</td>\n",
              "      <td>1326.0</td>\n",
              "      <td>0.08474</td>\n",
              "      <td>0.07864</td>\n",
              "      <td>0.08690</td>\n",
              "      <td>0.07017</td>\n",
              "      <td>0.1812</td>\n",
              "      <td>...</td>\n",
              "      <td>24.990</td>\n",
              "      <td>23.41</td>\n",
              "      <td>158.80</td>\n",
              "      <td>1956.0</td>\n",
              "      <td>0.12380</td>\n",
              "      <td>0.18660</td>\n",
              "      <td>0.2416</td>\n",
              "      <td>0.1860</td>\n",
              "      <td>0.2750</td>\n",
              "      <td>0.08902</td>\n",
              "    </tr>\n",
              "    <tr>\n",
              "      <th>2</th>\n",
              "      <td>M</td>\n",
              "      <td>19.69</td>\n",
              "      <td>21.25</td>\n",
              "      <td>130.00</td>\n",
              "      <td>1203.0</td>\n",
              "      <td>0.10960</td>\n",
              "      <td>0.15990</td>\n",
              "      <td>0.19740</td>\n",
              "      <td>0.12790</td>\n",
              "      <td>0.2069</td>\n",
              "      <td>...</td>\n",
              "      <td>23.570</td>\n",
              "      <td>25.53</td>\n",
              "      <td>152.50</td>\n",
              "      <td>1709.0</td>\n",
              "      <td>0.14440</td>\n",
              "      <td>0.42450</td>\n",
              "      <td>0.4504</td>\n",
              "      <td>0.2430</td>\n",
              "      <td>0.3613</td>\n",
              "      <td>0.08758</td>\n",
              "    </tr>\n",
              "    <tr>\n",
              "      <th>3</th>\n",
              "      <td>M</td>\n",
              "      <td>11.42</td>\n",
              "      <td>20.38</td>\n",
              "      <td>77.58</td>\n",
              "      <td>386.1</td>\n",
              "      <td>0.14250</td>\n",
              "      <td>0.28390</td>\n",
              "      <td>0.24140</td>\n",
              "      <td>0.10520</td>\n",
              "      <td>0.2597</td>\n",
              "      <td>...</td>\n",
              "      <td>14.910</td>\n",
              "      <td>26.50</td>\n",
              "      <td>98.87</td>\n",
              "      <td>567.7</td>\n",
              "      <td>0.20980</td>\n",
              "      <td>0.86630</td>\n",
              "      <td>0.6869</td>\n",
              "      <td>0.2575</td>\n",
              "      <td>0.6638</td>\n",
              "      <td>0.17300</td>\n",
              "    </tr>\n",
              "    <tr>\n",
              "      <th>4</th>\n",
              "      <td>M</td>\n",
              "      <td>20.29</td>\n",
              "      <td>14.34</td>\n",
              "      <td>135.10</td>\n",
              "      <td>1297.0</td>\n",
              "      <td>0.10030</td>\n",
              "      <td>0.13280</td>\n",
              "      <td>0.19800</td>\n",
              "      <td>0.10430</td>\n",
              "      <td>0.1809</td>\n",
              "      <td>...</td>\n",
              "      <td>22.540</td>\n",
              "      <td>16.67</td>\n",
              "      <td>152.20</td>\n",
              "      <td>1575.0</td>\n",
              "      <td>0.13740</td>\n",
              "      <td>0.20500</td>\n",
              "      <td>0.4000</td>\n",
              "      <td>0.1625</td>\n",
              "      <td>0.2364</td>\n",
              "      <td>0.07678</td>\n",
              "    </tr>\n",
              "    <tr>\n",
              "      <th>...</th>\n",
              "      <td>...</td>\n",
              "      <td>...</td>\n",
              "      <td>...</td>\n",
              "      <td>...</td>\n",
              "      <td>...</td>\n",
              "      <td>...</td>\n",
              "      <td>...</td>\n",
              "      <td>...</td>\n",
              "      <td>...</td>\n",
              "      <td>...</td>\n",
              "      <td>...</td>\n",
              "      <td>...</td>\n",
              "      <td>...</td>\n",
              "      <td>...</td>\n",
              "      <td>...</td>\n",
              "      <td>...</td>\n",
              "      <td>...</td>\n",
              "      <td>...</td>\n",
              "      <td>...</td>\n",
              "      <td>...</td>\n",
              "      <td>...</td>\n",
              "    </tr>\n",
              "    <tr>\n",
              "      <th>564</th>\n",
              "      <td>M</td>\n",
              "      <td>21.56</td>\n",
              "      <td>22.39</td>\n",
              "      <td>142.00</td>\n",
              "      <td>1479.0</td>\n",
              "      <td>0.11100</td>\n",
              "      <td>0.11590</td>\n",
              "      <td>0.24390</td>\n",
              "      <td>0.13890</td>\n",
              "      <td>0.1726</td>\n",
              "      <td>...</td>\n",
              "      <td>25.450</td>\n",
              "      <td>26.40</td>\n",
              "      <td>166.10</td>\n",
              "      <td>2027.0</td>\n",
              "      <td>0.14100</td>\n",
              "      <td>0.21130</td>\n",
              "      <td>0.4107</td>\n",
              "      <td>0.2216</td>\n",
              "      <td>0.2060</td>\n",
              "      <td>0.07115</td>\n",
              "    </tr>\n",
              "    <tr>\n",
              "      <th>565</th>\n",
              "      <td>M</td>\n",
              "      <td>20.13</td>\n",
              "      <td>28.25</td>\n",
              "      <td>131.20</td>\n",
              "      <td>1261.0</td>\n",
              "      <td>0.09780</td>\n",
              "      <td>0.10340</td>\n",
              "      <td>0.14400</td>\n",
              "      <td>0.09791</td>\n",
              "      <td>0.1752</td>\n",
              "      <td>...</td>\n",
              "      <td>23.690</td>\n",
              "      <td>38.25</td>\n",
              "      <td>155.00</td>\n",
              "      <td>1731.0</td>\n",
              "      <td>0.11660</td>\n",
              "      <td>0.19220</td>\n",
              "      <td>0.3215</td>\n",
              "      <td>0.1628</td>\n",
              "      <td>0.2572</td>\n",
              "      <td>0.06637</td>\n",
              "    </tr>\n",
              "    <tr>\n",
              "      <th>566</th>\n",
              "      <td>M</td>\n",
              "      <td>16.60</td>\n",
              "      <td>28.08</td>\n",
              "      <td>108.30</td>\n",
              "      <td>858.1</td>\n",
              "      <td>0.08455</td>\n",
              "      <td>0.10230</td>\n",
              "      <td>0.09251</td>\n",
              "      <td>0.05302</td>\n",
              "      <td>0.1590</td>\n",
              "      <td>...</td>\n",
              "      <td>18.980</td>\n",
              "      <td>34.12</td>\n",
              "      <td>126.70</td>\n",
              "      <td>1124.0</td>\n",
              "      <td>0.11390</td>\n",
              "      <td>0.30940</td>\n",
              "      <td>0.3403</td>\n",
              "      <td>0.1418</td>\n",
              "      <td>0.2218</td>\n",
              "      <td>0.07820</td>\n",
              "    </tr>\n",
              "    <tr>\n",
              "      <th>567</th>\n",
              "      <td>M</td>\n",
              "      <td>20.60</td>\n",
              "      <td>29.33</td>\n",
              "      <td>140.10</td>\n",
              "      <td>1265.0</td>\n",
              "      <td>0.11780</td>\n",
              "      <td>0.27700</td>\n",
              "      <td>0.35140</td>\n",
              "      <td>0.15200</td>\n",
              "      <td>0.2397</td>\n",
              "      <td>...</td>\n",
              "      <td>25.740</td>\n",
              "      <td>39.42</td>\n",
              "      <td>184.60</td>\n",
              "      <td>1821.0</td>\n",
              "      <td>0.16500</td>\n",
              "      <td>0.86810</td>\n",
              "      <td>0.9387</td>\n",
              "      <td>0.2650</td>\n",
              "      <td>0.4087</td>\n",
              "      <td>0.12400</td>\n",
              "    </tr>\n",
              "    <tr>\n",
              "      <th>568</th>\n",
              "      <td>B</td>\n",
              "      <td>7.76</td>\n",
              "      <td>24.54</td>\n",
              "      <td>47.92</td>\n",
              "      <td>181.0</td>\n",
              "      <td>0.05263</td>\n",
              "      <td>0.04362</td>\n",
              "      <td>0.00000</td>\n",
              "      <td>0.00000</td>\n",
              "      <td>0.1587</td>\n",
              "      <td>...</td>\n",
              "      <td>9.456</td>\n",
              "      <td>30.37</td>\n",
              "      <td>59.16</td>\n",
              "      <td>268.6</td>\n",
              "      <td>0.08996</td>\n",
              "      <td>0.06444</td>\n",
              "      <td>0.0000</td>\n",
              "      <td>0.0000</td>\n",
              "      <td>0.2871</td>\n",
              "      <td>0.07039</td>\n",
              "    </tr>\n",
              "  </tbody>\n",
              "</table>\n",
              "<p>569 rows × 31 columns</p>\n",
              "</div>\n",
              "      <button class=\"colab-df-convert\" onclick=\"convertToInteractive('df-8da66fd9-3bed-4e11-951a-643ecbb2b606')\"\n",
              "              title=\"Convert this dataframe to an interactive table.\"\n",
              "              style=\"display:none;\">\n",
              "        \n",
              "  <svg xmlns=\"http://www.w3.org/2000/svg\" height=\"24px\"viewBox=\"0 0 24 24\"\n",
              "       width=\"24px\">\n",
              "    <path d=\"M0 0h24v24H0V0z\" fill=\"none\"/>\n",
              "    <path d=\"M18.56 5.44l.94 2.06.94-2.06 2.06-.94-2.06-.94-.94-2.06-.94 2.06-2.06.94zm-11 1L8.5 8.5l.94-2.06 2.06-.94-2.06-.94L8.5 2.5l-.94 2.06-2.06.94zm10 10l.94 2.06.94-2.06 2.06-.94-2.06-.94-.94-2.06-.94 2.06-2.06.94z\"/><path d=\"M17.41 7.96l-1.37-1.37c-.4-.4-.92-.59-1.43-.59-.52 0-1.04.2-1.43.59L10.3 9.45l-7.72 7.72c-.78.78-.78 2.05 0 2.83L4 21.41c.39.39.9.59 1.41.59.51 0 1.02-.2 1.41-.59l7.78-7.78 2.81-2.81c.8-.78.8-2.07 0-2.86zM5.41 20L4 18.59l7.72-7.72 1.47 1.35L5.41 20z\"/>\n",
              "  </svg>\n",
              "      </button>\n",
              "      \n",
              "  <style>\n",
              "    .colab-df-container {\n",
              "      display:flex;\n",
              "      flex-wrap:wrap;\n",
              "      gap: 12px;\n",
              "    }\n",
              "\n",
              "    .colab-df-convert {\n",
              "      background-color: #E8F0FE;\n",
              "      border: none;\n",
              "      border-radius: 50%;\n",
              "      cursor: pointer;\n",
              "      display: none;\n",
              "      fill: #1967D2;\n",
              "      height: 32px;\n",
              "      padding: 0 0 0 0;\n",
              "      width: 32px;\n",
              "    }\n",
              "\n",
              "    .colab-df-convert:hover {\n",
              "      background-color: #E2EBFA;\n",
              "      box-shadow: 0px 1px 2px rgba(60, 64, 67, 0.3), 0px 1px 3px 1px rgba(60, 64, 67, 0.15);\n",
              "      fill: #174EA6;\n",
              "    }\n",
              "\n",
              "    [theme=dark] .colab-df-convert {\n",
              "      background-color: #3B4455;\n",
              "      fill: #D2E3FC;\n",
              "    }\n",
              "\n",
              "    [theme=dark] .colab-df-convert:hover {\n",
              "      background-color: #434B5C;\n",
              "      box-shadow: 0px 1px 3px 1px rgba(0, 0, 0, 0.15);\n",
              "      filter: drop-shadow(0px 1px 2px rgba(0, 0, 0, 0.3));\n",
              "      fill: #FFFFFF;\n",
              "    }\n",
              "  </style>\n",
              "\n",
              "      <script>\n",
              "        const buttonEl =\n",
              "          document.querySelector('#df-8da66fd9-3bed-4e11-951a-643ecbb2b606 button.colab-df-convert');\n",
              "        buttonEl.style.display =\n",
              "          google.colab.kernel.accessAllowed ? 'block' : 'none';\n",
              "\n",
              "        async function convertToInteractive(key) {\n",
              "          const element = document.querySelector('#df-8da66fd9-3bed-4e11-951a-643ecbb2b606');\n",
              "          const dataTable =\n",
              "            await google.colab.kernel.invokeFunction('convertToInteractive',\n",
              "                                                     [key], {});\n",
              "          if (!dataTable) return;\n",
              "\n",
              "          const docLinkHtml = 'Like what you see? Visit the ' +\n",
              "            '<a target=\"_blank\" href=https://colab.research.google.com/notebooks/data_table.ipynb>data table notebook</a>'\n",
              "            + ' to learn more about interactive tables.';\n",
              "          element.innerHTML = '';\n",
              "          dataTable['output_type'] = 'display_data';\n",
              "          await google.colab.output.renderOutput(dataTable, element);\n",
              "          const docLink = document.createElement('div');\n",
              "          docLink.innerHTML = docLinkHtml;\n",
              "          element.appendChild(docLink);\n",
              "        }\n",
              "      </script>\n",
              "    </div>\n",
              "  </div>\n",
              "  "
            ]
          },
          "metadata": {},
          "execution_count": 13
        }
      ]
    },
    {
      "cell_type": "code",
      "source": [
        "df_copy.diagnosis.replace({'M':0, 'B':1}, inplace=True)"
      ],
      "metadata": {
        "id": "PAjW_hJExth8"
      },
      "execution_count": 14,
      "outputs": []
    },
    {
      "cell_type": "code",
      "source": [
        "sns.histplot(df_copy.radius_mean)"
      ],
      "metadata": {
        "colab": {
          "base_uri": "https://localhost:8080/",
          "height": 298
        },
        "id": "a-8yl1cdARPc",
        "outputId": "45977d7d-25cb-4ec0-8913-b21add8c4fcc"
      },
      "execution_count": 15,
      "outputs": [
        {
          "output_type": "execute_result",
          "data": {
            "text/plain": [
              "<AxesSubplot:xlabel='radius_mean', ylabel='Count'>"
            ]
          },
          "metadata": {},
          "execution_count": 15
        },
        {
          "output_type": "display_data",
          "data": {
            "text/plain": [
              "<Figure size 432x288 with 1 Axes>"
            ],
            "image/png": "[encoded data removed]"
          },
          "metadata": {
            "needs_background": "light"
          }
        }
      ]
    },
    {
      "cell_type": "markdown",
      "source": [
        "* Aparentemente o gráfico do raio médio tende a ser uma distribuição\n",
        "assimétrica à direita.\n",
        "* Percebe-se também que a média dos valores é maior que a mediana, uma das características da distribuição\n",
        "assimétrica à direita.\n"
      ],
      "metadata": {
        "id": "CUGtJJ7CBhMG"
      }
    },
    {
      "cell_type": "code",
      "source": [
        "sns.histplot(df_copy.texture_mean)"
      ],
      "metadata": {
        "colab": {
          "base_uri": "https://localhost:8080/",
          "height": 298
        },
        "id": "pzogJ-JptFpc",
        "outputId": "c29d9750-ac66-4a8d-d979-ef64d60061ac"
      },
      "execution_count": 16,
      "outputs": [
        {
          "output_type": "execute_result",
          "data": {
            "text/plain": [
              "<AxesSubplot:xlabel='texture_mean', ylabel='Count'>"
            ]
          },
          "metadata": {},
          "execution_count": 16
        },
        {
          "output_type": "display_data",
          "data": {
            "text/plain": [
              "<Figure size 432x288 with 1 Axes>"
            ],
            "image/png": "[encoded data removed]"
          },
          "metadata": {
            "needs_background": "light"
          }
        }
      ]
    },
    {
      "cell_type": "code",
      "source": [
        "sns.histplot(df_copy.perimeter_mean)"
      ],
      "metadata": {
        "colab": {
          "base_uri": "https://localhost:8080/",
          "height": 298
        },
        "id": "lw7OaZUptFhY",
        "outputId": "b6a7ea71-b3c5-4081-c4d5-5d1c63292d88"
      },
      "execution_count": 17,
      "outputs": [
        {
          "output_type": "execute_result",
          "data": {
            "text/plain": [
              "<AxesSubplot:xlabel='perimeter_mean', ylabel='Count'>"
            ]
          },
          "metadata": {},
          "execution_count": 17
        },
        {
          "output_type": "display_data",
          "data": {
            "text/plain": [
              "<Figure size 432x288 with 1 Axes>"
            ],
            "image/png": "[encoded data removed]"
          },
          "metadata": {
            "needs_background": "light"
          }
        }
      ]
    },
    {
      "cell_type": "code",
      "source": [
        "sns.histplot(df_copy['concave points_mean'])"
      ],
      "metadata": {
        "colab": {
          "base_uri": "https://localhost:8080/",
          "height": 298
        },
        "id": "eEEpziTqtFZ8",
        "outputId": "251d7141-384e-4ebb-df7a-687e3eec95dd"
      },
      "execution_count": 18,
      "outputs": [
        {
          "output_type": "execute_result",
          "data": {
            "text/plain": [
              "<AxesSubplot:xlabel='concave points_mean', ylabel='Count'>"
            ]
          },
          "metadata": {},
          "execution_count": 18
        },
        {
          "output_type": "display_data",
          "data": {
            "text/plain": [
              "<Figure size 432x288 with 1 Axes>"
            ],
            "image/png": "[encoded data removed]"
          },
          "metadata": {
            "needs_background": "light"
          }
        }
      ]
    },
    {
      "cell_type": "code",
      "source": [
        "colunas_numericas = list(df_copy.select_dtypes(include=['float64', 'int64']).columns)\n",
        "bins = 20\n",
        "\n",
        "fig, axs = plt.subplots(nrows=len(colunas_numericas), figsize=(10, 5*len(colunas_numericas)))\n",
        "fig.subplots_adjust(hspace=0.5)\n",
        "\n",
        "for i, coluna in enumerate(colunas_numericas):\n",
        "    axs[i].hist(df[coluna], bins=bins)\n",
        "    axs[i].set_title(coluna)\n",
        "    axs[i].set_xlabel('Valor')\n",
        "    axs[i].set_ylabel('Frequência')\n",
        "plt.show()"
      ],
      "metadata": {
        "colab": {
          "base_uri": "https://localhost:8080/",
          "height": 1000
        },
        "id": "F2CgBe44m3Zo",
        "outputId": "69777af0-f167-4cee-dfcf-10b5b064133c"
      },
      "execution_count": 19,
      "outputs": [
        {
          "output_type": "display_data",
          "data": {
            "text/plain": [
              "<Figure size 720x11160 with 31 Axes>"
            ],
            "image/png": "[encoded data removed]"
          },
          "metadata": {
            "needs_background": "light"
          }
        }
      ]
    },
    {
      "cell_type": "code",
      "source": [
        "px.box(df_copy, x=df_copy.radius_mean)"
      ],
      "metadata": {
        "colab": {
          "base_uri": "https://localhost:8080/",
          "height": 542
        },
        "id": "rjUeqo8ujwXs",
        "outputId": "8552bbc7-fb6d-4df6-bf97-0982e11f36ce"
      },
      "execution_count": 20,
      "outputs": [
        {
          "output_type": "display_data",
          "data": {
            "text/html": [
              "<html>\n",
              "<head><meta charset=\"utf-8\" /></head>\n",
              "<body>\n",
              "    <div>            <script src=\"https://cdnjs.cloudflare.com/ajax/libs/mathjax/2.7.5/MathJax.js?config=TeX-AMS-MML_SVG\"></script><script type=\"text/javascript\">if (window.MathJax) {MathJax.Hub.Config({SVG: {font: \"STIX-Web\"}});}</script>                <script type=\"text/javascript\">window.PlotlyConfig = {MathJaxConfig: 'local'};</script>\n",
              "        <script src=\"https://cdn.plot.ly/plotly-2.8.3.min.js\"></script>                <div id=\"b30aac2e-d4ae-466f-b07b-89b35b4da00e\" class=\"plotly-graph-div\" style=\"height:525px; width:100%;\"></div>            <script type=\"text/javascript\">                                    window.PLOTLYENV=window.PLOTLYENV || {};                                    if (document.getElementById(\"b30aac2e-d4ae-466f-b07b-89b35b4da00e\")) {                    Plotly.newPlot(                        \"b30aac2e-d4ae-466f-b07b-89b35b4da00e\",                        [{\"alignmentgroup\":\"True\",\"hovertemplate\":\"radius_mean=%{x}<extra></extra>\",\"legendgroup\":\"\",\"marker\":{\"color\":\"#636efa\"},\"name\":\"\",\"notched\":false,\"offsetgroup\":\"\",\"orientation\":\"h\",\"showlegend\":false,\"x\":[17.99,20.57,19.69,11.42,20.29,12.45,18.25,13.71,13.0,12.46,16.02,15.78,19.17,15.85,13.73,14.54,14.68,16.13,19.81,13.54,13.08,9.504,15.34,21.16,16.65,17.14,14.58,18.61,15.3,17.57,18.63,11.84,17.02,19.27,16.13,16.74,14.25,13.03,14.99,13.48,13.44,10.95,19.07,13.28,13.17,18.65,8.196,13.17,12.05,13.49,11.76,13.64,11.94,18.22,15.1,11.52,19.21,14.71,13.05,8.618,10.17,8.598,14.25,9.173,12.68,14.78,9.465,11.31,9.029,12.78,18.94,8.888,17.2,13.8,12.31,16.07,13.53,18.05,20.18,12.86,11.45,13.34,25.22,19.1,12.0,18.46,14.48,19.02,12.36,14.64,14.62,15.37,13.27,13.45,15.06,20.26,12.18,9.787,11.6,14.42,13.61,6.981,12.18,9.876,10.49,13.11,11.64,12.36,22.27,11.34,9.777,12.63,14.26,10.51,8.726,11.93,8.95,14.87,15.78,17.95,11.41,18.66,24.25,14.5,13.37,13.85,13.61,19.0,15.1,19.79,12.19,15.46,16.16,15.71,18.45,12.77,11.71,11.43,14.95,11.28,9.738,16.11,11.43,12.9,10.75,11.9,11.8,14.95,14.44,13.74,13.0,8.219,9.731,11.15,13.15,12.25,17.68,16.84,12.06,10.9,11.75,19.19,19.59,12.34,23.27,14.97,10.8,16.78,17.47,14.97,12.32,13.43,15.46,11.08,10.66,8.671,9.904,16.46,13.01,12.81,27.22,21.09,15.7,11.41,15.28,10.08,18.31,11.71,11.81,12.3,14.22,12.77,9.72,12.34,14.86,12.91,13.77,18.08,19.18,14.45,12.23,17.54,23.29,13.81,12.47,15.12,9.876,17.01,13.11,15.27,20.58,11.84,28.11,17.42,14.19,13.86,11.89,10.2,19.8,19.53,13.65,13.56,10.18,15.75,13.27,14.34,10.44,15.0,12.62,12.83,17.05,11.32,11.22,20.51,9.567,14.03,23.21,20.48,14.22,17.46,13.64,12.42,11.3,13.75,19.4,10.48,13.2,12.89,10.65,11.52,20.94,11.5,19.73,17.3,19.45,13.96,19.55,15.32,15.66,15.53,20.31,17.35,17.29,15.61,17.19,20.73,10.6,13.59,12.87,10.71,14.29,11.29,21.75,9.742,17.93,11.89,11.33,18.81,13.59,13.85,19.16,11.74,19.4,16.24,12.89,12.58,11.94,12.89,11.26,11.37,14.41,14.96,12.95,11.85,12.72,13.77,10.91,11.76,14.26,10.51,19.53,12.46,20.09,10.49,11.46,11.6,13.2,9.0,13.5,13.05,11.7,14.61,12.76,11.54,8.597,12.49,12.18,18.22,9.042,12.43,10.25,20.16,12.86,20.34,12.2,12.67,14.11,12.03,16.27,16.26,16.03,12.98,11.22,11.25,12.3,17.06,12.99,18.77,10.05,23.51,14.42,9.606,11.06,19.68,11.71,10.26,12.06,14.76,11.47,11.95,11.66,15.75,25.73,15.08,11.14,12.56,13.05,13.87,8.878,9.436,12.54,13.3,12.76,16.5,13.4,20.44,20.2,12.21,21.71,22.01,16.35,15.19,21.37,20.64,13.69,16.17,10.57,13.46,13.66,11.08,11.27,11.04,12.05,12.39,13.28,14.6,12.21,13.88,11.27,19.55,10.26,8.734,15.49,21.61,12.1,14.06,13.51,12.8,11.06,11.8,17.91,11.93,12.96,12.94,12.34,10.94,16.14,12.85,17.99,12.27,11.36,11.04,9.397,14.99,15.13,11.89,9.405,15.5,12.7,11.16,11.57,14.69,11.61,13.66,9.742,10.03,10.48,10.8,11.13,12.72,14.9,12.4,20.18,18.82,14.86,13.98,12.87,14.04,13.85,14.02,10.97,17.27,13.78,10.57,18.03,11.99,17.75,14.8,14.53,21.1,11.87,19.59,12.0,14.53,12.62,13.38,11.63,13.21,13.0,9.755,17.08,27.42,14.4,11.6,13.17,13.24,13.14,9.668,17.6,11.62,9.667,12.04,14.92,12.27,10.88,12.83,14.2,13.9,11.49,16.25,12.16,13.9,13.47,13.7,15.73,12.45,14.64,19.44,11.68,16.69,12.25,17.85,18.01,12.46,13.16,14.87,12.65,12.47,18.49,20.59,15.04,13.82,12.54,23.09,9.268,9.676,12.22,11.06,16.3,15.46,11.74,14.81,13.4,14.58,15.05,11.34,18.31,19.89,12.88,12.75,9.295,24.63,11.26,13.71,9.847,8.571,13.46,12.34,13.94,12.07,11.75,11.67,13.68,20.47,10.96,20.55,14.27,11.69,7.729,7.691,11.54,14.47,14.74,13.21,13.87,13.62,10.32,10.26,9.683,10.82,10.86,11.13,12.77,9.333,12.88,10.29,10.16,9.423,14.59,11.51,14.05,11.2,15.22,20.92,21.56,20.13,16.6,20.6,7.76],\"x0\":\" \",\"xaxis\":\"x\",\"y0\":\" \",\"yaxis\":\"y\",\"type\":\"box\"}],                        {\"template\":{\"data\":{\"bar\":[{\"error_x\":{\"color\":\"#2a3f5f\"},\"error_y\":{\"color\":\"#2a3f5f\"},\"marker\":{\"line\":{\"color\":\"#E5ECF6\",\"width\":0.5},\"pattern\":{\"fillmode\":\"overlay\",\"size\":10,\"solidity\":0.2}},\"type\":\"bar\"}],\"barpolar\":[{\"marker\":{\"line\":{\"color\":\"#E5ECF6\",\"width\":0.5},\"pattern\":{\"fillmode\":\"overlay\",\"size\":10,\"solidity\":0.2}},\"type\":\"barpolar\"}],\"carpet\":[{\"aaxis\":{\"endlinecolor\":\"#2a3f5f\",\"gridcolor\":\"white\",\"linecolor\":\"white\",\"minorgridcolor\":\"white\",\"startlinecolor\":\"#2a3f5f\"},\"baxis\":{\"endlinecolor\":\"#2a3f5f\",\"gridcolor\":\"white\",\"linecolor\":\"white\",\"minorgridcolor\":\"white\",\"startlinecolor\":\"#2a3f5f\"},\"type\":\"carpet\"}],\"choropleth\":[{\"colorbar\":{\"outlinewidth\":0,\"ticks\":\"\"},\"type\":\"choropleth\"}],\"contour\":[{\"colorbar\":{\"outlinewidth\":0,\"ticks\":\"\"},\"colorscale\":[[0.0,\"#0d0887\"],[0.1111111111111111,\"#46039f\"],[0.2222222222222222,\"#7201a8\"],[0.3333333333333333,\"#9c179e\"],[0.4444444444444444,\"#bd3786\"],[0.5555555555555556,\"#d8576b\"],[0.6666666666666666,\"#ed7953\"],[0.7777777777777778,\"#fb9f3a\"],[0.8888888888888888,\"#fdca26\"],[1.0,\"#f0f921\"]],\"type\":\"contour\"}],\"contourcarpet\":[{\"colorbar\":{\"outlinewidth\":0,\"ticks\":\"\"},\"type\":\"contourcarpet\"}],\"heatmap\":[{\"colorbar\":{\"outlinewidth\":0,\"ticks\":\"\"},\"colorscale\":[[0.0,\"#0d0887\"],[0.1111111111111111,\"#46039f\"],[0.2222222222222222,\"#7201a8\"],[0.3333333333333333,\"#9c179e\"],[0.4444444444444444,\"#bd3786\"],[0.5555555555555556,\"#d8576b\"],[0.6666666666666666,\"#ed7953\"],[0.7777777777777778,\"#fb9f3a\"],[0.8888888888888888,\"#fdca26\"],[1.0,\"#f0f921\"]],\"type\":\"heatmap\"}],\"heatmapgl\":[{\"colorbar\":{\"outlinewidth\":0,\"ticks\":\"\"},\"colorscale\":[[0.0,\"#0d0887\"],[0.1111111111111111,\"#46039f\"],[0.2222222222222222,\"#7201a8\"],[0.3333333333333333,\"#9c179e\"],[0.4444444444444444,\"#bd3786\"],[0.5555555555555556,\"#d8576b\"],[0.6666666666666666,\"#ed7953\"],[0.7777777777777778,\"#fb9f3a\"],[0.8888888888888888,\"#fdca26\"],[1.0,\"#f0f921\"]],\"type\":\"heatmapgl\"}],\"histogram\":[{\"marker\":{\"pattern\":{\"fillmode\":\"overlay\",\"size\":10,\"solidity\":0.2}},\"type\":\"histogram\"}],\"histogram2d\":[{\"colorbar\":{\"outlinewidth\":0,\"ticks\":\"\"},\"colorscale\":[[0.0,\"#0d0887\"],[0.1111111111111111,\"#46039f\"],[0.2222222222222222,\"#7201a8\"],[0.3333333333333333,\"#9c179e\"],[0.4444444444444444,\"#bd3786\"],[0.5555555555555556,\"#d8576b\"],[0.6666666666666666,\"#ed7953\"],[0.7777777777777778,\"#fb9f3a\"],[0.8888888888888888,\"#fdca26\"],[1.0,\"#f0f921\"]],\"type\":\"histogram2d\"}],\"histogram2dcontour\":[{\"colorbar\":{\"outlinewidth\":0,\"ticks\":\"\"},\"colorscale\":[[0.0,\"#0d0887\"],[0.1111111111111111,\"#46039f\"],[0.2222222222222222,\"#7201a8\"],[0.3333333333333333,\"#9c179e\"],[0.4444444444444444,\"#bd3786\"],[0.5555555555555556,\"#d8576b\"],[0.6666666666666666,\"#ed7953\"],[0.7777777777777778,\"#fb9f3a\"],[0.8888888888888888,\"#fdca26\"],[1.0,\"#f0f921\"]],\"type\":\"histogram2dcontour\"}],\"mesh3d\":[{\"colorbar\":{\"outlinewidth\":0,\"ticks\":\"\"},\"type\":\"mesh3d\"}],\"parcoords\":[{\"line\":{\"colorbar\":{\"outlinewidth\":0,\"ticks\":\"\"}},\"type\":\"parcoords\"}],\"pie\":[{\"automargin\":true,\"type\":\"pie\"}],\"scatter\":[{\"marker\":{\"colorbar\":{\"outlinewidth\":0,\"ticks\":\"\"}},\"type\":\"scatter\"}],\"scatter3d\":[{\"line\":{\"colorbar\":{\"outlinewidth\":0,\"ticks\":\"\"}},\"marker\":{\"colorbar\":{\"outlinewidth\":0,\"ticks\":\"\"}},\"type\":\"scatter3d\"}],\"scattercarpet\":[{\"marker\":{\"colorbar\":{\"outlinewidth\":0,\"ticks\":\"\"}},\"type\":\"scattercarpet\"}],\"scattergeo\":[{\"marker\":{\"colorbar\":{\"outlinewidth\":0,\"ticks\":\"\"}},\"type\":\"scattergeo\"}],\"scattergl\":[{\"marker\":{\"colorbar\":{\"outlinewidth\":0,\"ticks\":\"\"}},\"type\":\"scattergl\"}],\"scattermapbox\":[{\"marker\":{\"colorbar\":{\"outlinewidth\":0,\"ticks\":\"\"}},\"type\":\"scattermapbox\"}],\"scatterpolar\":[{\"marker\":{\"colorbar\":{\"outlinewidth\":0,\"ticks\":\"\"}},\"type\":\"scatterpolar\"}],\"scatterpolargl\":[{\"marker\":{\"colorbar\":{\"outlinewidth\":0,\"ticks\":\"\"}},\"type\":\"scatterpolargl\"}],\"scatterternary\":[{\"marker\":{\"colorbar\":{\"outlinewidth\":0,\"ticks\":\"\"}},\"type\":\"scatterternary\"}],\"surface\":[{\"colorbar\":{\"outlinewidth\":0,\"ticks\":\"\"},\"colorscale\":[[0.0,\"#0d0887\"],[0.1111111111111111,\"#46039f\"],[0.2222222222222222,\"#7201a8\"],[0.3333333333333333,\"#9c179e\"],[0.4444444444444444,\"#bd3786\"],[0.5555555555555556,\"#d8576b\"],[0.6666666666666666,\"#ed7953\"],[0.7777777777777778,\"#fb9f3a\"],[0.8888888888888888,\"#fdca26\"],[1.0,\"#f0f921\"]],\"type\":\"surface\"}],\"table\":[{\"cells\":{\"fill\":{\"color\":\"#EBF0F8\"},\"line\":{\"color\":\"white\"}},\"header\":{\"fill\":{\"color\":\"#C8D4E3\"},\"line\":{\"color\":\"white\"}},\"type\":\"table\"}]},\"layout\":{\"annotationdefaults\":{\"arrowcolor\":\"#2a3f5f\",\"arrowhead\":0,\"arrowwidth\":1},\"autotypenumbers\":\"strict\",\"coloraxis\":{\"colorbar\":{\"outlinewidth\":0,\"ticks\":\"\"}},\"colorscale\":{\"diverging\":[[0,\"#8e0152\"],[0.1,\"#c51b7d\"],[0.2,\"#de77ae\"],[0.3,\"#f1b6da\"],[0.4,\"#fde0ef\"],[0.5,\"#f7f7f7\"],[0.6,\"#e6f5d0\"],[0.7,\"#b8e186\"],[0.8,\"#7fbc41\"],[0.9,\"#4d9221\"],[1,\"#276419\"]],\"sequential\":[[0.0,\"#0d0887\"],[0.1111111111111111,\"#46039f\"],[0.2222222222222222,\"#7201a8\"],[0.3333333333333333,\"#9c179e\"],[0.4444444444444444,\"#bd3786\"],[0.5555555555555556,\"#d8576b\"],[0.6666666666666666,\"#ed7953\"],[0.7777777777777778,\"#fb9f3a\"],[0.8888888888888888,\"#fdca26\"],[1.0,\"#f0f921\"]],\"sequentialminus\":[[0.0,\"#0d0887\"],[0.1111111111111111,\"#46039f\"],[0.2222222222222222,\"#7201a8\"],[0.3333333333333333,\"#9c179e\"],[0.4444444444444444,\"#bd3786\"],[0.5555555555555556,\"#d8576b\"],[0.6666666666666666,\"#ed7953\"],[0.7777777777777778,\"#fb9f3a\"],[0.8888888888888888,\"#fdca26\"],[1.0,\"#f0f921\"]]},\"colorway\":[\"#636efa\",\"#EF553B\",\"#00cc96\",\"#ab63fa\",\"#FFA15A\",\"#19d3f3\",\"#FF6692\",\"#B6E880\",\"#FF97FF\",\"#FECB52\"],\"font\":{\"color\":\"#2a3f5f\"},\"geo\":{\"bgcolor\":\"white\",\"lakecolor\":\"white\",\"landcolor\":\"#E5ECF6\",\"showlakes\":true,\"showland\":true,\"subunitcolor\":\"white\"},\"hoverlabel\":{\"align\":\"left\"},\"hovermode\":\"closest\",\"mapbox\":{\"style\":\"light\"},\"paper_bgcolor\":\"white\",\"plot_bgcolor\":\"#E5ECF6\",\"polar\":{\"angularaxis\":{\"gridcolor\":\"white\",\"linecolor\":\"white\",\"ticks\":\"\"},\"bgcolor\":\"#E5ECF6\",\"radialaxis\":{\"gridcolor\":\"white\",\"linecolor\":\"white\",\"ticks\":\"\"}},\"scene\":{\"xaxis\":{\"backgroundcolor\":\"#E5ECF6\",\"gridcolor\":\"white\",\"gridwidth\":2,\"linecolor\":\"white\",\"showbackground\":true,\"ticks\":\"\",\"zerolinecolor\":\"white\"},\"yaxis\":{\"backgroundcolor\":\"#E5ECF6\",\"gridcolor\":\"white\",\"gridwidth\":2,\"linecolor\":\"white\",\"showbackground\":true,\"ticks\":\"\",\"zerolinecolor\":\"white\"},\"zaxis\":{\"backgroundcolor\":\"#E5ECF6\",\"gridcolor\":\"white\",\"gridwidth\":2,\"linecolor\":\"white\",\"showbackground\":true,\"ticks\":\"\",\"zerolinecolor\":\"white\"}},\"shapedefaults\":{\"line\":{\"color\":\"#2a3f5f\"}},\"ternary\":{\"aaxis\":{\"gridcolor\":\"white\",\"linecolor\":\"white\",\"ticks\":\"\"},\"baxis\":{\"gridcolor\":\"white\",\"linecolor\":\"white\",\"ticks\":\"\"},\"bgcolor\":\"#E5ECF6\",\"caxis\":{\"gridcolor\":\"white\",\"linecolor\":\"white\",\"ticks\":\"\"}},\"title\":{\"x\":0.05},\"xaxis\":{\"automargin\":true,\"gridcolor\":\"white\",\"linecolor\":\"white\",\"ticks\":\"\",\"title\":{\"standoff\":15},\"zerolinecolor\":\"white\",\"zerolinewidth\":2},\"yaxis\":{\"automargin\":true,\"gridcolor\":\"white\",\"linecolor\":\"white\",\"ticks\":\"\",\"title\":{\"standoff\":15},\"zerolinecolor\":\"white\",\"zerolinewidth\":2}}},\"xaxis\":{\"anchor\":\"y\",\"domain\":[0.0,1.0],\"title\":{\"text\":\"radius_mean\"}},\"yaxis\":{\"anchor\":\"x\",\"domain\":[0.0,1.0]},\"legend\":{\"tracegroupgap\":0},\"margin\":{\"t\":60},\"boxmode\":\"group\"},                        {\"responsive\": true}                    ).then(function(){\n",
              "                            \n",
              "var gd = document.getElementById('b30aac2e-d4ae-466f-b07b-89b35b4da00e');\n",
              "var x = new MutationObserver(function (mutations, observer) {{\n",
              "        var display = window.getComputedStyle(gd).display;\n",
              "        if (!display || display === 'none') {{\n",
              "            console.log([gd, 'removed!']);\n",
              "            Plotly.purge(gd);\n",
              "            observer.disconnect();\n",
              "        }}\n",
              "}});\n",
              "\n",
              "// Listen for the removal of the full notebook cells\n",
              "var notebookContainer = gd.closest('#notebook-container');\n",
              "if (notebookContainer) {{\n",
              "    x.observe(notebookContainer, {childList: true});\n",
              "}}\n",
              "\n",
              "// Listen for the clearing of the current output cell\n",
              "var outputEl = gd.closest('.output');\n",
              "if (outputEl) {{\n",
              "    x.observe(outputEl, {childList: true});\n",
              "}}\n",
              "\n",
              "                        })                };                            </script>        </div>\n",
              "</body>\n",
              "</html>"
            ]
          },
          "metadata": {}
        }
      ]
    },
    {
      "cell_type": "markdown",
      "source": [
        "# Definindo as variáveis preditoras e a variável alvo:"
      ],
      "metadata": {
        "id": "IzKVmtlNvmxd"
      }
    },
    {
      "cell_type": "code",
      "source": [
        "preditores = df_copy.drop('diagnosis', axis=1).values\n",
        "alvo = df_copy['diagnosis'].values"
      ],
      "metadata": {
        "id": "DHR2s7ZIv3Ld"
      },
      "execution_count": 21,
      "outputs": []
    },
    {
      "cell_type": "code",
      "source": [
        "from sklearn.preprocessing import StandardScaler\n",
        "sc = StandardScaler()\n",
        "preditores_esc = sc.fit_transform(preditores)"
      ],
      "metadata": {
        "id": "IGtyBGQGize-"
      },
      "execution_count": 28,
      "outputs": []
    },
    {
      "cell_type": "markdown",
      "source": [
        "# Criação do modelo de Machine Learning (Aprendizado de Máquinas):\n",
        "\n"
      ],
      "metadata": {
        "id": "HtNUuwUi8gTi"
      }
    },
    {
      "cell_type": "markdown",
      "source": [
        "## Importando métricas:"
      ],
      "metadata": {
        "id": "JIOhOyQIk5tm"
      }
    },
    {
      "cell_type": "code",
      "source": [
        "from sklearn.metrics import accuracy_score, confusion_matrix, classification_report"
      ],
      "metadata": {
        "id": "qTY_mk2Gk4vG"
      },
      "execution_count": 40,
      "outputs": []
    },
    {
      "cell_type": "markdown",
      "source": [
        "## Separando entre dados de treino e dados de teste:"
      ],
      "metadata": {
        "id": "agfJ5jjk8v6h"
      }
    },
    {
      "cell_type": "code",
      "source": [
        "from sklearn.model_selection import train_test_split"
      ],
      "metadata": {
        "id": "GASYNlJ66VR_"
      },
      "execution_count": 34,
      "outputs": []
    },
    {
      "cell_type": "code",
      "source": [
        "x_treino, x_teste, y_treino, y_teste = train_test_split(preditores, alvo, test_size=0.3, random_state=0)\n",
        "from sklearn.model_selection import cross_val_score\n",
        "from sklearn.model_selection import KFold\n",
        "kfold = KFold(n_splits=30, shuffle=True, random_state=1)"
      ],
      "metadata": {
        "id": "-xx3xgt16tI5"
      },
      "execution_count": 158,
      "outputs": []
    },
    {
      "cell_type": "markdown",
      "source": [
        "## Naive Bayes - GaussianNB:"
      ],
      "metadata": {
        "id": "2pfdJv2-84kx"
      }
    },
    {
      "cell_type": "code",
      "source": [
        "from sklearn.naive_bayes import GaussianNB"
      ],
      "metadata": {
        "id": "_uPPzekL60Jn"
      },
      "execution_count": 43,
      "outputs": []
    },
    {
      "cell_type": "code",
      "source": [
        "naive = GaussianNB()\n",
        "naive.fit(x_treino, y_treino)"
      ],
      "metadata": {
        "colab": {
          "base_uri": "https://localhost:8080/",
          "height": 74
        },
        "id": "geVmYxIS67mU",
        "outputId": "8cced0ba-7046-4f88-af05-b176da558b42"
      },
      "execution_count": 44,
      "outputs": [
        {
          "output_type": "execute_result",
          "data": {
            "text/plain": [
              "GaussianNB()"
            ],
            "text/html": [
              "<style>#sk-container-id-2 {color: black;background-color: white;}#sk-container-id-2 pre{padding: 0;}#sk-container-id-2 div.sk-toggleable {background-color: white;}#sk-container-id-2 label.sk-toggleable__label {cursor: pointer;display: block;width: 100%;margin-bottom: 0;padding: 0.3em;box-sizing: border-box;text-align: center;}#sk-container-id-2 label.sk-toggleable__label-arrow:before {content: \"▸\";float: left;margin-right: 0.25em;color: #696969;}#sk-container-id-2 label.sk-toggleable__label-arrow:hover:before {color: black;}#sk-container-id-2 div.sk-estimator:hover label.sk-toggleable__label-arrow:before {color: black;}#sk-container-id-2 div.sk-toggleable__content {max-height: 0;max-width: 0;overflow: hidden;text-align: left;background-color: #f0f8ff;}#sk-container-id-2 div.sk-toggleable__content pre {margin: 0.2em;color: black;border-radius: 0.25em;background-color: #f0f8ff;}#sk-container-id-2 input.sk-toggleable__control:checked~div.sk-toggleable__content {max-height: 200px;max-width: 100%;overflow: auto;}#sk-container-id-2 input.sk-toggleable__control:checked~label.sk-toggleable__label-arrow:before {content: \"▾\";}#sk-container-id-2 div.sk-estimator input.sk-toggleable__control:checked~label.sk-toggleable__label {background-color: #d4ebff;}#sk-container-id-2 div.sk-label input.sk-toggleable__control:checked~label.sk-toggleable__label {background-color: #d4ebff;}#sk-container-id-2 input.sk-hidden--visually {border: 0;clip: rect(1px 1px 1px 1px);clip: rect(1px, 1px, 1px, 1px);height: 1px;margin: -1px;overflow: hidden;padding: 0;position: absolute;width: 1px;}#sk-container-id-2 div.sk-estimator {font-family: monospace;background-color: #f0f8ff;border: 1px dotted black;border-radius: 0.25em;box-sizing: border-box;margin-bottom: 0.5em;}#sk-container-id-2 div.sk-estimator:hover {background-color: #d4ebff;}#sk-container-id-2 div.sk-parallel-item::after {content: \"\";width: 100%;border-bottom: 1px solid gray;flex-grow: 1;}#sk-container-id-2 div.sk-label:hover label.sk-toggleable__label {background-color: #d4ebff;}#sk-container-id-2 div.sk-serial::before {content: \"\";position: absolute;border-left: 1px solid gray;box-sizing: border-box;top: 0;bottom: 0;left: 50%;z-index: 0;}#sk-container-id-2 div.sk-serial {display: flex;flex-direction: column;align-items: center;background-color: white;padding-right: 0.2em;padding-left: 0.2em;position: relative;}#sk-container-id-2 div.sk-item {position: relative;z-index: 1;}#sk-container-id-2 div.sk-parallel {display: flex;align-items: stretch;justify-content: center;background-color: white;position: relative;}#sk-container-id-2 div.sk-item::before, #sk-container-id-2 div.sk-parallel-item::before {content: \"\";position: absolute;border-left: 1px solid gray;box-sizing: border-box;top: 0;bottom: 0;left: 50%;z-index: -1;}#sk-container-id-2 div.sk-parallel-item {display: flex;flex-direction: column;z-index: 1;position: relative;background-color: white;}#sk-container-id-2 div.sk-parallel-item:first-child::after {align-self: flex-end;width: 50%;}#sk-container-id-2 div.sk-parallel-item:last-child::after {align-self: flex-start;width: 50%;}#sk-container-id-2 div.sk-parallel-item:only-child::after {width: 0;}#sk-container-id-2 div.sk-dashed-wrapped {border: 1px dashed gray;margin: 0 0.4em 0.5em 0.4em;box-sizing: border-box;padding-bottom: 0.4em;background-color: white;}#sk-container-id-2 div.sk-label label {font-family: monospace;font-weight: bold;display: inline-block;line-height: 1.2em;}#sk-container-id-2 div.sk-label-container {text-align: center;}#sk-container-id-2 div.sk-container {/* jupyter's `normalize.less` sets `[hidden] { display: none; }` but bootstrap.min.css set `[hidden] { display: none !important; }` so we also need the `!important` here to be able to override the default hidden behavior on the sphinx rendered scikit-learn.org. See: https://github.com/scikit-learn/scikit-learn/issues/21755 */display: inline-block !important;position: relative;}#sk-container-id-2 div.sk-text-repr-fallback {display: none;}</style><div id=\"sk-container-id-2\" class=\"sk-top-container\"><div class=\"sk-text-repr-fallback\"><pre>GaussianNB()</pre><b>In a Jupyter environment, please rerun this cell to show the HTML representation or trust the notebook. <br />On GitHub, the HTML representation is unable to render, please try loading this page with nbviewer.org.</b></div><div class=\"sk-container\" hidden><div class=\"sk-item\"><div class=\"sk-estimator sk-toggleable\"><input class=\"sk-toggleable__control sk-hidden--visually\" id=\"sk-estimator-id-2\" type=\"checkbox\" checked><label for=\"sk-estimator-id-2\" class=\"sk-toggleable__label sk-toggleable__label-arrow\">GaussianNB</label><div class=\"sk-toggleable__content\"><pre>GaussianNB()</pre></div></div></div></div></div>"
            ]
          },
          "metadata": {},
          "execution_count": 44
        }
      ]
    },
    {
      "cell_type": "code",
      "source": [
        "previsao_naive = naive.predict(x_teste)"
      ],
      "metadata": {
        "id": "vh8cF1td7BOb"
      },
      "execution_count": 45,
      "outputs": []
    },
    {
      "cell_type": "code",
      "source": [
        "print('Acurácia: %.2f%%' % (accuracy_score(previsao_naive, y_teste)*100))"
      ],
      "metadata": {
        "colab": {
          "base_uri": "https://localhost:8080/"
        },
        "id": "BZfxex2F7NWi",
        "outputId": "eeb35981-61b5-42e4-ab0a-f2bfefce62c2"
      },
      "execution_count": 46,
      "outputs": [
        {
          "output_type": "stream",
          "name": "stdout",
          "text": [
            "Acurácia: 91.23%\n"
          ]
        }
      ]
    },
    {
      "cell_type": "code",
      "source": [
        "previsao_naive_treino = naive.predict(x_treino)"
      ],
      "metadata": {
        "id": "O0iAXwAe7QYc"
      },
      "execution_count": 47,
      "outputs": []
    },
    {
      "cell_type": "code",
      "source": [
        "print('Acurácia: %.2f%%' % (accuracy_score(previsao_naive_treino, y_treino)*100))"
      ],
      "metadata": {
        "colab": {
          "base_uri": "https://localhost:8080/"
        },
        "id": "BETlX1_K7jFM",
        "outputId": "6019b442-035a-4ece-85d9-d6a043508443"
      },
      "execution_count": 48,
      "outputs": [
        {
          "output_type": "stream",
          "name": "stdout",
          "text": [
            "Acurácia: 94.22%\n"
          ]
        }
      ]
    },
    {
      "cell_type": "code",
      "source": [
        "confusion_matrix(previsao_naive, y_teste)"
      ],
      "metadata": {
        "colab": {
          "base_uri": "https://localhost:8080/"
        },
        "id": "5gSANLo77pjw",
        "outputId": "da1a7585-8935-49eb-8b84-154576ff945f"
      },
      "execution_count": 49,
      "outputs": [
        {
          "output_type": "execute_result",
          "data": {
            "text/plain": [
              "array([[57,  9],\n",
              "       [ 6, 99]])"
            ]
          },
          "metadata": {},
          "execution_count": 49
        }
      ]
    },
    {
      "cell_type": "code",
      "source": [
        "print(classification_report(previsao_naive, y_teste))"
      ],
      "metadata": {
        "colab": {
          "base_uri": "https://localhost:8080/"
        },
        "id": "kDOegPiu4Rs_",
        "outputId": "d49fdde1-7f78-43ba-95a7-55b1fea1f4d0"
      },
      "execution_count": 50,
      "outputs": [
        {
          "output_type": "stream",
          "name": "stdout",
          "text": [
            "              precision    recall  f1-score   support\n",
            "\n",
            "           0       0.90      0.86      0.88        66\n",
            "           1       0.92      0.94      0.93       105\n",
            "\n",
            "    accuracy                           0.91       171\n",
            "   macro avg       0.91      0.90      0.91       171\n",
            "weighted avg       0.91      0.91      0.91       171\n",
            "\n"
          ]
        }
      ]
    },
    {
      "cell_type": "code",
      "source": [
        "modelo = GaussianNB()\n",
        "validacao_cruzada = cross_val_score(modelo, preditores, alvo, cv=kfold)\n",
        "print('Acurácia Média: %.2f%%' % (validacao_cruzada.mean()*100))"
      ],
      "metadata": {
        "colab": {
          "base_uri": "https://localhost:8080/"
        },
        "id": "ysrQ8TdR3_yM",
        "outputId": "8e3aa565-c98d-4cd3-a290-dd14c8038a66"
      },
      "execution_count": 51,
      "outputs": [
        {
          "output_type": "stream",
          "name": "stdout",
          "text": [
            "Acurácia Média: 94.03%\n"
          ]
        }
      ]
    },
    {
      "cell_type": "markdown",
      "source": [
        "## Logistic Regression (Regressão Logística):"
      ],
      "metadata": {
        "id": "-PDdxxNCx84L"
      }
    },
    {
      "cell_type": "code",
      "source": [
        "from sklearn.linear_model import LogisticRegression"
      ],
      "metadata": {
        "id": "5N1S-pnq7zV3"
      },
      "execution_count": 52,
      "outputs": []
    },
    {
      "cell_type": "code",
      "source": [
        "LR = LogisticRegression(max_iter=3700, C=1, penalty='l2', solver='lbfgs')\n",
        "LR.fit(x_treino, y_treino)"
      ],
      "metadata": {
        "colab": {
          "base_uri": "https://localhost:8080/",
          "height": 74
        },
        "id": "0DqUlPUYws40",
        "outputId": "12b27a3e-ddec-49a7-80b3-9416d22e4ef0"
      },
      "execution_count": 53,
      "outputs": [
        {
          "output_type": "execute_result",
          "data": {
            "text/plain": [
              "LogisticRegression(C=1, max_iter=3700)"
            ],
            "text/html": [
              "<style>#sk-container-id-3 {color: black;background-color: white;}#sk-container-id-3 pre{padding: 0;}#sk-container-id-3 div.sk-toggleable {background-color: white;}#sk-container-id-3 label.sk-toggleable__label {cursor: pointer;display: block;width: 100%;margin-bottom: 0;padding: 0.3em;box-sizing: border-box;text-align: center;}#sk-container-id-3 label.sk-toggleable__label-arrow:before {content: \"▸\";float: left;margin-right: 0.25em;color: #696969;}#sk-container-id-3 label.sk-toggleable__label-arrow:hover:before {color: black;}#sk-container-id-3 div.sk-estimator:hover label.sk-toggleable__label-arrow:before {color: black;}#sk-container-id-3 div.sk-toggleable__content {max-height: 0;max-width: 0;overflow: hidden;text-align: left;background-color: #f0f8ff;}#sk-container-id-3 div.sk-toggleable__content pre {margin: 0.2em;color: black;border-radius: 0.25em;background-color: #f0f8ff;}#sk-container-id-3 input.sk-toggleable__control:checked~div.sk-toggleable__content {max-height: 200px;max-width: 100%;overflow: auto;}#sk-container-id-3 input.sk-toggleable__control:checked~label.sk-toggleable__label-arrow:before {content: \"▾\";}#sk-container-id-3 div.sk-estimator input.sk-toggleable__control:checked~label.sk-toggleable__label {background-color: #d4ebff;}#sk-container-id-3 div.sk-label input.sk-toggleable__control:checked~label.sk-toggleable__label {background-color: #d4ebff;}#sk-container-id-3 input.sk-hidden--visually {border: 0;clip: rect(1px 1px 1px 1px);clip: rect(1px, 1px, 1px, 1px);height: 1px;margin: -1px;overflow: hidden;padding: 0;position: absolute;width: 1px;}#sk-container-id-3 div.sk-estimator {font-family: monospace;background-color: #f0f8ff;border: 1px dotted black;border-radius: 0.25em;box-sizing: border-box;margin-bottom: 0.5em;}#sk-container-id-3 div.sk-estimator:hover {background-color: #d4ebff;}#sk-container-id-3 div.sk-parallel-item::after {content: \"\";width: 100%;border-bottom: 1px solid gray;flex-grow: 1;}#sk-container-id-3 div.sk-label:hover label.sk-toggleable__label {background-color: #d4ebff;}#sk-container-id-3 div.sk-serial::before {content: \"\";position: absolute;border-left: 1px solid gray;box-sizing: border-box;top: 0;bottom: 0;left: 50%;z-index: 0;}#sk-container-id-3 div.sk-serial {display: flex;flex-direction: column;align-items: center;background-color: white;padding-right: 0.2em;padding-left: 0.2em;position: relative;}#sk-container-id-3 div.sk-item {position: relative;z-index: 1;}#sk-container-id-3 div.sk-parallel {display: flex;align-items: stretch;justify-content: center;background-color: white;position: relative;}#sk-container-id-3 div.sk-item::before, #sk-container-id-3 div.sk-parallel-item::before {content: \"\";position: absolute;border-left: 1px solid gray;box-sizing: border-box;top: 0;bottom: 0;left: 50%;z-index: -1;}#sk-container-id-3 div.sk-parallel-item {display: flex;flex-direction: column;z-index: 1;position: relative;background-color: white;}#sk-container-id-3 div.sk-parallel-item:first-child::after {align-self: flex-end;width: 50%;}#sk-container-id-3 div.sk-parallel-item:last-child::after {align-self: flex-start;width: 50%;}#sk-container-id-3 div.sk-parallel-item:only-child::after {width: 0;}#sk-container-id-3 div.sk-dashed-wrapped {border: 1px dashed gray;margin: 0 0.4em 0.5em 0.4em;box-sizing: border-box;padding-bottom: 0.4em;background-color: white;}#sk-container-id-3 div.sk-label label {font-family: monospace;font-weight: bold;display: inline-block;line-height: 1.2em;}#sk-container-id-3 div.sk-label-container {text-align: center;}#sk-container-id-3 div.sk-container {/* jupyter's `normalize.less` sets `[hidden] { display: none; }` but bootstrap.min.css set `[hidden] { display: none !important; }` so we also need the `!important` here to be able to override the default hidden behavior on the sphinx rendered scikit-learn.org. See: https://github.com/scikit-learn/scikit-learn/issues/21755 */display: inline-block !important;position: relative;}#sk-container-id-3 div.sk-text-repr-fallback {display: none;}</style><div id=\"sk-container-id-3\" class=\"sk-top-container\"><div class=\"sk-text-repr-fallback\"><pre>LogisticRegression(C=1, max_iter=3700)</pre><b>In a Jupyter environment, please rerun this cell to show the HTML representation or trust the notebook. <br />On GitHub, the HTML representation is unable to render, please try loading this page with nbviewer.org.</b></div><div class=\"sk-container\" hidden><div class=\"sk-item\"><div class=\"sk-estimator sk-toggleable\"><input class=\"sk-toggleable__control sk-hidden--visually\" id=\"sk-estimator-id-3\" type=\"checkbox\" checked><label for=\"sk-estimator-id-3\" class=\"sk-toggleable__label sk-toggleable__label-arrow\">LogisticRegression</label><div class=\"sk-toggleable__content\"><pre>LogisticRegression(C=1, max_iter=3700)</pre></div></div></div></div></div>"
            ]
          },
          "metadata": {},
          "execution_count": 53
        }
      ]
    },
    {
      "cell_type": "code",
      "source": [
        "previsao_LR = LR.predict(x_teste)"
      ],
      "metadata": {
        "id": "15Gy-CKCw6IW"
      },
      "execution_count": 54,
      "outputs": []
    },
    {
      "cell_type": "code",
      "source": [
        "print('Acurácia: %.2f%%' % (accuracy_score(previsao_LR, y_teste)*100))"
      ],
      "metadata": {
        "colab": {
          "base_uri": "https://localhost:8080/"
        },
        "id": "4xPLXkTjxAKS",
        "outputId": "ed3015dc-1902-4ffc-fce6-df973dd384f0"
      },
      "execution_count": 55,
      "outputs": [
        {
          "output_type": "stream",
          "name": "stdout",
          "text": [
            "Acurácia: 97.66%\n"
          ]
        }
      ]
    },
    {
      "cell_type": "code",
      "source": [
        "previsao_LR_treino = LR.predict(x_treino)"
      ],
      "metadata": {
        "id": "aSz1ZIrdyQNQ"
      },
      "execution_count": 56,
      "outputs": []
    },
    {
      "cell_type": "code",
      "source": [
        "print('Acurácia: %.2f%%' % (accuracy_score(previsao_LR_treino, y_treino)*100))"
      ],
      "metadata": {
        "colab": {
          "base_uri": "https://localhost:8080/"
        },
        "id": "78IvyGxizTLV",
        "outputId": "de16e5ee-a7aa-4033-efd6-e4c3f69a90da"
      },
      "execution_count": 57,
      "outputs": [
        {
          "output_type": "stream",
          "name": "stdout",
          "text": [
            "Acurácia: 98.99%\n"
          ]
        }
      ]
    },
    {
      "cell_type": "code",
      "source": [
        "modelo = LogisticRegression(max_iter=3700, C=1, penalty='l2', solver='lbfgs')\n",
        "validacao_cruzada = cross_val_score(modelo, preditores, alvo, cv=kfold)\n",
        "print('Acurácia Média: %.2f%%' % (validacao_cruzada.mean()*100))"
      ],
      "metadata": {
        "colab": {
          "base_uri": "https://localhost:8080/"
        },
        "id": "fbScS9ewzqOm",
        "outputId": "b50cd456-164a-4bbb-b315-795772684725"
      },
      "execution_count": 61,
      "outputs": [
        {
          "output_type": "stream",
          "name": "stderr",
          "text": [
            "/usr/local/lib/python3.9/dist-packages/sklearn/linear_model/_logistic.py:458: ConvergenceWarning:\n",
            "\n",
            "lbfgs failed to converge (status=1):\n",
            "STOP: TOTAL NO. of ITERATIONS REACHED LIMIT.\n",
            "\n",
            "Increase the number of iterations (max_iter) or scale the data as shown in:\n",
            "    https://scikit-learn.org/stable/modules/preprocessing.html\n",
            "Please also refer to the documentation for alternative solver options:\n",
            "    https://scikit-learn.org/stable/modules/linear_model.html#logistic-regression\n",
            "\n",
            "/usr/local/lib/python3.9/dist-packages/sklearn/linear_model/_logistic.py:458: ConvergenceWarning:\n",
            "\n",
            "lbfgs failed to converge (status=1):\n",
            "STOP: TOTAL NO. of ITERATIONS REACHED LIMIT.\n",
            "\n",
            "Increase the number of iterations (max_iter) or scale the data as shown in:\n",
            "    https://scikit-learn.org/stable/modules/preprocessing.html\n",
            "Please also refer to the documentation for alternative solver options:\n",
            "    https://scikit-learn.org/stable/modules/linear_model.html#logistic-regression\n",
            "\n",
            "/usr/local/lib/python3.9/dist-packages/sklearn/linear_model/_logistic.py:458: ConvergenceWarning:\n",
            "\n",
            "lbfgs failed to converge (status=1):\n",
            "STOP: TOTAL NO. of ITERATIONS REACHED LIMIT.\n",
            "\n",
            "Increase the number of iterations (max_iter) or scale the data as shown in:\n",
            "    https://scikit-learn.org/stable/modules/preprocessing.html\n",
            "Please also refer to the documentation for alternative solver options:\n",
            "    https://scikit-learn.org/stable/modules/linear_model.html#logistic-regression\n",
            "\n",
            "/usr/local/lib/python3.9/dist-packages/sklearn/linear_model/_logistic.py:458: ConvergenceWarning:\n",
            "\n",
            "lbfgs failed to converge (status=1):\n",
            "STOP: TOTAL NO. of ITERATIONS REACHED LIMIT.\n",
            "\n",
            "Increase the number of iterations (max_iter) or scale the data as shown in:\n",
            "    https://scikit-learn.org/stable/modules/preprocessing.html\n",
            "Please also refer to the documentation for alternative solver options:\n",
            "    https://scikit-learn.org/stable/modules/linear_model.html#logistic-regression\n",
            "\n",
            "/usr/local/lib/python3.9/dist-packages/sklearn/linear_model/_logistic.py:458: ConvergenceWarning:\n",
            "\n",
            "lbfgs failed to converge (status=1):\n",
            "STOP: TOTAL NO. of ITERATIONS REACHED LIMIT.\n",
            "\n",
            "Increase the number of iterations (max_iter) or scale the data as shown in:\n",
            "    https://scikit-learn.org/stable/modules/preprocessing.html\n",
            "Please also refer to the documentation for alternative solver options:\n",
            "    https://scikit-learn.org/stable/modules/linear_model.html#logistic-regression\n",
            "\n",
            "/usr/local/lib/python3.9/dist-packages/sklearn/linear_model/_logistic.py:458: ConvergenceWarning:\n",
            "\n",
            "lbfgs failed to converge (status=1):\n",
            "STOP: TOTAL NO. of ITERATIONS REACHED LIMIT.\n",
            "\n",
            "Increase the number of iterations (max_iter) or scale the data as shown in:\n",
            "    https://scikit-learn.org/stable/modules/preprocessing.html\n",
            "Please also refer to the documentation for alternative solver options:\n",
            "    https://scikit-learn.org/stable/modules/linear_model.html#logistic-regression\n",
            "\n",
            "/usr/local/lib/python3.9/dist-packages/sklearn/linear_model/_logistic.py:458: ConvergenceWarning:\n",
            "\n",
            "lbfgs failed to converge (status=1):\n",
            "STOP: TOTAL NO. of ITERATIONS REACHED LIMIT.\n",
            "\n",
            "Increase the number of iterations (max_iter) or scale the data as shown in:\n",
            "    https://scikit-learn.org/stable/modules/preprocessing.html\n",
            "Please also refer to the documentation for alternative solver options:\n",
            "    https://scikit-learn.org/stable/modules/linear_model.html#logistic-regression\n",
            "\n",
            "/usr/local/lib/python3.9/dist-packages/sklearn/linear_model/_logistic.py:458: ConvergenceWarning:\n",
            "\n",
            "lbfgs failed to converge (status=1):\n",
            "STOP: TOTAL NO. of ITERATIONS REACHED LIMIT.\n",
            "\n",
            "Increase the number of iterations (max_iter) or scale the data as shown in:\n",
            "    https://scikit-learn.org/stable/modules/preprocessing.html\n",
            "Please also refer to the documentation for alternative solver options:\n",
            "    https://scikit-learn.org/stable/modules/linear_model.html#logistic-regression\n",
            "\n",
            "/usr/local/lib/python3.9/dist-packages/sklearn/linear_model/_logistic.py:458: ConvergenceWarning:\n",
            "\n",
            "lbfgs failed to converge (status=1):\n",
            "STOP: TOTAL NO. of ITERATIONS REACHED LIMIT.\n",
            "\n",
            "Increase the number of iterations (max_iter) or scale the data as shown in:\n",
            "    https://scikit-learn.org/stable/modules/preprocessing.html\n",
            "Please also refer to the documentation for alternative solver options:\n",
            "    https://scikit-learn.org/stable/modules/linear_model.html#logistic-regression\n",
            "\n",
            "/usr/local/lib/python3.9/dist-packages/sklearn/linear_model/_logistic.py:458: ConvergenceWarning:\n",
            "\n",
            "lbfgs failed to converge (status=1):\n",
            "STOP: TOTAL NO. of ITERATIONS REACHED LIMIT.\n",
            "\n",
            "Increase the number of iterations (max_iter) or scale the data as shown in:\n",
            "    https://scikit-learn.org/stable/modules/preprocessing.html\n",
            "Please also refer to the documentation for alternative solver options:\n",
            "    https://scikit-learn.org/stable/modules/linear_model.html#logistic-regression\n",
            "\n",
            "/usr/local/lib/python3.9/dist-packages/sklearn/linear_model/_logistic.py:458: ConvergenceWarning:\n",
            "\n",
            "lbfgs failed to converge (status=1):\n",
            "STOP: TOTAL NO. of ITERATIONS REACHED LIMIT.\n",
            "\n",
            "Increase the number of iterations (max_iter) or scale the data as shown in:\n",
            "    https://scikit-learn.org/stable/modules/preprocessing.html\n",
            "Please also refer to the documentation for alternative solver options:\n",
            "    https://scikit-learn.org/stable/modules/linear_model.html#logistic-regression\n",
            "\n",
            "/usr/local/lib/python3.9/dist-packages/sklearn/linear_model/_logistic.py:458: ConvergenceWarning:\n",
            "\n",
            "lbfgs failed to converge (status=1):\n",
            "STOP: TOTAL NO. of ITERATIONS REACHED LIMIT.\n",
            "\n",
            "Increase the number of iterations (max_iter) or scale the data as shown in:\n",
            "    https://scikit-learn.org/stable/modules/preprocessing.html\n",
            "Please also refer to the documentation for alternative solver options:\n",
            "    https://scikit-learn.org/stable/modules/linear_model.html#logistic-regression\n",
            "\n",
            "/usr/local/lib/python3.9/dist-packages/sklearn/linear_model/_logistic.py:458: ConvergenceWarning:\n",
            "\n",
            "lbfgs failed to converge (status=1):\n",
            "STOP: TOTAL NO. of ITERATIONS REACHED LIMIT.\n",
            "\n",
            "Increase the number of iterations (max_iter) or scale the data as shown in:\n",
            "    https://scikit-learn.org/stable/modules/preprocessing.html\n",
            "Please also refer to the documentation for alternative solver options:\n",
            "    https://scikit-learn.org/stable/modules/linear_model.html#logistic-regression\n",
            "\n",
            "/usr/local/lib/python3.9/dist-packages/sklearn/linear_model/_logistic.py:458: ConvergenceWarning:\n",
            "\n",
            "lbfgs failed to converge (status=1):\n",
            "STOP: TOTAL NO. of ITERATIONS REACHED LIMIT.\n",
            "\n",
            "Increase the number of iterations (max_iter) or scale the data as shown in:\n",
            "    https://scikit-learn.org/stable/modules/preprocessing.html\n",
            "Please also refer to the documentation for alternative solver options:\n",
            "    https://scikit-learn.org/stable/modules/linear_model.html#logistic-regression\n",
            "\n",
            "/usr/local/lib/python3.9/dist-packages/sklearn/linear_model/_logistic.py:458: ConvergenceWarning:\n",
            "\n",
            "lbfgs failed to converge (status=1):\n",
            "STOP: TOTAL NO. of ITERATIONS REACHED LIMIT.\n",
            "\n",
            "Increase the number of iterations (max_iter) or scale the data as shown in:\n",
            "    https://scikit-learn.org/stable/modules/preprocessing.html\n",
            "Please also refer to the documentation for alternative solver options:\n",
            "    https://scikit-learn.org/stable/modules/linear_model.html#logistic-regression\n",
            "\n",
            "/usr/local/lib/python3.9/dist-packages/sklearn/linear_model/_logistic.py:458: ConvergenceWarning:\n",
            "\n",
            "lbfgs failed to converge (status=1):\n",
            "STOP: TOTAL NO. of ITERATIONS REACHED LIMIT.\n",
            "\n",
            "Increase the number of iterations (max_iter) or scale the data as shown in:\n",
            "    https://scikit-learn.org/stable/modules/preprocessing.html\n",
            "Please also refer to the documentation for alternative solver options:\n",
            "    https://scikit-learn.org/stable/modules/linear_model.html#logistic-regression\n",
            "\n",
            "/usr/local/lib/python3.9/dist-packages/sklearn/linear_model/_logistic.py:458: ConvergenceWarning:\n",
            "\n",
            "lbfgs failed to converge (status=1):\n",
            "STOP: TOTAL NO. of ITERATIONS REACHED LIMIT.\n",
            "\n",
            "Increase the number of iterations (max_iter) or scale the data as shown in:\n",
            "    https://scikit-learn.org/stable/modules/preprocessing.html\n",
            "Please also refer to the documentation for alternative solver options:\n",
            "    https://scikit-learn.org/stable/modules/linear_model.html#logistic-regression\n",
            "\n",
            "/usr/local/lib/python3.9/dist-packages/sklearn/linear_model/_logistic.py:458: ConvergenceWarning:\n",
            "\n",
            "lbfgs failed to converge (status=1):\n",
            "STOP: TOTAL NO. of ITERATIONS REACHED LIMIT.\n",
            "\n",
            "Increase the number of iterations (max_iter) or scale the data as shown in:\n",
            "    https://scikit-learn.org/stable/modules/preprocessing.html\n",
            "Please also refer to the documentation for alternative solver options:\n",
            "    https://scikit-learn.org/stable/modules/linear_model.html#logistic-regression\n",
            "\n",
            "/usr/local/lib/python3.9/dist-packages/sklearn/linear_model/_logistic.py:458: ConvergenceWarning:\n",
            "\n",
            "lbfgs failed to converge (status=1):\n",
            "STOP: TOTAL NO. of ITERATIONS REACHED LIMIT.\n",
            "\n",
            "Increase the number of iterations (max_iter) or scale the data as shown in:\n",
            "    https://scikit-learn.org/stable/modules/preprocessing.html\n",
            "Please also refer to the documentation for alternative solver options:\n",
            "    https://scikit-learn.org/stable/modules/linear_model.html#logistic-regression\n",
            "\n",
            "/usr/local/lib/python3.9/dist-packages/sklearn/linear_model/_logistic.py:458: ConvergenceWarning:\n",
            "\n",
            "lbfgs failed to converge (status=1):\n",
            "STOP: TOTAL NO. of ITERATIONS REACHED LIMIT.\n",
            "\n",
            "Increase the number of iterations (max_iter) or scale the data as shown in:\n",
            "    https://scikit-learn.org/stable/modules/preprocessing.html\n",
            "Please also refer to the documentation for alternative solver options:\n",
            "    https://scikit-learn.org/stable/modules/linear_model.html#logistic-regression\n",
            "\n",
            "/usr/local/lib/python3.9/dist-packages/sklearn/linear_model/_logistic.py:458: ConvergenceWarning:\n",
            "\n",
            "lbfgs failed to converge (status=1):\n",
            "STOP: TOTAL NO. of ITERATIONS REACHED LIMIT.\n",
            "\n",
            "Increase the number of iterations (max_iter) or scale the data as shown in:\n",
            "    https://scikit-learn.org/stable/modules/preprocessing.html\n",
            "Please also refer to the documentation for alternative solver options:\n",
            "    https://scikit-learn.org/stable/modules/linear_model.html#logistic-regression\n",
            "\n",
            "/usr/local/lib/python3.9/dist-packages/sklearn/linear_model/_logistic.py:458: ConvergenceWarning:\n",
            "\n",
            "lbfgs failed to converge (status=1):\n",
            "STOP: TOTAL NO. of ITERATIONS REACHED LIMIT.\n",
            "\n",
            "Increase the number of iterations (max_iter) or scale the data as shown in:\n",
            "    https://scikit-learn.org/stable/modules/preprocessing.html\n",
            "Please also refer to the documentation for alternative solver options:\n",
            "    https://scikit-learn.org/stable/modules/linear_model.html#logistic-regression\n",
            "\n",
            "/usr/local/lib/python3.9/dist-packages/sklearn/linear_model/_logistic.py:458: ConvergenceWarning:\n",
            "\n",
            "lbfgs failed to converge (status=1):\n",
            "STOP: TOTAL NO. of ITERATIONS REACHED LIMIT.\n",
            "\n",
            "Increase the number of iterations (max_iter) or scale the data as shown in:\n",
            "    https://scikit-learn.org/stable/modules/preprocessing.html\n",
            "Please also refer to the documentation for alternative solver options:\n",
            "    https://scikit-learn.org/stable/modules/linear_model.html#logistic-regression\n",
            "\n",
            "/usr/local/lib/python3.9/dist-packages/sklearn/linear_model/_logistic.py:458: ConvergenceWarning:\n",
            "\n",
            "lbfgs failed to converge (status=1):\n",
            "STOP: TOTAL NO. of ITERATIONS REACHED LIMIT.\n",
            "\n",
            "Increase the number of iterations (max_iter) or scale the data as shown in:\n",
            "    https://scikit-learn.org/stable/modules/preprocessing.html\n",
            "Please also refer to the documentation for alternative solver options:\n",
            "    https://scikit-learn.org/stable/modules/linear_model.html#logistic-regression\n",
            "\n",
            "/usr/local/lib/python3.9/dist-packages/sklearn/linear_model/_logistic.py:458: ConvergenceWarning:\n",
            "\n",
            "lbfgs failed to converge (status=1):\n",
            "STOP: TOTAL NO. of ITERATIONS REACHED LIMIT.\n",
            "\n",
            "Increase the number of iterations (max_iter) or scale the data as shown in:\n",
            "    https://scikit-learn.org/stable/modules/preprocessing.html\n",
            "Please also refer to the documentation for alternative solver options:\n",
            "    https://scikit-learn.org/stable/modules/linear_model.html#logistic-regression\n",
            "\n",
            "/usr/local/lib/python3.9/dist-packages/sklearn/linear_model/_logistic.py:458: ConvergenceWarning:\n",
            "\n",
            "lbfgs failed to converge (status=1):\n",
            "STOP: TOTAL NO. of ITERATIONS REACHED LIMIT.\n",
            "\n",
            "Increase the number of iterations (max_iter) or scale the data as shown in:\n",
            "    https://scikit-learn.org/stable/modules/preprocessing.html\n",
            "Please also refer to the documentation for alternative solver options:\n",
            "    https://scikit-learn.org/stable/modules/linear_model.html#logistic-regression\n",
            "\n",
            "/usr/local/lib/python3.9/dist-packages/sklearn/linear_model/_logistic.py:458: ConvergenceWarning:\n",
            "\n",
            "lbfgs failed to converge (status=1):\n",
            "STOP: TOTAL NO. of ITERATIONS REACHED LIMIT.\n",
            "\n",
            "Increase the number of iterations (max_iter) or scale the data as shown in:\n",
            "    https://scikit-learn.org/stable/modules/preprocessing.html\n",
            "Please also refer to the documentation for alternative solver options:\n",
            "    https://scikit-learn.org/stable/modules/linear_model.html#logistic-regression\n",
            "\n",
            "/usr/local/lib/python3.9/dist-packages/sklearn/linear_model/_logistic.py:458: ConvergenceWarning:\n",
            "\n",
            "lbfgs failed to converge (status=1):\n",
            "STOP: TOTAL NO. of ITERATIONS REACHED LIMIT.\n",
            "\n",
            "Increase the number of iterations (max_iter) or scale the data as shown in:\n",
            "    https://scikit-learn.org/stable/modules/preprocessing.html\n",
            "Please also refer to the documentation for alternative solver options:\n",
            "    https://scikit-learn.org/stable/modules/linear_model.html#logistic-regression\n",
            "\n"
          ]
        },
        {
          "output_type": "stream",
          "name": "stdout",
          "text": [
            "Acurácia Média: 95.25%\n"
          ]
        },
        {
          "output_type": "stream",
          "name": "stderr",
          "text": [
            "/usr/local/lib/python3.9/dist-packages/sklearn/linear_model/_logistic.py:458: ConvergenceWarning:\n",
            "\n",
            "lbfgs failed to converge (status=1):\n",
            "STOP: TOTAL NO. of ITERATIONS REACHED LIMIT.\n",
            "\n",
            "Increase the number of iterations (max_iter) or scale the data as shown in:\n",
            "    https://scikit-learn.org/stable/modules/preprocessing.html\n",
            "Please also refer to the documentation for alternative solver options:\n",
            "    https://scikit-learn.org/stable/modules/linear_model.html#logistic-regression\n",
            "\n"
          ]
        }
      ]
    },
    {
      "cell_type": "code",
      "source": [
        "print(classification_report(previsao_LR, y_teste))\n"
      ],
      "metadata": {
        "colab": {
          "base_uri": "https://localhost:8080/"
        },
        "id": "ZyCpTuaY0kjB",
        "outputId": "e244d901-6dee-45e6-943e-f7f185f84a3a"
      },
      "execution_count": 59,
      "outputs": [
        {
          "output_type": "stream",
          "name": "stdout",
          "text": [
            "              precision    recall  f1-score   support\n",
            "\n",
            "           0       0.95      0.98      0.97        61\n",
            "           1       0.99      0.97      0.98       110\n",
            "\n",
            "    accuracy                           0.98       171\n",
            "   macro avg       0.97      0.98      0.97       171\n",
            "weighted avg       0.98      0.98      0.98       171\n",
            "\n"
          ]
        }
      ]
    },
    {
      "cell_type": "code",
      "source": [
        "confusion_matrix(previsao_LR, y_teste)"
      ],
      "metadata": {
        "colab": {
          "base_uri": "https://localhost:8080/"
        },
        "id": "dHIZ3EPl69zq",
        "outputId": "4cb9ab60-2c54-425e-c05a-584bbefc12ec"
      },
      "execution_count": 60,
      "outputs": [
        {
          "output_type": "execute_result",
          "data": {
            "text/plain": [
              "array([[ 60,   1],\n",
              "       [  3, 107]])"
            ]
          },
          "metadata": {},
          "execution_count": 60
        }
      ]
    },
    {
      "cell_type": "markdown",
      "source": [
        "## Support Vector Machine Classifier - SVC:"
      ],
      "metadata": {
        "id": "gu0qu9DC4nYS"
      }
    },
    {
      "cell_type": "code",
      "source": [
        "from sklearn.svm import SVC"
      ],
      "metadata": {
        "id": "Opf925zg4udY"
      },
      "execution_count": 62,
      "outputs": []
    },
    {
      "cell_type": "code",
      "source": [
        "svc = SVC(kernel='rbf', C=4)\n",
        "svc.fit(x_treino, y_treino)"
      ],
      "metadata": {
        "colab": {
          "base_uri": "https://localhost:8080/",
          "height": 74
        },
        "id": "w0oXstzs43CE",
        "outputId": "885a9b8e-acf9-4112-b909-5c030b148aa0"
      },
      "execution_count": 63,
      "outputs": [
        {
          "output_type": "execute_result",
          "data": {
            "text/plain": [
              "SVC(C=4)"
            ],
            "text/html": [
              "<style>#sk-container-id-4 {color: black;background-color: white;}#sk-container-id-4 pre{padding: 0;}#sk-container-id-4 div.sk-toggleable {background-color: white;}#sk-container-id-4 label.sk-toggleable__label {cursor: pointer;display: block;width: 100%;margin-bottom: 0;padding: 0.3em;box-sizing: border-box;text-align: center;}#sk-container-id-4 label.sk-toggleable__label-arrow:before {content: \"▸\";float: left;margin-right: 0.25em;color: #696969;}#sk-container-id-4 label.sk-toggleable__label-arrow:hover:before {color: black;}#sk-container-id-4 div.sk-estimator:hover label.sk-toggleable__label-arrow:before {color: black;}#sk-container-id-4 div.sk-toggleable__content {max-height: 0;max-width: 0;overflow: hidden;text-align: left;background-color: #f0f8ff;}#sk-container-id-4 div.sk-toggleable__content pre {margin: 0.2em;color: black;border-radius: 0.25em;background-color: #f0f8ff;}#sk-container-id-4 input.sk-toggleable__control:checked~div.sk-toggleable__content {max-height: 200px;max-width: 100%;overflow: auto;}#sk-container-id-4 input.sk-toggleable__control:checked~label.sk-toggleable__label-arrow:before {content: \"▾\";}#sk-container-id-4 div.sk-estimator input.sk-toggleable__control:checked~label.sk-toggleable__label {background-color: #d4ebff;}#sk-container-id-4 div.sk-label input.sk-toggleable__control:checked~label.sk-toggleable__label {background-color: #d4ebff;}#sk-container-id-4 input.sk-hidden--visually {border: 0;clip: rect(1px 1px 1px 1px);clip: rect(1px, 1px, 1px, 1px);height: 1px;margin: -1px;overflow: hidden;padding: 0;position: absolute;width: 1px;}#sk-container-id-4 div.sk-estimator {font-family: monospace;background-color: #f0f8ff;border: 1px dotted black;border-radius: 0.25em;box-sizing: border-box;margin-bottom: 0.5em;}#sk-container-id-4 div.sk-estimator:hover {background-color: #d4ebff;}#sk-container-id-4 div.sk-parallel-item::after {content: \"\";width: 100%;border-bottom: 1px solid gray;flex-grow: 1;}#sk-container-id-4 div.sk-label:hover label.sk-toggleable__label {background-color: #d4ebff;}#sk-container-id-4 div.sk-serial::before {content: \"\";position: absolute;border-left: 1px solid gray;box-sizing: border-box;top: 0;bottom: 0;left: 50%;z-index: 0;}#sk-container-id-4 div.sk-serial {display: flex;flex-direction: column;align-items: center;background-color: white;padding-right: 0.2em;padding-left: 0.2em;position: relative;}#sk-container-id-4 div.sk-item {position: relative;z-index: 1;}#sk-container-id-4 div.sk-parallel {display: flex;align-items: stretch;justify-content: center;background-color: white;position: relative;}#sk-container-id-4 div.sk-item::before, #sk-container-id-4 div.sk-parallel-item::before {content: \"\";position: absolute;border-left: 1px solid gray;box-sizing: border-box;top: 0;bottom: 0;left: 50%;z-index: -1;}#sk-container-id-4 div.sk-parallel-item {display: flex;flex-direction: column;z-index: 1;position: relative;background-color: white;}#sk-container-id-4 div.sk-parallel-item:first-child::after {align-self: flex-end;width: 50%;}#sk-container-id-4 div.sk-parallel-item:last-child::after {align-self: flex-start;width: 50%;}#sk-container-id-4 div.sk-parallel-item:only-child::after {width: 0;}#sk-container-id-4 div.sk-dashed-wrapped {border: 1px dashed gray;margin: 0 0.4em 0.5em 0.4em;box-sizing: border-box;padding-bottom: 0.4em;background-color: white;}#sk-container-id-4 div.sk-label label {font-family: monospace;font-weight: bold;display: inline-block;line-height: 1.2em;}#sk-container-id-4 div.sk-label-container {text-align: center;}#sk-container-id-4 div.sk-container {/* jupyter's `normalize.less` sets `[hidden] { display: none; }` but bootstrap.min.css set `[hidden] { display: none !important; }` so we also need the `!important` here to be able to override the default hidden behavior on the sphinx rendered scikit-learn.org. See: https://github.com/scikit-learn/scikit-learn/issues/21755 */display: inline-block !important;position: relative;}#sk-container-id-4 div.sk-text-repr-fallback {display: none;}</style><div id=\"sk-container-id-4\" class=\"sk-top-container\"><div class=\"sk-text-repr-fallback\"><pre>SVC(C=4)</pre><b>In a Jupyter environment, please rerun this cell to show the HTML representation or trust the notebook. <br />On GitHub, the HTML representation is unable to render, please try loading this page with nbviewer.org.</b></div><div class=\"sk-container\" hidden><div class=\"sk-item\"><div class=\"sk-estimator sk-toggleable\"><input class=\"sk-toggleable__control sk-hidden--visually\" id=\"sk-estimator-id-4\" type=\"checkbox\" checked><label for=\"sk-estimator-id-4\" class=\"sk-toggleable__label sk-toggleable__label-arrow\">SVC</label><div class=\"sk-toggleable__content\"><pre>SVC(C=4)</pre></div></div></div></div></div>"
            ]
          },
          "metadata": {},
          "execution_count": 63
        }
      ]
    },
    {
      "cell_type": "code",
      "source": [
        "previsao_svc = svc.predict(x_teste)"
      ],
      "metadata": {
        "id": "zFN0n-0G50tB"
      },
      "execution_count": 64,
      "outputs": []
    },
    {
      "cell_type": "code",
      "source": [
        "print('Acurácia: %.2f%%' % (accuracy_score(previsao_svc, y_teste)*100))"
      ],
      "metadata": {
        "colab": {
          "base_uri": "https://localhost:8080/"
        },
        "id": "QfWkoNLK59c-",
        "outputId": "b2ce42c9-939a-4632-8037-0947d5e8b00e"
      },
      "execution_count": 65,
      "outputs": [
        {
          "output_type": "stream",
          "name": "stdout",
          "text": [
            "Acurácia: 98.25%\n"
          ]
        }
      ]
    },
    {
      "cell_type": "code",
      "source": [
        "previsao_svc_treino = svc.predict(x_treino)"
      ],
      "metadata": {
        "id": "R7ei1UTZ6HQ2"
      },
      "execution_count": 66,
      "outputs": []
    },
    {
      "cell_type": "code",
      "source": [
        "print('Acurácia: %.2f%%' % (accuracy_score(previsao_svc_treino, y_treino)*100))"
      ],
      "metadata": {
        "colab": {
          "base_uri": "https://localhost:8080/"
        },
        "id": "_PUX4tbu6Xkv",
        "outputId": "4e23710f-6a06-405a-acd6-e5f3ecce92eb"
      },
      "execution_count": 67,
      "outputs": [
        {
          "output_type": "stream",
          "name": "stdout",
          "text": [
            "Acurácia: 98.74%\n"
          ]
        }
      ]
    },
    {
      "cell_type": "code",
      "source": [
        "modelo = SVC(kernel='rbf', C=4)\n",
        "validacao_cruzada = cross_val_score(modelo, preditores, alvo, cv=kfold)\n",
        "print('Acurácia Média: %.2f%%' % (validacao_cruzada.mean()*100))"
      ],
      "metadata": {
        "colab": {
          "base_uri": "https://localhost:8080/"
        },
        "id": "Fp4MFfUe6aKr",
        "outputId": "953f3941-c002-497a-bf40-ca627031787d"
      },
      "execution_count": 68,
      "outputs": [
        {
          "output_type": "stream",
          "name": "stdout",
          "text": [
            "Acurácia Média: 91.92%\n"
          ]
        }
      ]
    },
    {
      "cell_type": "code",
      "source": [
        "print(classification_report(previsao_svc, y_teste))"
      ],
      "metadata": {
        "colab": {
          "base_uri": "https://localhost:8080/"
        },
        "id": "2t0Rxd9I6uVJ",
        "outputId": "ca966bb8-fcf9-442d-b13c-bcc9c8b23d9d"
      },
      "execution_count": 69,
      "outputs": [
        {
          "output_type": "stream",
          "name": "stdout",
          "text": [
            "              precision    recall  f1-score   support\n",
            "\n",
            "           0       0.98      0.97      0.98        64\n",
            "           1       0.98      0.99      0.99       107\n",
            "\n",
            "    accuracy                           0.98       171\n",
            "   macro avg       0.98      0.98      0.98       171\n",
            "weighted avg       0.98      0.98      0.98       171\n",
            "\n"
          ]
        }
      ]
    },
    {
      "cell_type": "code",
      "source": [
        "confusion_matrix(previsao_svc, y_teste)"
      ],
      "metadata": {
        "colab": {
          "base_uri": "https://localhost:8080/"
        },
        "id": "x0EnsLJi7Lwz",
        "outputId": "cd912c98-1d88-4aef-ea43-1953499df3a0"
      },
      "execution_count": 70,
      "outputs": [
        {
          "output_type": "execute_result",
          "data": {
            "text/plain": [
              "array([[ 62,   2],\n",
              "       [  1, 106]])"
            ]
          },
          "metadata": {},
          "execution_count": 70
        }
      ]
    },
    {
      "cell_type": "markdown",
      "source": [
        "## Decision Tree (Árvore de Decisão):"
      ],
      "metadata": {
        "id": "Nqxuy3DaGELs"
      }
    },
    {
      "cell_type": "code",
      "source": [
        "from sklearn.tree import DecisionTreeClassifier"
      ],
      "metadata": {
        "id": "-eAZKpDpGHJi"
      },
      "execution_count": 80,
      "outputs": []
    },
    {
      "cell_type": "code",
      "source": [
        "arvore = DecisionTreeClassifier(criterion='gini', max_depth=3, random_state=0)\n",
        "arvore.fit(x_treino, y_treino)"
      ],
      "metadata": {
        "colab": {
          "base_uri": "https://localhost:8080/",
          "height": 74
        },
        "id": "Vo0t32woGKyp",
        "outputId": "1b0ebef5-47f3-466c-ee1d-b6e5307d8141"
      },
      "execution_count": 81,
      "outputs": [
        {
          "output_type": "execute_result",
          "data": {
            "text/plain": [
              "DecisionTreeClassifier(max_depth=3, random_state=0)"
            ],
            "text/html": [
              "<style>#sk-container-id-6 {color: black;background-color: white;}#sk-container-id-6 pre{padding: 0;}#sk-container-id-6 div.sk-toggleable {background-color: white;}#sk-container-id-6 label.sk-toggleable__label {cursor: pointer;display: block;width: 100%;margin-bottom: 0;padding: 0.3em;box-sizing: border-box;text-align: center;}#sk-container-id-6 label.sk-toggleable__label-arrow:before {content: \"▸\";float: left;margin-right: 0.25em;color: #696969;}#sk-container-id-6 label.sk-toggleable__label-arrow:hover:before {color: black;}#sk-container-id-6 div.sk-estimator:hover label.sk-toggleable__label-arrow:before {color: black;}#sk-container-id-6 div.sk-toggleable__content {max-height: 0;max-width: 0;overflow: hidden;text-align: left;background-color: #f0f8ff;}#sk-container-id-6 div.sk-toggleable__content pre {margin: 0.2em;color: black;border-radius: 0.25em;background-color: #f0f8ff;}#sk-container-id-6 input.sk-toggleable__control:checked~div.sk-toggleable__content {max-height: 200px;max-width: 100%;overflow: auto;}#sk-container-id-6 input.sk-toggleable__control:checked~label.sk-toggleable__label-arrow:before {content: \"▾\";}#sk-container-id-6 div.sk-estimator input.sk-toggleable__control:checked~label.sk-toggleable__label {background-color: #d4ebff;}#sk-container-id-6 div.sk-label input.sk-toggleable__control:checked~label.sk-toggleable__label {background-color: #d4ebff;}#sk-container-id-6 input.sk-hidden--visually {border: 0;clip: rect(1px 1px 1px 1px);clip: rect(1px, 1px, 1px, 1px);height: 1px;margin: -1px;overflow: hidden;padding: 0;position: absolute;width: 1px;}#sk-container-id-6 div.sk-estimator {font-family: monospace;background-color: #f0f8ff;border: 1px dotted black;border-radius: 0.25em;box-sizing: border-box;margin-bottom: 0.5em;}#sk-container-id-6 div.sk-estimator:hover {background-color: #d4ebff;}#sk-container-id-6 div.sk-parallel-item::after {content: \"\";width: 100%;border-bottom: 1px solid gray;flex-grow: 1;}#sk-container-id-6 div.sk-label:hover label.sk-toggleable__label {background-color: #d4ebff;}#sk-container-id-6 div.sk-serial::before {content: \"\";position: absolute;border-left: 1px solid gray;box-sizing: border-box;top: 0;bottom: 0;left: 50%;z-index: 0;}#sk-container-id-6 div.sk-serial {display: flex;flex-direction: column;align-items: center;background-color: white;padding-right: 0.2em;padding-left: 0.2em;position: relative;}#sk-container-id-6 div.sk-item {position: relative;z-index: 1;}#sk-container-id-6 div.sk-parallel {display: flex;align-items: stretch;justify-content: center;background-color: white;position: relative;}#sk-container-id-6 div.sk-item::before, #sk-container-id-6 div.sk-parallel-item::before {content: \"\";position: absolute;border-left: 1px solid gray;box-sizing: border-box;top: 0;bottom: 0;left: 50%;z-index: -1;}#sk-container-id-6 div.sk-parallel-item {display: flex;flex-direction: column;z-index: 1;position: relative;background-color: white;}#sk-container-id-6 div.sk-parallel-item:first-child::after {align-self: flex-end;width: 50%;}#sk-container-id-6 div.sk-parallel-item:last-child::after {align-self: flex-start;width: 50%;}#sk-container-id-6 div.sk-parallel-item:only-child::after {width: 0;}#sk-container-id-6 div.sk-dashed-wrapped {border: 1px dashed gray;margin: 0 0.4em 0.5em 0.4em;box-sizing: border-box;padding-bottom: 0.4em;background-color: white;}#sk-container-id-6 div.sk-label label {font-family: monospace;font-weight: bold;display: inline-block;line-height: 1.2em;}#sk-container-id-6 div.sk-label-container {text-align: center;}#sk-container-id-6 div.sk-container {/* jupyter's `normalize.less` sets `[hidden] { display: none; }` but bootstrap.min.css set `[hidden] { display: none !important; }` so we also need the `!important` here to be able to override the default hidden behavior on the sphinx rendered scikit-learn.org. See: https://github.com/scikit-learn/scikit-learn/issues/21755 */display: inline-block !important;position: relative;}#sk-container-id-6 div.sk-text-repr-fallback {display: none;}</style><div id=\"sk-container-id-6\" class=\"sk-top-container\"><div class=\"sk-text-repr-fallback\"><pre>DecisionTreeClassifier(max_depth=3, random_state=0)</pre><b>In a Jupyter environment, please rerun this cell to show the HTML representation or trust the notebook. <br />On GitHub, the HTML representation is unable to render, please try loading this page with nbviewer.org.</b></div><div class=\"sk-container\" hidden><div class=\"sk-item\"><div class=\"sk-estimator sk-toggleable\"><input class=\"sk-toggleable__control sk-hidden--visually\" id=\"sk-estimator-id-6\" type=\"checkbox\" checked><label for=\"sk-estimator-id-6\" class=\"sk-toggleable__label sk-toggleable__label-arrow\">DecisionTreeClassifier</label><div class=\"sk-toggleable__content\"><pre>DecisionTreeClassifier(max_depth=3, random_state=0)</pre></div></div></div></div></div>"
            ]
          },
          "metadata": {},
          "execution_count": 81
        }
      ]
    },
    {
      "cell_type": "code",
      "source": [
        "previsao_arvore = arvore.predict(x_teste)"
      ],
      "metadata": {
        "id": "SsFpUTMEGbz4"
      },
      "execution_count": 82,
      "outputs": []
    },
    {
      "cell_type": "code",
      "source": [
        "print('Acurácia: %.2f%%' % (accuracy_score(y_teste, previsao_arvore)*100))"
      ],
      "metadata": {
        "colab": {
          "base_uri": "https://localhost:8080/"
        },
        "id": "mwOpwkK7Gtq2",
        "outputId": "666b8a72-6375-46a3-a805-de504a77deb0"
      },
      "execution_count": 83,
      "outputs": [
        {
          "output_type": "stream",
          "name": "stdout",
          "text": [
            "Acurácia: 94.74%\n"
          ]
        }
      ]
    },
    {
      "cell_type": "code",
      "source": [
        "previsao_arvore_treino = arvore.predict(x_treino)"
      ],
      "metadata": {
        "id": "ZXp2e4uxG_n6"
      },
      "execution_count": 84,
      "outputs": []
    },
    {
      "cell_type": "code",
      "source": [
        "print('Acurácia: %.2f%%' % (accuracy_score(y_treino, previsao_arvore_treino)*100))"
      ],
      "metadata": {
        "colab": {
          "base_uri": "https://localhost:8080/"
        },
        "id": "0TI4hOsZHk8I",
        "outputId": "7bfff90a-99c6-40b5-c4c9-b4395296a158"
      },
      "execution_count": 85,
      "outputs": [
        {
          "output_type": "stream",
          "name": "stdout",
          "text": [
            "Acurácia: 96.73%\n"
          ]
        }
      ]
    },
    {
      "cell_type": "code",
      "source": [
        "confusion_matrix(previsao_arvore_treino, y_treino)"
      ],
      "metadata": {
        "colab": {
          "base_uri": "https://localhost:8080/"
        },
        "id": "0Bt9AkazHoj7",
        "outputId": "6ab0b754-d78f-43e5-82ac-80cc494ef7d1"
      },
      "execution_count": 86,
      "outputs": [
        {
          "output_type": "execute_result",
          "data": {
            "text/plain": [
              "array([[139,   3],\n",
              "       [ 10, 246]])"
            ]
          },
          "metadata": {},
          "execution_count": 86
        }
      ]
    },
    {
      "cell_type": "code",
      "source": [
        "confusion_matrix(previsao_arvore, y_teste)"
      ],
      "metadata": {
        "colab": {
          "base_uri": "https://localhost:8080/"
        },
        "id": "23Hnw-FnH0e5",
        "outputId": "3b61a430-558f-4add-d1c6-d5ee70da27ec"
      },
      "execution_count": 87,
      "outputs": [
        {
          "output_type": "execute_result",
          "data": {
            "text/plain": [
              "array([[ 59,   5],\n",
              "       [  4, 103]])"
            ]
          },
          "metadata": {},
          "execution_count": 87
        }
      ]
    },
    {
      "cell_type": "code",
      "source": [
        "modelo = DecisionTreeClassifier(criterion='gini', max_depth=2, random_state=0)\n",
        "validacao_cruzada = cross_val_score(modelo, preditores, alvo, cv=kfold)\n",
        "print('Acurácia Média: %.2f%%' % (validacao_cruzada.mean()*100))"
      ],
      "metadata": {
        "colab": {
          "base_uri": "https://localhost:8080/"
        },
        "id": "O5R2iaocIDeh",
        "outputId": "19148bcc-c395-405c-d1a2-5d022b60a17d"
      },
      "execution_count": 88,
      "outputs": [
        {
          "output_type": "stream",
          "name": "stdout",
          "text": [
            "Acurácia Média: 91.22%\n"
          ]
        }
      ]
    },
    {
      "cell_type": "markdown",
      "source": [
        "## RandomForest (Floresta Aleatória):"
      ],
      "metadata": {
        "id": "jfIaxJqVI5Qr"
      }
    },
    {
      "cell_type": "code",
      "source": [
        "from sklearn.ensemble import RandomForestClassifier"
      ],
      "metadata": {
        "id": "hwMWfQ2OI8Co"
      },
      "execution_count": 89,
      "outputs": []
    },
    {
      "cell_type": "code",
      "source": [
        "floresta = RandomForestClassifier(criterion='gini', max_depth=3, random_state=0)\n",
        "floresta.fit(x_treino, y_treino)"
      ],
      "metadata": {
        "colab": {
          "base_uri": "https://localhost:8080/",
          "height": 74
        },
        "id": "AHoiyAYLJEf-",
        "outputId": "2e94358a-3832-4b37-ff4c-3c43e3800d72"
      },
      "execution_count": 90,
      "outputs": [
        {
          "output_type": "execute_result",
          "data": {
            "text/plain": [
              "RandomForestClassifier(max_depth=3, random_state=0)"
            ],
            "text/html": [
              "<style>#sk-container-id-7 {color: black;background-color: white;}#sk-container-id-7 pre{padding: 0;}#sk-container-id-7 div.sk-toggleable {background-color: white;}#sk-container-id-7 label.sk-toggleable__label {cursor: pointer;display: block;width: 100%;margin-bottom: 0;padding: 0.3em;box-sizing: border-box;text-align: center;}#sk-container-id-7 label.sk-toggleable__label-arrow:before {content: \"▸\";float: left;margin-right: 0.25em;color: #696969;}#sk-container-id-7 label.sk-toggleable__label-arrow:hover:before {color: black;}#sk-container-id-7 div.sk-estimator:hover label.sk-toggleable__label-arrow:before {color: black;}#sk-container-id-7 div.sk-toggleable__content {max-height: 0;max-width: 0;overflow: hidden;text-align: left;background-color: #f0f8ff;}#sk-container-id-7 div.sk-toggleable__content pre {margin: 0.2em;color: black;border-radius: 0.25em;background-color: #f0f8ff;}#sk-container-id-7 input.sk-toggleable__control:checked~div.sk-toggleable__content {max-height: 200px;max-width: 100%;overflow: auto;}#sk-container-id-7 input.sk-toggleable__control:checked~label.sk-toggleable__label-arrow:before {content: \"▾\";}#sk-container-id-7 div.sk-estimator input.sk-toggleable__control:checked~label.sk-toggleable__label {background-color: #d4ebff;}#sk-container-id-7 div.sk-label input.sk-toggleable__control:checked~label.sk-toggleable__label {background-color: #d4ebff;}#sk-container-id-7 input.sk-hidden--visually {border: 0;clip: rect(1px 1px 1px 1px);clip: rect(1px, 1px, 1px, 1px);height: 1px;margin: -1px;overflow: hidden;padding: 0;position: absolute;width: 1px;}#sk-container-id-7 div.sk-estimator {font-family: monospace;background-color: #f0f8ff;border: 1px dotted black;border-radius: 0.25em;box-sizing: border-box;margin-bottom: 0.5em;}#sk-container-id-7 div.sk-estimator:hover {background-color: #d4ebff;}#sk-container-id-7 div.sk-parallel-item::after {content: \"\";width: 100%;border-bottom: 1px solid gray;flex-grow: 1;}#sk-container-id-7 div.sk-label:hover label.sk-toggleable__label {background-color: #d4ebff;}#sk-container-id-7 div.sk-serial::before {content: \"\";position: absolute;border-left: 1px solid gray;box-sizing: border-box;top: 0;bottom: 0;left: 50%;z-index: 0;}#sk-container-id-7 div.sk-serial {display: flex;flex-direction: column;align-items: center;background-color: white;padding-right: 0.2em;padding-left: 0.2em;position: relative;}#sk-container-id-7 div.sk-item {position: relative;z-index: 1;}#sk-container-id-7 div.sk-parallel {display: flex;align-items: stretch;justify-content: center;background-color: white;position: relative;}#sk-container-id-7 div.sk-item::before, #sk-container-id-7 div.sk-parallel-item::before {content: \"\";position: absolute;border-left: 1px solid gray;box-sizing: border-box;top: 0;bottom: 0;left: 50%;z-index: -1;}#sk-container-id-7 div.sk-parallel-item {display: flex;flex-direction: column;z-index: 1;position: relative;background-color: white;}#sk-container-id-7 div.sk-parallel-item:first-child::after {align-self: flex-end;width: 50%;}#sk-container-id-7 div.sk-parallel-item:last-child::after {align-self: flex-start;width: 50%;}#sk-container-id-7 div.sk-parallel-item:only-child::after {width: 0;}#sk-container-id-7 div.sk-dashed-wrapped {border: 1px dashed gray;margin: 0 0.4em 0.5em 0.4em;box-sizing: border-box;padding-bottom: 0.4em;background-color: white;}#sk-container-id-7 div.sk-label label {font-family: monospace;font-weight: bold;display: inline-block;line-height: 1.2em;}#sk-container-id-7 div.sk-label-container {text-align: center;}#sk-container-id-7 div.sk-container {/* jupyter's `normalize.less` sets `[hidden] { display: none; }` but bootstrap.min.css set `[hidden] { display: none !important; }` so we also need the `!important` here to be able to override the default hidden behavior on the sphinx rendered scikit-learn.org. See: https://github.com/scikit-learn/scikit-learn/issues/21755 */display: inline-block !important;position: relative;}#sk-container-id-7 div.sk-text-repr-fallback {display: none;}</style><div id=\"sk-container-id-7\" class=\"sk-top-container\"><div class=\"sk-text-repr-fallback\"><pre>RandomForestClassifier(max_depth=3, random_state=0)</pre><b>In a Jupyter environment, please rerun this cell to show the HTML representation or trust the notebook. <br />On GitHub, the HTML representation is unable to render, please try loading this page with nbviewer.org.</b></div><div class=\"sk-container\" hidden><div class=\"sk-item\"><div class=\"sk-estimator sk-toggleable\"><input class=\"sk-toggleable__control sk-hidden--visually\" id=\"sk-estimator-id-7\" type=\"checkbox\" checked><label for=\"sk-estimator-id-7\" class=\"sk-toggleable__label sk-toggleable__label-arrow\">RandomForestClassifier</label><div class=\"sk-toggleable__content\"><pre>RandomForestClassifier(max_depth=3, random_state=0)</pre></div></div></div></div></div>"
            ]
          },
          "metadata": {},
          "execution_count": 90
        }
      ]
    },
    {
      "cell_type": "code",
      "source": [
        "previsao_floresta = floresta.predict(x_teste)"
      ],
      "metadata": {
        "id": "Xi6dPF26JQAF"
      },
      "execution_count": 91,
      "outputs": []
    },
    {
      "cell_type": "code",
      "source": [
        "print('Acurácia: %.2f%%'% (accuracy_score(previsao_floresta, y_teste)*100))"
      ],
      "metadata": {
        "colab": {
          "base_uri": "https://localhost:8080/"
        },
        "id": "TkdeCJ1dJU6m",
        "outputId": "387312a2-739b-47a8-a16e-4a0620d5f679"
      },
      "execution_count": 92,
      "outputs": [
        {
          "output_type": "stream",
          "name": "stdout",
          "text": [
            "Acurácia: 95.32%\n"
          ]
        }
      ]
    },
    {
      "cell_type": "code",
      "source": [
        "previsao_floresta_treino = floresta.predict(x_treino)"
      ],
      "metadata": {
        "id": "FE3uyz9NJowO"
      },
      "execution_count": 93,
      "outputs": []
    },
    {
      "cell_type": "code",
      "source": [
        "print('Acurácia: %.2f%%'% (accuracy_score(previsao_floresta_treino, y_treino)*100))"
      ],
      "metadata": {
        "colab": {
          "base_uri": "https://localhost:8080/"
        },
        "id": "18PkmhShJ6Tl",
        "outputId": "47fb10f0-7a37-4a0c-e330-9b2fcf5fae1e"
      },
      "execution_count": 94,
      "outputs": [
        {
          "output_type": "stream",
          "name": "stdout",
          "text": [
            "Acurácia: 97.99%\n"
          ]
        }
      ]
    },
    {
      "cell_type": "code",
      "source": [
        "modelo = RandomForestClassifier(criterion='entropy', max_depth=3, random_state=1)\n",
        "validacao_cruzada = cross_val_score(modelo, preditores, alvo, cv=kfold)\n",
        "print('Acurácia Média: %.2f%%' % (validacao_cruzada.mean()*100))"
      ],
      "metadata": {
        "colab": {
          "base_uri": "https://localhost:8080/"
        },
        "id": "H7-o6gPYJ9EK",
        "outputId": "113dcd1b-8c79-4c4e-edef-13b5ecfbb071"
      },
      "execution_count": 95,
      "outputs": [
        {
          "output_type": "stream",
          "name": "stdout",
          "text": [
            "Acurácia Média: 95.09%\n"
          ]
        }
      ]
    },
    {
      "cell_type": "code",
      "source": [
        "confusion_matrix(previsao_floresta, y_teste)"
      ],
      "metadata": {
        "colab": {
          "base_uri": "https://localhost:8080/"
        },
        "id": "pyRgAH88K8Xt",
        "outputId": "36e29876-a339-4c65-bc15-b900d2b61289"
      },
      "execution_count": 96,
      "outputs": [
        {
          "output_type": "execute_result",
          "data": {
            "text/plain": [
              "array([[ 59,   4],\n",
              "       [  4, 104]])"
            ]
          },
          "metadata": {},
          "execution_count": 96
        }
      ]
    },
    {
      "cell_type": "markdown",
      "source": [
        "## KNN:"
      ],
      "metadata": {
        "id": "hOAiDsqMMQ5U"
      }
    },
    {
      "cell_type": "code",
      "source": [
        "from sklearn.neighbors import KNeighborsClassifier"
      ],
      "metadata": {
        "id": "UG8UM89LMSCg"
      },
      "execution_count": 97,
      "outputs": []
    },
    {
      "cell_type": "code",
      "source": [
        "knn = KNeighborsClassifier(n_neighbors=4, p=1)\n",
        "knn.fit(x_treino, y_treino)"
      ],
      "metadata": {
        "colab": {
          "base_uri": "https://localhost:8080/",
          "height": 74
        },
        "id": "H4rucZYsMeRS",
        "outputId": "b2a95d70-80fa-45d2-e210-cfbb6392ffce"
      },
      "execution_count": 118,
      "outputs": [
        {
          "output_type": "execute_result",
          "data": {
            "text/plain": [
              "KNeighborsClassifier(n_neighbors=4, p=1)"
            ],
            "text/html": [
              "<style>#sk-container-id-13 {color: black;background-color: white;}#sk-container-id-13 pre{padding: 0;}#sk-container-id-13 div.sk-toggleable {background-color: white;}#sk-container-id-13 label.sk-toggleable__label {cursor: pointer;display: block;width: 100%;margin-bottom: 0;padding: 0.3em;box-sizing: border-box;text-align: center;}#sk-container-id-13 label.sk-toggleable__label-arrow:before {content: \"▸\";float: left;margin-right: 0.25em;color: #696969;}#sk-container-id-13 label.sk-toggleable__label-arrow:hover:before {color: black;}#sk-container-id-13 div.sk-estimator:hover label.sk-toggleable__label-arrow:before {color: black;}#sk-container-id-13 div.sk-toggleable__content {max-height: 0;max-width: 0;overflow: hidden;text-align: left;background-color: #f0f8ff;}#sk-container-id-13 div.sk-toggleable__content pre {margin: 0.2em;color: black;border-radius: 0.25em;background-color: #f0f8ff;}#sk-container-id-13 input.sk-toggleable__control:checked~div.sk-toggleable__content {max-height: 200px;max-width: 100%;overflow: auto;}#sk-container-id-13 input.sk-toggleable__control:checked~label.sk-toggleable__label-arrow:before {content: \"▾\";}#sk-container-id-13 div.sk-estimator input.sk-toggleable__control:checked~label.sk-toggleable__label {background-color: #d4ebff;}#sk-container-id-13 div.sk-label input.sk-toggleable__control:checked~label.sk-toggleable__label {background-color: #d4ebff;}#sk-container-id-13 input.sk-hidden--visually {border: 0;clip: rect(1px 1px 1px 1px);clip: rect(1px, 1px, 1px, 1px);height: 1px;margin: -1px;overflow: hidden;padding: 0;position: absolute;width: 1px;}#sk-container-id-13 div.sk-estimator {font-family: monospace;background-color: #f0f8ff;border: 1px dotted black;border-radius: 0.25em;box-sizing: border-box;margin-bottom: 0.5em;}#sk-container-id-13 div.sk-estimator:hover {background-color: #d4ebff;}#sk-container-id-13 div.sk-parallel-item::after {content: \"\";width: 100%;border-bottom: 1px solid gray;flex-grow: 1;}#sk-container-id-13 div.sk-label:hover label.sk-toggleable__label {background-color: #d4ebff;}#sk-container-id-13 div.sk-serial::before {content: \"\";position: absolute;border-left: 1px solid gray;box-sizing: border-box;top: 0;bottom: 0;left: 50%;z-index: 0;}#sk-container-id-13 div.sk-serial {display: flex;flex-direction: column;align-items: center;background-color: white;padding-right: 0.2em;padding-left: 0.2em;position: relative;}#sk-container-id-13 div.sk-item {position: relative;z-index: 1;}#sk-container-id-13 div.sk-parallel {display: flex;align-items: stretch;justify-content: center;background-color: white;position: relative;}#sk-container-id-13 div.sk-item::before, #sk-container-id-13 div.sk-parallel-item::before {content: \"\";position: absolute;border-left: 1px solid gray;box-sizing: border-box;top: 0;bottom: 0;left: 50%;z-index: -1;}#sk-container-id-13 div.sk-parallel-item {display: flex;flex-direction: column;z-index: 1;position: relative;background-color: white;}#sk-container-id-13 div.sk-parallel-item:first-child::after {align-self: flex-end;width: 50%;}#sk-container-id-13 div.sk-parallel-item:last-child::after {align-self: flex-start;width: 50%;}#sk-container-id-13 div.sk-parallel-item:only-child::after {width: 0;}#sk-container-id-13 div.sk-dashed-wrapped {border: 1px dashed gray;margin: 0 0.4em 0.5em 0.4em;box-sizing: border-box;padding-bottom: 0.4em;background-color: white;}#sk-container-id-13 div.sk-label label {font-family: monospace;font-weight: bold;display: inline-block;line-height: 1.2em;}#sk-container-id-13 div.sk-label-container {text-align: center;}#sk-container-id-13 div.sk-container {/* jupyter's `normalize.less` sets `[hidden] { display: none; }` but bootstrap.min.css set `[hidden] { display: none !important; }` so we also need the `!important` here to be able to override the default hidden behavior on the sphinx rendered scikit-learn.org. See: https://github.com/scikit-learn/scikit-learn/issues/21755 */display: inline-block !important;position: relative;}#sk-container-id-13 div.sk-text-repr-fallback {display: none;}</style><div id=\"sk-container-id-13\" class=\"sk-top-container\"><div class=\"sk-text-repr-fallback\"><pre>KNeighborsClassifier(n_neighbors=4, p=1)</pre><b>In a Jupyter environment, please rerun this cell to show the HTML representation or trust the notebook. <br />On GitHub, the HTML representation is unable to render, please try loading this page with nbviewer.org.</b></div><div class=\"sk-container\" hidden><div class=\"sk-item\"><div class=\"sk-estimator sk-toggleable\"><input class=\"sk-toggleable__control sk-hidden--visually\" id=\"sk-estimator-id-13\" type=\"checkbox\" checked><label for=\"sk-estimator-id-13\" class=\"sk-toggleable__label sk-toggleable__label-arrow\">KNeighborsClassifier</label><div class=\"sk-toggleable__content\"><pre>KNeighborsClassifier(n_neighbors=4, p=1)</pre></div></div></div></div></div>"
            ]
          },
          "metadata": {},
          "execution_count": 118
        }
      ]
    },
    {
      "cell_type": "code",
      "source": [
        "previsao_knn = knn.predict(x_teste)"
      ],
      "metadata": {
        "id": "Zogihs-CMn75"
      },
      "execution_count": 119,
      "outputs": []
    },
    {
      "cell_type": "code",
      "source": [
        "print('Acurácia: %.2f%%'% (accuracy_score(previsao_knn, y_teste)*100))"
      ],
      "metadata": {
        "colab": {
          "base_uri": "https://localhost:8080/"
        },
        "id": "qWWFduCsMr_H",
        "outputId": "396d474e-2869-40fb-8a5e-305633a75908"
      },
      "execution_count": 120,
      "outputs": [
        {
          "output_type": "stream",
          "name": "stdout",
          "text": [
            "Acurácia: 95.91%\n"
          ]
        }
      ]
    },
    {
      "cell_type": "code",
      "source": [
        "previsao_knn_treino = knn.predict(x_treino)"
      ],
      "metadata": {
        "id": "FomtbIU1M2c9"
      },
      "execution_count": 121,
      "outputs": []
    },
    {
      "cell_type": "code",
      "source": [
        "print('Acurácia: %.2f%%'% (accuracy_score(previsao_knn_treino, y_treino)*100))"
      ],
      "metadata": {
        "colab": {
          "base_uri": "https://localhost:8080/"
        },
        "id": "HQNMZuk9NWbv",
        "outputId": "523e8e14-5937-4564-f345-e69e73214c46"
      },
      "execution_count": 102,
      "outputs": [
        {
          "output_type": "stream",
          "name": "stdout",
          "text": [
            "Acurácia: 96.73%\n"
          ]
        }
      ]
    },
    {
      "cell_type": "code",
      "source": [
        "modelo = KNeighborsClassifier(n_neighbors=11, p=1)\n",
        "validacao_cruzada = cross_val_score(modelo, preditores, alvo, cv=kfold)\n",
        "print('Acurácia Média: %.2f%%' % (validacao_cruzada.mean()*100))"
      ],
      "metadata": {
        "colab": {
          "base_uri": "https://localhost:8080/"
        },
        "id": "iEajU4_tNY1g",
        "outputId": "18e32ab3-6d43-42d5-b8ad-4113a79939b2"
      },
      "execution_count": 103,
      "outputs": [
        {
          "output_type": "stream",
          "name": "stdout",
          "text": [
            "Acurácia Média: 93.66%\n"
          ]
        }
      ]
    },
    {
      "cell_type": "code",
      "source": [
        "confusion_matrix(previsao_knn, y_teste)"
      ],
      "metadata": {
        "colab": {
          "base_uri": "https://localhost:8080/"
        },
        "id": "akBtiLDnNg-i",
        "outputId": "45000813-911c-447b-8234-e17530fbf91a"
      },
      "execution_count": 104,
      "outputs": [
        {
          "output_type": "execute_result",
          "data": {
            "text/plain": [
              "array([[ 57,   1],\n",
              "       [  6, 107]])"
            ]
          },
          "metadata": {},
          "execution_count": 104
        }
      ]
    },
    {
      "cell_type": "markdown",
      "source": [
        "## XGBoost:"
      ],
      "metadata": {
        "id": "fE4CQP7cN5Aa"
      }
    },
    {
      "cell_type": "code",
      "source": [
        "from xgboost import XGBClassifier"
      ],
      "metadata": {
        "id": "BBPo1DHzN8e4"
      },
      "execution_count": 122,
      "outputs": []
    },
    {
      "cell_type": "code",
      "source": [
        "xgb = XGBClassifier(random_state=0, max_depth=1, objective='binary:logistic', n_estimators=50)\n",
        "xgb.fit(x_treino, y_treino)"
      ],
      "metadata": {
        "colab": {
          "base_uri": "https://localhost:8080/",
          "height": 248
        },
        "id": "dPjHO4DjOALV",
        "outputId": "7bbe9d21-9096-4313-cdd2-8b8617076f03"
      },
      "execution_count": 123,
      "outputs": [
        {
          "output_type": "execute_result",
          "data": {
            "text/plain": [
              "XGBClassifier(base_score=None, booster=None, callbacks=None,\n",
              "              colsample_bylevel=None, colsample_bynode=None,\n",
              "              colsample_bytree=None, early_stopping_rounds=None,\n",
              "              enable_categorical=False, eval_metric=None, feature_types=None,\n",
              "              gamma=None, gpu_id=None, grow_policy=None, importance_type=None,\n",
              "              interaction_constraints=None, learning_rate=None, max_bin=None,\n",
              "              max_cat_threshold=None, max_cat_to_onehot=None,\n",
              "              max_delta_step=None, max_depth=1, max_leaves=None,\n",
              "              min_child_weight=None, missing=nan, monotone_constraints=None,\n",
              "              n_estimators=50, n_jobs=None, num_parallel_tree=None,\n",
              "              predictor=None, random_state=0, ...)"
            ],
            "text/html": [
              "<style>#sk-container-id-14 {color: black;background-color: white;}#sk-container-id-14 pre{padding: 0;}#sk-container-id-14 div.sk-toggleable {background-color: white;}#sk-container-id-14 label.sk-toggleable__label {cursor: pointer;display: block;width: 100%;margin-bottom: 0;padding: 0.3em;box-sizing: border-box;text-align: center;}#sk-container-id-14 label.sk-toggleable__label-arrow:before {content: \"▸\";float: left;margin-right: 0.25em;color: #696969;}#sk-container-id-14 label.sk-toggleable__label-arrow:hover:before {color: black;}#sk-container-id-14 div.sk-estimator:hover label.sk-toggleable__label-arrow:before {color: black;}#sk-container-id-14 div.sk-toggleable__content {max-height: 0;max-width: 0;overflow: hidden;text-align: left;background-color: #f0f8ff;}#sk-container-id-14 div.sk-toggleable__content pre {margin: 0.2em;color: black;border-radius: 0.25em;background-color: #f0f8ff;}#sk-container-id-14 input.sk-toggleable__control:checked~div.sk-toggleable__content {max-height: 200px;max-width: 100%;overflow: auto;}#sk-container-id-14 input.sk-toggleable__control:checked~label.sk-toggleable__label-arrow:before {content: \"▾\";}#sk-container-id-14 div.sk-estimator input.sk-toggleable__control:checked~label.sk-toggleable__label {background-color: #d4ebff;}#sk-container-id-14 div.sk-label input.sk-toggleable__control:checked~label.sk-toggleable__label {background-color: #d4ebff;}#sk-container-id-14 input.sk-hidden--visually {border: 0;clip: rect(1px 1px 1px 1px);clip: rect(1px, 1px, 1px, 1px);height: 1px;margin: -1px;overflow: hidden;padding: 0;position: absolute;width: 1px;}#sk-container-id-14 div.sk-estimator {font-family: monospace;background-color: #f0f8ff;border: 1px dotted black;border-radius: 0.25em;box-sizing: border-box;margin-bottom: 0.5em;}#sk-container-id-14 div.sk-estimator:hover {background-color: #d4ebff;}#sk-container-id-14 div.sk-parallel-item::after {content: \"\";width: 100%;border-bottom: 1px solid gray;flex-grow: 1;}#sk-container-id-14 div.sk-label:hover label.sk-toggleable__label {background-color: #d4ebff;}#sk-container-id-14 div.sk-serial::before {content: \"\";position: absolute;border-left: 1px solid gray;box-sizing: border-box;top: 0;bottom: 0;left: 50%;z-index: 0;}#sk-container-id-14 div.sk-serial {display: flex;flex-direction: column;align-items: center;background-color: white;padding-right: 0.2em;padding-left: 0.2em;position: relative;}#sk-container-id-14 div.sk-item {position: relative;z-index: 1;}#sk-container-id-14 div.sk-parallel {display: flex;align-items: stretch;justify-content: center;background-color: white;position: relative;}#sk-container-id-14 div.sk-item::before, #sk-container-id-14 div.sk-parallel-item::before {content: \"\";position: absolute;border-left: 1px solid gray;box-sizing: border-box;top: 0;bottom: 0;left: 50%;z-index: -1;}#sk-container-id-14 div.sk-parallel-item {display: flex;flex-direction: column;z-index: 1;position: relative;background-color: white;}#sk-container-id-14 div.sk-parallel-item:first-child::after {align-self: flex-end;width: 50%;}#sk-container-id-14 div.sk-parallel-item:last-child::after {align-self: flex-start;width: 50%;}#sk-container-id-14 div.sk-parallel-item:only-child::after {width: 0;}#sk-container-id-14 div.sk-dashed-wrapped {border: 1px dashed gray;margin: 0 0.4em 0.5em 0.4em;box-sizing: border-box;padding-bottom: 0.4em;background-color: white;}#sk-container-id-14 div.sk-label label {font-family: monospace;font-weight: bold;display: inline-block;line-height: 1.2em;}#sk-container-id-14 div.sk-label-container {text-align: center;}#sk-container-id-14 div.sk-container {/* jupyter's `normalize.less` sets `[hidden] { display: none; }` but bootstrap.min.css set `[hidden] { display: none !important; }` so we also need the `!important` here to be able to override the default hidden behavior on the sphinx rendered scikit-learn.org. See: https://github.com/scikit-learn/scikit-learn/issues/21755 */display: inline-block !important;position: relative;}#sk-container-id-14 div.sk-text-repr-fallback {display: none;}</style><div id=\"sk-container-id-14\" class=\"sk-top-container\"><div class=\"sk-text-repr-fallback\"><pre>XGBClassifier(base_score=None, booster=None, callbacks=None,\n",
              "              colsample_bylevel=None, colsample_bynode=None,\n",
              "              colsample_bytree=None, early_stopping_rounds=None,\n",
              "              enable_categorical=False, eval_metric=None, feature_types=None,\n",
              "              gamma=None, gpu_id=None, grow_policy=None, importance_type=None,\n",
              "              interaction_constraints=None, learning_rate=None, max_bin=None,\n",
              "              max_cat_threshold=None, max_cat_to_onehot=None,\n",
              "              max_delta_step=None, max_depth=1, max_leaves=None,\n",
              "              min_child_weight=None, missing=nan, monotone_constraints=None,\n",
              "              n_estimators=50, n_jobs=None, num_parallel_tree=None,\n",
              "              predictor=None, random_state=0, ...)</pre><b>In a Jupyter environment, please rerun this cell to show the HTML representation or trust the notebook. <br />On GitHub, the HTML representation is unable to render, please try loading this page with nbviewer.org.</b></div><div class=\"sk-container\" hidden><div class=\"sk-item\"><div class=\"sk-estimator sk-toggleable\"><input class=\"sk-toggleable__control sk-hidden--visually\" id=\"sk-estimator-id-14\" type=\"checkbox\" checked><label for=\"sk-estimator-id-14\" class=\"sk-toggleable__label sk-toggleable__label-arrow\">XGBClassifier</label><div class=\"sk-toggleable__content\"><pre>XGBClassifier(base_score=None, booster=None, callbacks=None,\n",
              "              colsample_bylevel=None, colsample_bynode=None,\n",
              "              colsample_bytree=None, early_stopping_rounds=None,\n",
              "              enable_categorical=False, eval_metric=None, feature_types=None,\n",
              "              gamma=None, gpu_id=None, grow_policy=None, importance_type=None,\n",
              "              interaction_constraints=None, learning_rate=None, max_bin=None,\n",
              "              max_cat_threshold=None, max_cat_to_onehot=None,\n",
              "              max_delta_step=None, max_depth=1, max_leaves=None,\n",
              "              min_child_weight=None, missing=nan, monotone_constraints=None,\n",
              "              n_estimators=50, n_jobs=None, num_parallel_tree=None,\n",
              "              predictor=None, random_state=0, ...)</pre></div></div></div></div></div>"
            ]
          },
          "metadata": {},
          "execution_count": 123
        }
      ]
    },
    {
      "cell_type": "code",
      "source": [
        "previsao_xgb = xgb.predict(x_teste)"
      ],
      "metadata": {
        "id": "bvVyVu6rOG2C"
      },
      "execution_count": 124,
      "outputs": []
    },
    {
      "cell_type": "code",
      "source": [
        "print('Acurácia: %.2f%%'% (accuracy_score(previsao_xgb, y_teste)*100))"
      ],
      "metadata": {
        "colab": {
          "base_uri": "https://localhost:8080/"
        },
        "id": "rX9KPMtIOSnl",
        "outputId": "814f69d7-bfa0-4699-cd89-1dddae670eb1"
      },
      "execution_count": 125,
      "outputs": [
        {
          "output_type": "stream",
          "name": "stdout",
          "text": [
            "Acurácia: 97.66%\n"
          ]
        }
      ]
    },
    {
      "cell_type": "code",
      "source": [
        "previsao_xgb_treino = xgb.predict(x_treino)"
      ],
      "metadata": {
        "id": "EVHdCS8TOWZj"
      },
      "execution_count": 126,
      "outputs": []
    },
    {
      "cell_type": "code",
      "source": [
        "print('Acurácia: %.2f%%'% (accuracy_score(previsao_xgb_treino, y_treino)*100))"
      ],
      "metadata": {
        "colab": {
          "base_uri": "https://localhost:8080/"
        },
        "id": "AUeoe7FuOcVc",
        "outputId": "88e6278c-400c-4396-b190-c6bfc4d1a149"
      },
      "execution_count": 127,
      "outputs": [
        {
          "output_type": "stream",
          "name": "stdout",
          "text": [
            "Acurácia: 98.99%\n"
          ]
        }
      ]
    },
    {
      "cell_type": "code",
      "source": [
        "modelo = XGBClassifier(random_state=0, max_depth=1, objective='binary:logistic', n_estimators=50, learning_rate=0.05)\n",
        "validacao_cruzada = cross_val_score(modelo, preditores, alvo, cv=kfold)\n",
        "print('Acurácia Média: %.2f%%' % (validacao_cruzada.mean()*100))\n",
        "for valor in validacao_cruzada:\n",
        "    print(f'{valor*100:.2f}')"
      ],
      "metadata": {
        "colab": {
          "base_uri": "https://localhost:8080/"
        },
        "id": "nWzbpt7POe3w",
        "outputId": "5371783d-97a1-4cc1-dacf-3c2964211cf0"
      },
      "execution_count": 128,
      "outputs": [
        {
          "output_type": "stream",
          "name": "stdout",
          "text": [
            "Acurácia Média: 92.98%\n",
            "89.47\n",
            "100.00\n",
            "94.74\n",
            "89.47\n",
            "89.47\n",
            "94.74\n",
            "89.47\n",
            "84.21\n",
            "84.21\n",
            "89.47\n",
            "89.47\n",
            "100.00\n",
            "89.47\n",
            "94.74\n",
            "94.74\n",
            "94.74\n",
            "89.47\n",
            "94.74\n",
            "100.00\n",
            "100.00\n",
            "89.47\n",
            "94.74\n",
            "100.00\n",
            "84.21\n",
            "89.47\n",
            "100.00\n",
            "100.00\n",
            "89.47\n",
            "89.47\n",
            "100.00\n"
          ]
        }
      ]
    },
    {
      "cell_type": "code",
      "source": [
        "confusion_matrix(previsao_xgb, y_teste)"
      ],
      "metadata": {
        "colab": {
          "base_uri": "https://localhost:8080/"
        },
        "id": "es-UoxznPZpq",
        "outputId": "beb40414-4713-4072-c029-b8c00c425cbd"
      },
      "execution_count": 129,
      "outputs": [
        {
          "output_type": "execute_result",
          "data": {
            "text/plain": [
              "array([[ 60,   1],\n",
              "       [  3, 107]])"
            ]
          },
          "metadata": {},
          "execution_count": 129
        }
      ]
    },
    {
      "cell_type": "code",
      "source": [
        "confusion_matrix(previsao_xgb_treino, y_treino)"
      ],
      "metadata": {
        "colab": {
          "base_uri": "https://localhost:8080/"
        },
        "id": "rXPPL0uKQL3S",
        "outputId": "0052950e-061a-4b5f-ef86-9bddd598e999"
      },
      "execution_count": 130,
      "outputs": [
        {
          "output_type": "execute_result",
          "data": {
            "text/plain": [
              "array([[145,   0],\n",
              "       [  4, 249]])"
            ]
          },
          "metadata": {},
          "execution_count": 130
        }
      ]
    },
    {
      "cell_type": "code",
      "source": [
        "print(classification_report(previsao_xgb, y_teste))"
      ],
      "metadata": {
        "colab": {
          "base_uri": "https://localhost:8080/"
        },
        "id": "o1oSLxV9nIW3",
        "outputId": "f1a2b631-9173-4e29-b9cd-280f47348260"
      },
      "execution_count": 131,
      "outputs": [
        {
          "output_type": "stream",
          "name": "stdout",
          "text": [
            "              precision    recall  f1-score   support\n",
            "\n",
            "           0       0.95      0.98      0.97        61\n",
            "           1       0.99      0.97      0.98       110\n",
            "\n",
            "    accuracy                           0.98       171\n",
            "   macro avg       0.97      0.98      0.97       171\n",
            "weighted avg       0.98      0.98      0.98       171\n",
            "\n"
          ]
        }
      ]
    },
    {
      "cell_type": "code",
      "source": [
        "print(classification_report(previsao_xgb_treino, y_treino))"
      ],
      "metadata": {
        "colab": {
          "base_uri": "https://localhost:8080/"
        },
        "id": "_SSko_wrn2ra",
        "outputId": "96893cc7-810c-41f6-ccc2-06cc5d59b69b"
      },
      "execution_count": 132,
      "outputs": [
        {
          "output_type": "stream",
          "name": "stdout",
          "text": [
            "              precision    recall  f1-score   support\n",
            "\n",
            "           0       0.97      1.00      0.99       145\n",
            "           1       1.00      0.98      0.99       253\n",
            "\n",
            "    accuracy                           0.99       398\n",
            "   macro avg       0.99      0.99      0.99       398\n",
            "weighted avg       0.99      0.99      0.99       398\n",
            "\n"
          ]
        }
      ]
    },
    {
      "cell_type": "markdown",
      "source": [
        "## LGBM:"
      ],
      "metadata": {
        "id": "yIpwUYVybxht"
      }
    },
    {
      "cell_type": "code",
      "source": [
        "import lightgbm as lgb"
      ],
      "metadata": {
        "id": "iIB-dCT4b5UP"
      },
      "execution_count": 133,
      "outputs": []
    },
    {
      "cell_type": "code",
      "source": [
        "dataset = lgb.Dataset(x_treino, label=y_treino)"
      ],
      "metadata": {
        "id": "CBV3Tu7fb_CT"
      },
      "execution_count": 134,
      "outputs": []
    },
    {
      "cell_type": "code",
      "source": [
        "parametros = {'num_leaves':100,\n",
        "              'objective':'binary',\n",
        "              'max_depth':2,\n",
        "              'learning_rate':0.05,\n",
        "              'max_bin':150\n",
        "\n",
        "} "
      ],
      "metadata": {
        "id": "d7NgZCQ0cgBt"
      },
      "execution_count": 135,
      "outputs": []
    },
    {
      "cell_type": "code",
      "source": [
        "lgbm = lgb.train(parametros, dataset, num_boost_round=150)"
      ],
      "metadata": {
        "id": "gq0u8dRqdD_U"
      },
      "execution_count": 136,
      "outputs": []
    },
    {
      "cell_type": "code",
      "source": [
        "previsao_lgbm = lgbm.predict(x_teste)\n",
        "previsao_lgbm.shape"
      ],
      "metadata": {
        "colab": {
          "base_uri": "https://localhost:8080/"
        },
        "id": "W4PujX0VdR05",
        "outputId": "b3f6d901-e69c-4b82-bf3c-98992ac7dff0"
      },
      "execution_count": 137,
      "outputs": [
        {
          "output_type": "execute_result",
          "data": {
            "text/plain": [
              "(171,)"
            ]
          },
          "metadata": {},
          "execution_count": 137
        }
      ]
    },
    {
      "cell_type": "code",
      "source": [
        "for i in range(0, 171):\n",
        "    if previsao_lgbm[i] >= 0.5:\n",
        "        previsao_lgbm[i] = 1\n",
        "    else:\n",
        "        previsao_lgbm[i] = 0\n",
        "previsao_lgbm"
      ],
      "metadata": {
        "id": "uV3EiKK4dvX7",
        "colab": {
          "base_uri": "https://localhost:8080/"
        },
        "outputId": "599174b7-afc2-4411-8f9f-9a191fd90459"
      },
      "execution_count": 138,
      "outputs": [
        {
          "output_type": "execute_result",
          "data": {
            "text/plain": [
              "array([0., 1., 1., 1., 1., 1., 1., 1., 1., 1., 1., 1., 1., 0., 1., 0., 1.,\n",
              "       0., 0., 0., 0., 0., 1., 1., 0., 1., 1., 0., 1., 0., 1., 0., 1., 0.,\n",
              "       1., 0., 1., 0., 1., 0., 0., 1., 0., 1., 1., 0., 1., 1., 1., 0., 0.,\n",
              "       0., 0., 1., 1., 1., 1., 1., 1., 0., 0., 0., 1., 1., 0., 1., 0., 0.,\n",
              "       0., 1., 1., 0., 1., 0., 0., 1., 1., 1., 1., 1., 0., 0., 0., 1., 0.,\n",
              "       1., 1., 1., 0., 0., 1., 1., 1., 0., 1., 1., 0., 1., 1., 1., 1., 1.,\n",
              "       1., 1., 0., 1., 0., 1., 1., 0., 1., 0., 0., 1., 1., 1., 1., 1., 1.,\n",
              "       1., 1., 1., 0., 1., 0., 1., 1., 1., 1., 1., 0., 1., 1., 1., 1., 1.,\n",
              "       1., 0., 0., 1., 1., 1., 0., 1., 1., 0., 1., 1., 1., 1., 1., 0., 1.,\n",
              "       1., 1., 0., 1., 0., 1., 0., 0., 1., 1., 0., 1., 0., 0., 0., 1., 1.,\n",
              "       1.])"
            ]
          },
          "metadata": {},
          "execution_count": 138
        }
      ]
    },
    {
      "cell_type": "code",
      "source": [
        "print('Acurácia: %.2f%%'% (accuracy_score(previsao_lgbm, y_teste)*100))"
      ],
      "metadata": {
        "colab": {
          "base_uri": "https://localhost:8080/"
        },
        "id": "kAMqElczeK1p",
        "outputId": "08176e84-6ba1-4b34-b935-688b83ee44b7"
      },
      "execution_count": 139,
      "outputs": [
        {
          "output_type": "stream",
          "name": "stdout",
          "text": [
            "Acurácia: 97.08%\n"
          ]
        }
      ]
    },
    {
      "cell_type": "code",
      "source": [
        "previsao_lgbm_treino = lgbm.predict(x_treino)\n",
        "previsao_lgbm_treino.shape"
      ],
      "metadata": {
        "colab": {
          "base_uri": "https://localhost:8080/"
        },
        "id": "C8zMgNQHeZQ4",
        "outputId": "95c90c42-7105-4b6f-d53d-40b09082a9d7"
      },
      "execution_count": 140,
      "outputs": [
        {
          "output_type": "execute_result",
          "data": {
            "text/plain": [
              "(398,)"
            ]
          },
          "metadata": {},
          "execution_count": 140
        }
      ]
    },
    {
      "cell_type": "code",
      "source": [
        "for i in range(0, 398):\n",
        "    if previsao_lgbm_treino[i] >= 0.5:\n",
        "        previsao_lgbm_treino[i] = 1\n",
        "    else:\n",
        "        previsao_lgbm_treino[i] = 0"
      ],
      "metadata": {
        "id": "-MOi7PU5fQTM"
      },
      "execution_count": 141,
      "outputs": []
    },
    {
      "cell_type": "code",
      "source": [
        "print('Acurácia: %.2f%%'% (accuracy_score(previsao_lgbm_treino, y_treino)*100))"
      ],
      "metadata": {
        "colab": {
          "base_uri": "https://localhost:8080/"
        },
        "id": "7Uawe0VKffJ8",
        "outputId": "d14aba2d-c2a3-4f62-c4be-439af727d801"
      },
      "execution_count": 142,
      "outputs": [
        {
          "output_type": "stream",
          "name": "stdout",
          "text": [
            "Acurácia: 99.50%\n"
          ]
        }
      ]
    },
    {
      "cell_type": "code",
      "source": [
        "from lightgbm.sklearn import LGBMClassifier\n",
        "modelo = LGBMClassifier(num_leaves=100, objective='binary', max_depth=2, learning_rate=0.05, max_bin=150)\n",
        "validacao_cruzada = cross_val_score(modelo, preditores, alvo, cv=kfold)\n",
        "print('Acurácia Média: %.2f%%' % (validacao_cruzada.mean()*100))"
      ],
      "metadata": {
        "colab": {
          "base_uri": "https://localhost:8080/"
        },
        "id": "gdODuyOffh-p",
        "outputId": "8b6a8628-e491-42f7-af4b-4e727572f7ed"
      },
      "execution_count": 143,
      "outputs": [
        {
          "output_type": "stream",
          "name": "stdout",
          "text": [
            "Acurácia Média: 95.79%\n"
          ]
        }
      ]
    },
    {
      "cell_type": "code",
      "source": [
        "confusion_matrix(previsao_lgbm, y_teste)"
      ],
      "metadata": {
        "colab": {
          "base_uri": "https://localhost:8080/"
        },
        "id": "Tj5YSODjgLik",
        "outputId": "8ae4ca8d-f137-4a46-9c9c-6ea5fd0bf3f7"
      },
      "execution_count": 144,
      "outputs": [
        {
          "output_type": "execute_result",
          "data": {
            "text/plain": [
              "array([[ 60,   2],\n",
              "       [  3, 106]])"
            ]
          },
          "metadata": {},
          "execution_count": 144
        }
      ]
    },
    {
      "cell_type": "markdown",
      "source": [
        "## Catboost:"
      ],
      "metadata": {
        "id": "thapMzGghHq3"
      }
    },
    {
      "cell_type": "code",
      "source": [
        "!pip install catboost"
      ],
      "metadata": {
        "colab": {
          "base_uri": "https://localhost:8080/"
        },
        "id": "hQ_zZMd2hLvT",
        "outputId": "eb200010-12a4-458c-f569-aa6cb323b021"
      },
      "execution_count": 159,
      "outputs": [
        {
          "output_type": "stream",
          "name": "stdout",
          "text": [
            "Looking in indexes: https://pypi.org/simple, https://us-python.pkg.dev/colab-wheels/public/simple/\n",
            "Requirement already satisfied: catboost in /usr/local/lib/python3.9/dist-packages (1.1.1)\n",
            "Requirement already satisfied: plotly in /usr/local/lib/python3.9/dist-packages (from catboost) (5.5.0)\n",
            "Requirement already satisfied: pandas>=0.24.0 in /usr/local/lib/python3.9/dist-packages (from catboost) (1.3.5)\n",
            "Requirement already satisfied: six in /usr/local/lib/python3.9/dist-packages (from catboost) (1.15.0)\n",
            "Requirement already satisfied: scipy in /usr/local/lib/python3.9/dist-packages (from catboost) (1.10.1)\n",
            "Requirement already satisfied: graphviz in /usr/local/lib/python3.9/dist-packages (from catboost) (0.10.1)\n",
            "Requirement already satisfied: numpy>=1.16.0 in /usr/local/lib/python3.9/dist-packages (from catboost) (1.22.4)\n",
            "Requirement already satisfied: matplotlib in /usr/local/lib/python3.9/dist-packages (from catboost) (3.5.3)\n",
            "Requirement already satisfied: pytz>=2017.3 in /usr/local/lib/python3.9/dist-packages (from pandas>=0.24.0->catboost) (2022.7.1)\n",
            "Requirement already satisfied: python-dateutil>=2.7.3 in /usr/local/lib/python3.9/dist-packages (from pandas>=0.24.0->catboost) (2.8.2)\n",
            "Requirement already satisfied: cycler>=0.10 in /usr/local/lib/python3.9/dist-packages (from matplotlib->catboost) (0.11.0)\n",
            "Requirement already satisfied: packaging>=20.0 in /usr/local/lib/python3.9/dist-packages (from matplotlib->catboost) (23.0)\n",
            "Requirement already satisfied: pyparsing>=2.2.1 in /usr/local/lib/python3.9/dist-packages (from matplotlib->catboost) (3.0.9)\n",
            "Requirement already satisfied: kiwisolver>=1.0.1 in /usr/local/lib/python3.9/dist-packages (from matplotlib->catboost) (1.4.4)\n",
            "Requirement already satisfied: pillow>=6.2.0 in /usr/local/lib/python3.9/dist-packages (from matplotlib->catboost) (8.4.0)\n",
            "Requirement already satisfied: fonttools>=4.22.0 in /usr/local/lib/python3.9/dist-packages (from matplotlib->catboost) (4.39.0)\n",
            "Requirement already satisfied: tenacity>=6.2.0 in /usr/local/lib/python3.9/dist-packages (from plotly->catboost) (8.2.2)\n"
          ]
        }
      ]
    },
    {
      "cell_type": "code",
      "source": [
        "from catboost import CatBoostClassifier"
      ],
      "metadata": {
        "id": "H-_bHtbAhgAi"
      },
      "execution_count": 160,
      "outputs": []
    },
    {
      "cell_type": "code",
      "source": [
        "preditores_catboost = df_copy.drop('diagnosis', axis=1)"
      ],
      "metadata": {
        "id": "LWiTzPL0hkLq"
      },
      "execution_count": 161,
      "outputs": []
    },
    {
      "cell_type": "code",
      "source": [
        "preditores_catboost"
      ],
      "metadata": {
        "colab": {
          "base_uri": "https://localhost:8080/",
          "height": 505
        },
        "id": "Osk8d6Vmhv3C",
        "outputId": "9f63b562-28e4-45c8-8d4e-4875ac38bb99"
      },
      "execution_count": 162,
      "outputs": [
        {
          "output_type": "execute_result",
          "data": {
            "text/plain": [
              "     radius_mean  texture_mean  perimeter_mean  area_mean  smoothness_mean  \\\n",
              "0          17.99         10.38          122.80     1001.0          0.11840   \n",
              "1          20.57         17.77          132.90     1326.0          0.08474   \n",
              "2          19.69         21.25          130.00     1203.0          0.10960   \n",
              "3          11.42         20.38           77.58      386.1          0.14250   \n",
              "4          20.29         14.34          135.10     1297.0          0.10030   \n",
              "..           ...           ...             ...        ...              ...   \n",
              "564        21.56         22.39          142.00     1479.0          0.11100   \n",
              "565        20.13         28.25          131.20     1261.0          0.09780   \n",
              "566        16.60         28.08          108.30      858.1          0.08455   \n",
              "567        20.60         29.33          140.10     1265.0          0.11780   \n",
              "568         7.76         24.54           47.92      181.0          0.05263   \n",
              "\n",
              "     compactness_mean  concavity_mean  concave points_mean  symmetry_mean  \\\n",
              "0             0.27760         0.30010              0.14710         0.2419   \n",
              "1             0.07864         0.08690              0.07017         0.1812   \n",
              "2             0.15990         0.19740              0.12790         0.2069   \n",
              "3             0.28390         0.24140              0.10520         0.2597   \n",
              "4             0.13280         0.19800              0.10430         0.1809   \n",
              "..                ...             ...                  ...            ...   \n",
              "564           0.11590         0.24390              0.13890         0.1726   \n",
              "565           0.10340         0.14400              0.09791         0.1752   \n",
              "566           0.10230         0.09251              0.05302         0.1590   \n",
              "567           0.27700         0.35140              0.15200         0.2397   \n",
              "568           0.04362         0.00000              0.00000         0.1587   \n",
              "\n",
              "     fractal_dimension_mean  ...  radius_worst  texture_worst  \\\n",
              "0                   0.07871  ...        25.380          17.33   \n",
              "1                   0.05667  ...        24.990          23.41   \n",
              "2                   0.05999  ...        23.570          25.53   \n",
              "3                   0.09744  ...        14.910          26.50   \n",
              "4                   0.05883  ...        22.540          16.67   \n",
              "..                      ...  ...           ...            ...   \n",
              "564                 0.05623  ...        25.450          26.40   \n",
              "565                 0.05533  ...        23.690          38.25   \n",
              "566                 0.05648  ...        18.980          34.12   \n",
              "567                 0.07016  ...        25.740          39.42   \n",
              "568                 0.05884  ...         9.456          30.37   \n",
              "\n",
              "     perimeter_worst  area_worst  smoothness_worst  compactness_worst  \\\n",
              "0             184.60      2019.0           0.16220            0.66560   \n",
              "1             158.80      1956.0           0.12380            0.18660   \n",
              "2             152.50      1709.0           0.14440            0.42450   \n",
              "3              98.87       567.7           0.20980            0.86630   \n",
              "4             152.20      1575.0           0.13740            0.20500   \n",
              "..               ...         ...               ...                ...   \n",
              "564           166.10      2027.0           0.14100            0.21130   \n",
              "565           155.00      1731.0           0.11660            0.19220   \n",
              "566           126.70      1124.0           0.11390            0.30940   \n",
              "567           184.60      1821.0           0.16500            0.86810   \n",
              "568            59.16       268.6           0.08996            0.06444   \n",
              "\n",
              "     concavity_worst  concave points_worst  symmetry_worst  \\\n",
              "0             0.7119                0.2654          0.4601   \n",
              "1             0.2416                0.1860          0.2750   \n",
              "2             0.4504                0.2430          0.3613   \n",
              "3             0.6869                0.2575          0.6638   \n",
              "4             0.4000                0.1625          0.2364   \n",
              "..               ...                   ...             ...   \n",
              "564           0.4107                0.2216          0.2060   \n",
              "565           0.3215                0.1628          0.2572   \n",
              "566           0.3403                0.1418          0.2218   \n",
              "567           0.9387                0.2650          0.4087   \n",
              "568           0.0000                0.0000          0.2871   \n",
              "\n",
              "     fractal_dimension_worst  \n",
              "0                    0.11890  \n",
              "1                    0.08902  \n",
              "2                    0.08758  \n",
              "3                    0.17300  \n",
              "4                    0.07678  \n",
              "..                       ...  \n",
              "564                  0.07115  \n",
              "565                  0.06637  \n",
              "566                  0.07820  \n",
              "567                  0.12400  \n",
              "568                  0.07039  \n",
              "\n",
              "[569 rows x 30 columns]"
            ],
            "text/html": [
              "\n",
              "  <div id=\"df-32e93c59-177c-4fea-8611-80b88a1698c2\">\n",
              "    <div class=\"colab-df-container\">\n",
              "      <div>\n",
              "<style scoped>\n",
              "    .dataframe tbody tr th:only-of-type {\n",
              "        vertical-align: middle;\n",
              "    }\n",
              "\n",
              "    .dataframe tbody tr th {\n",
              "        vertical-align: top;\n",
              "    }\n",
              "\n",
              "    .dataframe thead th {\n",
              "        text-align: right;\n",
              "    }\n",
              "</style>\n",
              "<table border=\"1\" class=\"dataframe\">\n",
              "  <thead>\n",
              "    <tr style=\"text-align: right;\">\n",
              "      <th></th>\n",
              "      <th>radius_mean</th>\n",
              "      <th>texture_mean</th>\n",
              "      <th>perimeter_mean</th>\n",
              "      <th>area_mean</th>\n",
              "      <th>smoothness_mean</th>\n",
              "      <th>compactness_mean</th>\n",
              "      <th>concavity_mean</th>\n",
              "      <th>concave points_mean</th>\n",
              "      <th>symmetry_mean</th>\n",
              "      <th>fractal_dimension_mean</th>\n",
              "      <th>...</th>\n",
              "      <th>radius_worst</th>\n",
              "      <th>texture_worst</th>\n",
              "      <th>perimeter_worst</th>\n",
              "      <th>area_worst</th>\n",
              "      <th>smoothness_worst</th>\n",
              "      <th>compactness_worst</th>\n",
              "      <th>concavity_worst</th>\n",
              "      <th>concave points_worst</th>\n",
              "      <th>symmetry_worst</th>\n",
              "      <th>fractal_dimension_worst</th>\n",
              "    </tr>\n",
              "  </thead>\n",
              "  <tbody>\n",
              "    <tr>\n",
              "      <th>0</th>\n",
              "      <td>17.99</td>\n",
              "      <td>10.38</td>\n",
              "      <td>122.80</td>\n",
              "      <td>1001.0</td>\n",
              "      <td>0.11840</td>\n",
              "      <td>0.27760</td>\n",
              "      <td>0.30010</td>\n",
              "      <td>0.14710</td>\n",
              "      <td>0.2419</td>\n",
              "      <td>0.07871</td>\n",
              "      <td>...</td>\n",
              "      <td>25.380</td>\n",
              "      <td>17.33</td>\n",
              "      <td>184.60</td>\n",
              "      <td>2019.0</td>\n",
              "      <td>0.16220</td>\n",
              "      <td>0.66560</td>\n",
              "      <td>0.7119</td>\n",
              "      <td>0.2654</td>\n",
              "      <td>0.4601</td>\n",
              "      <td>0.11890</td>\n",
              "    </tr>\n",
              "    <tr>\n",
              "      <th>1</th>\n",
              "      <td>20.57</td>\n",
              "      <td>17.77</td>\n",
              "      <td>132.90</td>\n",
              "      <td>1326.0</td>\n",
              "      <td>0.08474</td>\n",
              "      <td>0.07864</td>\n",
              "      <td>0.08690</td>\n",
              "      <td>0.07017</td>\n",
              "      <td>0.1812</td>\n",
              "      <td>0.05667</td>\n",
              "      <td>...</td>\n",
              "      <td>24.990</td>\n",
              "      <td>23.41</td>\n",
              "      <td>158.80</td>\n",
              "      <td>1956.0</td>\n",
              "      <td>0.12380</td>\n",
              "      <td>0.18660</td>\n",
              "      <td>0.2416</td>\n",
              "      <td>0.1860</td>\n",
              "      <td>0.2750</td>\n",
              "      <td>0.08902</td>\n",
              "    </tr>\n",
              "    <tr>\n",
              "      <th>2</th>\n",
              "      <td>19.69</td>\n",
              "      <td>21.25</td>\n",
              "      <td>130.00</td>\n",
              "      <td>1203.0</td>\n",
              "      <td>0.10960</td>\n",
              "      <td>0.15990</td>\n",
              "      <td>0.19740</td>\n",
              "      <td>0.12790</td>\n",
              "      <td>0.2069</td>\n",
              "      <td>0.05999</td>\n",
              "      <td>...</td>\n",
              "      <td>23.570</td>\n",
              "      <td>25.53</td>\n",
              "      <td>152.50</td>\n",
              "      <td>1709.0</td>\n",
              "      <td>0.14440</td>\n",
              "      <td>0.42450</td>\n",
              "      <td>0.4504</td>\n",
              "      <td>0.2430</td>\n",
              "      <td>0.3613</td>\n",
              "      <td>0.08758</td>\n",
              "    </tr>\n",
              "    <tr>\n",
              "      <th>3</th>\n",
              "      <td>11.42</td>\n",
              "      <td>20.38</td>\n",
              "      <td>77.58</td>\n",
              "      <td>386.1</td>\n",
              "      <td>0.14250</td>\n",
              "      <td>0.28390</td>\n",
              "      <td>0.24140</td>\n",
              "      <td>0.10520</td>\n",
              "      <td>0.2597</td>\n",
              "      <td>0.09744</td>\n",
              "      <td>...</td>\n",
              "      <td>14.910</td>\n",
              "      <td>26.50</td>\n",
              "      <td>98.87</td>\n",
              "      <td>567.7</td>\n",
              "      <td>0.20980</td>\n",
              "      <td>0.86630</td>\n",
              "      <td>0.6869</td>\n",
              "      <td>0.2575</td>\n",
              "      <td>0.6638</td>\n",
              "      <td>0.17300</td>\n",
              "    </tr>\n",
              "    <tr>\n",
              "      <th>4</th>\n",
              "      <td>20.29</td>\n",
              "      <td>14.34</td>\n",
              "      <td>135.10</td>\n",
              "      <td>1297.0</td>\n",
              "      <td>0.10030</td>\n",
              "      <td>0.13280</td>\n",
              "      <td>0.19800</td>\n",
              "      <td>0.10430</td>\n",
              "      <td>0.1809</td>\n",
              "      <td>0.05883</td>\n",
              "      <td>...</td>\n",
              "      <td>22.540</td>\n",
              "      <td>16.67</td>\n",
              "      <td>152.20</td>\n",
              "      <td>1575.0</td>\n",
              "      <td>0.13740</td>\n",
              "      <td>0.20500</td>\n",
              "      <td>0.4000</td>\n",
              "      <td>0.1625</td>\n",
              "      <td>0.2364</td>\n",
              "      <td>0.07678</td>\n",
              "    </tr>\n",
              "    <tr>\n",
              "      <th>...</th>\n",
              "      <td>...</td>\n",
              "      <td>...</td>\n",
              "      <td>...</td>\n",
              "      <td>...</td>\n",
              "      <td>...</td>\n",
              "      <td>...</td>\n",
              "      <td>...</td>\n",
              "      <td>...</td>\n",
              "      <td>...</td>\n",
              "      <td>...</td>\n",
              "      <td>...</td>\n",
              "      <td>...</td>\n",
              "      <td>...</td>\n",
              "      <td>...</td>\n",
              "      <td>...</td>\n",
              "      <td>...</td>\n",
              "      <td>...</td>\n",
              "      <td>...</td>\n",
              "      <td>...</td>\n",
              "      <td>...</td>\n",
              "      <td>...</td>\n",
              "    </tr>\n",
              "    <tr>\n",
              "      <th>564</th>\n",
              "      <td>21.56</td>\n",
              "      <td>22.39</td>\n",
              "      <td>142.00</td>\n",
              "      <td>1479.0</td>\n",
              "      <td>0.11100</td>\n",
              "      <td>0.11590</td>\n",
              "      <td>0.24390</td>\n",
              "      <td>0.13890</td>\n",
              "      <td>0.1726</td>\n",
              "      <td>0.05623</td>\n",
              "      <td>...</td>\n",
              "      <td>25.450</td>\n",
              "      <td>26.40</td>\n",
              "      <td>166.10</td>\n",
              "      <td>2027.0</td>\n",
              "      <td>0.14100</td>\n",
              "      <td>0.21130</td>\n",
              "      <td>0.4107</td>\n",
              "      <td>0.2216</td>\n",
              "      <td>0.2060</td>\n",
              "      <td>0.07115</td>\n",
              "    </tr>\n",
              "    <tr>\n",
              "      <th>565</th>\n",
              "      <td>20.13</td>\n",
              "      <td>28.25</td>\n",
              "      <td>131.20</td>\n",
              "      <td>1261.0</td>\n",
              "      <td>0.09780</td>\n",
              "      <td>0.10340</td>\n",
              "      <td>0.14400</td>\n",
              "      <td>0.09791</td>\n",
              "      <td>0.1752</td>\n",
              "      <td>0.05533</td>\n",
              "      <td>...</td>\n",
              "      <td>23.690</td>\n",
              "      <td>38.25</td>\n",
              "      <td>155.00</td>\n",
              "      <td>1731.0</td>\n",
              "      <td>0.11660</td>\n",
              "      <td>0.19220</td>\n",
              "      <td>0.3215</td>\n",
              "      <td>0.1628</td>\n",
              "      <td>0.2572</td>\n",
              "      <td>0.06637</td>\n",
              "    </tr>\n",
              "    <tr>\n",
              "      <th>566</th>\n",
              "      <td>16.60</td>\n",
              "      <td>28.08</td>\n",
              "      <td>108.30</td>\n",
              "      <td>858.1</td>\n",
              "      <td>0.08455</td>\n",
              "      <td>0.10230</td>\n",
              "      <td>0.09251</td>\n",
              "      <td>0.05302</td>\n",
              "      <td>0.1590</td>\n",
              "      <td>0.05648</td>\n",
              "      <td>...</td>\n",
              "      <td>18.980</td>\n",
              "      <td>34.12</td>\n",
              "      <td>126.70</td>\n",
              "      <td>1124.0</td>\n",
              "      <td>0.11390</td>\n",
              "      <td>0.30940</td>\n",
              "      <td>0.3403</td>\n",
              "      <td>0.1418</td>\n",
              "      <td>0.2218</td>\n",
              "      <td>0.07820</td>\n",
              "    </tr>\n",
              "    <tr>\n",
              "      <th>567</th>\n",
              "      <td>20.60</td>\n",
              "      <td>29.33</td>\n",
              "      <td>140.10</td>\n",
              "      <td>1265.0</td>\n",
              "      <td>0.11780</td>\n",
              "      <td>0.27700</td>\n",
              "      <td>0.35140</td>\n",
              "      <td>0.15200</td>\n",
              "      <td>0.2397</td>\n",
              "      <td>0.07016</td>\n",
              "      <td>...</td>\n",
              "      <td>25.740</td>\n",
              "      <td>39.42</td>\n",
              "      <td>184.60</td>\n",
              "      <td>1821.0</td>\n",
              "      <td>0.16500</td>\n",
              "      <td>0.86810</td>\n",
              "      <td>0.9387</td>\n",
              "      <td>0.2650</td>\n",
              "      <td>0.4087</td>\n",
              "      <td>0.12400</td>\n",
              "    </tr>\n",
              "    <tr>\n",
              "      <th>568</th>\n",
              "      <td>7.76</td>\n",
              "      <td>24.54</td>\n",
              "      <td>47.92</td>\n",
              "      <td>181.0</td>\n",
              "      <td>0.05263</td>\n",
              "      <td>0.04362</td>\n",
              "      <td>0.00000</td>\n",
              "      <td>0.00000</td>\n",
              "      <td>0.1587</td>\n",
              "      <td>0.05884</td>\n",
              "      <td>...</td>\n",
              "      <td>9.456</td>\n",
              "      <td>30.37</td>\n",
              "      <td>59.16</td>\n",
              "      <td>268.6</td>\n",
              "      <td>0.08996</td>\n",
              "      <td>0.06444</td>\n",
              "      <td>0.0000</td>\n",
              "      <td>0.0000</td>\n",
              "      <td>0.2871</td>\n",
              "      <td>0.07039</td>\n",
              "    </tr>\n",
              "  </tbody>\n",
              "</table>\n",
              "<p>569 rows × 30 columns</p>\n",
              "</div>\n",
              "      <button class=\"colab-df-convert\" onclick=\"convertToInteractive('df-32e93c59-177c-4fea-8611-80b88a1698c2')\"\n",
              "              title=\"Convert this dataframe to an interactive table.\"\n",
              "              style=\"display:none;\">\n",
              "        \n",
              "  <svg xmlns=\"http://www.w3.org/2000/svg\" height=\"24px\"viewBox=\"0 0 24 24\"\n",
              "       width=\"24px\">\n",
              "    <path d=\"M0 0h24v24H0V0z\" fill=\"none\"/>\n",
              "    <path d=\"M18.56 5.44l.94 2.06.94-2.06 2.06-.94-2.06-.94-.94-2.06-.94 2.06-2.06.94zm-11 1L8.5 8.5l.94-2.06 2.06-.94-2.06-.94L8.5 2.5l-.94 2.06-2.06.94zm10 10l.94 2.06.94-2.06 2.06-.94-2.06-.94-.94-2.06-.94 2.06-2.06.94z\"/><path d=\"M17.41 7.96l-1.37-1.37c-.4-.4-.92-.59-1.43-.59-.52 0-1.04.2-1.43.59L10.3 9.45l-7.72 7.72c-.78.78-.78 2.05 0 2.83L4 21.41c.39.39.9.59 1.41.59.51 0 1.02-.2 1.41-.59l7.78-7.78 2.81-2.81c.8-.78.8-2.07 0-2.86zM5.41 20L4 18.59l7.72-7.72 1.47 1.35L5.41 20z\"/>\n",
              "  </svg>\n",
              "      </button>\n",
              "      \n",
              "  <style>\n",
              "    .colab-df-container {\n",
              "      display:flex;\n",
              "      flex-wrap:wrap;\n",
              "      gap: 12px;\n",
              "    }\n",
              "\n",
              "    .colab-df-convert {\n",
              "      background-color: #E8F0FE;\n",
              "      border: none;\n",
              "      border-radius: 50%;\n",
              "      cursor: pointer;\n",
              "      display: none;\n",
              "      fill: #1967D2;\n",
              "      height: 32px;\n",
              "      padding: 0 0 0 0;\n",
              "      width: 32px;\n",
              "    }\n",
              "\n",
              "    .colab-df-convert:hover {\n",
              "      background-color: #E2EBFA;\n",
              "      box-shadow: 0px 1px 2px rgba(60, 64, 67, 0.3), 0px 1px 3px 1px rgba(60, 64, 67, 0.15);\n",
              "      fill: #174EA6;\n",
              "    }\n",
              "\n",
              "    [theme=dark] .colab-df-convert {\n",
              "      background-color: #3B4455;\n",
              "      fill: #D2E3FC;\n",
              "    }\n",
              "\n",
              "    [theme=dark] .colab-df-convert:hover {\n",
              "      background-color: #434B5C;\n",
              "      box-shadow: 0px 1px 3px 1px rgba(0, 0, 0, 0.15);\n",
              "      filter: drop-shadow(0px 1px 2px rgba(0, 0, 0, 0.3));\n",
              "      fill: #FFFFFF;\n",
              "    }\n",
              "  </style>\n",
              "\n",
              "      <script>\n",
              "        const buttonEl =\n",
              "          document.querySelector('#df-32e93c59-177c-4fea-8611-80b88a1698c2 button.colab-df-convert');\n",
              "        buttonEl.style.display =\n",
              "          google.colab.kernel.accessAllowed ? 'block' : 'none';\n",
              "\n",
              "        async function convertToInteractive(key) {\n",
              "          const element = document.querySelector('#df-32e93c59-177c-4fea-8611-80b88a1698c2');\n",
              "          const dataTable =\n",
              "            await google.colab.kernel.invokeFunction('convertToInteractive',\n",
              "                                                     [key], {});\n",
              "          if (!dataTable) return;\n",
              "\n",
              "          const docLinkHtml = 'Like what you see? Visit the ' +\n",
              "            '<a target=\"_blank\" href=https://colab.research.google.com/notebooks/data_table.ipynb>data table notebook</a>'\n",
              "            + ' to learn more about interactive tables.';\n",
              "          element.innerHTML = '';\n",
              "          dataTable['output_type'] = 'display_data';\n",
              "          await google.colab.output.renderOutput(dataTable, element);\n",
              "          const docLink = document.createElement('div');\n",
              "          docLink.innerHTML = docLinkHtml;\n",
              "          element.appendChild(docLink);\n",
              "        }\n",
              "      </script>\n",
              "    </div>\n",
              "  </div>\n",
              "  "
            ]
          },
          "metadata": {},
          "execution_count": 162
        }
      ]
    },
    {
      "cell_type": "code",
      "source": [
        "alvo_catboost = df_copy['diagnosis']\n",
        "alvo_catboost"
      ],
      "metadata": {
        "colab": {
          "base_uri": "https://localhost:8080/"
        },
        "id": "PJlSnSXRhxTk",
        "outputId": "f679b0c8-8cc2-47e5-8569-33c625a34fc2"
      },
      "execution_count": 163,
      "outputs": [
        {
          "output_type": "execute_result",
          "data": {
            "text/plain": [
              "0      0\n",
              "1      0\n",
              "2      0\n",
              "3      0\n",
              "4      0\n",
              "      ..\n",
              "564    0\n",
              "565    0\n",
              "566    0\n",
              "567    0\n",
              "568    1\n",
              "Name: diagnosis, Length: 569, dtype: int64"
            ]
          },
          "metadata": {},
          "execution_count": 163
        }
      ]
    },
    {
      "cell_type": "code",
      "source": [
        "x_treino, x_teste, y_treino, y_teste = train_test_split(preditores_catboost, alvo_catboost, test_size=0.15)"
      ],
      "metadata": {
        "id": "5wqUEdjth2PC"
      },
      "execution_count": 164,
      "outputs": []
    },
    {
      "cell_type": "code",
      "source": [
        "catboost = CatBoostClassifier(task_type='CPU', iterations=100, learning_rate=0.1, depth=5, eval_metric='Accuracy', random_state=1)"
      ],
      "metadata": {
        "id": "kD9vgChliN7L"
      },
      "execution_count": 165,
      "outputs": []
    },
    {
      "cell_type": "code",
      "source": [
        "catboost.fit(x_treino, y_treino, plot=True, eval_set=(x_teste, y_teste))"
      ],
      "metadata": {
        "colab": {
          "base_uri": "https://localhost:8080/",
          "height": 1000,
          "referenced_widgets": [
            "846b622a10f4411285f21f6f2c7ba31a"
          ]
        },
        "id": "LTEkVtXlikRt",
        "outputId": "57000c85-4ef8-468e-a461-f8e12cde969d"
      },
      "execution_count": 166,
      "outputs": [
        {
          "output_type": "display_data",
          "data": {
            "text/plain": [
              "MetricVisualizer(layout=Layout(align_self='stretch', height='500px'))"
            ],
            "application/vnd.jupyter.widget-view+json": {
              "version_major": 2,
              "version_minor": 0,
              "model_id": "846b622a10f4411285f21f6f2c7ba31a"
            }
          },
          "metadata": {}
        },
        {
          "output_type": "stream",
          "name": "stdout",
          "text": [
            "0:\tlearn: 0.9213251\ttest: 0.8953488\tbest: 0.8953488 (0)\ttotal: 19.9ms\tremaining: 1.97s\n",
            "1:\tlearn: 0.9420290\ttest: 0.9418605\tbest: 0.9418605 (1)\ttotal: 39.7ms\tremaining: 1.95s\n",
            "2:\tlearn: 0.9565217\ttest: 0.9302326\tbest: 0.9418605 (1)\ttotal: 51.7ms\tremaining: 1.67s\n",
            "3:\tlearn: 0.9689441\ttest: 0.9186047\tbest: 0.9418605 (1)\ttotal: 66.7ms\tremaining: 1.6s\n",
            "4:\tlearn: 0.9730849\ttest: 0.9186047\tbest: 0.9418605 (1)\ttotal: 83ms\tremaining: 1.58s\n",
            "5:\tlearn: 0.9689441\ttest: 0.9302326\tbest: 0.9418605 (1)\ttotal: 93.2ms\tremaining: 1.46s\n",
            "6:\tlearn: 0.9751553\ttest: 0.9418605\tbest: 0.9418605 (1)\ttotal: 105ms\tremaining: 1.4s\n",
            "7:\tlearn: 0.9772257\ttest: 0.9534884\tbest: 0.9534884 (7)\ttotal: 114ms\tremaining: 1.32s\n",
            "8:\tlearn: 0.9792961\ttest: 0.9534884\tbest: 0.9534884 (7)\ttotal: 128ms\tremaining: 1.3s\n",
            "9:\tlearn: 0.9813665\ttest: 0.9534884\tbest: 0.9534884 (7)\ttotal: 141ms\tremaining: 1.26s\n",
            "10:\tlearn: 0.9813665\ttest: 0.9534884\tbest: 0.9534884 (7)\ttotal: 160ms\tremaining: 1.29s\n",
            "11:\tlearn: 0.9834369\ttest: 0.9534884\tbest: 0.9534884 (7)\ttotal: 171ms\tremaining: 1.26s\n",
            "12:\tlearn: 0.9813665\ttest: 0.9534884\tbest: 0.9534884 (7)\ttotal: 186ms\tremaining: 1.24s\n",
            "13:\tlearn: 0.9855072\ttest: 0.9534884\tbest: 0.9534884 (7)\ttotal: 198ms\tremaining: 1.21s\n",
            "14:\tlearn: 0.9896480\ttest: 0.9534884\tbest: 0.9534884 (7)\ttotal: 211ms\tremaining: 1.19s\n",
            "15:\tlearn: 0.9896480\ttest: 0.9534884\tbest: 0.9534884 (7)\ttotal: 227ms\tremaining: 1.19s\n",
            "16:\tlearn: 0.9917184\ttest: 0.9534884\tbest: 0.9534884 (7)\ttotal: 245ms\tremaining: 1.2s\n",
            "17:\tlearn: 0.9917184\ttest: 0.9651163\tbest: 0.9651163 (17)\ttotal: 274ms\tremaining: 1.25s\n",
            "18:\tlearn: 0.9937888\ttest: 0.9534884\tbest: 0.9651163 (17)\ttotal: 294ms\tremaining: 1.25s\n",
            "19:\tlearn: 0.9917184\ttest: 0.9534884\tbest: 0.9651163 (17)\ttotal: 313ms\tremaining: 1.25s\n",
            "20:\tlearn: 0.9937888\ttest: 0.9651163\tbest: 0.9651163 (17)\ttotal: 342ms\tremaining: 1.28s\n",
            "21:\tlearn: 0.9937888\ttest: 0.9651163\tbest: 0.9651163 (17)\ttotal: 362ms\tremaining: 1.28s\n",
            "22:\tlearn: 0.9937888\ttest: 0.9651163\tbest: 0.9651163 (17)\ttotal: 382ms\tremaining: 1.28s\n",
            "23:\tlearn: 0.9958592\ttest: 0.9651163\tbest: 0.9651163 (17)\ttotal: 398ms\tremaining: 1.26s\n",
            "24:\tlearn: 0.9958592\ttest: 0.9651163\tbest: 0.9651163 (17)\ttotal: 424ms\tremaining: 1.27s\n",
            "25:\tlearn: 0.9958592\ttest: 0.9651163\tbest: 0.9651163 (17)\ttotal: 450ms\tremaining: 1.28s\n",
            "26:\tlearn: 0.9958592\ttest: 0.9767442\tbest: 0.9767442 (26)\ttotal: 472ms\tremaining: 1.27s\n",
            "27:\tlearn: 0.9958592\ttest: 0.9767442\tbest: 0.9767442 (26)\ttotal: 503ms\tremaining: 1.29s\n",
            "28:\tlearn: 0.9958592\ttest: 0.9767442\tbest: 0.9767442 (26)\ttotal: 524ms\tremaining: 1.28s\n",
            "29:\tlearn: 0.9958592\ttest: 0.9767442\tbest: 0.9767442 (26)\ttotal: 538ms\tremaining: 1.26s\n",
            "30:\tlearn: 0.9958592\ttest: 0.9767442\tbest: 0.9767442 (26)\ttotal: 554ms\tremaining: 1.23s\n",
            "31:\tlearn: 0.9958592\ttest: 0.9767442\tbest: 0.9767442 (26)\ttotal: 567ms\tremaining: 1.21s\n",
            "32:\tlearn: 0.9958592\ttest: 0.9767442\tbest: 0.9767442 (26)\ttotal: 581ms\tremaining: 1.18s\n",
            "33:\tlearn: 0.9958592\ttest: 0.9767442\tbest: 0.9767442 (26)\ttotal: 607ms\tremaining: 1.18s\n",
            "34:\tlearn: 0.9979296\ttest: 0.9767442\tbest: 0.9767442 (26)\ttotal: 626ms\tremaining: 1.16s\n",
            "35:\tlearn: 0.9979296\ttest: 0.9767442\tbest: 0.9767442 (26)\ttotal: 648ms\tremaining: 1.15s\n",
            "36:\tlearn: 0.9979296\ttest: 0.9767442\tbest: 0.9767442 (26)\ttotal: 680ms\tremaining: 1.16s\n",
            "37:\tlearn: 0.9979296\ttest: 0.9767442\tbest: 0.9767442 (26)\ttotal: 704ms\tremaining: 1.15s\n",
            "38:\tlearn: 0.9979296\ttest: 0.9767442\tbest: 0.9767442 (26)\ttotal: 724ms\tremaining: 1.13s\n",
            "39:\tlearn: 0.9979296\ttest: 0.9767442\tbest: 0.9767442 (26)\ttotal: 733ms\tremaining: 1.1s\n",
            "40:\tlearn: 0.9979296\ttest: 0.9767442\tbest: 0.9767442 (26)\ttotal: 744ms\tremaining: 1.07s\n",
            "41:\tlearn: 0.9979296\ttest: 0.9767442\tbest: 0.9767442 (26)\ttotal: 756ms\tremaining: 1.04s\n",
            "42:\tlearn: 1.0000000\ttest: 0.9767442\tbest: 0.9767442 (26)\ttotal: 766ms\tremaining: 1.01s\n",
            "43:\tlearn: 1.0000000\ttest: 0.9767442\tbest: 0.9767442 (26)\ttotal: 777ms\tremaining: 989ms\n",
            "44:\tlearn: 0.9979296\ttest: 0.9767442\tbest: 0.9767442 (26)\ttotal: 789ms\tremaining: 964ms\n",
            "45:\tlearn: 1.0000000\ttest: 0.9767442\tbest: 0.9767442 (26)\ttotal: 805ms\tremaining: 945ms\n",
            "46:\tlearn: 1.0000000\ttest: 0.9767442\tbest: 0.9767442 (26)\ttotal: 817ms\tremaining: 922ms\n",
            "47:\tlearn: 1.0000000\ttest: 0.9767442\tbest: 0.9767442 (26)\ttotal: 828ms\tremaining: 897ms\n",
            "48:\tlearn: 1.0000000\ttest: 0.9767442\tbest: 0.9767442 (26)\ttotal: 838ms\tremaining: 872ms\n",
            "49:\tlearn: 1.0000000\ttest: 0.9767442\tbest: 0.9767442 (26)\ttotal: 850ms\tremaining: 850ms\n",
            "50:\tlearn: 1.0000000\ttest: 0.9767442\tbest: 0.9767442 (26)\ttotal: 862ms\tremaining: 828ms\n",
            "51:\tlearn: 1.0000000\ttest: 0.9767442\tbest: 0.9767442 (26)\ttotal: 871ms\tremaining: 804ms\n",
            "52:\tlearn: 1.0000000\ttest: 0.9767442\tbest: 0.9767442 (26)\ttotal: 886ms\tremaining: 786ms\n",
            "53:\tlearn: 1.0000000\ttest: 0.9767442\tbest: 0.9767442 (26)\ttotal: 899ms\tremaining: 765ms\n",
            "54:\tlearn: 1.0000000\ttest: 0.9767442\tbest: 0.9767442 (26)\ttotal: 912ms\tremaining: 746ms\n",
            "55:\tlearn: 1.0000000\ttest: 0.9767442\tbest: 0.9767442 (26)\ttotal: 926ms\tremaining: 728ms\n",
            "56:\tlearn: 1.0000000\ttest: 0.9767442\tbest: 0.9767442 (26)\ttotal: 938ms\tremaining: 707ms\n",
            "57:\tlearn: 1.0000000\ttest: 0.9767442\tbest: 0.9767442 (26)\ttotal: 946ms\tremaining: 685ms\n",
            "58:\tlearn: 1.0000000\ttest: 0.9767442\tbest: 0.9767442 (26)\ttotal: 961ms\tremaining: 668ms\n",
            "59:\tlearn: 1.0000000\ttest: 0.9767442\tbest: 0.9767442 (26)\ttotal: 970ms\tremaining: 647ms\n",
            "60:\tlearn: 1.0000000\ttest: 0.9767442\tbest: 0.9767442 (26)\ttotal: 982ms\tremaining: 628ms\n",
            "61:\tlearn: 1.0000000\ttest: 0.9767442\tbest: 0.9767442 (26)\ttotal: 997ms\tremaining: 611ms\n",
            "62:\tlearn: 1.0000000\ttest: 0.9767442\tbest: 0.9767442 (26)\ttotal: 1.01s\tremaining: 593ms\n",
            "63:\tlearn: 1.0000000\ttest: 0.9767442\tbest: 0.9767442 (26)\ttotal: 1.02s\tremaining: 574ms\n",
            "64:\tlearn: 1.0000000\ttest: 0.9767442\tbest: 0.9767442 (26)\ttotal: 1.03s\tremaining: 556ms\n",
            "65:\tlearn: 1.0000000\ttest: 0.9767442\tbest: 0.9767442 (26)\ttotal: 1.04s\tremaining: 538ms\n",
            "66:\tlearn: 1.0000000\ttest: 0.9767442\tbest: 0.9767442 (26)\ttotal: 1.05s\tremaining: 519ms\n",
            "67:\tlearn: 1.0000000\ttest: 0.9767442\tbest: 0.9767442 (26)\ttotal: 1.06s\tremaining: 501ms\n",
            "68:\tlearn: 1.0000000\ttest: 0.9767442\tbest: 0.9767442 (26)\ttotal: 1.08s\tremaining: 487ms\n",
            "69:\tlearn: 1.0000000\ttest: 0.9767442\tbest: 0.9767442 (26)\ttotal: 1.1s\tremaining: 471ms\n",
            "70:\tlearn: 1.0000000\ttest: 0.9767442\tbest: 0.9767442 (26)\ttotal: 1.11s\tremaining: 453ms\n",
            "71:\tlearn: 1.0000000\ttest: 0.9767442\tbest: 0.9767442 (26)\ttotal: 1.12s\tremaining: 435ms\n",
            "72:\tlearn: 1.0000000\ttest: 0.9767442\tbest: 0.9767442 (26)\ttotal: 1.14s\tremaining: 420ms\n",
            "73:\tlearn: 1.0000000\ttest: 0.9767442\tbest: 0.9767442 (26)\ttotal: 1.15s\tremaining: 403ms\n",
            "74:\tlearn: 1.0000000\ttest: 0.9767442\tbest: 0.9767442 (26)\ttotal: 1.16s\tremaining: 386ms\n",
            "75:\tlearn: 1.0000000\ttest: 0.9767442\tbest: 0.9767442 (26)\ttotal: 1.18s\tremaining: 372ms\n",
            "76:\tlearn: 1.0000000\ttest: 0.9767442\tbest: 0.9767442 (26)\ttotal: 1.19s\tremaining: 356ms\n",
            "77:\tlearn: 1.0000000\ttest: 0.9767442\tbest: 0.9767442 (26)\ttotal: 1.21s\tremaining: 340ms\n",
            "78:\tlearn: 1.0000000\ttest: 0.9767442\tbest: 0.9767442 (26)\ttotal: 1.23s\tremaining: 327ms\n",
            "79:\tlearn: 1.0000000\ttest: 0.9651163\tbest: 0.9767442 (26)\ttotal: 1.24s\tremaining: 310ms\n",
            "80:\tlearn: 1.0000000\ttest: 0.9767442\tbest: 0.9767442 (26)\ttotal: 1.25s\tremaining: 293ms\n",
            "81:\tlearn: 1.0000000\ttest: 0.9767442\tbest: 0.9767442 (26)\ttotal: 1.27s\tremaining: 279ms\n",
            "82:\tlearn: 1.0000000\ttest: 0.9767442\tbest: 0.9767442 (26)\ttotal: 1.29s\tremaining: 265ms\n",
            "83:\tlearn: 1.0000000\ttest: 0.9767442\tbest: 0.9767442 (26)\ttotal: 1.31s\tremaining: 250ms\n",
            "84:\tlearn: 1.0000000\ttest: 0.9767442\tbest: 0.9767442 (26)\ttotal: 1.32s\tremaining: 233ms\n",
            "85:\tlearn: 1.0000000\ttest: 0.9767442\tbest: 0.9767442 (26)\ttotal: 1.34s\tremaining: 218ms\n",
            "86:\tlearn: 1.0000000\ttest: 0.9767442\tbest: 0.9767442 (26)\ttotal: 1.37s\tremaining: 204ms\n",
            "87:\tlearn: 1.0000000\ttest: 0.9767442\tbest: 0.9767442 (26)\ttotal: 1.39s\tremaining: 189ms\n",
            "88:\tlearn: 1.0000000\ttest: 0.9767442\tbest: 0.9767442 (26)\ttotal: 1.4s\tremaining: 173ms\n",
            "89:\tlearn: 1.0000000\ttest: 0.9767442\tbest: 0.9767442 (26)\ttotal: 1.42s\tremaining: 157ms\n",
            "90:\tlearn: 1.0000000\ttest: 0.9767442\tbest: 0.9767442 (26)\ttotal: 1.44s\tremaining: 142ms\n",
            "91:\tlearn: 1.0000000\ttest: 0.9651163\tbest: 0.9767442 (26)\ttotal: 1.45s\tremaining: 126ms\n",
            "92:\tlearn: 1.0000000\ttest: 0.9651163\tbest: 0.9767442 (26)\ttotal: 1.47s\tremaining: 111ms\n",
            "93:\tlearn: 1.0000000\ttest: 0.9651163\tbest: 0.9767442 (26)\ttotal: 1.49s\tremaining: 95.1ms\n",
            "94:\tlearn: 1.0000000\ttest: 0.9651163\tbest: 0.9767442 (26)\ttotal: 1.5s\tremaining: 78.9ms\n",
            "95:\tlearn: 1.0000000\ttest: 0.9651163\tbest: 0.9767442 (26)\ttotal: 1.51s\tremaining: 62.9ms\n",
            "96:\tlearn: 1.0000000\ttest: 0.9651163\tbest: 0.9767442 (26)\ttotal: 1.52s\tremaining: 47.2ms\n",
            "97:\tlearn: 1.0000000\ttest: 0.9651163\tbest: 0.9767442 (26)\ttotal: 1.53s\tremaining: 31.3ms\n",
            "98:\tlearn: 1.0000000\ttest: 0.9651163\tbest: 0.9767442 (26)\ttotal: 1.54s\tremaining: 15.6ms\n",
            "99:\tlearn: 1.0000000\ttest: 0.9651163\tbest: 0.9767442 (26)\ttotal: 1.56s\tremaining: 0us\n",
            "\n",
            "bestTest = 0.976744186\n",
            "bestIteration = 26\n",
            "\n",
            "Shrink model to first 27 iterations.\n"
          ]
        },
        {
          "output_type": "execute_result",
          "data": {
            "text/plain": [
              "<catboost.core.CatBoostClassifier at 0x7f079b1600a0>"
            ]
          },
          "metadata": {},
          "execution_count": 166
        }
      ]
    },
    {
      "cell_type": "code",
      "source": [
        "previsao_cat = catboost.predict(x_teste)"
      ],
      "metadata": {
        "id": "eLjc2NKBjURR"
      },
      "execution_count": 167,
      "outputs": []
    },
    {
      "cell_type": "code",
      "source": [
        "print('Acurácia: %.2f%%'% (accuracy_score(previsao_cat, y_teste)*100))"
      ],
      "metadata": {
        "colab": {
          "base_uri": "https://localhost:8080/"
        },
        "id": "7VF-Xf7ri4Rv",
        "outputId": "c2a6b4e8-f8fb-4572-8b33-81961579d67f"
      },
      "execution_count": 168,
      "outputs": [
        {
          "output_type": "stream",
          "name": "stdout",
          "text": [
            "Acurácia: 97.67%\n"
          ]
        }
      ]
    },
    {
      "cell_type": "code",
      "source": [
        "previsao_cat_treino = catboost.predict(x_treino)"
      ],
      "metadata": {
        "id": "QqqwPdxyjZFr"
      },
      "execution_count": 169,
      "outputs": []
    },
    {
      "cell_type": "code",
      "source": [
        "print('Acurácia: %.2f%%'% (accuracy_score(previsao_cat_treino, y_treino)*100))"
      ],
      "metadata": {
        "colab": {
          "base_uri": "https://localhost:8080/"
        },
        "id": "AqF5An30jfQP",
        "outputId": "c6a6b78b-d3a6-47fd-e7a8-6d49fc3d784d"
      },
      "execution_count": 170,
      "outputs": [
        {
          "output_type": "stream",
          "name": "stdout",
          "text": [
            "Acurácia: 99.59%\n"
          ]
        }
      ]
    },
    {
      "cell_type": "code",
      "source": [
        "modelo = CatBoostClassifier(task_type='CPU', iterations=100, learning_rate=0.01, depth=5, eval_metric='Accuracy', random_state=1)\n",
        "validacao_cruzada = cross_val_score(modelo, preditores, alvo, cv=kfold)\n",
        "print('Acurácia Média: %.2f%%' % (validacao_cruzada.mean()*100))"
      ],
      "metadata": {
        "id": "ARaaj-E4jjB2",
        "colab": {
          "base_uri": "https://localhost:8080/"
        },
        "outputId": "00f6c514-8242-4e29-ed99-fb246f38a1ef"
      },
      "execution_count": 171,
      "outputs": [
        {
          "output_type": "stream",
          "name": "stdout",
          "text": [
            "0:\tlearn: 0.9181818\ttotal: 6.44ms\tremaining: 637ms\n",
            "1:\tlearn: 0.9563636\ttotal: 15.2ms\tremaining: 747ms\n",
            "2:\tlearn: 0.9490909\ttotal: 25.5ms\tremaining: 824ms\n",
            "3:\tlearn: 0.9509091\ttotal: 34.4ms\tremaining: 825ms\n",
            "4:\tlearn: 0.9563636\ttotal: 45.4ms\tremaining: 863ms\n",
            "5:\tlearn: 0.9545455\ttotal: 62ms\tremaining: 972ms\n",
            "6:\tlearn: 0.9563636\ttotal: 74ms\tremaining: 983ms\n",
            "7:\tlearn: 0.9563636\ttotal: 88.6ms\tremaining: 1.02s\n",
            "8:\tlearn: 0.9636364\ttotal: 99.4ms\tremaining: 1s\n",
            "9:\tlearn: 0.9636364\ttotal: 109ms\tremaining: 985ms\n",
            "10:\tlearn: 0.9672727\ttotal: 120ms\tremaining: 972ms\n",
            "11:\tlearn: 0.9636364\ttotal: 140ms\tremaining: 1.03s\n",
            "12:\tlearn: 0.9618182\ttotal: 157ms\tremaining: 1.05s\n",
            "13:\tlearn: 0.9672727\ttotal: 168ms\tremaining: 1.03s\n",
            "14:\tlearn: 0.9636364\ttotal: 179ms\tremaining: 1.01s\n",
            "15:\tlearn: 0.9709091\ttotal: 191ms\tremaining: 1s\n",
            "16:\tlearn: 0.9690909\ttotal: 198ms\tremaining: 968ms\n",
            "17:\tlearn: 0.9709091\ttotal: 219ms\tremaining: 997ms\n",
            "18:\tlearn: 0.9690909\ttotal: 229ms\tremaining: 978ms\n",
            "19:\tlearn: 0.9709091\ttotal: 239ms\tremaining: 957ms\n",
            "20:\tlearn: 0.9709091\ttotal: 263ms\tremaining: 988ms\n",
            "21:\tlearn: 0.9727273\ttotal: 274ms\tremaining: 972ms\n",
            "22:\tlearn: 0.9727273\ttotal: 285ms\tremaining: 954ms\n",
            "23:\tlearn: 0.9690909\ttotal: 296ms\tremaining: 938ms\n",
            "24:\tlearn: 0.9709091\ttotal: 310ms\tremaining: 930ms\n",
            "25:\tlearn: 0.9709091\ttotal: 321ms\tremaining: 913ms\n",
            "26:\tlearn: 0.9709091\ttotal: 334ms\tremaining: 904ms\n",
            "27:\tlearn: 0.9690909\ttotal: 342ms\tremaining: 880ms\n",
            "28:\tlearn: 0.9709091\ttotal: 356ms\tremaining: 872ms\n",
            "29:\tlearn: 0.9727273\ttotal: 367ms\tremaining: 856ms\n",
            "30:\tlearn: 0.9727273\ttotal: 379ms\tremaining: 843ms\n",
            "31:\tlearn: 0.9727273\ttotal: 392ms\tremaining: 832ms\n",
            "32:\tlearn: 0.9727273\ttotal: 402ms\tremaining: 816ms\n",
            "33:\tlearn: 0.9727273\ttotal: 417ms\tremaining: 809ms\n",
            "34:\tlearn: 0.9745455\ttotal: 428ms\tremaining: 795ms\n",
            "35:\tlearn: 0.9727273\ttotal: 441ms\tremaining: 784ms\n",
            "36:\tlearn: 0.9727273\ttotal: 453ms\tremaining: 771ms\n",
            "37:\tlearn: 0.9727273\ttotal: 466ms\tremaining: 761ms\n",
            "38:\tlearn: 0.9727273\ttotal: 477ms\tremaining: 745ms\n",
            "39:\tlearn: 0.9727273\ttotal: 489ms\tremaining: 733ms\n",
            "40:\tlearn: 0.9745455\ttotal: 499ms\tremaining: 718ms\n",
            "41:\tlearn: 0.9745455\ttotal: 510ms\tremaining: 704ms\n",
            "42:\tlearn: 0.9727273\ttotal: 523ms\tremaining: 693ms\n",
            "43:\tlearn: 0.9727273\ttotal: 536ms\tremaining: 682ms\n",
            "44:\tlearn: 0.9709091\ttotal: 550ms\tremaining: 672ms\n",
            "45:\tlearn: 0.9727273\ttotal: 567ms\tremaining: 665ms\n",
            "46:\tlearn: 0.9709091\ttotal: 582ms\tremaining: 656ms\n",
            "47:\tlearn: 0.9727273\ttotal: 592ms\tremaining: 642ms\n",
            "48:\tlearn: 0.9709091\ttotal: 602ms\tremaining: 627ms\n",
            "49:\tlearn: 0.9727273\ttotal: 616ms\tremaining: 616ms\n",
            "50:\tlearn: 0.9745455\ttotal: 627ms\tremaining: 603ms\n",
            "51:\tlearn: 0.9745455\ttotal: 638ms\tremaining: 589ms\n",
            "52:\tlearn: 0.9745455\ttotal: 652ms\tremaining: 578ms\n",
            "53:\tlearn: 0.9763636\ttotal: 664ms\tremaining: 565ms\n",
            "54:\tlearn: 0.9727273\ttotal: 674ms\tremaining: 551ms\n",
            "55:\tlearn: 0.9727273\ttotal: 684ms\tremaining: 537ms\n",
            "56:\tlearn: 0.9727273\ttotal: 694ms\tremaining: 524ms\n",
            "57:\tlearn: 0.9727273\ttotal: 705ms\tremaining: 511ms\n",
            "58:\tlearn: 0.9727273\ttotal: 719ms\tremaining: 500ms\n",
            "59:\tlearn: 0.9727273\ttotal: 731ms\tremaining: 488ms\n",
            "60:\tlearn: 0.9727273\ttotal: 743ms\tremaining: 475ms\n",
            "61:\tlearn: 0.9727273\ttotal: 755ms\tremaining: 463ms\n",
            "62:\tlearn: 0.9727273\ttotal: 766ms\tremaining: 450ms\n",
            "63:\tlearn: 0.9727273\ttotal: 781ms\tremaining: 439ms\n",
            "64:\tlearn: 0.9727273\ttotal: 797ms\tremaining: 429ms\n",
            "65:\tlearn: 0.9727273\ttotal: 809ms\tremaining: 417ms\n",
            "66:\tlearn: 0.9745455\ttotal: 822ms\tremaining: 405ms\n",
            "67:\tlearn: 0.9745455\ttotal: 832ms\tremaining: 392ms\n",
            "68:\tlearn: 0.9763636\ttotal: 844ms\tremaining: 379ms\n",
            "69:\tlearn: 0.9763636\ttotal: 855ms\tremaining: 366ms\n",
            "70:\tlearn: 0.9763636\ttotal: 866ms\tremaining: 354ms\n",
            "71:\tlearn: 0.9763636\ttotal: 876ms\tremaining: 341ms\n",
            "72:\tlearn: 0.9763636\ttotal: 891ms\tremaining: 330ms\n",
            "73:\tlearn: 0.9781818\ttotal: 902ms\tremaining: 317ms\n",
            "74:\tlearn: 0.9781818\ttotal: 913ms\tremaining: 304ms\n",
            "75:\tlearn: 0.9781818\ttotal: 922ms\tremaining: 291ms\n",
            "76:\tlearn: 0.9800000\ttotal: 934ms\tremaining: 279ms\n",
            "77:\tlearn: 0.9781818\ttotal: 945ms\tremaining: 267ms\n",
            "78:\tlearn: 0.9800000\ttotal: 956ms\tremaining: 254ms\n",
            "79:\tlearn: 0.9800000\ttotal: 967ms\tremaining: 242ms\n",
            "80:\tlearn: 0.9781818\ttotal: 981ms\tremaining: 230ms\n",
            "81:\tlearn: 0.9800000\ttotal: 993ms\tremaining: 218ms\n",
            "82:\tlearn: 0.9800000\ttotal: 1s\tremaining: 206ms\n",
            "83:\tlearn: 0.9800000\ttotal: 1.01s\tremaining: 193ms\n",
            "84:\tlearn: 0.9800000\ttotal: 1.03s\tremaining: 181ms\n",
            "85:\tlearn: 0.9800000\ttotal: 1.04s\tremaining: 169ms\n",
            "86:\tlearn: 0.9800000\ttotal: 1.05s\tremaining: 157ms\n",
            "87:\tlearn: 0.9800000\ttotal: 1.06s\tremaining: 145ms\n",
            "88:\tlearn: 0.9818182\ttotal: 1.07s\tremaining: 133ms\n",
            "89:\tlearn: 0.9818182\ttotal: 1.08s\tremaining: 120ms\n",
            "90:\tlearn: 0.9818182\ttotal: 1.09s\tremaining: 108ms\n",
            "91:\tlearn: 0.9818182\ttotal: 1.1s\tremaining: 96.1ms\n",
            "92:\tlearn: 0.9818182\ttotal: 1.12s\tremaining: 84.1ms\n",
            "93:\tlearn: 0.9818182\ttotal: 1.13s\tremaining: 72ms\n",
            "94:\tlearn: 0.9818182\ttotal: 1.14s\tremaining: 59.9ms\n",
            "95:\tlearn: 0.9818182\ttotal: 1.14s\tremaining: 47.7ms\n",
            "96:\tlearn: 0.9818182\ttotal: 1.15s\tremaining: 35.6ms\n",
            "97:\tlearn: 0.9836364\ttotal: 1.16s\tremaining: 23.6ms\n",
            "98:\tlearn: 0.9836364\ttotal: 1.16s\tremaining: 11.7ms\n",
            "99:\tlearn: 0.9854545\ttotal: 1.17s\tremaining: 0us\n",
            "0:\tlearn: 0.9181818\ttotal: 5.96ms\tremaining: 590ms\n",
            "1:\tlearn: 0.9436364\ttotal: 12.3ms\tremaining: 603ms\n",
            "2:\tlearn: 0.9418182\ttotal: 18.4ms\tremaining: 596ms\n",
            "3:\tlearn: 0.9436364\ttotal: 25.2ms\tremaining: 605ms\n",
            "4:\tlearn: 0.9563636\ttotal: 34.9ms\tremaining: 662ms\n",
            "5:\tlearn: 0.9563636\ttotal: 42.8ms\tremaining: 671ms\n",
            "6:\tlearn: 0.9581818\ttotal: 48.5ms\tremaining: 644ms\n",
            "7:\tlearn: 0.9545455\ttotal: 54ms\tremaining: 621ms\n",
            "8:\tlearn: 0.9581818\ttotal: 60.4ms\tremaining: 610ms\n",
            "9:\tlearn: 0.9581818\ttotal: 66.4ms\tremaining: 598ms\n",
            "10:\tlearn: 0.9618182\ttotal: 72.6ms\tremaining: 587ms\n",
            "11:\tlearn: 0.9636364\ttotal: 78.5ms\tremaining: 576ms\n",
            "12:\tlearn: 0.9636364\ttotal: 86.7ms\tremaining: 580ms\n",
            "13:\tlearn: 0.9672727\ttotal: 98.4ms\tremaining: 605ms\n",
            "14:\tlearn: 0.9654545\ttotal: 112ms\tremaining: 632ms\n",
            "15:\tlearn: 0.9654545\ttotal: 122ms\tremaining: 642ms\n",
            "16:\tlearn: 0.9654545\ttotal: 137ms\tremaining: 668ms\n",
            "17:\tlearn: 0.9654545\ttotal: 147ms\tremaining: 671ms\n",
            "18:\tlearn: 0.9690909\ttotal: 157ms\tremaining: 669ms\n",
            "19:\tlearn: 0.9709091\ttotal: 169ms\tremaining: 675ms\n",
            "20:\tlearn: 0.9690909\ttotal: 184ms\tremaining: 691ms\n",
            "21:\tlearn: 0.9709091\ttotal: 200ms\tremaining: 710ms\n",
            "22:\tlearn: 0.9727273\ttotal: 215ms\tremaining: 720ms\n",
            "23:\tlearn: 0.9690909\ttotal: 227ms\tremaining: 719ms\n",
            "24:\tlearn: 0.9727273\ttotal: 239ms\tremaining: 716ms\n",
            "25:\tlearn: 0.9745455\ttotal: 251ms\tremaining: 714ms\n",
            "26:\tlearn: 0.9727273\ttotal: 262ms\tremaining: 708ms\n",
            "27:\tlearn: 0.9727273\ttotal: 273ms\tremaining: 701ms\n",
            "28:\tlearn: 0.9745455\ttotal: 285ms\tremaining: 697ms\n",
            "29:\tlearn: 0.9745455\ttotal: 300ms\tremaining: 700ms\n",
            "30:\tlearn: 0.9745455\ttotal: 312ms\tremaining: 693ms\n",
            "31:\tlearn: 0.9745455\ttotal: 322ms\tremaining: 684ms\n",
            "32:\tlearn: 0.9745455\ttotal: 333ms\tremaining: 677ms\n",
            "33:\tlearn: 0.9745455\ttotal: 347ms\tremaining: 673ms\n",
            "34:\tlearn: 0.9763636\ttotal: 357ms\tremaining: 663ms\n",
            "35:\tlearn: 0.9763636\ttotal: 368ms\tremaining: 654ms\n",
            "36:\tlearn: 0.9763636\ttotal: 378ms\tremaining: 644ms\n",
            "37:\tlearn: 0.9763636\ttotal: 388ms\tremaining: 634ms\n",
            "38:\tlearn: 0.9745455\ttotal: 404ms\tremaining: 632ms\n",
            "39:\tlearn: 0.9727273\ttotal: 414ms\tremaining: 620ms\n",
            "40:\tlearn: 0.9727273\ttotal: 423ms\tremaining: 609ms\n",
            "41:\tlearn: 0.9745455\ttotal: 434ms\tremaining: 599ms\n",
            "42:\tlearn: 0.9745455\ttotal: 446ms\tremaining: 591ms\n",
            "43:\tlearn: 0.9745455\ttotal: 457ms\tremaining: 582ms\n",
            "44:\tlearn: 0.9745455\ttotal: 470ms\tremaining: 574ms\n",
            "45:\tlearn: 0.9745455\ttotal: 483ms\tremaining: 566ms\n",
            "46:\tlearn: 0.9745455\ttotal: 496ms\tremaining: 559ms\n",
            "47:\tlearn: 0.9745455\ttotal: 506ms\tremaining: 548ms\n",
            "48:\tlearn: 0.9745455\ttotal: 517ms\tremaining: 538ms\n",
            "49:\tlearn: 0.9745455\ttotal: 528ms\tremaining: 528ms\n",
            "50:\tlearn: 0.9745455\ttotal: 540ms\tremaining: 518ms\n",
            "51:\tlearn: 0.9745455\ttotal: 551ms\tremaining: 509ms\n",
            "52:\tlearn: 0.9745455\ttotal: 561ms\tremaining: 498ms\n",
            "53:\tlearn: 0.9745455\ttotal: 572ms\tremaining: 488ms\n",
            "54:\tlearn: 0.9745455\ttotal: 582ms\tremaining: 476ms\n",
            "55:\tlearn: 0.9745455\ttotal: 594ms\tremaining: 467ms\n",
            "56:\tlearn: 0.9745455\ttotal: 603ms\tremaining: 455ms\n",
            "57:\tlearn: 0.9745455\ttotal: 616ms\tremaining: 446ms\n",
            "58:\tlearn: 0.9745455\ttotal: 627ms\tremaining: 436ms\n",
            "59:\tlearn: 0.9745455\ttotal: 639ms\tremaining: 426ms\n",
            "60:\tlearn: 0.9745455\ttotal: 650ms\tremaining: 416ms\n",
            "61:\tlearn: 0.9745455\ttotal: 662ms\tremaining: 406ms\n",
            "62:\tlearn: 0.9745455\ttotal: 676ms\tremaining: 397ms\n",
            "63:\tlearn: 0.9745455\ttotal: 687ms\tremaining: 387ms\n",
            "64:\tlearn: 0.9745455\ttotal: 698ms\tremaining: 376ms\n",
            "65:\tlearn: 0.9745455\ttotal: 710ms\tremaining: 366ms\n",
            "66:\tlearn: 0.9781818\ttotal: 722ms\tremaining: 356ms\n",
            "67:\tlearn: 0.9800000\ttotal: 738ms\tremaining: 347ms\n",
            "68:\tlearn: 0.9800000\ttotal: 749ms\tremaining: 336ms\n",
            "69:\tlearn: 0.9800000\ttotal: 757ms\tremaining: 325ms\n",
            "70:\tlearn: 0.9800000\ttotal: 772ms\tremaining: 315ms\n",
            "71:\tlearn: 0.9818182\ttotal: 788ms\tremaining: 306ms\n",
            "72:\tlearn: 0.9800000\ttotal: 806ms\tremaining: 298ms\n",
            "73:\tlearn: 0.9800000\ttotal: 811ms\tremaining: 285ms\n",
            "74:\tlearn: 0.9800000\ttotal: 816ms\tremaining: 272ms\n",
            "75:\tlearn: 0.9800000\ttotal: 820ms\tremaining: 259ms\n",
            "76:\tlearn: 0.9818182\ttotal: 825ms\tremaining: 246ms\n",
            "77:\tlearn: 0.9818182\ttotal: 829ms\tremaining: 234ms\n",
            "78:\tlearn: 0.9818182\ttotal: 833ms\tremaining: 222ms\n",
            "79:\tlearn: 0.9818182\ttotal: 838ms\tremaining: 209ms\n",
            "80:\tlearn: 0.9818182\ttotal: 842ms\tremaining: 198ms\n",
            "81:\tlearn: 0.9818182\ttotal: 847ms\tremaining: 186ms\n",
            "82:\tlearn: 0.9818182\ttotal: 852ms\tremaining: 175ms\n",
            "83:\tlearn: 0.9818182\ttotal: 862ms\tremaining: 164ms\n",
            "84:\tlearn: 0.9818182\ttotal: 872ms\tremaining: 154ms\n",
            "85:\tlearn: 0.9818182\ttotal: 881ms\tremaining: 143ms\n",
            "86:\tlearn: 0.9818182\ttotal: 886ms\tremaining: 132ms\n",
            "87:\tlearn: 0.9818182\ttotal: 890ms\tremaining: 121ms\n",
            "88:\tlearn: 0.9818182\ttotal: 896ms\tremaining: 111ms\n",
            "89:\tlearn: 0.9818182\ttotal: 901ms\tremaining: 100ms\n",
            "90:\tlearn: 0.9818182\ttotal: 905ms\tremaining: 89.5ms\n",
            "91:\tlearn: 0.9818182\ttotal: 910ms\tremaining: 79.1ms\n",
            "92:\tlearn: 0.9818182\ttotal: 914ms\tremaining: 68.8ms\n",
            "93:\tlearn: 0.9818182\ttotal: 919ms\tremaining: 58.7ms\n",
            "94:\tlearn: 0.9818182\ttotal: 924ms\tremaining: 48.6ms\n",
            "95:\tlearn: 0.9836364\ttotal: 928ms\tremaining: 38.7ms\n",
            "96:\tlearn: 0.9836364\ttotal: 953ms\tremaining: 29.5ms\n",
            "97:\tlearn: 0.9836364\ttotal: 964ms\tremaining: 19.7ms\n",
            "98:\tlearn: 0.9836364\ttotal: 975ms\tremaining: 9.84ms\n",
            "99:\tlearn: 0.9836364\ttotal: 986ms\tremaining: 0us\n",
            "0:\tlearn: 0.9200000\ttotal: 13.1ms\tremaining: 1.29s\n",
            "1:\tlearn: 0.9436364\ttotal: 21.1ms\tremaining: 1.03s\n",
            "2:\tlearn: 0.9527273\ttotal: 27.3ms\tremaining: 883ms\n",
            "3:\tlearn: 0.9581818\ttotal: 31.7ms\tremaining: 760ms\n",
            "4:\tlearn: 0.9600000\ttotal: 42.3ms\tremaining: 804ms\n",
            "5:\tlearn: 0.9636364\ttotal: 50.8ms\tremaining: 796ms\n",
            "6:\tlearn: 0.9581818\ttotal: 56.2ms\tremaining: 746ms\n",
            "7:\tlearn: 0.9563636\ttotal: 69.7ms\tremaining: 802ms\n",
            "8:\tlearn: 0.9654545\ttotal: 76.7ms\tremaining: 775ms\n",
            "9:\tlearn: 0.9636364\ttotal: 81ms\tremaining: 729ms\n",
            "10:\tlearn: 0.9600000\ttotal: 87.4ms\tremaining: 707ms\n",
            "11:\tlearn: 0.9654545\ttotal: 91.7ms\tremaining: 673ms\n",
            "12:\tlearn: 0.9654545\ttotal: 97.7ms\tremaining: 654ms\n",
            "13:\tlearn: 0.9690909\ttotal: 107ms\tremaining: 660ms\n",
            "14:\tlearn: 0.9709091\ttotal: 121ms\tremaining: 686ms\n",
            "15:\tlearn: 0.9690909\ttotal: 129ms\tremaining: 675ms\n",
            "16:\tlearn: 0.9690909\ttotal: 133ms\tremaining: 649ms\n",
            "17:\tlearn: 0.9727273\ttotal: 146ms\tremaining: 664ms\n",
            "18:\tlearn: 0.9709091\ttotal: 156ms\tremaining: 665ms\n",
            "19:\tlearn: 0.9690909\ttotal: 167ms\tremaining: 667ms\n",
            "20:\tlearn: 0.9727273\ttotal: 177ms\tremaining: 665ms\n",
            "21:\tlearn: 0.9727273\ttotal: 187ms\tremaining: 663ms\n",
            "22:\tlearn: 0.9727273\ttotal: 200ms\tremaining: 671ms\n",
            "23:\tlearn: 0.9727273\ttotal: 213ms\tremaining: 674ms\n",
            "24:\tlearn: 0.9727273\ttotal: 225ms\tremaining: 674ms\n",
            "25:\tlearn: 0.9727273\ttotal: 238ms\tremaining: 676ms\n",
            "26:\tlearn: 0.9745455\ttotal: 250ms\tremaining: 675ms\n",
            "27:\tlearn: 0.9745455\ttotal: 261ms\tremaining: 671ms\n",
            "28:\tlearn: 0.9745455\ttotal: 273ms\tremaining: 669ms\n",
            "29:\tlearn: 0.9745455\ttotal: 284ms\tremaining: 663ms\n",
            "30:\tlearn: 0.9745455\ttotal: 292ms\tremaining: 650ms\n",
            "31:\tlearn: 0.9745455\ttotal: 298ms\tremaining: 632ms\n",
            "32:\tlearn: 0.9745455\ttotal: 305ms\tremaining: 618ms\n",
            "33:\tlearn: 0.9745455\ttotal: 309ms\tremaining: 600ms\n",
            "34:\tlearn: 0.9745455\ttotal: 314ms\tremaining: 582ms\n",
            "35:\tlearn: 0.9745455\ttotal: 318ms\tremaining: 565ms\n",
            "36:\tlearn: 0.9745455\ttotal: 322ms\tremaining: 549ms\n",
            "37:\tlearn: 0.9763636\ttotal: 332ms\tremaining: 542ms\n",
            "38:\tlearn: 0.9763636\ttotal: 340ms\tremaining: 531ms\n",
            "39:\tlearn: 0.9763636\ttotal: 344ms\tremaining: 516ms\n",
            "40:\tlearn: 0.9763636\ttotal: 348ms\tremaining: 501ms\n",
            "41:\tlearn: 0.9763636\ttotal: 353ms\tremaining: 487ms\n",
            "42:\tlearn: 0.9781818\ttotal: 357ms\tremaining: 473ms\n",
            "43:\tlearn: 0.9781818\ttotal: 361ms\tremaining: 460ms\n",
            "44:\tlearn: 0.9763636\ttotal: 366ms\tremaining: 447ms\n",
            "45:\tlearn: 0.9745455\ttotal: 370ms\tremaining: 435ms\n",
            "46:\tlearn: 0.9745455\ttotal: 375ms\tremaining: 422ms\n",
            "47:\tlearn: 0.9727273\ttotal: 379ms\tremaining: 411ms\n",
            "48:\tlearn: 0.9727273\ttotal: 383ms\tremaining: 399ms\n",
            "49:\tlearn: 0.9745455\ttotal: 388ms\tremaining: 388ms\n",
            "50:\tlearn: 0.9763636\ttotal: 397ms\tremaining: 381ms\n",
            "51:\tlearn: 0.9763636\ttotal: 401ms\tremaining: 370ms\n",
            "52:\tlearn: 0.9781818\ttotal: 405ms\tremaining: 359ms\n",
            "53:\tlearn: 0.9781818\ttotal: 410ms\tremaining: 349ms\n",
            "54:\tlearn: 0.9800000\ttotal: 414ms\tremaining: 339ms\n",
            "55:\tlearn: 0.9800000\ttotal: 418ms\tremaining: 329ms\n",
            "56:\tlearn: 0.9800000\ttotal: 423ms\tremaining: 319ms\n",
            "57:\tlearn: 0.9781818\ttotal: 431ms\tremaining: 312ms\n",
            "58:\tlearn: 0.9781818\ttotal: 437ms\tremaining: 303ms\n",
            "59:\tlearn: 0.9781818\ttotal: 441ms\tremaining: 294ms\n",
            "60:\tlearn: 0.9781818\ttotal: 446ms\tremaining: 285ms\n",
            "61:\tlearn: 0.9781818\ttotal: 451ms\tremaining: 276ms\n",
            "62:\tlearn: 0.9800000\ttotal: 455ms\tremaining: 267ms\n",
            "63:\tlearn: 0.9800000\ttotal: 460ms\tremaining: 259ms\n",
            "64:\tlearn: 0.9800000\ttotal: 464ms\tremaining: 250ms\n",
            "65:\tlearn: 0.9800000\ttotal: 469ms\tremaining: 242ms\n",
            "66:\tlearn: 0.9800000\ttotal: 473ms\tremaining: 233ms\n",
            "67:\tlearn: 0.9800000\ttotal: 478ms\tremaining: 225ms\n",
            "68:\tlearn: 0.9800000\ttotal: 483ms\tremaining: 217ms\n",
            "69:\tlearn: 0.9818182\ttotal: 489ms\tremaining: 209ms\n",
            "70:\tlearn: 0.9818182\ttotal: 506ms\tremaining: 207ms\n",
            "71:\tlearn: 0.9818182\ttotal: 512ms\tremaining: 199ms\n",
            "72:\tlearn: 0.9800000\ttotal: 517ms\tremaining: 191ms\n",
            "73:\tlearn: 0.9800000\ttotal: 522ms\tremaining: 183ms\n",
            "74:\tlearn: 0.9800000\ttotal: 527ms\tremaining: 176ms\n",
            "75:\tlearn: 0.9800000\ttotal: 534ms\tremaining: 169ms\n",
            "76:\tlearn: 0.9800000\ttotal: 540ms\tremaining: 161ms\n",
            "77:\tlearn: 0.9800000\ttotal: 545ms\tremaining: 154ms\n",
            "78:\tlearn: 0.9800000\ttotal: 550ms\tremaining: 146ms\n",
            "79:\tlearn: 0.9800000\ttotal: 554ms\tremaining: 139ms\n",
            "80:\tlearn: 0.9800000\ttotal: 559ms\tremaining: 131ms\n",
            "81:\tlearn: 0.9800000\ttotal: 563ms\tremaining: 124ms\n",
            "82:\tlearn: 0.9818182\ttotal: 568ms\tremaining: 116ms\n",
            "83:\tlearn: 0.9818182\ttotal: 572ms\tremaining: 109ms\n",
            "84:\tlearn: 0.9818182\ttotal: 577ms\tremaining: 102ms\n",
            "85:\tlearn: 0.9818182\ttotal: 581ms\tremaining: 94.6ms\n",
            "86:\tlearn: 0.9818182\ttotal: 586ms\tremaining: 87.5ms\n",
            "87:\tlearn: 0.9818182\ttotal: 594ms\tremaining: 80.9ms\n",
            "88:\tlearn: 0.9818182\ttotal: 598ms\tremaining: 74ms\n",
            "89:\tlearn: 0.9818182\ttotal: 603ms\tremaining: 67ms\n",
            "90:\tlearn: 0.9818182\ttotal: 607ms\tremaining: 60.1ms\n",
            "91:\tlearn: 0.9818182\ttotal: 612ms\tremaining: 53.2ms\n",
            "92:\tlearn: 0.9818182\ttotal: 616ms\tremaining: 46.4ms\n",
            "93:\tlearn: 0.9818182\ttotal: 621ms\tremaining: 39.6ms\n",
            "94:\tlearn: 0.9818182\ttotal: 626ms\tremaining: 33ms\n",
            "95:\tlearn: 0.9818182\ttotal: 632ms\tremaining: 26.3ms\n",
            "96:\tlearn: 0.9818182\ttotal: 639ms\tremaining: 19.8ms\n",
            "97:\tlearn: 0.9818182\ttotal: 650ms\tremaining: 13.3ms\n",
            "98:\tlearn: 0.9818182\ttotal: 654ms\tremaining: 6.61ms\n",
            "99:\tlearn: 0.9818182\ttotal: 659ms\tremaining: 0us\n",
            "0:\tlearn: 0.9254545\ttotal: 4.44ms\tremaining: 440ms\n",
            "1:\tlearn: 0.9527273\ttotal: 8.71ms\tremaining: 427ms\n",
            "2:\tlearn: 0.9600000\ttotal: 13ms\tremaining: 421ms\n",
            "3:\tlearn: 0.9600000\ttotal: 17.2ms\tremaining: 414ms\n",
            "4:\tlearn: 0.9618182\ttotal: 21.8ms\tremaining: 414ms\n",
            "5:\tlearn: 0.9581818\ttotal: 26.2ms\tremaining: 410ms\n",
            "6:\tlearn: 0.9581818\ttotal: 30.7ms\tremaining: 407ms\n",
            "7:\tlearn: 0.9581818\ttotal: 35.1ms\tremaining: 403ms\n",
            "8:\tlearn: 0.9618182\ttotal: 41.3ms\tremaining: 418ms\n",
            "9:\tlearn: 0.9636364\ttotal: 46.6ms\tremaining: 420ms\n",
            "10:\tlearn: 0.9600000\ttotal: 50.8ms\tremaining: 411ms\n",
            "11:\tlearn: 0.9618182\ttotal: 55ms\tremaining: 404ms\n",
            "12:\tlearn: 0.9636364\ttotal: 59.5ms\tremaining: 398ms\n",
            "13:\tlearn: 0.9672727\ttotal: 63.9ms\tremaining: 393ms\n",
            "14:\tlearn: 0.9636364\ttotal: 68.4ms\tremaining: 388ms\n",
            "15:\tlearn: 0.9636364\ttotal: 72.7ms\tremaining: 382ms\n",
            "16:\tlearn: 0.9618182\ttotal: 77.2ms\tremaining: 377ms\n",
            "17:\tlearn: 0.9636364\ttotal: 81.6ms\tremaining: 372ms\n",
            "18:\tlearn: 0.9672727\ttotal: 86ms\tremaining: 366ms\n",
            "19:\tlearn: 0.9690909\ttotal: 90.3ms\tremaining: 361ms\n",
            "20:\tlearn: 0.9690909\ttotal: 100ms\tremaining: 378ms\n",
            "21:\tlearn: 0.9709091\ttotal: 115ms\tremaining: 408ms\n",
            "22:\tlearn: 0.9709091\ttotal: 120ms\tremaining: 402ms\n",
            "23:\tlearn: 0.9727273\ttotal: 124ms\tremaining: 394ms\n",
            "24:\tlearn: 0.9709091\ttotal: 129ms\tremaining: 388ms\n",
            "25:\tlearn: 0.9690909\ttotal: 136ms\tremaining: 386ms\n",
            "26:\tlearn: 0.9727273\ttotal: 142ms\tremaining: 384ms\n",
            "27:\tlearn: 0.9727273\ttotal: 147ms\tremaining: 379ms\n",
            "28:\tlearn: 0.9727273\ttotal: 152ms\tremaining: 371ms\n",
            "29:\tlearn: 0.9745455\ttotal: 156ms\tremaining: 364ms\n",
            "30:\tlearn: 0.9745455\ttotal: 161ms\tremaining: 358ms\n",
            "31:\tlearn: 0.9745455\ttotal: 165ms\tremaining: 351ms\n",
            "32:\tlearn: 0.9745455\ttotal: 170ms\tremaining: 345ms\n",
            "33:\tlearn: 0.9745455\ttotal: 174ms\tremaining: 338ms\n",
            "34:\tlearn: 0.9763636\ttotal: 179ms\tremaining: 332ms\n",
            "35:\tlearn: 0.9763636\ttotal: 183ms\tremaining: 326ms\n",
            "36:\tlearn: 0.9763636\ttotal: 188ms\tremaining: 319ms\n",
            "37:\tlearn: 0.9763636\ttotal: 192ms\tremaining: 313ms\n",
            "38:\tlearn: 0.9781818\ttotal: 201ms\tremaining: 315ms\n",
            "39:\tlearn: 0.9781818\ttotal: 206ms\tremaining: 309ms\n",
            "40:\tlearn: 0.9781818\ttotal: 211ms\tremaining: 303ms\n",
            "41:\tlearn: 0.9781818\ttotal: 215ms\tremaining: 297ms\n",
            "42:\tlearn: 0.9763636\ttotal: 220ms\tremaining: 291ms\n",
            "43:\tlearn: 0.9763636\ttotal: 224ms\tremaining: 285ms\n",
            "44:\tlearn: 0.9745455\ttotal: 228ms\tremaining: 279ms\n",
            "45:\tlearn: 0.9763636\ttotal: 236ms\tremaining: 277ms\n",
            "46:\tlearn: 0.9763636\ttotal: 241ms\tremaining: 272ms\n",
            "47:\tlearn: 0.9763636\ttotal: 246ms\tremaining: 266ms\n",
            "48:\tlearn: 0.9763636\ttotal: 250ms\tremaining: 260ms\n",
            "49:\tlearn: 0.9763636\ttotal: 254ms\tremaining: 254ms\n",
            "50:\tlearn: 0.9763636\ttotal: 259ms\tremaining: 249ms\n",
            "51:\tlearn: 0.9763636\ttotal: 263ms\tremaining: 243ms\n",
            "52:\tlearn: 0.9781818\ttotal: 268ms\tremaining: 237ms\n",
            "53:\tlearn: 0.9781818\ttotal: 272ms\tremaining: 232ms\n",
            "54:\tlearn: 0.9781818\ttotal: 277ms\tremaining: 226ms\n",
            "55:\tlearn: 0.9781818\ttotal: 281ms\tremaining: 221ms\n",
            "56:\tlearn: 0.9781818\ttotal: 285ms\tremaining: 215ms\n",
            "57:\tlearn: 0.9781818\ttotal: 290ms\tremaining: 210ms\n",
            "58:\tlearn: 0.9763636\ttotal: 299ms\tremaining: 208ms\n",
            "59:\tlearn: 0.9727273\ttotal: 305ms\tremaining: 203ms\n",
            "60:\tlearn: 0.9727273\ttotal: 309ms\tremaining: 198ms\n",
            "61:\tlearn: 0.9745455\ttotal: 314ms\tremaining: 193ms\n",
            "62:\tlearn: 0.9745455\ttotal: 319ms\tremaining: 187ms\n",
            "63:\tlearn: 0.9745455\ttotal: 324ms\tremaining: 182ms\n",
            "64:\tlearn: 0.9745455\ttotal: 330ms\tremaining: 178ms\n",
            "65:\tlearn: 0.9745455\ttotal: 334ms\tremaining: 172ms\n",
            "66:\tlearn: 0.9745455\ttotal: 339ms\tremaining: 167ms\n",
            "67:\tlearn: 0.9781818\ttotal: 343ms\tremaining: 161ms\n",
            "68:\tlearn: 0.9763636\ttotal: 347ms\tremaining: 156ms\n",
            "69:\tlearn: 0.9745455\ttotal: 351ms\tremaining: 150ms\n",
            "70:\tlearn: 0.9781818\ttotal: 356ms\tremaining: 145ms\n",
            "71:\tlearn: 0.9781818\ttotal: 360ms\tremaining: 140ms\n",
            "72:\tlearn: 0.9781818\ttotal: 365ms\tremaining: 135ms\n",
            "73:\tlearn: 0.9800000\ttotal: 369ms\tremaining: 130ms\n",
            "74:\tlearn: 0.9800000\ttotal: 378ms\tremaining: 126ms\n",
            "75:\tlearn: 0.9800000\ttotal: 390ms\tremaining: 123ms\n",
            "76:\tlearn: 0.9800000\ttotal: 399ms\tremaining: 119ms\n",
            "77:\tlearn: 0.9800000\ttotal: 403ms\tremaining: 114ms\n",
            "78:\tlearn: 0.9818182\ttotal: 409ms\tremaining: 109ms\n",
            "79:\tlearn: 0.9818182\ttotal: 414ms\tremaining: 103ms\n",
            "80:\tlearn: 0.9818182\ttotal: 418ms\tremaining: 98ms\n",
            "81:\tlearn: 0.9836364\ttotal: 422ms\tremaining: 92.7ms\n",
            "82:\tlearn: 0.9836364\ttotal: 427ms\tremaining: 87.4ms\n",
            "83:\tlearn: 0.9854545\ttotal: 434ms\tremaining: 82.7ms\n",
            "84:\tlearn: 0.9836364\ttotal: 439ms\tremaining: 77.5ms\n",
            "85:\tlearn: 0.9836364\ttotal: 444ms\tremaining: 72.2ms\n",
            "86:\tlearn: 0.9836364\ttotal: 448ms\tremaining: 67ms\n",
            "87:\tlearn: 0.9854545\ttotal: 453ms\tremaining: 61.7ms\n",
            "88:\tlearn: 0.9854545\ttotal: 457ms\tremaining: 56.5ms\n",
            "89:\tlearn: 0.9854545\ttotal: 461ms\tremaining: 51.3ms\n",
            "90:\tlearn: 0.9854545\ttotal: 466ms\tremaining: 46.1ms\n",
            "91:\tlearn: 0.9854545\ttotal: 471ms\tremaining: 40.9ms\n",
            "92:\tlearn: 0.9854545\ttotal: 475ms\tremaining: 35.8ms\n",
            "93:\tlearn: 0.9854545\ttotal: 480ms\tremaining: 30.6ms\n",
            "94:\tlearn: 0.9854545\ttotal: 485ms\tremaining: 25.5ms\n",
            "95:\tlearn: 0.9854545\ttotal: 490ms\tremaining: 20.4ms\n",
            "96:\tlearn: 0.9854545\ttotal: 499ms\tremaining: 15.4ms\n",
            "97:\tlearn: 0.9836364\ttotal: 503ms\tremaining: 10.3ms\n",
            "98:\tlearn: 0.9836364\ttotal: 508ms\tremaining: 5.13ms\n",
            "99:\tlearn: 0.9854545\ttotal: 521ms\tremaining: 0us\n",
            "0:\tlearn: 0.9018182\ttotal: 4.44ms\tremaining: 439ms\n",
            "1:\tlearn: 0.9436364\ttotal: 9.09ms\tremaining: 445ms\n",
            "2:\tlearn: 0.9545455\ttotal: 13.8ms\tremaining: 445ms\n",
            "3:\tlearn: 0.9527273\ttotal: 18.4ms\tremaining: 441ms\n",
            "4:\tlearn: 0.9563636\ttotal: 23ms\tremaining: 437ms\n",
            "5:\tlearn: 0.9545455\ttotal: 27.5ms\tremaining: 431ms\n",
            "6:\tlearn: 0.9581818\ttotal: 32ms\tremaining: 425ms\n",
            "7:\tlearn: 0.9600000\ttotal: 36.5ms\tremaining: 420ms\n",
            "8:\tlearn: 0.9600000\ttotal: 41.2ms\tremaining: 417ms\n",
            "9:\tlearn: 0.9600000\ttotal: 49.9ms\tremaining: 449ms\n",
            "10:\tlearn: 0.9600000\ttotal: 54.7ms\tremaining: 442ms\n",
            "11:\tlearn: 0.9600000\ttotal: 59.1ms\tremaining: 434ms\n",
            "12:\tlearn: 0.9636364\ttotal: 63.8ms\tremaining: 427ms\n",
            "13:\tlearn: 0.9654545\ttotal: 68.5ms\tremaining: 421ms\n",
            "14:\tlearn: 0.9636364\ttotal: 73.2ms\tremaining: 415ms\n",
            "15:\tlearn: 0.9636364\ttotal: 77.9ms\tremaining: 409ms\n",
            "16:\tlearn: 0.9636364\ttotal: 86.6ms\tremaining: 423ms\n",
            "17:\tlearn: 0.9672727\ttotal: 91.6ms\tremaining: 417ms\n",
            "18:\tlearn: 0.9636364\ttotal: 96.2ms\tremaining: 410ms\n",
            "19:\tlearn: 0.9636364\ttotal: 101ms\tremaining: 403ms\n",
            "20:\tlearn: 0.9672727\ttotal: 105ms\tremaining: 396ms\n",
            "21:\tlearn: 0.9709091\ttotal: 110ms\tremaining: 390ms\n",
            "22:\tlearn: 0.9745455\ttotal: 114ms\tremaining: 383ms\n",
            "23:\tlearn: 0.9690909\ttotal: 119ms\tremaining: 377ms\n",
            "24:\tlearn: 0.9709091\ttotal: 124ms\tremaining: 371ms\n",
            "25:\tlearn: 0.9709091\ttotal: 129ms\tremaining: 367ms\n",
            "26:\tlearn: 0.9745455\ttotal: 134ms\tremaining: 361ms\n",
            "27:\tlearn: 0.9727273\ttotal: 139ms\tremaining: 359ms\n",
            "28:\tlearn: 0.9745455\ttotal: 146ms\tremaining: 358ms\n",
            "29:\tlearn: 0.9745455\ttotal: 151ms\tremaining: 351ms\n",
            "30:\tlearn: 0.9745455\ttotal: 155ms\tremaining: 345ms\n",
            "31:\tlearn: 0.9745455\ttotal: 159ms\tremaining: 338ms\n",
            "32:\tlearn: 0.9745455\ttotal: 165ms\tremaining: 334ms\n",
            "33:\tlearn: 0.9745455\ttotal: 174ms\tremaining: 339ms\n",
            "34:\tlearn: 0.9745455\ttotal: 179ms\tremaining: 332ms\n",
            "35:\tlearn: 0.9745455\ttotal: 183ms\tremaining: 326ms\n",
            "36:\tlearn: 0.9745455\ttotal: 187ms\tremaining: 319ms\n",
            "37:\tlearn: 0.9745455\ttotal: 192ms\tremaining: 313ms\n",
            "38:\tlearn: 0.9763636\ttotal: 196ms\tremaining: 307ms\n",
            "39:\tlearn: 0.9763636\ttotal: 212ms\tremaining: 318ms\n",
            "40:\tlearn: 0.9763636\ttotal: 216ms\tremaining: 311ms\n",
            "41:\tlearn: 0.9763636\ttotal: 221ms\tremaining: 305ms\n",
            "42:\tlearn: 0.9763636\ttotal: 225ms\tremaining: 298ms\n",
            "43:\tlearn: 0.9745455\ttotal: 229ms\tremaining: 291ms\n",
            "44:\tlearn: 0.9745455\ttotal: 233ms\tremaining: 285ms\n",
            "45:\tlearn: 0.9763636\ttotal: 238ms\tremaining: 279ms\n",
            "46:\tlearn: 0.9763636\ttotal: 246ms\tremaining: 277ms\n",
            "47:\tlearn: 0.9763636\ttotal: 251ms\tremaining: 272ms\n",
            "48:\tlearn: 0.9763636\ttotal: 255ms\tremaining: 266ms\n",
            "49:\tlearn: 0.9763636\ttotal: 260ms\tremaining: 260ms\n",
            "50:\tlearn: 0.9763636\ttotal: 264ms\tremaining: 253ms\n",
            "51:\tlearn: 0.9763636\ttotal: 268ms\tremaining: 247ms\n",
            "52:\tlearn: 0.9763636\ttotal: 272ms\tremaining: 242ms\n",
            "53:\tlearn: 0.9763636\ttotal: 279ms\tremaining: 238ms\n",
            "54:\tlearn: 0.9763636\ttotal: 284ms\tremaining: 232ms\n",
            "55:\tlearn: 0.9763636\ttotal: 290ms\tremaining: 228ms\n",
            "56:\tlearn: 0.9763636\ttotal: 294ms\tremaining: 222ms\n",
            "57:\tlearn: 0.9763636\ttotal: 299ms\tremaining: 216ms\n",
            "58:\tlearn: 0.9763636\ttotal: 303ms\tremaining: 211ms\n",
            "59:\tlearn: 0.9763636\ttotal: 308ms\tremaining: 205ms\n",
            "60:\tlearn: 0.9781818\ttotal: 312ms\tremaining: 200ms\n",
            "61:\tlearn: 0.9781818\ttotal: 317ms\tremaining: 194ms\n",
            "62:\tlearn: 0.9763636\ttotal: 321ms\tremaining: 189ms\n",
            "63:\tlearn: 0.9781818\ttotal: 326ms\tremaining: 183ms\n",
            "64:\tlearn: 0.9781818\ttotal: 335ms\tremaining: 180ms\n",
            "65:\tlearn: 0.9781818\ttotal: 340ms\tremaining: 175ms\n",
            "66:\tlearn: 0.9781818\ttotal: 344ms\tremaining: 169ms\n",
            "67:\tlearn: 0.9781818\ttotal: 348ms\tremaining: 164ms\n",
            "68:\tlearn: 0.9781818\ttotal: 353ms\tremaining: 159ms\n",
            "69:\tlearn: 0.9781818\ttotal: 360ms\tremaining: 154ms\n",
            "70:\tlearn: 0.9781818\ttotal: 368ms\tremaining: 150ms\n",
            "71:\tlearn: 0.9763636\ttotal: 377ms\tremaining: 147ms\n",
            "72:\tlearn: 0.9763636\ttotal: 381ms\tremaining: 141ms\n",
            "73:\tlearn: 0.9781818\ttotal: 385ms\tremaining: 135ms\n",
            "74:\tlearn: 0.9800000\ttotal: 389ms\tremaining: 130ms\n",
            "75:\tlearn: 0.9800000\ttotal: 394ms\tremaining: 124ms\n",
            "76:\tlearn: 0.9800000\ttotal: 398ms\tremaining: 119ms\n",
            "77:\tlearn: 0.9800000\ttotal: 403ms\tremaining: 114ms\n",
            "78:\tlearn: 0.9800000\ttotal: 407ms\tremaining: 108ms\n",
            "79:\tlearn: 0.9800000\ttotal: 411ms\tremaining: 103ms\n",
            "80:\tlearn: 0.9800000\ttotal: 415ms\tremaining: 97.4ms\n",
            "81:\tlearn: 0.9800000\ttotal: 420ms\tremaining: 92.1ms\n",
            "82:\tlearn: 0.9800000\ttotal: 424ms\tremaining: 86.9ms\n",
            "83:\tlearn: 0.9800000\ttotal: 429ms\tremaining: 81.7ms\n",
            "84:\tlearn: 0.9800000\ttotal: 436ms\tremaining: 76.9ms\n",
            "85:\tlearn: 0.9818182\ttotal: 441ms\tremaining: 71.8ms\n",
            "86:\tlearn: 0.9818182\ttotal: 445ms\tremaining: 66.6ms\n",
            "87:\tlearn: 0.9818182\ttotal: 450ms\tremaining: 61.3ms\n",
            "88:\tlearn: 0.9818182\ttotal: 454ms\tremaining: 56.1ms\n",
            "89:\tlearn: 0.9818182\ttotal: 458ms\tremaining: 50.9ms\n",
            "90:\tlearn: 0.9818182\ttotal: 462ms\tremaining: 45.7ms\n",
            "91:\tlearn: 0.9818182\ttotal: 469ms\tremaining: 40.8ms\n",
            "92:\tlearn: 0.9836364\ttotal: 474ms\tremaining: 35.7ms\n",
            "93:\tlearn: 0.9818182\ttotal: 479ms\tremaining: 30.5ms\n",
            "94:\tlearn: 0.9872727\ttotal: 483ms\tremaining: 25.4ms\n",
            "95:\tlearn: 0.9872727\ttotal: 487ms\tremaining: 20.3ms\n",
            "96:\tlearn: 0.9872727\ttotal: 492ms\tremaining: 15.2ms\n",
            "97:\tlearn: 0.9872727\ttotal: 496ms\tremaining: 10.1ms\n",
            "98:\tlearn: 0.9872727\ttotal: 501ms\tremaining: 5.06ms\n",
            "99:\tlearn: 0.9872727\ttotal: 508ms\tremaining: 0us\n",
            "0:\tlearn: 0.9218182\ttotal: 4.42ms\tremaining: 438ms\n",
            "1:\tlearn: 0.9618182\ttotal: 9.18ms\tremaining: 450ms\n",
            "2:\tlearn: 0.9600000\ttotal: 13.7ms\tremaining: 443ms\n",
            "3:\tlearn: 0.9545455\ttotal: 18.3ms\tremaining: 439ms\n",
            "4:\tlearn: 0.9600000\ttotal: 22.8ms\tremaining: 433ms\n",
            "5:\tlearn: 0.9581818\ttotal: 27.3ms\tremaining: 427ms\n",
            "6:\tlearn: 0.9600000\ttotal: 32.5ms\tremaining: 431ms\n",
            "7:\tlearn: 0.9618182\ttotal: 36.8ms\tremaining: 423ms\n",
            "8:\tlearn: 0.9618182\ttotal: 41.1ms\tremaining: 415ms\n",
            "9:\tlearn: 0.9636364\ttotal: 45.5ms\tremaining: 409ms\n",
            "10:\tlearn: 0.9654545\ttotal: 49.8ms\tremaining: 403ms\n",
            "11:\tlearn: 0.9636364\ttotal: 54.3ms\tremaining: 398ms\n",
            "12:\tlearn: 0.9636364\ttotal: 58.7ms\tremaining: 393ms\n",
            "13:\tlearn: 0.9690909\ttotal: 63.1ms\tremaining: 388ms\n",
            "14:\tlearn: 0.9690909\ttotal: 67.8ms\tremaining: 384ms\n",
            "15:\tlearn: 0.9709091\ttotal: 72.2ms\tremaining: 379ms\n",
            "16:\tlearn: 0.9690909\ttotal: 76.7ms\tremaining: 374ms\n",
            "17:\tlearn: 0.9690909\ttotal: 81ms\tremaining: 369ms\n",
            "18:\tlearn: 0.9690909\ttotal: 88.7ms\tremaining: 378ms\n",
            "19:\tlearn: 0.9672727\ttotal: 92.8ms\tremaining: 371ms\n",
            "20:\tlearn: 0.9690909\ttotal: 97.1ms\tremaining: 365ms\n",
            "21:\tlearn: 0.9709091\ttotal: 101ms\tremaining: 359ms\n",
            "22:\tlearn: 0.9709091\ttotal: 106ms\tremaining: 354ms\n",
            "23:\tlearn: 0.9709091\ttotal: 110ms\tremaining: 349ms\n",
            "24:\tlearn: 0.9727273\ttotal: 116ms\tremaining: 347ms\n",
            "25:\tlearn: 0.9727273\ttotal: 120ms\tremaining: 342ms\n",
            "26:\tlearn: 0.9690909\ttotal: 126ms\tremaining: 342ms\n",
            "27:\tlearn: 0.9709091\ttotal: 131ms\tremaining: 336ms\n",
            "28:\tlearn: 0.9709091\ttotal: 135ms\tremaining: 331ms\n",
            "29:\tlearn: 0.9709091\ttotal: 143ms\tremaining: 334ms\n",
            "30:\tlearn: 0.9709091\ttotal: 155ms\tremaining: 346ms\n",
            "31:\tlearn: 0.9709091\ttotal: 160ms\tremaining: 340ms\n",
            "32:\tlearn: 0.9727273\ttotal: 165ms\tremaining: 334ms\n",
            "33:\tlearn: 0.9727273\ttotal: 169ms\tremaining: 328ms\n",
            "34:\tlearn: 0.9727273\ttotal: 174ms\tremaining: 322ms\n",
            "35:\tlearn: 0.9727273\ttotal: 178ms\tremaining: 316ms\n",
            "36:\tlearn: 0.9727273\ttotal: 185ms\tremaining: 316ms\n",
            "37:\tlearn: 0.9727273\ttotal: 190ms\tremaining: 310ms\n",
            "38:\tlearn: 0.9727273\ttotal: 197ms\tremaining: 308ms\n",
            "39:\tlearn: 0.9745455\ttotal: 202ms\tremaining: 303ms\n",
            "40:\tlearn: 0.9763636\ttotal: 206ms\tremaining: 297ms\n",
            "41:\tlearn: 0.9763636\ttotal: 211ms\tremaining: 291ms\n",
            "42:\tlearn: 0.9745455\ttotal: 215ms\tremaining: 285ms\n",
            "43:\tlearn: 0.9745455\ttotal: 220ms\tremaining: 279ms\n",
            "44:\tlearn: 0.9745455\ttotal: 224ms\tremaining: 274ms\n",
            "45:\tlearn: 0.9745455\ttotal: 229ms\tremaining: 269ms\n",
            "46:\tlearn: 0.9745455\ttotal: 233ms\tremaining: 263ms\n",
            "47:\tlearn: 0.9745455\ttotal: 238ms\tremaining: 257ms\n",
            "48:\tlearn: 0.9745455\ttotal: 242ms\tremaining: 252ms\n",
            "49:\tlearn: 0.9781818\ttotal: 246ms\tremaining: 246ms\n",
            "50:\tlearn: 0.9781818\ttotal: 251ms\tremaining: 241ms\n",
            "51:\tlearn: 0.9781818\ttotal: 257ms\tremaining: 237ms\n",
            "52:\tlearn: 0.9781818\ttotal: 262ms\tremaining: 232ms\n",
            "53:\tlearn: 0.9781818\ttotal: 266ms\tremaining: 227ms\n",
            "54:\tlearn: 0.9781818\ttotal: 271ms\tremaining: 221ms\n",
            "55:\tlearn: 0.9781818\ttotal: 280ms\tremaining: 220ms\n",
            "56:\tlearn: 0.9781818\ttotal: 285ms\tremaining: 215ms\n",
            "57:\tlearn: 0.9763636\ttotal: 289ms\tremaining: 210ms\n",
            "58:\tlearn: 0.9781818\ttotal: 294ms\tremaining: 204ms\n",
            "59:\tlearn: 0.9745455\ttotal: 303ms\tremaining: 202ms\n",
            "60:\tlearn: 0.9763636\ttotal: 314ms\tremaining: 200ms\n",
            "61:\tlearn: 0.9763636\ttotal: 326ms\tremaining: 200ms\n",
            "62:\tlearn: 0.9763636\ttotal: 337ms\tremaining: 198ms\n",
            "63:\tlearn: 0.9763636\ttotal: 348ms\tremaining: 196ms\n",
            "64:\tlearn: 0.9763636\ttotal: 358ms\tremaining: 193ms\n",
            "65:\tlearn: 0.9763636\ttotal: 371ms\tremaining: 191ms\n",
            "66:\tlearn: 0.9763636\ttotal: 387ms\tremaining: 190ms\n",
            "67:\tlearn: 0.9800000\ttotal: 399ms\tremaining: 188ms\n",
            "68:\tlearn: 0.9781818\ttotal: 410ms\tremaining: 184ms\n",
            "69:\tlearn: 0.9818182\ttotal: 425ms\tremaining: 182ms\n",
            "70:\tlearn: 0.9800000\ttotal: 435ms\tremaining: 178ms\n",
            "71:\tlearn: 0.9818182\ttotal: 459ms\tremaining: 178ms\n",
            "72:\tlearn: 0.9818182\ttotal: 472ms\tremaining: 175ms\n",
            "73:\tlearn: 0.9818182\ttotal: 485ms\tremaining: 170ms\n",
            "74:\tlearn: 0.9818182\ttotal: 497ms\tremaining: 166ms\n",
            "75:\tlearn: 0.9818182\ttotal: 509ms\tremaining: 161ms\n",
            "76:\tlearn: 0.9836364\ttotal: 520ms\tremaining: 155ms\n",
            "77:\tlearn: 0.9836364\ttotal: 532ms\tremaining: 150ms\n",
            "78:\tlearn: 0.9836364\ttotal: 543ms\tremaining: 144ms\n",
            "79:\tlearn: 0.9836364\ttotal: 555ms\tremaining: 139ms\n",
            "80:\tlearn: 0.9836364\ttotal: 565ms\tremaining: 133ms\n",
            "81:\tlearn: 0.9854545\ttotal: 578ms\tremaining: 127ms\n",
            "82:\tlearn: 0.9854545\ttotal: 587ms\tremaining: 120ms\n",
            "83:\tlearn: 0.9854545\ttotal: 598ms\tremaining: 114ms\n",
            "84:\tlearn: 0.9854545\ttotal: 608ms\tremaining: 107ms\n",
            "85:\tlearn: 0.9854545\ttotal: 621ms\tremaining: 101ms\n",
            "86:\tlearn: 0.9854545\ttotal: 631ms\tremaining: 94.3ms\n",
            "87:\tlearn: 0.9854545\ttotal: 642ms\tremaining: 87.5ms\n",
            "88:\tlearn: 0.9854545\ttotal: 652ms\tremaining: 80.6ms\n",
            "89:\tlearn: 0.9854545\ttotal: 670ms\tremaining: 74.5ms\n",
            "90:\tlearn: 0.9854545\ttotal: 682ms\tremaining: 67.5ms\n",
            "91:\tlearn: 0.9854545\ttotal: 697ms\tremaining: 60.6ms\n",
            "92:\tlearn: 0.9854545\ttotal: 710ms\tremaining: 53.5ms\n",
            "93:\tlearn: 0.9854545\ttotal: 723ms\tremaining: 46.1ms\n",
            "94:\tlearn: 0.9854545\ttotal: 736ms\tremaining: 38.7ms\n",
            "95:\tlearn: 0.9854545\ttotal: 744ms\tremaining: 31ms\n",
            "96:\tlearn: 0.9854545\ttotal: 755ms\tremaining: 23.3ms\n",
            "97:\tlearn: 0.9854545\ttotal: 764ms\tremaining: 15.6ms\n",
            "98:\tlearn: 0.9854545\ttotal: 782ms\tremaining: 7.9ms\n",
            "99:\tlearn: 0.9854545\ttotal: 794ms\tremaining: 0us\n",
            "0:\tlearn: 0.9090909\ttotal: 11.5ms\tremaining: 1.14s\n",
            "1:\tlearn: 0.9418182\ttotal: 29.4ms\tremaining: 1.44s\n",
            "2:\tlearn: 0.9527273\ttotal: 39.9ms\tremaining: 1.29s\n",
            "3:\tlearn: 0.9545455\ttotal: 54.7ms\tremaining: 1.31s\n",
            "4:\tlearn: 0.9600000\ttotal: 66.3ms\tremaining: 1.26s\n",
            "5:\tlearn: 0.9654545\ttotal: 77.1ms\tremaining: 1.21s\n",
            "6:\tlearn: 0.9654545\ttotal: 95.7ms\tremaining: 1.27s\n",
            "7:\tlearn: 0.9618182\ttotal: 105ms\tremaining: 1.21s\n",
            "8:\tlearn: 0.9654545\ttotal: 115ms\tremaining: 1.17s\n",
            "9:\tlearn: 0.9636364\ttotal: 125ms\tremaining: 1.12s\n",
            "10:\tlearn: 0.9672727\ttotal: 142ms\tremaining: 1.15s\n",
            "11:\tlearn: 0.9654545\ttotal: 161ms\tremaining: 1.18s\n",
            "12:\tlearn: 0.9672727\ttotal: 194ms\tremaining: 1.3s\n",
            "13:\tlearn: 0.9672727\ttotal: 210ms\tremaining: 1.29s\n",
            "14:\tlearn: 0.9709091\ttotal: 227ms\tremaining: 1.29s\n",
            "15:\tlearn: 0.9745455\ttotal: 239ms\tremaining: 1.25s\n",
            "16:\tlearn: 0.9709091\ttotal: 267ms\tremaining: 1.3s\n",
            "17:\tlearn: 0.9745455\ttotal: 277ms\tremaining: 1.26s\n",
            "18:\tlearn: 0.9745455\ttotal: 287ms\tremaining: 1.22s\n",
            "19:\tlearn: 0.9763636\ttotal: 296ms\tremaining: 1.18s\n",
            "20:\tlearn: 0.9745455\ttotal: 313ms\tremaining: 1.18s\n",
            "21:\tlearn: 0.9763636\ttotal: 325ms\tremaining: 1.15s\n",
            "22:\tlearn: 0.9763636\ttotal: 339ms\tremaining: 1.13s\n",
            "23:\tlearn: 0.9763636\ttotal: 363ms\tremaining: 1.15s\n",
            "24:\tlearn: 0.9763636\ttotal: 376ms\tremaining: 1.13s\n",
            "25:\tlearn: 0.9763636\ttotal: 390ms\tremaining: 1.11s\n",
            "26:\tlearn: 0.9763636\ttotal: 419ms\tremaining: 1.13s\n",
            "27:\tlearn: 0.9745455\ttotal: 445ms\tremaining: 1.14s\n",
            "28:\tlearn: 0.9763636\ttotal: 456ms\tremaining: 1.12s\n",
            "29:\tlearn: 0.9763636\ttotal: 466ms\tremaining: 1.09s\n",
            "30:\tlearn: 0.9763636\ttotal: 475ms\tremaining: 1.06s\n",
            "31:\tlearn: 0.9763636\ttotal: 486ms\tremaining: 1.03s\n",
            "32:\tlearn: 0.9763636\ttotal: 500ms\tremaining: 1.02s\n",
            "33:\tlearn: 0.9763636\ttotal: 526ms\tremaining: 1.02s\n",
            "34:\tlearn: 0.9763636\ttotal: 536ms\tremaining: 996ms\n",
            "35:\tlearn: 0.9763636\ttotal: 556ms\tremaining: 989ms\n",
            "36:\tlearn: 0.9763636\ttotal: 576ms\tremaining: 981ms\n",
            "37:\tlearn: 0.9763636\ttotal: 589ms\tremaining: 961ms\n",
            "38:\tlearn: 0.9763636\ttotal: 601ms\tremaining: 941ms\n",
            "39:\tlearn: 0.9763636\ttotal: 606ms\tremaining: 909ms\n",
            "40:\tlearn: 0.9781818\ttotal: 619ms\tremaining: 891ms\n",
            "41:\tlearn: 0.9781818\ttotal: 632ms\tremaining: 873ms\n",
            "42:\tlearn: 0.9800000\ttotal: 644ms\tremaining: 853ms\n",
            "43:\tlearn: 0.9800000\ttotal: 662ms\tremaining: 843ms\n",
            "44:\tlearn: 0.9800000\ttotal: 678ms\tremaining: 829ms\n",
            "45:\tlearn: 0.9800000\ttotal: 691ms\tremaining: 811ms\n",
            "46:\tlearn: 0.9800000\ttotal: 695ms\tremaining: 784ms\n",
            "47:\tlearn: 0.9818182\ttotal: 705ms\tremaining: 764ms\n",
            "48:\tlearn: 0.9818182\ttotal: 723ms\tremaining: 752ms\n",
            "49:\tlearn: 0.9818182\ttotal: 736ms\tremaining: 736ms\n",
            "50:\tlearn: 0.9836364\ttotal: 753ms\tremaining: 724ms\n",
            "51:\tlearn: 0.9836364\ttotal: 758ms\tremaining: 700ms\n",
            "52:\tlearn: 0.9818182\ttotal: 771ms\tremaining: 684ms\n",
            "53:\tlearn: 0.9836364\ttotal: 787ms\tremaining: 670ms\n",
            "54:\tlearn: 0.9818182\ttotal: 803ms\tremaining: 657ms\n",
            "55:\tlearn: 0.9800000\ttotal: 816ms\tremaining: 641ms\n",
            "56:\tlearn: 0.9800000\ttotal: 837ms\tremaining: 632ms\n",
            "57:\tlearn: 0.9800000\ttotal: 851ms\tremaining: 616ms\n",
            "58:\tlearn: 0.9800000\ttotal: 863ms\tremaining: 599ms\n",
            "59:\tlearn: 0.9800000\ttotal: 890ms\tremaining: 594ms\n",
            "60:\tlearn: 0.9800000\ttotal: 907ms\tremaining: 580ms\n",
            "61:\tlearn: 0.9800000\ttotal: 923ms\tremaining: 566ms\n",
            "62:\tlearn: 0.9800000\ttotal: 931ms\tremaining: 547ms\n",
            "63:\tlearn: 0.9800000\ttotal: 944ms\tremaining: 531ms\n",
            "64:\tlearn: 0.9800000\ttotal: 959ms\tremaining: 517ms\n",
            "65:\tlearn: 0.9800000\ttotal: 968ms\tremaining: 499ms\n",
            "66:\tlearn: 0.9800000\ttotal: 983ms\tremaining: 484ms\n",
            "67:\tlearn: 0.9800000\ttotal: 991ms\tremaining: 466ms\n",
            "68:\tlearn: 0.9800000\ttotal: 1.01s\tremaining: 455ms\n",
            "69:\tlearn: 0.9800000\ttotal: 1.02s\tremaining: 436ms\n",
            "70:\tlearn: 0.9800000\ttotal: 1.04s\tremaining: 425ms\n",
            "71:\tlearn: 0.9800000\ttotal: 1.06s\tremaining: 413ms\n",
            "72:\tlearn: 0.9800000\ttotal: 1.08s\tremaining: 398ms\n",
            "73:\tlearn: 0.9818182\ttotal: 1.09s\tremaining: 382ms\n",
            "74:\tlearn: 0.9818182\ttotal: 1.1s\tremaining: 367ms\n",
            "75:\tlearn: 0.9800000\ttotal: 1.11s\tremaining: 352ms\n",
            "76:\tlearn: 0.9818182\ttotal: 1.14s\tremaining: 339ms\n",
            "77:\tlearn: 0.9818182\ttotal: 1.15s\tremaining: 325ms\n",
            "78:\tlearn: 0.9818182\ttotal: 1.16s\tremaining: 310ms\n",
            "79:\tlearn: 0.9818182\ttotal: 1.19s\tremaining: 298ms\n",
            "80:\tlearn: 0.9800000\ttotal: 1.21s\tremaining: 283ms\n",
            "81:\tlearn: 0.9800000\ttotal: 1.22s\tremaining: 268ms\n",
            "82:\tlearn: 0.9800000\ttotal: 1.24s\tremaining: 254ms\n",
            "83:\tlearn: 0.9818182\ttotal: 1.26s\tremaining: 240ms\n",
            "84:\tlearn: 0.9800000\ttotal: 1.28s\tremaining: 226ms\n",
            "85:\tlearn: 0.9800000\ttotal: 1.29s\tremaining: 210ms\n",
            "86:\tlearn: 0.9800000\ttotal: 1.31s\tremaining: 196ms\n",
            "87:\tlearn: 0.9800000\ttotal: 1.32s\tremaining: 181ms\n",
            "88:\tlearn: 0.9800000\ttotal: 1.33s\tremaining: 165ms\n",
            "89:\tlearn: 0.9836364\ttotal: 1.35s\tremaining: 150ms\n",
            "90:\tlearn: 0.9836364\ttotal: 1.37s\tremaining: 136ms\n",
            "91:\tlearn: 0.9836364\ttotal: 1.39s\tremaining: 120ms\n",
            "92:\tlearn: 0.9836364\ttotal: 1.4s\tremaining: 106ms\n",
            "93:\tlearn: 0.9854545\ttotal: 1.42s\tremaining: 90.4ms\n",
            "94:\tlearn: 0.9854545\ttotal: 1.43s\tremaining: 75.5ms\n",
            "95:\tlearn: 0.9854545\ttotal: 1.45s\tremaining: 60.4ms\n",
            "96:\tlearn: 0.9854545\ttotal: 1.46s\tremaining: 45.2ms\n",
            "97:\tlearn: 0.9872727\ttotal: 1.47s\tremaining: 30ms\n",
            "98:\tlearn: 0.9872727\ttotal: 1.48s\tremaining: 15ms\n",
            "99:\tlearn: 0.9872727\ttotal: 1.49s\tremaining: 0us\n",
            "0:\tlearn: 0.9072727\ttotal: 12.6ms\tremaining: 1.25s\n",
            "1:\tlearn: 0.9545455\ttotal: 39.9ms\tremaining: 1.95s\n",
            "2:\tlearn: 0.9545455\ttotal: 63.4ms\tremaining: 2.05s\n",
            "3:\tlearn: 0.9581818\ttotal: 78.1ms\tremaining: 1.87s\n",
            "4:\tlearn: 0.9600000\ttotal: 107ms\tremaining: 2.03s\n",
            "5:\tlearn: 0.9654545\ttotal: 116ms\tremaining: 1.82s\n",
            "6:\tlearn: 0.9690909\ttotal: 135ms\tremaining: 1.79s\n",
            "7:\tlearn: 0.9690909\ttotal: 157ms\tremaining: 1.8s\n",
            "8:\tlearn: 0.9672727\ttotal: 165ms\tremaining: 1.67s\n",
            "9:\tlearn: 0.9672727\ttotal: 186ms\tremaining: 1.67s\n",
            "10:\tlearn: 0.9672727\ttotal: 191ms\tremaining: 1.54s\n",
            "11:\tlearn: 0.9654545\ttotal: 202ms\tremaining: 1.48s\n",
            "12:\tlearn: 0.9636364\ttotal: 218ms\tremaining: 1.46s\n",
            "13:\tlearn: 0.9672727\ttotal: 229ms\tremaining: 1.41s\n",
            "14:\tlearn: 0.9690909\ttotal: 242ms\tremaining: 1.37s\n",
            "15:\tlearn: 0.9672727\ttotal: 255ms\tremaining: 1.34s\n",
            "16:\tlearn: 0.9672727\ttotal: 267ms\tremaining: 1.3s\n",
            "17:\tlearn: 0.9672727\ttotal: 278ms\tremaining: 1.26s\n",
            "18:\tlearn: 0.9709091\ttotal: 288ms\tremaining: 1.23s\n",
            "19:\tlearn: 0.9709091\ttotal: 302ms\tremaining: 1.21s\n",
            "20:\tlearn: 0.9709091\ttotal: 307ms\tremaining: 1.15s\n",
            "21:\tlearn: 0.9727273\ttotal: 318ms\tremaining: 1.13s\n",
            "22:\tlearn: 0.9727273\ttotal: 329ms\tremaining: 1.1s\n",
            "23:\tlearn: 0.9727273\ttotal: 342ms\tremaining: 1.08s\n",
            "24:\tlearn: 0.9709091\ttotal: 352ms\tremaining: 1.05s\n",
            "25:\tlearn: 0.9727273\ttotal: 356ms\tremaining: 1.01s\n",
            "26:\tlearn: 0.9745455\ttotal: 367ms\tremaining: 992ms\n",
            "27:\tlearn: 0.9745455\ttotal: 377ms\tremaining: 969ms\n",
            "28:\tlearn: 0.9745455\ttotal: 388ms\tremaining: 950ms\n",
            "29:\tlearn: 0.9745455\ttotal: 398ms\tremaining: 929ms\n",
            "30:\tlearn: 0.9727273\ttotal: 404ms\tremaining: 899ms\n",
            "31:\tlearn: 0.9745455\ttotal: 427ms\tremaining: 906ms\n",
            "32:\tlearn: 0.9745455\ttotal: 442ms\tremaining: 897ms\n",
            "33:\tlearn: 0.9745455\ttotal: 463ms\tremaining: 898ms\n",
            "34:\tlearn: 0.9745455\ttotal: 475ms\tremaining: 883ms\n",
            "35:\tlearn: 0.9745455\ttotal: 485ms\tremaining: 863ms\n",
            "36:\tlearn: 0.9745455\ttotal: 507ms\tremaining: 863ms\n",
            "37:\tlearn: 0.9745455\ttotal: 518ms\tremaining: 845ms\n",
            "38:\tlearn: 0.9745455\ttotal: 536ms\tremaining: 838ms\n",
            "39:\tlearn: 0.9745455\ttotal: 547ms\tremaining: 821ms\n",
            "40:\tlearn: 0.9763636\ttotal: 565ms\tremaining: 813ms\n",
            "41:\tlearn: 0.9763636\ttotal: 581ms\tremaining: 802ms\n",
            "42:\tlearn: 0.9763636\ttotal: 607ms\tremaining: 805ms\n",
            "43:\tlearn: 0.9745455\ttotal: 624ms\tremaining: 794ms\n",
            "44:\tlearn: 0.9745455\ttotal: 652ms\tremaining: 797ms\n",
            "45:\tlearn: 0.9745455\ttotal: 671ms\tremaining: 787ms\n",
            "46:\tlearn: 0.9745455\ttotal: 687ms\tremaining: 774ms\n",
            "47:\tlearn: 0.9745455\ttotal: 707ms\tremaining: 766ms\n",
            "48:\tlearn: 0.9745455\ttotal: 728ms\tremaining: 758ms\n",
            "49:\tlearn: 0.9745455\ttotal: 739ms\tremaining: 739ms\n",
            "50:\tlearn: 0.9745455\ttotal: 761ms\tremaining: 731ms\n",
            "51:\tlearn: 0.9745455\ttotal: 786ms\tremaining: 725ms\n",
            "52:\tlearn: 0.9745455\ttotal: 823ms\tremaining: 729ms\n",
            "53:\tlearn: 0.9763636\ttotal: 843ms\tremaining: 718ms\n",
            "54:\tlearn: 0.9763636\ttotal: 850ms\tremaining: 696ms\n",
            "55:\tlearn: 0.9763636\ttotal: 861ms\tremaining: 676ms\n",
            "56:\tlearn: 0.9745455\ttotal: 867ms\tremaining: 654ms\n",
            "57:\tlearn: 0.9745455\ttotal: 874ms\tremaining: 633ms\n",
            "58:\tlearn: 0.9745455\ttotal: 883ms\tremaining: 613ms\n",
            "59:\tlearn: 0.9745455\ttotal: 891ms\tremaining: 594ms\n",
            "60:\tlearn: 0.9745455\ttotal: 897ms\tremaining: 573ms\n",
            "61:\tlearn: 0.9763636\ttotal: 902ms\tremaining: 553ms\n",
            "62:\tlearn: 0.9763636\ttotal: 910ms\tremaining: 534ms\n",
            "63:\tlearn: 0.9763636\ttotal: 915ms\tremaining: 515ms\n",
            "64:\tlearn: 0.9763636\ttotal: 921ms\tremaining: 496ms\n",
            "65:\tlearn: 0.9763636\ttotal: 927ms\tremaining: 478ms\n",
            "66:\tlearn: 0.9763636\ttotal: 939ms\tremaining: 463ms\n",
            "67:\tlearn: 0.9781818\ttotal: 958ms\tremaining: 451ms\n",
            "68:\tlearn: 0.9781818\ttotal: 988ms\tremaining: 444ms\n",
            "69:\tlearn: 0.9781818\ttotal: 1s\tremaining: 430ms\n",
            "70:\tlearn: 0.9781818\ttotal: 1.02s\tremaining: 416ms\n",
            "71:\tlearn: 0.9781818\ttotal: 1.04s\tremaining: 405ms\n",
            "72:\tlearn: 0.9781818\ttotal: 1.06s\tremaining: 392ms\n",
            "73:\tlearn: 0.9781818\ttotal: 1.07s\tremaining: 378ms\n",
            "74:\tlearn: 0.9781818\ttotal: 1.09s\tremaining: 364ms\n",
            "75:\tlearn: 0.9781818\ttotal: 1.1s\tremaining: 349ms\n",
            "76:\tlearn: 0.9781818\ttotal: 1.12s\tremaining: 335ms\n",
            "77:\tlearn: 0.9800000\ttotal: 1.14s\tremaining: 321ms\n",
            "78:\tlearn: 0.9800000\ttotal: 1.15s\tremaining: 307ms\n",
            "79:\tlearn: 0.9800000\ttotal: 1.17s\tremaining: 292ms\n",
            "80:\tlearn: 0.9800000\ttotal: 1.19s\tremaining: 278ms\n",
            "81:\tlearn: 0.9800000\ttotal: 1.2s\tremaining: 264ms\n",
            "82:\tlearn: 0.9800000\ttotal: 1.23s\tremaining: 251ms\n",
            "83:\tlearn: 0.9818182\ttotal: 1.24s\tremaining: 237ms\n",
            "84:\tlearn: 0.9818182\ttotal: 1.26s\tremaining: 223ms\n",
            "85:\tlearn: 0.9818182\ttotal: 1.28s\tremaining: 209ms\n",
            "86:\tlearn: 0.9818182\ttotal: 1.3s\tremaining: 195ms\n",
            "87:\tlearn: 0.9818182\ttotal: 1.31s\tremaining: 179ms\n",
            "88:\tlearn: 0.9836364\ttotal: 1.33s\tremaining: 165ms\n",
            "89:\tlearn: 0.9836364\ttotal: 1.35s\tremaining: 150ms\n",
            "90:\tlearn: 0.9836364\ttotal: 1.37s\tremaining: 135ms\n",
            "91:\tlearn: 0.9836364\ttotal: 1.38s\tremaining: 120ms\n",
            "92:\tlearn: 0.9836364\ttotal: 1.43s\tremaining: 107ms\n",
            "93:\tlearn: 0.9854545\ttotal: 1.46s\tremaining: 93.5ms\n",
            "94:\tlearn: 0.9854545\ttotal: 1.48s\tremaining: 78.1ms\n",
            "95:\tlearn: 0.9854545\ttotal: 1.5s\tremaining: 62.7ms\n",
            "96:\tlearn: 0.9854545\ttotal: 1.52s\tremaining: 47ms\n",
            "97:\tlearn: 0.9854545\ttotal: 1.56s\tremaining: 31.8ms\n",
            "98:\tlearn: 0.9854545\ttotal: 1.58s\tremaining: 16ms\n",
            "99:\tlearn: 0.9854545\ttotal: 1.6s\tremaining: 0us\n",
            "0:\tlearn: 0.9200000\ttotal: 21.7ms\tremaining: 2.15s\n",
            "1:\tlearn: 0.9545455\ttotal: 35.5ms\tremaining: 1.74s\n",
            "2:\tlearn: 0.9581818\ttotal: 49.6ms\tremaining: 1.6s\n",
            "3:\tlearn: 0.9490909\ttotal: 68.5ms\tremaining: 1.64s\n",
            "4:\tlearn: 0.9545455\ttotal: 88.1ms\tremaining: 1.67s\n",
            "5:\tlearn: 0.9545455\ttotal: 108ms\tremaining: 1.7s\n",
            "6:\tlearn: 0.9545455\ttotal: 121ms\tremaining: 1.61s\n",
            "7:\tlearn: 0.9581818\ttotal: 134ms\tremaining: 1.53s\n",
            "8:\tlearn: 0.9581818\ttotal: 155ms\tremaining: 1.56s\n",
            "9:\tlearn: 0.9600000\ttotal: 176ms\tremaining: 1.58s\n",
            "10:\tlearn: 0.9690909\ttotal: 219ms\tremaining: 1.77s\n",
            "11:\tlearn: 0.9636364\ttotal: 241ms\tremaining: 1.77s\n",
            "12:\tlearn: 0.9636364\ttotal: 251ms\tremaining: 1.68s\n",
            "13:\tlearn: 0.9654545\ttotal: 279ms\tremaining: 1.72s\n",
            "14:\tlearn: 0.9618182\ttotal: 302ms\tremaining: 1.71s\n",
            "15:\tlearn: 0.9600000\ttotal: 314ms\tremaining: 1.65s\n",
            "16:\tlearn: 0.9618182\ttotal: 336ms\tremaining: 1.64s\n",
            "17:\tlearn: 0.9654545\ttotal: 355ms\tremaining: 1.62s\n",
            "18:\tlearn: 0.9654545\ttotal: 375ms\tremaining: 1.6s\n",
            "19:\tlearn: 0.9636364\ttotal: 395ms\tremaining: 1.58s\n",
            "20:\tlearn: 0.9672727\ttotal: 423ms\tremaining: 1.59s\n",
            "21:\tlearn: 0.9690909\ttotal: 437ms\tremaining: 1.55s\n",
            "22:\tlearn: 0.9690909\ttotal: 450ms\tremaining: 1.51s\n",
            "23:\tlearn: 0.9672727\ttotal: 468ms\tremaining: 1.48s\n",
            "24:\tlearn: 0.9690909\ttotal: 484ms\tremaining: 1.45s\n",
            "25:\tlearn: 0.9690909\ttotal: 506ms\tremaining: 1.44s\n",
            "26:\tlearn: 0.9690909\ttotal: 524ms\tremaining: 1.42s\n",
            "27:\tlearn: 0.9690909\ttotal: 533ms\tremaining: 1.37s\n",
            "28:\tlearn: 0.9690909\ttotal: 555ms\tremaining: 1.36s\n",
            "29:\tlearn: 0.9690909\ttotal: 565ms\tremaining: 1.32s\n",
            "30:\tlearn: 0.9690909\ttotal: 583ms\tremaining: 1.3s\n",
            "31:\tlearn: 0.9690909\ttotal: 606ms\tremaining: 1.29s\n",
            "32:\tlearn: 0.9690909\ttotal: 623ms\tremaining: 1.26s\n",
            "33:\tlearn: 0.9690909\ttotal: 642ms\tremaining: 1.25s\n",
            "34:\tlearn: 0.9690909\ttotal: 652ms\tremaining: 1.21s\n",
            "35:\tlearn: 0.9690909\ttotal: 662ms\tremaining: 1.18s\n",
            "36:\tlearn: 0.9690909\ttotal: 674ms\tremaining: 1.15s\n",
            "37:\tlearn: 0.9709091\ttotal: 701ms\tremaining: 1.14s\n",
            "38:\tlearn: 0.9709091\ttotal: 711ms\tremaining: 1.11s\n",
            "39:\tlearn: 0.9727273\ttotal: 721ms\tremaining: 1.08s\n",
            "40:\tlearn: 0.9727273\ttotal: 729ms\tremaining: 1.05s\n",
            "41:\tlearn: 0.9727273\ttotal: 740ms\tremaining: 1.02s\n",
            "42:\tlearn: 0.9727273\ttotal: 755ms\tremaining: 1s\n",
            "43:\tlearn: 0.9745455\ttotal: 764ms\tremaining: 973ms\n",
            "44:\tlearn: 0.9727273\ttotal: 775ms\tremaining: 948ms\n",
            "45:\tlearn: 0.9727273\ttotal: 784ms\tremaining: 921ms\n",
            "46:\tlearn: 0.9745455\ttotal: 802ms\tremaining: 904ms\n",
            "47:\tlearn: 0.9709091\ttotal: 813ms\tremaining: 881ms\n",
            "48:\tlearn: 0.9763636\ttotal: 825ms\tremaining: 859ms\n",
            "49:\tlearn: 0.9763636\ttotal: 837ms\tremaining: 837ms\n",
            "50:\tlearn: 0.9781818\ttotal: 847ms\tremaining: 814ms\n",
            "51:\tlearn: 0.9763636\ttotal: 856ms\tremaining: 790ms\n",
            "52:\tlearn: 0.9763636\ttotal: 866ms\tremaining: 768ms\n",
            "53:\tlearn: 0.9763636\ttotal: 875ms\tremaining: 745ms\n",
            "54:\tlearn: 0.9781818\ttotal: 885ms\tremaining: 724ms\n",
            "55:\tlearn: 0.9781818\ttotal: 908ms\tremaining: 713ms\n",
            "56:\tlearn: 0.9763636\ttotal: 920ms\tremaining: 694ms\n",
            "57:\tlearn: 0.9781818\ttotal: 931ms\tremaining: 674ms\n",
            "58:\tlearn: 0.9763636\ttotal: 947ms\tremaining: 658ms\n",
            "59:\tlearn: 0.9781818\ttotal: 957ms\tremaining: 638ms\n",
            "60:\tlearn: 0.9763636\ttotal: 967ms\tremaining: 618ms\n",
            "61:\tlearn: 0.9800000\ttotal: 978ms\tremaining: 599ms\n",
            "62:\tlearn: 0.9781818\ttotal: 992ms\tremaining: 582ms\n",
            "63:\tlearn: 0.9781818\ttotal: 1.01s\tremaining: 568ms\n",
            "64:\tlearn: 0.9781818\ttotal: 1.02s\tremaining: 551ms\n",
            "65:\tlearn: 0.9781818\ttotal: 1.03s\tremaining: 532ms\n",
            "66:\tlearn: 0.9781818\ttotal: 1.04s\tremaining: 513ms\n",
            "67:\tlearn: 0.9781818\ttotal: 1.06s\tremaining: 498ms\n",
            "68:\tlearn: 0.9781818\ttotal: 1.08s\tremaining: 484ms\n",
            "69:\tlearn: 0.9800000\ttotal: 1.09s\tremaining: 469ms\n",
            "70:\tlearn: 0.9800000\ttotal: 1.11s\tremaining: 455ms\n",
            "71:\tlearn: 0.9800000\ttotal: 1.13s\tremaining: 440ms\n",
            "72:\tlearn: 0.9800000\ttotal: 1.15s\tremaining: 424ms\n",
            "73:\tlearn: 0.9800000\ttotal: 1.16s\tremaining: 407ms\n",
            "74:\tlearn: 0.9781818\ttotal: 1.17s\tremaining: 390ms\n",
            "75:\tlearn: 0.9818182\ttotal: 1.18s\tremaining: 373ms\n",
            "76:\tlearn: 0.9836364\ttotal: 1.2s\tremaining: 358ms\n",
            "77:\tlearn: 0.9818182\ttotal: 1.21s\tremaining: 341ms\n",
            "78:\tlearn: 0.9818182\ttotal: 1.23s\tremaining: 326ms\n",
            "79:\tlearn: 0.9818182\ttotal: 1.26s\tremaining: 315ms\n",
            "80:\tlearn: 0.9818182\ttotal: 1.28s\tremaining: 300ms\n",
            "81:\tlearn: 0.9818182\ttotal: 1.3s\tremaining: 285ms\n",
            "82:\tlearn: 0.9818182\ttotal: 1.32s\tremaining: 270ms\n",
            "83:\tlearn: 0.9836364\ttotal: 1.34s\tremaining: 255ms\n",
            "84:\tlearn: 0.9836364\ttotal: 1.36s\tremaining: 240ms\n",
            "85:\tlearn: 0.9836364\ttotal: 1.37s\tremaining: 223ms\n",
            "86:\tlearn: 0.9836364\ttotal: 1.38s\tremaining: 207ms\n",
            "87:\tlearn: 0.9836364\ttotal: 1.4s\tremaining: 191ms\n",
            "88:\tlearn: 0.9854545\ttotal: 1.41s\tremaining: 174ms\n",
            "89:\tlearn: 0.9854545\ttotal: 1.42s\tremaining: 158ms\n",
            "90:\tlearn: 0.9854545\ttotal: 1.43s\tremaining: 142ms\n",
            "91:\tlearn: 0.9854545\ttotal: 1.44s\tremaining: 125ms\n",
            "92:\tlearn: 0.9854545\ttotal: 1.45s\tremaining: 109ms\n",
            "93:\tlearn: 0.9854545\ttotal: 1.46s\tremaining: 93.5ms\n",
            "94:\tlearn: 0.9854545\ttotal: 1.48s\tremaining: 77.7ms\n",
            "95:\tlearn: 0.9854545\ttotal: 1.49s\tremaining: 61.9ms\n",
            "96:\tlearn: 0.9854545\ttotal: 1.5s\tremaining: 46.3ms\n",
            "97:\tlearn: 0.9854545\ttotal: 1.52s\tremaining: 31ms\n",
            "98:\tlearn: 0.9854545\ttotal: 1.53s\tremaining: 15.4ms\n",
            "99:\tlearn: 0.9854545\ttotal: 1.54s\tremaining: 0us\n",
            "0:\tlearn: 0.9181818\ttotal: 17.8ms\tremaining: 1.76s\n",
            "1:\tlearn: 0.9436364\ttotal: 44.5ms\tremaining: 2.18s\n",
            "2:\tlearn: 0.9418182\ttotal: 74.7ms\tremaining: 2.41s\n",
            "3:\tlearn: 0.9509091\ttotal: 94.7ms\tremaining: 2.27s\n",
            "4:\tlearn: 0.9527273\ttotal: 104ms\tremaining: 1.97s\n",
            "5:\tlearn: 0.9490909\ttotal: 149ms\tremaining: 2.34s\n",
            "6:\tlearn: 0.9490909\ttotal: 166ms\tremaining: 2.21s\n",
            "7:\tlearn: 0.9509091\ttotal: 180ms\tremaining: 2.07s\n",
            "8:\tlearn: 0.9618182\ttotal: 194ms\tremaining: 1.96s\n",
            "9:\tlearn: 0.9600000\ttotal: 224ms\tremaining: 2.02s\n",
            "10:\tlearn: 0.9600000\ttotal: 232ms\tremaining: 1.88s\n",
            "11:\tlearn: 0.9636364\ttotal: 243ms\tremaining: 1.78s\n",
            "12:\tlearn: 0.9636364\ttotal: 260ms\tremaining: 1.74s\n",
            "13:\tlearn: 0.9636364\ttotal: 308ms\tremaining: 1.89s\n",
            "14:\tlearn: 0.9690909\ttotal: 327ms\tremaining: 1.85s\n",
            "15:\tlearn: 0.9709091\ttotal: 352ms\tremaining: 1.85s\n",
            "16:\tlearn: 0.9672727\ttotal: 368ms\tremaining: 1.79s\n",
            "17:\tlearn: 0.9672727\ttotal: 377ms\tremaining: 1.72s\n",
            "18:\tlearn: 0.9672727\ttotal: 386ms\tremaining: 1.64s\n",
            "19:\tlearn: 0.9636364\ttotal: 412ms\tremaining: 1.65s\n",
            "20:\tlearn: 0.9690909\ttotal: 421ms\tremaining: 1.58s\n",
            "21:\tlearn: 0.9672727\ttotal: 439ms\tremaining: 1.55s\n",
            "22:\tlearn: 0.9654545\ttotal: 461ms\tremaining: 1.54s\n",
            "23:\tlearn: 0.9654545\ttotal: 473ms\tremaining: 1.5s\n",
            "24:\tlearn: 0.9654545\ttotal: 484ms\tremaining: 1.45s\n",
            "25:\tlearn: 0.9654545\ttotal: 499ms\tremaining: 1.42s\n",
            "26:\tlearn: 0.9672727\ttotal: 526ms\tremaining: 1.42s\n",
            "27:\tlearn: 0.9672727\ttotal: 540ms\tremaining: 1.39s\n",
            "28:\tlearn: 0.9672727\ttotal: 575ms\tremaining: 1.41s\n",
            "29:\tlearn: 0.9672727\ttotal: 595ms\tremaining: 1.39s\n",
            "30:\tlearn: 0.9672727\ttotal: 616ms\tremaining: 1.37s\n",
            "31:\tlearn: 0.9672727\ttotal: 624ms\tremaining: 1.32s\n",
            "32:\tlearn: 0.9672727\ttotal: 633ms\tremaining: 1.28s\n",
            "33:\tlearn: 0.9672727\ttotal: 656ms\tremaining: 1.27s\n",
            "34:\tlearn: 0.9672727\ttotal: 690ms\tremaining: 1.28s\n",
            "35:\tlearn: 0.9672727\ttotal: 701ms\tremaining: 1.25s\n",
            "36:\tlearn: 0.9672727\ttotal: 718ms\tremaining: 1.22s\n",
            "37:\tlearn: 0.9672727\ttotal: 731ms\tremaining: 1.19s\n",
            "38:\tlearn: 0.9672727\ttotal: 742ms\tremaining: 1.16s\n",
            "39:\tlearn: 0.9672727\ttotal: 753ms\tremaining: 1.13s\n",
            "40:\tlearn: 0.9709091\ttotal: 762ms\tremaining: 1.1s\n",
            "41:\tlearn: 0.9672727\ttotal: 772ms\tremaining: 1.07s\n",
            "42:\tlearn: 0.9690909\ttotal: 794ms\tremaining: 1.05s\n",
            "43:\tlearn: 0.9672727\ttotal: 809ms\tremaining: 1.03s\n",
            "44:\tlearn: 0.9672727\ttotal: 824ms\tremaining: 1.01s\n",
            "45:\tlearn: 0.9709091\ttotal: 836ms\tremaining: 982ms\n",
            "46:\tlearn: 0.9709091\ttotal: 860ms\tremaining: 970ms\n",
            "47:\tlearn: 0.9690909\ttotal: 871ms\tremaining: 944ms\n",
            "48:\tlearn: 0.9690909\ttotal: 882ms\tremaining: 918ms\n",
            "49:\tlearn: 0.9709091\ttotal: 893ms\tremaining: 893ms\n",
            "50:\tlearn: 0.9709091\ttotal: 912ms\tremaining: 876ms\n",
            "51:\tlearn: 0.9745455\ttotal: 928ms\tremaining: 857ms\n",
            "52:\tlearn: 0.9727273\ttotal: 936ms\tremaining: 830ms\n",
            "53:\tlearn: 0.9745455\ttotal: 953ms\tremaining: 812ms\n",
            "54:\tlearn: 0.9745455\ttotal: 959ms\tremaining: 785ms\n",
            "55:\tlearn: 0.9745455\ttotal: 964ms\tremaining: 758ms\n",
            "56:\tlearn: 0.9727273\ttotal: 969ms\tremaining: 731ms\n",
            "57:\tlearn: 0.9727273\ttotal: 976ms\tremaining: 706ms\n",
            "58:\tlearn: 0.9727273\ttotal: 983ms\tremaining: 683ms\n",
            "59:\tlearn: 0.9727273\ttotal: 993ms\tremaining: 662ms\n",
            "60:\tlearn: 0.9727273\ttotal: 998ms\tremaining: 638ms\n",
            "61:\tlearn: 0.9745455\ttotal: 1s\tremaining: 615ms\n",
            "62:\tlearn: 0.9727273\ttotal: 1.01s\tremaining: 592ms\n",
            "63:\tlearn: 0.9727273\ttotal: 1.01s\tremaining: 571ms\n",
            "64:\tlearn: 0.9727273\ttotal: 1.02s\tremaining: 549ms\n",
            "65:\tlearn: 0.9745455\ttotal: 1.02s\tremaining: 528ms\n",
            "66:\tlearn: 0.9745455\ttotal: 1.03s\tremaining: 507ms\n",
            "67:\tlearn: 0.9745455\ttotal: 1.06s\tremaining: 500ms\n",
            "68:\tlearn: 0.9745455\ttotal: 1.07s\tremaining: 481ms\n",
            "69:\tlearn: 0.9745455\ttotal: 1.07s\tremaining: 461ms\n",
            "70:\tlearn: 0.9763636\ttotal: 1.08s\tremaining: 441ms\n",
            "71:\tlearn: 0.9763636\ttotal: 1.09s\tremaining: 422ms\n",
            "72:\tlearn: 0.9763636\ttotal: 1.09s\tremaining: 404ms\n",
            "73:\tlearn: 0.9763636\ttotal: 1.11s\tremaining: 389ms\n",
            "74:\tlearn: 0.9763636\ttotal: 1.11s\tremaining: 372ms\n",
            "75:\tlearn: 0.9781818\ttotal: 1.12s\tremaining: 354ms\n",
            "76:\tlearn: 0.9781818\ttotal: 1.13s\tremaining: 336ms\n",
            "77:\tlearn: 0.9781818\ttotal: 1.13s\tremaining: 319ms\n",
            "78:\tlearn: 0.9781818\ttotal: 1.14s\tremaining: 302ms\n",
            "79:\tlearn: 0.9781818\ttotal: 1.14s\tremaining: 286ms\n",
            "80:\tlearn: 0.9781818\ttotal: 1.16s\tremaining: 272ms\n",
            "81:\tlearn: 0.9800000\ttotal: 1.17s\tremaining: 256ms\n",
            "82:\tlearn: 0.9800000\ttotal: 1.17s\tremaining: 240ms\n",
            "83:\tlearn: 0.9818182\ttotal: 1.18s\tremaining: 224ms\n",
            "84:\tlearn: 0.9818182\ttotal: 1.19s\tremaining: 210ms\n",
            "85:\tlearn: 0.9818182\ttotal: 1.2s\tremaining: 195ms\n",
            "86:\tlearn: 0.9818182\ttotal: 1.21s\tremaining: 181ms\n",
            "87:\tlearn: 0.9818182\ttotal: 1.22s\tremaining: 166ms\n",
            "88:\tlearn: 0.9818182\ttotal: 1.22s\tremaining: 151ms\n",
            "89:\tlearn: 0.9818182\ttotal: 1.23s\tremaining: 136ms\n",
            "90:\tlearn: 0.9818182\ttotal: 1.23s\tremaining: 122ms\n",
            "91:\tlearn: 0.9818182\ttotal: 1.25s\tremaining: 108ms\n",
            "92:\tlearn: 0.9818182\ttotal: 1.26s\tremaining: 95.2ms\n",
            "93:\tlearn: 0.9836364\ttotal: 1.27s\tremaining: 81.2ms\n",
            "94:\tlearn: 0.9836364\ttotal: 1.28s\tremaining: 67.2ms\n",
            "95:\tlearn: 0.9836364\ttotal: 1.28s\tremaining: 53.5ms\n",
            "96:\tlearn: 0.9836364\ttotal: 1.29s\tremaining: 39.8ms\n",
            "97:\tlearn: 0.9836364\ttotal: 1.29s\tremaining: 26.4ms\n",
            "98:\tlearn: 0.9836364\ttotal: 1.3s\tremaining: 13.1ms\n",
            "99:\tlearn: 0.9836364\ttotal: 1.3s\tremaining: 0us\n",
            "0:\tlearn: 0.9200000\ttotal: 17.7ms\tremaining: 1.75s\n",
            "1:\tlearn: 0.9618182\ttotal: 21.9ms\tremaining: 1.07s\n",
            "2:\tlearn: 0.9618182\ttotal: 35.3ms\tremaining: 1.14s\n",
            "3:\tlearn: 0.9654545\ttotal: 40.7ms\tremaining: 978ms\n",
            "4:\tlearn: 0.9672727\ttotal: 46.3ms\tremaining: 880ms\n",
            "5:\tlearn: 0.9672727\ttotal: 51.1ms\tremaining: 800ms\n",
            "6:\tlearn: 0.9672727\ttotal: 57.3ms\tremaining: 762ms\n",
            "7:\tlearn: 0.9618182\ttotal: 61.4ms\tremaining: 706ms\n",
            "8:\tlearn: 0.9672727\ttotal: 67.5ms\tremaining: 682ms\n",
            "9:\tlearn: 0.9672727\ttotal: 80.2ms\tremaining: 722ms\n",
            "10:\tlearn: 0.9727273\ttotal: 92.6ms\tremaining: 749ms\n",
            "11:\tlearn: 0.9763636\ttotal: 104ms\tremaining: 760ms\n",
            "12:\tlearn: 0.9763636\ttotal: 113ms\tremaining: 756ms\n",
            "13:\tlearn: 0.9745455\ttotal: 125ms\tremaining: 768ms\n",
            "14:\tlearn: 0.9745455\ttotal: 137ms\tremaining: 774ms\n",
            "15:\tlearn: 0.9763636\ttotal: 160ms\tremaining: 842ms\n",
            "16:\tlearn: 0.9745455\ttotal: 179ms\tremaining: 874ms\n",
            "17:\tlearn: 0.9763636\ttotal: 202ms\tremaining: 919ms\n",
            "18:\tlearn: 0.9781818\ttotal: 215ms\tremaining: 918ms\n",
            "19:\tlearn: 0.9745455\ttotal: 230ms\tremaining: 918ms\n",
            "20:\tlearn: 0.9745455\ttotal: 243ms\tremaining: 914ms\n",
            "21:\tlearn: 0.9781818\ttotal: 250ms\tremaining: 887ms\n",
            "22:\tlearn: 0.9745455\ttotal: 266ms\tremaining: 889ms\n",
            "23:\tlearn: 0.9727273\ttotal: 280ms\tremaining: 886ms\n",
            "24:\tlearn: 0.9745455\ttotal: 302ms\tremaining: 905ms\n",
            "25:\tlearn: 0.9727273\ttotal: 330ms\tremaining: 938ms\n",
            "26:\tlearn: 0.9727273\ttotal: 344ms\tremaining: 930ms\n",
            "27:\tlearn: 0.9727273\ttotal: 365ms\tremaining: 939ms\n",
            "28:\tlearn: 0.9763636\ttotal: 379ms\tremaining: 928ms\n",
            "29:\tlearn: 0.9763636\ttotal: 395ms\tremaining: 922ms\n",
            "30:\tlearn: 0.9763636\ttotal: 406ms\tremaining: 903ms\n",
            "31:\tlearn: 0.9781818\ttotal: 424ms\tremaining: 901ms\n",
            "32:\tlearn: 0.9781818\ttotal: 441ms\tremaining: 896ms\n",
            "33:\tlearn: 0.9800000\ttotal: 460ms\tremaining: 893ms\n",
            "34:\tlearn: 0.9800000\ttotal: 480ms\tremaining: 891ms\n",
            "35:\tlearn: 0.9800000\ttotal: 521ms\tremaining: 927ms\n",
            "36:\tlearn: 0.9800000\ttotal: 541ms\tremaining: 922ms\n",
            "37:\tlearn: 0.9800000\ttotal: 574ms\tremaining: 936ms\n",
            "38:\tlearn: 0.9781818\ttotal: 603ms\tremaining: 943ms\n",
            "39:\tlearn: 0.9781818\ttotal: 627ms\tremaining: 940ms\n",
            "40:\tlearn: 0.9800000\ttotal: 649ms\tremaining: 933ms\n",
            "41:\tlearn: 0.9800000\ttotal: 682ms\tremaining: 942ms\n",
            "42:\tlearn: 0.9781818\ttotal: 694ms\tremaining: 920ms\n",
            "43:\tlearn: 0.9781818\ttotal: 718ms\tremaining: 913ms\n",
            "44:\tlearn: 0.9781818\ttotal: 739ms\tremaining: 903ms\n",
            "45:\tlearn: 0.9781818\ttotal: 759ms\tremaining: 891ms\n",
            "46:\tlearn: 0.9781818\ttotal: 780ms\tremaining: 879ms\n",
            "47:\tlearn: 0.9781818\ttotal: 803ms\tremaining: 870ms\n",
            "48:\tlearn: 0.9781818\ttotal: 835ms\tremaining: 869ms\n",
            "49:\tlearn: 0.9781818\ttotal: 858ms\tremaining: 858ms\n",
            "50:\tlearn: 0.9781818\ttotal: 887ms\tremaining: 852ms\n",
            "51:\tlearn: 0.9781818\ttotal: 914ms\tremaining: 843ms\n",
            "52:\tlearn: 0.9781818\ttotal: 925ms\tremaining: 821ms\n",
            "53:\tlearn: 0.9781818\ttotal: 944ms\tremaining: 804ms\n",
            "54:\tlearn: 0.9781818\ttotal: 968ms\tremaining: 792ms\n",
            "55:\tlearn: 0.9781818\ttotal: 988ms\tremaining: 776ms\n",
            "56:\tlearn: 0.9781818\ttotal: 1.03s\tremaining: 776ms\n",
            "57:\tlearn: 0.9781818\ttotal: 1.05s\tremaining: 760ms\n",
            "58:\tlearn: 0.9781818\ttotal: 1.08s\tremaining: 749ms\n",
            "59:\tlearn: 0.9781818\ttotal: 1.09s\tremaining: 730ms\n",
            "60:\tlearn: 0.9781818\ttotal: 1.11s\tremaining: 709ms\n",
            "61:\tlearn: 0.9781818\ttotal: 1.13s\tremaining: 692ms\n",
            "62:\tlearn: 0.9781818\ttotal: 1.16s\tremaining: 683ms\n",
            "63:\tlearn: 0.9781818\ttotal: 1.18s\tremaining: 662ms\n",
            "64:\tlearn: 0.9781818\ttotal: 1.19s\tremaining: 641ms\n",
            "65:\tlearn: 0.9781818\ttotal: 1.2s\tremaining: 619ms\n",
            "66:\tlearn: 0.9781818\ttotal: 1.21s\tremaining: 598ms\n",
            "67:\tlearn: 0.9781818\ttotal: 1.22s\tremaining: 576ms\n",
            "68:\tlearn: 0.9781818\ttotal: 1.23s\tremaining: 554ms\n",
            "69:\tlearn: 0.9800000\ttotal: 1.25s\tremaining: 534ms\n",
            "70:\tlearn: 0.9800000\ttotal: 1.26s\tremaining: 513ms\n",
            "71:\tlearn: 0.9800000\ttotal: 1.27s\tremaining: 494ms\n",
            "72:\tlearn: 0.9800000\ttotal: 1.28s\tremaining: 475ms\n",
            "73:\tlearn: 0.9800000\ttotal: 1.3s\tremaining: 456ms\n",
            "74:\tlearn: 0.9800000\ttotal: 1.31s\tremaining: 437ms\n",
            "75:\tlearn: 0.9818182\ttotal: 1.32s\tremaining: 419ms\n",
            "76:\tlearn: 0.9818182\ttotal: 1.34s\tremaining: 399ms\n",
            "77:\tlearn: 0.9818182\ttotal: 1.35s\tremaining: 380ms\n",
            "78:\tlearn: 0.9818182\ttotal: 1.36s\tremaining: 361ms\n",
            "79:\tlearn: 0.9818182\ttotal: 1.38s\tremaining: 345ms\n",
            "80:\tlearn: 0.9800000\ttotal: 1.41s\tremaining: 331ms\n",
            "81:\tlearn: 0.9818182\ttotal: 1.43s\tremaining: 314ms\n",
            "82:\tlearn: 0.9818182\ttotal: 1.45s\tremaining: 296ms\n",
            "83:\tlearn: 0.9818182\ttotal: 1.46s\tremaining: 279ms\n",
            "84:\tlearn: 0.9818182\ttotal: 1.48s\tremaining: 261ms\n",
            "85:\tlearn: 0.9818182\ttotal: 1.5s\tremaining: 245ms\n",
            "86:\tlearn: 0.9818182\ttotal: 1.52s\tremaining: 227ms\n",
            "87:\tlearn: 0.9818182\ttotal: 1.53s\tremaining: 209ms\n",
            "88:\tlearn: 0.9818182\ttotal: 1.54s\tremaining: 191ms\n",
            "89:\tlearn: 0.9818182\ttotal: 1.55s\tremaining: 173ms\n",
            "90:\tlearn: 0.9818182\ttotal: 1.56s\tremaining: 155ms\n",
            "91:\tlearn: 0.9818182\ttotal: 1.58s\tremaining: 138ms\n",
            "92:\tlearn: 0.9818182\ttotal: 1.6s\tremaining: 121ms\n",
            "93:\tlearn: 0.9818182\ttotal: 1.62s\tremaining: 104ms\n",
            "94:\tlearn: 0.9818182\ttotal: 1.63s\tremaining: 85.9ms\n",
            "95:\tlearn: 0.9818182\ttotal: 1.65s\tremaining: 68.6ms\n",
            "96:\tlearn: 0.9818182\ttotal: 1.67s\tremaining: 51.6ms\n",
            "97:\tlearn: 0.9818182\ttotal: 1.68s\tremaining: 34.3ms\n",
            "98:\tlearn: 0.9836364\ttotal: 1.7s\tremaining: 17.1ms\n",
            "99:\tlearn: 0.9836364\ttotal: 1.71s\tremaining: 0us\n",
            "0:\tlearn: 0.9163636\ttotal: 23.8ms\tremaining: 2.36s\n",
            "1:\tlearn: 0.9527273\ttotal: 46.9ms\tremaining: 2.3s\n",
            "2:\tlearn: 0.9509091\ttotal: 80.8ms\tremaining: 2.61s\n",
            "3:\tlearn: 0.9545455\ttotal: 90.8ms\tremaining: 2.18s\n",
            "4:\tlearn: 0.9618182\ttotal: 110ms\tremaining: 2.09s\n",
            "5:\tlearn: 0.9581818\ttotal: 141ms\tremaining: 2.21s\n",
            "6:\tlearn: 0.9600000\ttotal: 161ms\tremaining: 2.13s\n",
            "7:\tlearn: 0.9581818\ttotal: 187ms\tremaining: 2.15s\n",
            "8:\tlearn: 0.9581818\ttotal: 202ms\tremaining: 2.04s\n",
            "9:\tlearn: 0.9581818\ttotal: 235ms\tremaining: 2.12s\n",
            "10:\tlearn: 0.9600000\ttotal: 252ms\tremaining: 2.04s\n",
            "11:\tlearn: 0.9618182\ttotal: 277ms\tremaining: 2.03s\n",
            "12:\tlearn: 0.9618182\ttotal: 295ms\tremaining: 1.97s\n",
            "13:\tlearn: 0.9672727\ttotal: 321ms\tremaining: 1.97s\n",
            "14:\tlearn: 0.9600000\ttotal: 334ms\tremaining: 1.89s\n",
            "15:\tlearn: 0.9600000\ttotal: 355ms\tremaining: 1.86s\n",
            "16:\tlearn: 0.9672727\ttotal: 370ms\tremaining: 1.81s\n",
            "17:\tlearn: 0.9654545\ttotal: 393ms\tremaining: 1.79s\n",
            "18:\tlearn: 0.9709091\ttotal: 409ms\tremaining: 1.74s\n",
            "19:\tlearn: 0.9672727\ttotal: 425ms\tremaining: 1.7s\n",
            "20:\tlearn: 0.9709091\ttotal: 437ms\tremaining: 1.64s\n",
            "21:\tlearn: 0.9727273\ttotal: 462ms\tremaining: 1.64s\n",
            "22:\tlearn: 0.9709091\ttotal: 478ms\tremaining: 1.6s\n",
            "23:\tlearn: 0.9709091\ttotal: 495ms\tremaining: 1.57s\n",
            "24:\tlearn: 0.9709091\ttotal: 505ms\tremaining: 1.51s\n",
            "25:\tlearn: 0.9727273\ttotal: 519ms\tremaining: 1.48s\n",
            "26:\tlearn: 0.9727273\ttotal: 536ms\tremaining: 1.45s\n",
            "27:\tlearn: 0.9727273\ttotal: 556ms\tremaining: 1.43s\n",
            "28:\tlearn: 0.9709091\ttotal: 599ms\tremaining: 1.47s\n",
            "29:\tlearn: 0.9727273\ttotal: 608ms\tremaining: 1.42s\n",
            "30:\tlearn: 0.9709091\ttotal: 613ms\tremaining: 1.36s\n",
            "31:\tlearn: 0.9745455\ttotal: 619ms\tremaining: 1.32s\n",
            "32:\tlearn: 0.9709091\ttotal: 632ms\tremaining: 1.28s\n",
            "33:\tlearn: 0.9763636\ttotal: 638ms\tremaining: 1.24s\n",
            "34:\tlearn: 0.9745455\ttotal: 644ms\tremaining: 1.2s\n",
            "35:\tlearn: 0.9745455\ttotal: 650ms\tremaining: 1.16s\n",
            "36:\tlearn: 0.9745455\ttotal: 656ms\tremaining: 1.12s\n",
            "37:\tlearn: 0.9763636\ttotal: 661ms\tremaining: 1.08s\n",
            "38:\tlearn: 0.9745455\ttotal: 667ms\tremaining: 1.04s\n",
            "39:\tlearn: 0.9745455\ttotal: 672ms\tremaining: 1.01s\n",
            "40:\tlearn: 0.9763636\ttotal: 678ms\tremaining: 976ms\n",
            "41:\tlearn: 0.9763636\ttotal: 690ms\tremaining: 952ms\n",
            "42:\tlearn: 0.9745455\ttotal: 700ms\tremaining: 928ms\n",
            "43:\tlearn: 0.9745455\ttotal: 710ms\tremaining: 904ms\n",
            "44:\tlearn: 0.9745455\ttotal: 722ms\tremaining: 882ms\n",
            "45:\tlearn: 0.9745455\ttotal: 730ms\tremaining: 857ms\n",
            "46:\tlearn: 0.9745455\ttotal: 736ms\tremaining: 830ms\n",
            "47:\tlearn: 0.9745455\ttotal: 741ms\tremaining: 803ms\n",
            "48:\tlearn: 0.9745455\ttotal: 748ms\tremaining: 778ms\n",
            "49:\tlearn: 0.9745455\ttotal: 754ms\tremaining: 754ms\n",
            "50:\tlearn: 0.9745455\ttotal: 760ms\tremaining: 730ms\n",
            "51:\tlearn: 0.9745455\ttotal: 766ms\tremaining: 707ms\n",
            "52:\tlearn: 0.9745455\ttotal: 777ms\tremaining: 689ms\n",
            "53:\tlearn: 0.9745455\ttotal: 813ms\tremaining: 693ms\n",
            "54:\tlearn: 0.9745455\ttotal: 836ms\tremaining: 684ms\n",
            "55:\tlearn: 0.9745455\ttotal: 848ms\tremaining: 667ms\n",
            "56:\tlearn: 0.9745455\ttotal: 860ms\tremaining: 649ms\n",
            "57:\tlearn: 0.9745455\ttotal: 871ms\tremaining: 631ms\n",
            "58:\tlearn: 0.9745455\ttotal: 882ms\tremaining: 613ms\n",
            "59:\tlearn: 0.9745455\ttotal: 900ms\tremaining: 600ms\n",
            "60:\tlearn: 0.9745455\ttotal: 919ms\tremaining: 588ms\n",
            "61:\tlearn: 0.9745455\ttotal: 929ms\tremaining: 569ms\n",
            "62:\tlearn: 0.9745455\ttotal: 945ms\tremaining: 555ms\n",
            "63:\tlearn: 0.9745455\ttotal: 961ms\tremaining: 541ms\n",
            "64:\tlearn: 0.9745455\ttotal: 978ms\tremaining: 527ms\n",
            "65:\tlearn: 0.9763636\ttotal: 988ms\tremaining: 509ms\n",
            "66:\tlearn: 0.9763636\ttotal: 1.01s\tremaining: 497ms\n",
            "67:\tlearn: 0.9763636\ttotal: 1.03s\tremaining: 486ms\n",
            "68:\tlearn: 0.9763636\ttotal: 1.05s\tremaining: 473ms\n",
            "69:\tlearn: 0.9763636\ttotal: 1.06s\tremaining: 456ms\n",
            "70:\tlearn: 0.9763636\ttotal: 1.09s\tremaining: 444ms\n",
            "71:\tlearn: 0.9763636\ttotal: 1.1s\tremaining: 428ms\n",
            "72:\tlearn: 0.9781818\ttotal: 1.12s\tremaining: 414ms\n",
            "73:\tlearn: 0.9781818\ttotal: 1.14s\tremaining: 400ms\n",
            "74:\tlearn: 0.9781818\ttotal: 1.16s\tremaining: 387ms\n",
            "75:\tlearn: 0.9781818\ttotal: 1.18s\tremaining: 372ms\n",
            "76:\tlearn: 0.9781818\ttotal: 1.2s\tremaining: 358ms\n",
            "77:\tlearn: 0.9781818\ttotal: 1.21s\tremaining: 342ms\n",
            "78:\tlearn: 0.9800000\ttotal: 1.23s\tremaining: 326ms\n",
            "79:\tlearn: 0.9800000\ttotal: 1.24s\tremaining: 310ms\n",
            "80:\tlearn: 0.9818182\ttotal: 1.25s\tremaining: 294ms\n",
            "81:\tlearn: 0.9818182\ttotal: 1.27s\tremaining: 279ms\n",
            "82:\tlearn: 0.9818182\ttotal: 1.28s\tremaining: 263ms\n",
            "83:\tlearn: 0.9818182\ttotal: 1.3s\tremaining: 247ms\n",
            "84:\tlearn: 0.9818182\ttotal: 1.32s\tremaining: 233ms\n",
            "85:\tlearn: 0.9836364\ttotal: 1.34s\tremaining: 218ms\n",
            "86:\tlearn: 0.9836364\ttotal: 1.36s\tremaining: 204ms\n",
            "87:\tlearn: 0.9836364\ttotal: 1.39s\tremaining: 189ms\n",
            "88:\tlearn: 0.9836364\ttotal: 1.42s\tremaining: 176ms\n",
            "89:\tlearn: 0.9854545\ttotal: 1.44s\tremaining: 160ms\n",
            "90:\tlearn: 0.9854545\ttotal: 1.45s\tremaining: 144ms\n",
            "91:\tlearn: 0.9854545\ttotal: 1.47s\tremaining: 128ms\n",
            "92:\tlearn: 0.9854545\ttotal: 1.5s\tremaining: 113ms\n",
            "93:\tlearn: 0.9854545\ttotal: 1.52s\tremaining: 96.8ms\n",
            "94:\tlearn: 0.9854545\ttotal: 1.53s\tremaining: 80.8ms\n",
            "95:\tlearn: 0.9854545\ttotal: 1.55s\tremaining: 64.8ms\n",
            "96:\tlearn: 0.9854545\ttotal: 1.56s\tremaining: 48.4ms\n",
            "97:\tlearn: 0.9854545\ttotal: 1.6s\tremaining: 32.6ms\n",
            "98:\tlearn: 0.9854545\ttotal: 1.61s\tremaining: 16.3ms\n",
            "99:\tlearn: 0.9854545\ttotal: 1.64s\tremaining: 0us\n",
            "0:\tlearn: 0.9200000\ttotal: 10.8ms\tremaining: 1.06s\n",
            "1:\tlearn: 0.9600000\ttotal: 24.3ms\tremaining: 1.19s\n",
            "2:\tlearn: 0.9509091\ttotal: 38.9ms\tremaining: 1.26s\n",
            "3:\tlearn: 0.9545455\ttotal: 52.3ms\tremaining: 1.25s\n",
            "4:\tlearn: 0.9545455\ttotal: 63.7ms\tremaining: 1.21s\n",
            "5:\tlearn: 0.9654545\ttotal: 76.4ms\tremaining: 1.2s\n",
            "6:\tlearn: 0.9636364\ttotal: 107ms\tremaining: 1.42s\n",
            "7:\tlearn: 0.9654545\ttotal: 120ms\tremaining: 1.38s\n",
            "8:\tlearn: 0.9654545\ttotal: 136ms\tremaining: 1.38s\n",
            "9:\tlearn: 0.9654545\ttotal: 150ms\tremaining: 1.35s\n",
            "10:\tlearn: 0.9636364\ttotal: 164ms\tremaining: 1.32s\n",
            "11:\tlearn: 0.9709091\ttotal: 176ms\tremaining: 1.29s\n",
            "12:\tlearn: 0.9690909\ttotal: 197ms\tremaining: 1.32s\n",
            "13:\tlearn: 0.9709091\ttotal: 211ms\tremaining: 1.3s\n",
            "14:\tlearn: 0.9709091\ttotal: 223ms\tremaining: 1.26s\n",
            "15:\tlearn: 0.9745455\ttotal: 241ms\tremaining: 1.26s\n",
            "16:\tlearn: 0.9709091\ttotal: 264ms\tremaining: 1.29s\n",
            "17:\tlearn: 0.9727273\ttotal: 276ms\tremaining: 1.26s\n",
            "18:\tlearn: 0.9727273\ttotal: 296ms\tremaining: 1.26s\n",
            "19:\tlearn: 0.9727273\ttotal: 309ms\tremaining: 1.24s\n",
            "20:\tlearn: 0.9727273\ttotal: 322ms\tremaining: 1.21s\n",
            "21:\tlearn: 0.9727273\ttotal: 332ms\tremaining: 1.18s\n",
            "22:\tlearn: 0.9745455\ttotal: 347ms\tremaining: 1.16s\n",
            "23:\tlearn: 0.9727273\ttotal: 366ms\tremaining: 1.16s\n",
            "24:\tlearn: 0.9745455\ttotal: 377ms\tremaining: 1.13s\n",
            "25:\tlearn: 0.9727273\ttotal: 385ms\tremaining: 1.1s\n",
            "26:\tlearn: 0.9727273\ttotal: 396ms\tremaining: 1.07s\n",
            "27:\tlearn: 0.9727273\ttotal: 406ms\tremaining: 1.04s\n",
            "28:\tlearn: 0.9727273\ttotal: 429ms\tremaining: 1.05s\n",
            "29:\tlearn: 0.9727273\ttotal: 450ms\tremaining: 1.05s\n",
            "30:\tlearn: 0.9727273\ttotal: 474ms\tremaining: 1.05s\n",
            "31:\tlearn: 0.9727273\ttotal: 494ms\tremaining: 1.05s\n",
            "32:\tlearn: 0.9709091\ttotal: 507ms\tremaining: 1.03s\n",
            "33:\tlearn: 0.9709091\ttotal: 525ms\tremaining: 1.02s\n",
            "34:\tlearn: 0.9709091\ttotal: 541ms\tremaining: 1s\n",
            "35:\tlearn: 0.9727273\ttotal: 561ms\tremaining: 998ms\n",
            "36:\tlearn: 0.9727273\ttotal: 580ms\tremaining: 988ms\n",
            "37:\tlearn: 0.9727273\ttotal: 594ms\tremaining: 969ms\n",
            "38:\tlearn: 0.9727273\ttotal: 614ms\tremaining: 960ms\n",
            "39:\tlearn: 0.9727273\ttotal: 629ms\tremaining: 944ms\n",
            "40:\tlearn: 0.9727273\ttotal: 644ms\tremaining: 927ms\n",
            "41:\tlearn: 0.9745455\ttotal: 672ms\tremaining: 928ms\n",
            "42:\tlearn: 0.9745455\ttotal: 690ms\tremaining: 915ms\n",
            "43:\tlearn: 0.9745455\ttotal: 726ms\tremaining: 924ms\n",
            "44:\tlearn: 0.9745455\ttotal: 735ms\tremaining: 898ms\n",
            "45:\tlearn: 0.9745455\ttotal: 744ms\tremaining: 874ms\n",
            "46:\tlearn: 0.9745455\ttotal: 757ms\tremaining: 853ms\n",
            "47:\tlearn: 0.9745455\ttotal: 773ms\tremaining: 838ms\n",
            "48:\tlearn: 0.9745455\ttotal: 796ms\tremaining: 829ms\n",
            "49:\tlearn: 0.9745455\ttotal: 820ms\tremaining: 820ms\n",
            "50:\tlearn: 0.9745455\ttotal: 846ms\tremaining: 812ms\n",
            "51:\tlearn: 0.9763636\ttotal: 866ms\tremaining: 799ms\n",
            "52:\tlearn: 0.9763636\ttotal: 890ms\tremaining: 789ms\n",
            "53:\tlearn: 0.9763636\ttotal: 908ms\tremaining: 774ms\n",
            "54:\tlearn: 0.9763636\ttotal: 924ms\tremaining: 756ms\n",
            "55:\tlearn: 0.9763636\ttotal: 947ms\tremaining: 744ms\n",
            "56:\tlearn: 0.9763636\ttotal: 959ms\tremaining: 724ms\n",
            "57:\tlearn: 0.9763636\ttotal: 970ms\tremaining: 703ms\n",
            "58:\tlearn: 0.9763636\ttotal: 981ms\tremaining: 682ms\n",
            "59:\tlearn: 0.9763636\ttotal: 994ms\tremaining: 663ms\n",
            "60:\tlearn: 0.9763636\ttotal: 1.01s\tremaining: 646ms\n",
            "61:\tlearn: 0.9763636\ttotal: 1.02s\tremaining: 624ms\n",
            "62:\tlearn: 0.9763636\ttotal: 1.05s\tremaining: 616ms\n",
            "63:\tlearn: 0.9763636\ttotal: 1.06s\tremaining: 594ms\n",
            "64:\tlearn: 0.9781818\ttotal: 1.06s\tremaining: 571ms\n",
            "65:\tlearn: 0.9781818\ttotal: 1.07s\tremaining: 550ms\n",
            "66:\tlearn: 0.9781818\ttotal: 1.07s\tremaining: 529ms\n",
            "67:\tlearn: 0.9781818\ttotal: 1.09s\tremaining: 512ms\n",
            "68:\tlearn: 0.9781818\ttotal: 1.1s\tremaining: 495ms\n",
            "69:\tlearn: 0.9781818\ttotal: 1.12s\tremaining: 479ms\n",
            "70:\tlearn: 0.9781818\ttotal: 1.12s\tremaining: 459ms\n",
            "71:\tlearn: 0.9781818\ttotal: 1.13s\tremaining: 440ms\n",
            "72:\tlearn: 0.9781818\ttotal: 1.14s\tremaining: 422ms\n",
            "73:\tlearn: 0.9781818\ttotal: 1.15s\tremaining: 405ms\n",
            "74:\tlearn: 0.9781818\ttotal: 1.16s\tremaining: 386ms\n",
            "75:\tlearn: 0.9781818\ttotal: 1.17s\tremaining: 368ms\n",
            "76:\tlearn: 0.9781818\ttotal: 1.17s\tremaining: 350ms\n",
            "77:\tlearn: 0.9781818\ttotal: 1.18s\tremaining: 332ms\n",
            "78:\tlearn: 0.9781818\ttotal: 1.18s\tremaining: 315ms\n",
            "79:\tlearn: 0.9800000\ttotal: 1.19s\tremaining: 297ms\n",
            "80:\tlearn: 0.9781818\ttotal: 1.19s\tremaining: 280ms\n",
            "81:\tlearn: 0.9800000\ttotal: 1.2s\tremaining: 263ms\n",
            "82:\tlearn: 0.9800000\ttotal: 1.21s\tremaining: 247ms\n",
            "83:\tlearn: 0.9781818\ttotal: 1.21s\tremaining: 231ms\n",
            "84:\tlearn: 0.9800000\ttotal: 1.22s\tremaining: 215ms\n",
            "85:\tlearn: 0.9781818\ttotal: 1.22s\tremaining: 199ms\n",
            "86:\tlearn: 0.9781818\ttotal: 1.23s\tremaining: 184ms\n",
            "87:\tlearn: 0.9781818\ttotal: 1.24s\tremaining: 169ms\n",
            "88:\tlearn: 0.9800000\ttotal: 1.24s\tremaining: 154ms\n",
            "89:\tlearn: 0.9800000\ttotal: 1.25s\tremaining: 139ms\n",
            "90:\tlearn: 0.9800000\ttotal: 1.26s\tremaining: 125ms\n",
            "91:\tlearn: 0.9800000\ttotal: 1.27s\tremaining: 111ms\n",
            "92:\tlearn: 0.9800000\ttotal: 1.3s\tremaining: 97.8ms\n",
            "93:\tlearn: 0.9800000\ttotal: 1.31s\tremaining: 83.6ms\n",
            "94:\tlearn: 0.9800000\ttotal: 1.32s\tremaining: 69.8ms\n",
            "95:\tlearn: 0.9818182\ttotal: 1.34s\tremaining: 55.7ms\n",
            "96:\tlearn: 0.9800000\ttotal: 1.35s\tremaining: 41.8ms\n",
            "97:\tlearn: 0.9818182\ttotal: 1.36s\tremaining: 27.8ms\n",
            "98:\tlearn: 0.9818182\ttotal: 1.37s\tremaining: 13.9ms\n",
            "99:\tlearn: 0.9836364\ttotal: 1.4s\tremaining: 0us\n",
            "0:\tlearn: 0.9272727\ttotal: 13.2ms\tremaining: 1.31s\n",
            "1:\tlearn: 0.9654545\ttotal: 39.3ms\tremaining: 1.93s\n",
            "2:\tlearn: 0.9672727\ttotal: 77.7ms\tremaining: 2.51s\n",
            "3:\tlearn: 0.9727273\ttotal: 105ms\tremaining: 2.51s\n",
            "4:\tlearn: 0.9727273\ttotal: 118ms\tremaining: 2.25s\n",
            "5:\tlearn: 0.9727273\ttotal: 129ms\tremaining: 2.03s\n",
            "6:\tlearn: 0.9690909\ttotal: 148ms\tremaining: 1.96s\n",
            "7:\tlearn: 0.9690909\ttotal: 159ms\tremaining: 1.83s\n",
            "8:\tlearn: 0.9709091\ttotal: 171ms\tremaining: 1.73s\n",
            "9:\tlearn: 0.9709091\ttotal: 180ms\tremaining: 1.62s\n",
            "10:\tlearn: 0.9727273\ttotal: 189ms\tremaining: 1.53s\n",
            "11:\tlearn: 0.9727273\ttotal: 214ms\tremaining: 1.57s\n",
            "12:\tlearn: 0.9709091\ttotal: 226ms\tremaining: 1.51s\n",
            "13:\tlearn: 0.9727273\ttotal: 249ms\tremaining: 1.53s\n",
            "14:\tlearn: 0.9727273\ttotal: 261ms\tremaining: 1.48s\n",
            "15:\tlearn: 0.9727273\ttotal: 274ms\tremaining: 1.44s\n",
            "16:\tlearn: 0.9709091\ttotal: 284ms\tremaining: 1.39s\n",
            "17:\tlearn: 0.9745455\ttotal: 312ms\tremaining: 1.42s\n",
            "18:\tlearn: 0.9709091\ttotal: 330ms\tremaining: 1.41s\n",
            "19:\tlearn: 0.9709091\ttotal: 351ms\tremaining: 1.41s\n",
            "20:\tlearn: 0.9709091\ttotal: 369ms\tremaining: 1.39s\n",
            "21:\tlearn: 0.9745455\ttotal: 386ms\tremaining: 1.37s\n",
            "22:\tlearn: 0.9745455\ttotal: 404ms\tremaining: 1.35s\n",
            "23:\tlearn: 0.9727273\ttotal: 426ms\tremaining: 1.35s\n",
            "24:\tlearn: 0.9709091\ttotal: 447ms\tremaining: 1.34s\n",
            "25:\tlearn: 0.9709091\ttotal: 457ms\tremaining: 1.3s\n",
            "26:\tlearn: 0.9727273\ttotal: 471ms\tremaining: 1.27s\n",
            "27:\tlearn: 0.9709091\ttotal: 496ms\tremaining: 1.27s\n",
            "28:\tlearn: 0.9709091\ttotal: 512ms\tremaining: 1.25s\n",
            "29:\tlearn: 0.9709091\ttotal: 525ms\tremaining: 1.22s\n",
            "30:\tlearn: 0.9709091\ttotal: 538ms\tremaining: 1.2s\n",
            "31:\tlearn: 0.9727273\ttotal: 548ms\tremaining: 1.16s\n",
            "32:\tlearn: 0.9727273\ttotal: 557ms\tremaining: 1.13s\n",
            "33:\tlearn: 0.9727273\ttotal: 568ms\tremaining: 1.1s\n",
            "34:\tlearn: 0.9727273\ttotal: 578ms\tremaining: 1.07s\n",
            "35:\tlearn: 0.9727273\ttotal: 593ms\tremaining: 1.05s\n",
            "36:\tlearn: 0.9727273\ttotal: 604ms\tremaining: 1.03s\n",
            "37:\tlearn: 0.9727273\ttotal: 614ms\tremaining: 1s\n",
            "38:\tlearn: 0.9745455\ttotal: 632ms\tremaining: 989ms\n",
            "39:\tlearn: 0.9745455\ttotal: 638ms\tremaining: 957ms\n",
            "40:\tlearn: 0.9745455\ttotal: 646ms\tremaining: 930ms\n",
            "41:\tlearn: 0.9745455\ttotal: 650ms\tremaining: 898ms\n",
            "42:\tlearn: 0.9745455\ttotal: 655ms\tremaining: 868ms\n",
            "43:\tlearn: 0.9745455\ttotal: 659ms\tremaining: 838ms\n",
            "44:\tlearn: 0.9745455\ttotal: 663ms\tremaining: 810ms\n",
            "45:\tlearn: 0.9745455\ttotal: 667ms\tremaining: 783ms\n",
            "46:\tlearn: 0.9745455\ttotal: 672ms\tremaining: 758ms\n",
            "47:\tlearn: 0.9745455\ttotal: 676ms\tremaining: 733ms\n",
            "48:\tlearn: 0.9727273\ttotal: 681ms\tremaining: 709ms\n",
            "49:\tlearn: 0.9727273\ttotal: 686ms\tremaining: 686ms\n",
            "50:\tlearn: 0.9763636\ttotal: 690ms\tremaining: 663ms\n",
            "51:\tlearn: 0.9763636\ttotal: 695ms\tremaining: 641ms\n",
            "52:\tlearn: 0.9745455\ttotal: 699ms\tremaining: 620ms\n",
            "53:\tlearn: 0.9763636\ttotal: 703ms\tremaining: 599ms\n",
            "54:\tlearn: 0.9745455\ttotal: 708ms\tremaining: 579ms\n",
            "55:\tlearn: 0.9763636\ttotal: 712ms\tremaining: 559ms\n",
            "56:\tlearn: 0.9745455\ttotal: 717ms\tremaining: 541ms\n",
            "57:\tlearn: 0.9745455\ttotal: 721ms\tremaining: 522ms\n",
            "58:\tlearn: 0.9745455\ttotal: 725ms\tremaining: 504ms\n",
            "59:\tlearn: 0.9745455\ttotal: 730ms\tremaining: 487ms\n",
            "60:\tlearn: 0.9745455\ttotal: 735ms\tremaining: 470ms\n",
            "61:\tlearn: 0.9763636\ttotal: 739ms\tremaining: 453ms\n",
            "62:\tlearn: 0.9781818\ttotal: 744ms\tremaining: 437ms\n",
            "63:\tlearn: 0.9781818\ttotal: 748ms\tremaining: 421ms\n",
            "64:\tlearn: 0.9781818\ttotal: 752ms\tremaining: 405ms\n",
            "65:\tlearn: 0.9781818\ttotal: 757ms\tremaining: 390ms\n",
            "66:\tlearn: 0.9781818\ttotal: 761ms\tremaining: 375ms\n",
            "67:\tlearn: 0.9781818\ttotal: 766ms\tremaining: 360ms\n",
            "68:\tlearn: 0.9781818\ttotal: 770ms\tremaining: 346ms\n",
            "69:\tlearn: 0.9781818\ttotal: 780ms\tremaining: 334ms\n",
            "70:\tlearn: 0.9800000\ttotal: 793ms\tremaining: 324ms\n",
            "71:\tlearn: 0.9800000\ttotal: 803ms\tremaining: 312ms\n",
            "72:\tlearn: 0.9800000\ttotal: 816ms\tremaining: 302ms\n",
            "73:\tlearn: 0.9800000\ttotal: 827ms\tremaining: 291ms\n",
            "74:\tlearn: 0.9800000\ttotal: 846ms\tremaining: 282ms\n",
            "75:\tlearn: 0.9800000\ttotal: 857ms\tremaining: 271ms\n",
            "76:\tlearn: 0.9800000\ttotal: 870ms\tremaining: 260ms\n",
            "77:\tlearn: 0.9800000\ttotal: 881ms\tremaining: 249ms\n",
            "78:\tlearn: 0.9800000\ttotal: 893ms\tremaining: 237ms\n",
            "79:\tlearn: 0.9800000\ttotal: 904ms\tremaining: 226ms\n",
            "80:\tlearn: 0.9818182\ttotal: 913ms\tremaining: 214ms\n",
            "81:\tlearn: 0.9836364\ttotal: 924ms\tremaining: 203ms\n",
            "82:\tlearn: 0.9854545\ttotal: 934ms\tremaining: 191ms\n",
            "83:\tlearn: 0.9854545\ttotal: 943ms\tremaining: 180ms\n",
            "84:\tlearn: 0.9854545\ttotal: 950ms\tremaining: 168ms\n",
            "85:\tlearn: 0.9854545\ttotal: 955ms\tremaining: 155ms\n",
            "86:\tlearn: 0.9854545\ttotal: 966ms\tremaining: 144ms\n",
            "87:\tlearn: 0.9854545\ttotal: 978ms\tremaining: 133ms\n",
            "88:\tlearn: 0.9854545\ttotal: 1s\tremaining: 124ms\n",
            "89:\tlearn: 0.9854545\ttotal: 1.03s\tremaining: 114ms\n",
            "90:\tlearn: 0.9872727\ttotal: 1.04s\tremaining: 103ms\n",
            "91:\tlearn: 0.9872727\ttotal: 1.07s\tremaining: 92.9ms\n",
            "92:\tlearn: 0.9872727\ttotal: 1.08s\tremaining: 81.4ms\n",
            "93:\tlearn: 0.9872727\ttotal: 1.09s\tremaining: 69.7ms\n",
            "94:\tlearn: 0.9872727\ttotal: 1.1s\tremaining: 58.1ms\n",
            "95:\tlearn: 0.9872727\ttotal: 1.11s\tremaining: 46.4ms\n",
            "96:\tlearn: 0.9872727\ttotal: 1.12s\tremaining: 34.8ms\n",
            "97:\tlearn: 0.9872727\ttotal: 1.13s\tremaining: 23.1ms\n",
            "98:\tlearn: 0.9872727\ttotal: 1.14s\tremaining: 11.5ms\n",
            "99:\tlearn: 0.9872727\ttotal: 1.14s\tremaining: 0us\n",
            "0:\tlearn: 0.9218182\ttotal: 4.42ms\tremaining: 437ms\n",
            "1:\tlearn: 0.9309091\ttotal: 11.4ms\tremaining: 559ms\n",
            "2:\tlearn: 0.9436364\ttotal: 16.7ms\tremaining: 539ms\n",
            "3:\tlearn: 0.9490909\ttotal: 29.9ms\tremaining: 717ms\n",
            "4:\tlearn: 0.9581818\ttotal: 53.1ms\tremaining: 1.01s\n",
            "5:\tlearn: 0.9581818\ttotal: 60.5ms\tremaining: 947ms\n",
            "6:\tlearn: 0.9545455\ttotal: 71.2ms\tremaining: 945ms\n",
            "7:\tlearn: 0.9581818\ttotal: 81.8ms\tremaining: 940ms\n",
            "8:\tlearn: 0.9581818\ttotal: 95.1ms\tremaining: 961ms\n",
            "9:\tlearn: 0.9600000\ttotal: 105ms\tremaining: 945ms\n",
            "10:\tlearn: 0.9690909\ttotal: 112ms\tremaining: 903ms\n",
            "11:\tlearn: 0.9672727\ttotal: 144ms\tremaining: 1.05s\n",
            "12:\tlearn: 0.9690909\ttotal: 148ms\tremaining: 993ms\n",
            "13:\tlearn: 0.9672727\ttotal: 159ms\tremaining: 976ms\n",
            "14:\tlearn: 0.9690909\ttotal: 177ms\tremaining: 1s\n",
            "15:\tlearn: 0.9709091\ttotal: 189ms\tremaining: 993ms\n",
            "16:\tlearn: 0.9672727\ttotal: 210ms\tremaining: 1.03s\n",
            "17:\tlearn: 0.9690909\ttotal: 221ms\tremaining: 1.01s\n",
            "18:\tlearn: 0.9709091\ttotal: 233ms\tremaining: 993ms\n",
            "19:\tlearn: 0.9690909\ttotal: 243ms\tremaining: 972ms\n",
            "20:\tlearn: 0.9709091\ttotal: 261ms\tremaining: 983ms\n",
            "21:\tlearn: 0.9690909\ttotal: 273ms\tremaining: 969ms\n",
            "22:\tlearn: 0.9709091\ttotal: 284ms\tremaining: 951ms\n",
            "23:\tlearn: 0.9727273\ttotal: 296ms\tremaining: 936ms\n",
            "24:\tlearn: 0.9727273\ttotal: 306ms\tremaining: 919ms\n",
            "25:\tlearn: 0.9727273\ttotal: 315ms\tremaining: 897ms\n",
            "26:\tlearn: 0.9727273\ttotal: 329ms\tremaining: 889ms\n",
            "27:\tlearn: 0.9727273\ttotal: 342ms\tremaining: 879ms\n",
            "28:\tlearn: 0.9727273\ttotal: 350ms\tremaining: 858ms\n",
            "29:\tlearn: 0.9727273\ttotal: 360ms\tremaining: 839ms\n",
            "30:\tlearn: 0.9727273\ttotal: 373ms\tremaining: 829ms\n",
            "31:\tlearn: 0.9727273\ttotal: 387ms\tremaining: 823ms\n",
            "32:\tlearn: 0.9727273\ttotal: 397ms\tremaining: 806ms\n",
            "33:\tlearn: 0.9727273\ttotal: 407ms\tremaining: 791ms\n",
            "34:\tlearn: 0.9745455\ttotal: 413ms\tremaining: 767ms\n",
            "35:\tlearn: 0.9745455\ttotal: 418ms\tremaining: 743ms\n",
            "36:\tlearn: 0.9727273\ttotal: 424ms\tremaining: 722ms\n",
            "37:\tlearn: 0.9781818\ttotal: 430ms\tremaining: 701ms\n",
            "38:\tlearn: 0.9781818\ttotal: 446ms\tremaining: 697ms\n",
            "39:\tlearn: 0.9763636\ttotal: 459ms\tremaining: 688ms\n",
            "40:\tlearn: 0.9763636\ttotal: 466ms\tremaining: 671ms\n",
            "41:\tlearn: 0.9745455\ttotal: 472ms\tremaining: 652ms\n",
            "42:\tlearn: 0.9745455\ttotal: 479ms\tremaining: 635ms\n",
            "43:\tlearn: 0.9745455\ttotal: 483ms\tremaining: 615ms\n",
            "44:\tlearn: 0.9745455\ttotal: 488ms\tremaining: 597ms\n",
            "45:\tlearn: 0.9745455\ttotal: 496ms\tremaining: 582ms\n",
            "46:\tlearn: 0.9745455\ttotal: 502ms\tremaining: 566ms\n",
            "47:\tlearn: 0.9745455\ttotal: 508ms\tremaining: 551ms\n",
            "48:\tlearn: 0.9745455\ttotal: 513ms\tremaining: 534ms\n",
            "49:\tlearn: 0.9745455\ttotal: 518ms\tremaining: 518ms\n",
            "50:\tlearn: 0.9745455\ttotal: 525ms\tremaining: 505ms\n",
            "51:\tlearn: 0.9745455\ttotal: 529ms\tremaining: 489ms\n",
            "52:\tlearn: 0.9745455\ttotal: 535ms\tremaining: 475ms\n",
            "53:\tlearn: 0.9745455\ttotal: 540ms\tremaining: 460ms\n",
            "54:\tlearn: 0.9763636\ttotal: 546ms\tremaining: 447ms\n",
            "55:\tlearn: 0.9745455\ttotal: 551ms\tremaining: 433ms\n",
            "56:\tlearn: 0.9745455\ttotal: 556ms\tremaining: 419ms\n",
            "57:\tlearn: 0.9763636\ttotal: 567ms\tremaining: 411ms\n",
            "58:\tlearn: 0.9745455\ttotal: 580ms\tremaining: 403ms\n",
            "59:\tlearn: 0.9763636\ttotal: 592ms\tremaining: 394ms\n",
            "60:\tlearn: 0.9763636\ttotal: 603ms\tremaining: 386ms\n",
            "61:\tlearn: 0.9763636\ttotal: 622ms\tremaining: 381ms\n",
            "62:\tlearn: 0.9763636\ttotal: 638ms\tremaining: 375ms\n",
            "63:\tlearn: 0.9763636\ttotal: 653ms\tremaining: 367ms\n",
            "64:\tlearn: 0.9763636\ttotal: 657ms\tremaining: 354ms\n",
            "65:\tlearn: 0.9800000\ttotal: 664ms\tremaining: 342ms\n",
            "66:\tlearn: 0.9781818\ttotal: 668ms\tremaining: 329ms\n",
            "67:\tlearn: 0.9781818\ttotal: 676ms\tremaining: 318ms\n",
            "68:\tlearn: 0.9800000\ttotal: 680ms\tremaining: 305ms\n",
            "69:\tlearn: 0.9800000\ttotal: 686ms\tremaining: 294ms\n",
            "70:\tlearn: 0.9800000\ttotal: 691ms\tremaining: 282ms\n",
            "71:\tlearn: 0.9800000\ttotal: 697ms\tremaining: 271ms\n",
            "72:\tlearn: 0.9800000\ttotal: 702ms\tremaining: 260ms\n",
            "73:\tlearn: 0.9800000\ttotal: 712ms\tremaining: 250ms\n",
            "74:\tlearn: 0.9800000\ttotal: 721ms\tremaining: 240ms\n",
            "75:\tlearn: 0.9800000\ttotal: 733ms\tremaining: 232ms\n",
            "76:\tlearn: 0.9800000\ttotal: 739ms\tremaining: 221ms\n",
            "77:\tlearn: 0.9800000\ttotal: 744ms\tremaining: 210ms\n",
            "78:\tlearn: 0.9800000\ttotal: 750ms\tremaining: 199ms\n",
            "79:\tlearn: 0.9800000\ttotal: 754ms\tremaining: 189ms\n",
            "80:\tlearn: 0.9800000\ttotal: 760ms\tremaining: 178ms\n",
            "81:\tlearn: 0.9800000\ttotal: 765ms\tremaining: 168ms\n",
            "82:\tlearn: 0.9800000\ttotal: 770ms\tremaining: 158ms\n",
            "83:\tlearn: 0.9800000\ttotal: 778ms\tremaining: 148ms\n",
            "84:\tlearn: 0.9800000\ttotal: 782ms\tremaining: 138ms\n",
            "85:\tlearn: 0.9800000\ttotal: 788ms\tremaining: 128ms\n",
            "86:\tlearn: 0.9800000\ttotal: 792ms\tremaining: 118ms\n",
            "87:\tlearn: 0.9800000\ttotal: 803ms\tremaining: 109ms\n",
            "88:\tlearn: 0.9800000\ttotal: 815ms\tremaining: 101ms\n",
            "89:\tlearn: 0.9800000\ttotal: 825ms\tremaining: 91.7ms\n",
            "90:\tlearn: 0.9818182\ttotal: 850ms\tremaining: 84ms\n",
            "91:\tlearn: 0.9818182\ttotal: 862ms\tremaining: 74.9ms\n",
            "92:\tlearn: 0.9836364\ttotal: 874ms\tremaining: 65.8ms\n",
            "93:\tlearn: 0.9818182\ttotal: 884ms\tremaining: 56.4ms\n",
            "94:\tlearn: 0.9818182\ttotal: 894ms\tremaining: 47.1ms\n",
            "95:\tlearn: 0.9818182\ttotal: 905ms\tremaining: 37.7ms\n",
            "96:\tlearn: 0.9836364\ttotal: 917ms\tremaining: 28.4ms\n",
            "97:\tlearn: 0.9836364\ttotal: 930ms\tremaining: 19ms\n",
            "98:\tlearn: 0.9836364\ttotal: 941ms\tremaining: 9.5ms\n",
            "99:\tlearn: 0.9836364\ttotal: 953ms\tremaining: 0us\n",
            "0:\tlearn: 0.9163636\ttotal: 19ms\tremaining: 1.88s\n",
            "1:\tlearn: 0.9636364\ttotal: 48.2ms\tremaining: 2.36s\n",
            "2:\tlearn: 0.9672727\ttotal: 58.7ms\tremaining: 1.9s\n",
            "3:\tlearn: 0.9618182\ttotal: 70.5ms\tremaining: 1.69s\n",
            "4:\tlearn: 0.9654545\ttotal: 82.9ms\tremaining: 1.57s\n",
            "5:\tlearn: 0.9618182\ttotal: 95.5ms\tremaining: 1.5s\n",
            "6:\tlearn: 0.9618182\ttotal: 118ms\tremaining: 1.57s\n",
            "7:\tlearn: 0.9618182\ttotal: 128ms\tremaining: 1.47s\n",
            "8:\tlearn: 0.9618182\ttotal: 139ms\tremaining: 1.4s\n",
            "9:\tlearn: 0.9618182\ttotal: 149ms\tremaining: 1.34s\n",
            "10:\tlearn: 0.9654545\ttotal: 160ms\tremaining: 1.29s\n",
            "11:\tlearn: 0.9636364\ttotal: 171ms\tremaining: 1.25s\n",
            "12:\tlearn: 0.9636364\ttotal: 187ms\tremaining: 1.25s\n",
            "13:\tlearn: 0.9672727\ttotal: 199ms\tremaining: 1.22s\n",
            "14:\tlearn: 0.9672727\ttotal: 210ms\tremaining: 1.19s\n",
            "15:\tlearn: 0.9709091\ttotal: 221ms\tremaining: 1.16s\n",
            "16:\tlearn: 0.9690909\ttotal: 234ms\tremaining: 1.14s\n",
            "17:\tlearn: 0.9709091\ttotal: 253ms\tremaining: 1.15s\n",
            "18:\tlearn: 0.9709091\ttotal: 262ms\tremaining: 1.12s\n",
            "19:\tlearn: 0.9690909\ttotal: 269ms\tremaining: 1.08s\n",
            "20:\tlearn: 0.9727273\ttotal: 274ms\tremaining: 1.03s\n",
            "21:\tlearn: 0.9745455\ttotal: 280ms\tremaining: 994ms\n",
            "22:\tlearn: 0.9727273\ttotal: 285ms\tremaining: 953ms\n",
            "23:\tlearn: 0.9745455\ttotal: 291ms\tremaining: 921ms\n",
            "24:\tlearn: 0.9745455\ttotal: 295ms\tremaining: 885ms\n",
            "25:\tlearn: 0.9745455\ttotal: 301ms\tremaining: 858ms\n",
            "26:\tlearn: 0.9745455\ttotal: 306ms\tremaining: 826ms\n",
            "27:\tlearn: 0.9745455\ttotal: 313ms\tremaining: 806ms\n",
            "28:\tlearn: 0.9727273\ttotal: 328ms\tremaining: 803ms\n",
            "29:\tlearn: 0.9745455\ttotal: 339ms\tremaining: 790ms\n",
            "30:\tlearn: 0.9745455\ttotal: 351ms\tremaining: 780ms\n",
            "31:\tlearn: 0.9745455\ttotal: 360ms\tremaining: 765ms\n",
            "32:\tlearn: 0.9763636\ttotal: 373ms\tremaining: 758ms\n",
            "33:\tlearn: 0.9745455\ttotal: 383ms\tremaining: 743ms\n",
            "34:\tlearn: 0.9763636\ttotal: 396ms\tremaining: 735ms\n",
            "35:\tlearn: 0.9763636\ttotal: 408ms\tremaining: 725ms\n",
            "36:\tlearn: 0.9763636\ttotal: 418ms\tremaining: 712ms\n",
            "37:\tlearn: 0.9745455\ttotal: 429ms\tremaining: 700ms\n",
            "38:\tlearn: 0.9745455\ttotal: 448ms\tremaining: 701ms\n",
            "39:\tlearn: 0.9745455\ttotal: 460ms\tremaining: 690ms\n",
            "40:\tlearn: 0.9745455\ttotal: 471ms\tremaining: 677ms\n",
            "41:\tlearn: 0.9745455\ttotal: 482ms\tremaining: 665ms\n",
            "42:\tlearn: 0.9745455\ttotal: 493ms\tremaining: 653ms\n",
            "43:\tlearn: 0.9745455\ttotal: 503ms\tremaining: 640ms\n",
            "44:\tlearn: 0.9745455\ttotal: 515ms\tremaining: 629ms\n",
            "45:\tlearn: 0.9745455\ttotal: 525ms\tremaining: 616ms\n",
            "46:\tlearn: 0.9745455\ttotal: 535ms\tremaining: 604ms\n",
            "47:\tlearn: 0.9745455\ttotal: 545ms\tremaining: 590ms\n",
            "48:\tlearn: 0.9745455\ttotal: 559ms\tremaining: 582ms\n",
            "49:\tlearn: 0.9763636\ttotal: 572ms\tremaining: 572ms\n",
            "50:\tlearn: 0.9763636\ttotal: 595ms\tremaining: 572ms\n",
            "51:\tlearn: 0.9763636\ttotal: 608ms\tremaining: 561ms\n",
            "52:\tlearn: 0.9763636\ttotal: 633ms\tremaining: 562ms\n",
            "53:\tlearn: 0.9763636\ttotal: 646ms\tremaining: 551ms\n",
            "54:\tlearn: 0.9781818\ttotal: 670ms\tremaining: 548ms\n",
            "55:\tlearn: 0.9763636\ttotal: 688ms\tremaining: 541ms\n",
            "56:\tlearn: 0.9763636\ttotal: 708ms\tremaining: 534ms\n",
            "57:\tlearn: 0.9763636\ttotal: 719ms\tremaining: 520ms\n",
            "58:\tlearn: 0.9763636\ttotal: 735ms\tremaining: 511ms\n",
            "59:\tlearn: 0.9763636\ttotal: 740ms\tremaining: 493ms\n",
            "60:\tlearn: 0.9763636\ttotal: 745ms\tremaining: 476ms\n",
            "61:\tlearn: 0.9763636\ttotal: 749ms\tremaining: 459ms\n",
            "62:\tlearn: 0.9781818\ttotal: 756ms\tremaining: 444ms\n",
            "63:\tlearn: 0.9763636\ttotal: 761ms\tremaining: 428ms\n",
            "64:\tlearn: 0.9781818\ttotal: 765ms\tremaining: 412ms\n",
            "65:\tlearn: 0.9781818\ttotal: 776ms\tremaining: 400ms\n",
            "66:\tlearn: 0.9781818\ttotal: 788ms\tremaining: 388ms\n",
            "67:\tlearn: 0.9781818\ttotal: 800ms\tremaining: 376ms\n",
            "68:\tlearn: 0.9781818\ttotal: 811ms\tremaining: 364ms\n",
            "69:\tlearn: 0.9781818\ttotal: 822ms\tremaining: 352ms\n",
            "70:\tlearn: 0.9781818\ttotal: 839ms\tremaining: 343ms\n",
            "71:\tlearn: 0.9781818\ttotal: 850ms\tremaining: 330ms\n",
            "72:\tlearn: 0.9781818\ttotal: 868ms\tremaining: 321ms\n",
            "73:\tlearn: 0.9781818\ttotal: 881ms\tremaining: 309ms\n",
            "74:\tlearn: 0.9781818\ttotal: 898ms\tremaining: 299ms\n",
            "75:\tlearn: 0.9781818\ttotal: 909ms\tremaining: 287ms\n",
            "76:\tlearn: 0.9781818\ttotal: 927ms\tremaining: 277ms\n",
            "77:\tlearn: 0.9781818\ttotal: 938ms\tremaining: 265ms\n",
            "78:\tlearn: 0.9781818\ttotal: 950ms\tremaining: 253ms\n",
            "79:\tlearn: 0.9800000\ttotal: 962ms\tremaining: 240ms\n",
            "80:\tlearn: 0.9781818\ttotal: 981ms\tremaining: 230ms\n",
            "81:\tlearn: 0.9781818\ttotal: 992ms\tremaining: 218ms\n",
            "82:\tlearn: 0.9800000\ttotal: 996ms\tremaining: 204ms\n",
            "83:\tlearn: 0.9800000\ttotal: 1s\tremaining: 191ms\n",
            "84:\tlearn: 0.9818182\ttotal: 1s\tremaining: 177ms\n",
            "85:\tlearn: 0.9818182\ttotal: 1.01s\tremaining: 164ms\n",
            "86:\tlearn: 0.9818182\ttotal: 1.02s\tremaining: 152ms\n",
            "87:\tlearn: 0.9818182\ttotal: 1.02s\tremaining: 140ms\n",
            "88:\tlearn: 0.9818182\ttotal: 1.03s\tremaining: 127ms\n",
            "89:\tlearn: 0.9818182\ttotal: 1.03s\tremaining: 115ms\n",
            "90:\tlearn: 0.9818182\ttotal: 1.04s\tremaining: 103ms\n",
            "91:\tlearn: 0.9836364\ttotal: 1.04s\tremaining: 90.6ms\n",
            "92:\tlearn: 0.9818182\ttotal: 1.04s\tremaining: 78.7ms\n",
            "93:\tlearn: 0.9836364\ttotal: 1.05s\tremaining: 67ms\n",
            "94:\tlearn: 0.9854545\ttotal: 1.05s\tremaining: 55.5ms\n",
            "95:\tlearn: 0.9854545\ttotal: 1.06s\tremaining: 44.1ms\n",
            "96:\tlearn: 0.9854545\ttotal: 1.06s\tremaining: 32.9ms\n",
            "97:\tlearn: 0.9854545\ttotal: 1.07s\tremaining: 21.8ms\n",
            "98:\tlearn: 0.9854545\ttotal: 1.07s\tremaining: 10.8ms\n",
            "99:\tlearn: 0.9854545\ttotal: 1.08s\tremaining: 0us\n",
            "0:\tlearn: 0.9290909\ttotal: 4.42ms\tremaining: 437ms\n",
            "1:\tlearn: 0.9672727\ttotal: 9.08ms\tremaining: 445ms\n",
            "2:\tlearn: 0.9563636\ttotal: 13.8ms\tremaining: 445ms\n",
            "3:\tlearn: 0.9545455\ttotal: 18.2ms\tremaining: 437ms\n",
            "4:\tlearn: 0.9545455\ttotal: 22.7ms\tremaining: 432ms\n",
            "5:\tlearn: 0.9600000\ttotal: 27.2ms\tremaining: 425ms\n",
            "6:\tlearn: 0.9563636\ttotal: 31.6ms\tremaining: 420ms\n",
            "7:\tlearn: 0.9600000\ttotal: 36ms\tremaining: 414ms\n",
            "8:\tlearn: 0.9654545\ttotal: 40.5ms\tremaining: 409ms\n",
            "9:\tlearn: 0.9654545\ttotal: 47.6ms\tremaining: 429ms\n",
            "10:\tlearn: 0.9654545\ttotal: 57.1ms\tremaining: 462ms\n",
            "11:\tlearn: 0.9672727\ttotal: 78.7ms\tremaining: 577ms\n",
            "12:\tlearn: 0.9727273\ttotal: 101ms\tremaining: 677ms\n",
            "13:\tlearn: 0.9727273\ttotal: 124ms\tremaining: 760ms\n",
            "14:\tlearn: 0.9727273\ttotal: 150ms\tremaining: 848ms\n",
            "15:\tlearn: 0.9727273\ttotal: 165ms\tremaining: 865ms\n",
            "16:\tlearn: 0.9709091\ttotal: 176ms\tremaining: 858ms\n",
            "17:\tlearn: 0.9690909\ttotal: 181ms\tremaining: 823ms\n",
            "18:\tlearn: 0.9709091\ttotal: 185ms\tremaining: 789ms\n",
            "19:\tlearn: 0.9709091\ttotal: 190ms\tremaining: 758ms\n",
            "20:\tlearn: 0.9709091\ttotal: 194ms\tremaining: 730ms\n",
            "21:\tlearn: 0.9727273\ttotal: 199ms\tremaining: 704ms\n",
            "22:\tlearn: 0.9727273\ttotal: 203ms\tremaining: 679ms\n",
            "23:\tlearn: 0.9727273\ttotal: 208ms\tremaining: 658ms\n",
            "24:\tlearn: 0.9727273\ttotal: 212ms\tremaining: 637ms\n",
            "25:\tlearn: 0.9727273\ttotal: 217ms\tremaining: 617ms\n",
            "26:\tlearn: 0.9727273\ttotal: 221ms\tremaining: 598ms\n",
            "27:\tlearn: 0.9727273\ttotal: 226ms\tremaining: 580ms\n",
            "28:\tlearn: 0.9709091\ttotal: 230ms\tremaining: 563ms\n",
            "29:\tlearn: 0.9709091\ttotal: 235ms\tremaining: 547ms\n",
            "30:\tlearn: 0.9727273\ttotal: 239ms\tremaining: 532ms\n",
            "31:\tlearn: 0.9727273\ttotal: 244ms\tremaining: 518ms\n",
            "32:\tlearn: 0.9709091\ttotal: 248ms\tremaining: 504ms\n",
            "33:\tlearn: 0.9727273\ttotal: 252ms\tremaining: 490ms\n",
            "34:\tlearn: 0.9727273\ttotal: 257ms\tremaining: 477ms\n",
            "35:\tlearn: 0.9727273\ttotal: 268ms\tremaining: 476ms\n",
            "36:\tlearn: 0.9727273\ttotal: 273ms\tremaining: 464ms\n",
            "37:\tlearn: 0.9727273\ttotal: 277ms\tremaining: 452ms\n",
            "38:\tlearn: 0.9727273\ttotal: 281ms\tremaining: 440ms\n",
            "39:\tlearn: 0.9727273\ttotal: 286ms\tremaining: 429ms\n",
            "40:\tlearn: 0.9727273\ttotal: 290ms\tremaining: 417ms\n",
            "41:\tlearn: 0.9763636\ttotal: 295ms\tremaining: 407ms\n",
            "42:\tlearn: 0.9745455\ttotal: 301ms\tremaining: 399ms\n",
            "43:\tlearn: 0.9745455\ttotal: 305ms\tremaining: 388ms\n",
            "44:\tlearn: 0.9763636\ttotal: 310ms\tremaining: 378ms\n",
            "45:\tlearn: 0.9763636\ttotal: 314ms\tremaining: 369ms\n",
            "46:\tlearn: 0.9745455\ttotal: 320ms\tremaining: 360ms\n",
            "47:\tlearn: 0.9745455\ttotal: 330ms\tremaining: 358ms\n",
            "48:\tlearn: 0.9745455\ttotal: 346ms\tremaining: 360ms\n",
            "49:\tlearn: 0.9745455\ttotal: 352ms\tremaining: 352ms\n",
            "50:\tlearn: 0.9763636\ttotal: 357ms\tremaining: 343ms\n",
            "51:\tlearn: 0.9781818\ttotal: 363ms\tremaining: 335ms\n",
            "52:\tlearn: 0.9781818\ttotal: 367ms\tremaining: 326ms\n",
            "53:\tlearn: 0.9781818\ttotal: 389ms\tremaining: 331ms\n",
            "54:\tlearn: 0.9781818\ttotal: 397ms\tremaining: 325ms\n",
            "55:\tlearn: 0.9781818\ttotal: 402ms\tremaining: 316ms\n",
            "56:\tlearn: 0.9781818\ttotal: 408ms\tremaining: 308ms\n",
            "57:\tlearn: 0.9781818\ttotal: 416ms\tremaining: 301ms\n",
            "58:\tlearn: 0.9781818\ttotal: 422ms\tremaining: 293ms\n",
            "59:\tlearn: 0.9781818\ttotal: 427ms\tremaining: 284ms\n",
            "60:\tlearn: 0.9781818\ttotal: 431ms\tremaining: 276ms\n",
            "61:\tlearn: 0.9781818\ttotal: 436ms\tremaining: 267ms\n",
            "62:\tlearn: 0.9781818\ttotal: 440ms\tremaining: 259ms\n",
            "63:\tlearn: 0.9781818\ttotal: 445ms\tremaining: 250ms\n",
            "64:\tlearn: 0.9781818\ttotal: 449ms\tremaining: 242ms\n",
            "65:\tlearn: 0.9781818\ttotal: 454ms\tremaining: 234ms\n",
            "66:\tlearn: 0.9781818\ttotal: 458ms\tremaining: 226ms\n",
            "67:\tlearn: 0.9781818\ttotal: 463ms\tremaining: 218ms\n",
            "68:\tlearn: 0.9781818\ttotal: 467ms\tremaining: 210ms\n",
            "69:\tlearn: 0.9781818\ttotal: 472ms\tremaining: 202ms\n",
            "70:\tlearn: 0.9781818\ttotal: 477ms\tremaining: 195ms\n",
            "71:\tlearn: 0.9781818\ttotal: 481ms\tremaining: 187ms\n",
            "72:\tlearn: 0.9781818\ttotal: 486ms\tremaining: 180ms\n",
            "73:\tlearn: 0.9800000\ttotal: 490ms\tremaining: 172ms\n",
            "74:\tlearn: 0.9781818\ttotal: 495ms\tremaining: 165ms\n",
            "75:\tlearn: 0.9781818\ttotal: 500ms\tremaining: 158ms\n",
            "76:\tlearn: 0.9781818\ttotal: 504ms\tremaining: 151ms\n",
            "77:\tlearn: 0.9818182\ttotal: 510ms\tremaining: 144ms\n",
            "78:\tlearn: 0.9818182\ttotal: 519ms\tremaining: 138ms\n",
            "79:\tlearn: 0.9818182\ttotal: 523ms\tremaining: 131ms\n",
            "80:\tlearn: 0.9818182\ttotal: 528ms\tremaining: 124ms\n",
            "81:\tlearn: 0.9818182\ttotal: 533ms\tremaining: 117ms\n",
            "82:\tlearn: 0.9818182\ttotal: 537ms\tremaining: 110ms\n",
            "83:\tlearn: 0.9818182\ttotal: 542ms\tremaining: 103ms\n",
            "84:\tlearn: 0.9818182\ttotal: 546ms\tremaining: 96.4ms\n",
            "85:\tlearn: 0.9818182\ttotal: 551ms\tremaining: 89.6ms\n",
            "86:\tlearn: 0.9818182\ttotal: 555ms\tremaining: 83ms\n",
            "87:\tlearn: 0.9818182\ttotal: 560ms\tremaining: 76.3ms\n",
            "88:\tlearn: 0.9818182\ttotal: 564ms\tremaining: 69.7ms\n",
            "89:\tlearn: 0.9818182\ttotal: 569ms\tremaining: 63.2ms\n",
            "90:\tlearn: 0.9818182\ttotal: 574ms\tremaining: 56.7ms\n",
            "91:\tlearn: 0.9818182\ttotal: 578ms\tremaining: 50.3ms\n",
            "92:\tlearn: 0.9818182\ttotal: 583ms\tremaining: 43.9ms\n",
            "93:\tlearn: 0.9818182\ttotal: 590ms\tremaining: 37.7ms\n",
            "94:\tlearn: 0.9818182\ttotal: 595ms\tremaining: 31.3ms\n",
            "95:\tlearn: 0.9818182\ttotal: 599ms\tremaining: 25ms\n",
            "96:\tlearn: 0.9818182\ttotal: 607ms\tremaining: 18.8ms\n",
            "97:\tlearn: 0.9818182\ttotal: 614ms\tremaining: 12.5ms\n",
            "98:\tlearn: 0.9818182\ttotal: 618ms\tremaining: 6.24ms\n",
            "99:\tlearn: 0.9818182\ttotal: 622ms\tremaining: 0us\n",
            "0:\tlearn: 0.9236364\ttotal: 27.8ms\tremaining: 2.75s\n",
            "1:\tlearn: 0.9490909\ttotal: 39.6ms\tremaining: 1.94s\n",
            "2:\tlearn: 0.9636364\ttotal: 46.9ms\tremaining: 1.51s\n",
            "3:\tlearn: 0.9545455\ttotal: 58ms\tremaining: 1.39s\n",
            "4:\tlearn: 0.9600000\ttotal: 64.3ms\tremaining: 1.22s\n",
            "5:\tlearn: 0.9636364\ttotal: 76ms\tremaining: 1.19s\n",
            "6:\tlearn: 0.9618182\ttotal: 81ms\tremaining: 1.08s\n",
            "7:\tlearn: 0.9636364\ttotal: 85.5ms\tremaining: 984ms\n",
            "8:\tlearn: 0.9636364\ttotal: 90.1ms\tremaining: 911ms\n",
            "9:\tlearn: 0.9654545\ttotal: 94.6ms\tremaining: 851ms\n",
            "10:\tlearn: 0.9636364\ttotal: 100ms\tremaining: 809ms\n",
            "11:\tlearn: 0.9654545\ttotal: 109ms\tremaining: 800ms\n",
            "12:\tlearn: 0.9654545\ttotal: 119ms\tremaining: 797ms\n",
            "13:\tlearn: 0.9672727\ttotal: 124ms\tremaining: 761ms\n",
            "14:\tlearn: 0.9654545\ttotal: 128ms\tremaining: 728ms\n",
            "15:\tlearn: 0.9618182\ttotal: 133ms\tremaining: 698ms\n",
            "16:\tlearn: 0.9636364\ttotal: 138ms\tremaining: 672ms\n",
            "17:\tlearn: 0.9618182\ttotal: 142ms\tremaining: 648ms\n",
            "18:\tlearn: 0.9636364\ttotal: 147ms\tremaining: 626ms\n",
            "19:\tlearn: 0.9654545\ttotal: 151ms\tremaining: 605ms\n",
            "20:\tlearn: 0.9654545\ttotal: 156ms\tremaining: 587ms\n",
            "21:\tlearn: 0.9690909\ttotal: 160ms\tremaining: 569ms\n",
            "22:\tlearn: 0.9654545\ttotal: 165ms\tremaining: 552ms\n",
            "23:\tlearn: 0.9690909\ttotal: 169ms\tremaining: 536ms\n",
            "24:\tlearn: 0.9690909\ttotal: 174ms\tremaining: 522ms\n",
            "25:\tlearn: 0.9690909\ttotal: 179ms\tremaining: 509ms\n",
            "26:\tlearn: 0.9709091\ttotal: 183ms\tremaining: 495ms\n",
            "27:\tlearn: 0.9690909\ttotal: 188ms\tremaining: 482ms\n",
            "28:\tlearn: 0.9709091\ttotal: 192ms\tremaining: 470ms\n",
            "29:\tlearn: 0.9709091\ttotal: 197ms\tremaining: 459ms\n",
            "30:\tlearn: 0.9709091\ttotal: 201ms\tremaining: 448ms\n",
            "31:\tlearn: 0.9709091\ttotal: 206ms\tremaining: 438ms\n",
            "32:\tlearn: 0.9709091\ttotal: 211ms\tremaining: 427ms\n",
            "33:\tlearn: 0.9709091\ttotal: 215ms\tremaining: 417ms\n",
            "34:\tlearn: 0.9727273\ttotal: 219ms\tremaining: 408ms\n",
            "35:\tlearn: 0.9727273\ttotal: 224ms\tremaining: 398ms\n",
            "36:\tlearn: 0.9709091\ttotal: 235ms\tremaining: 399ms\n",
            "37:\tlearn: 0.9709091\ttotal: 239ms\tremaining: 391ms\n",
            "38:\tlearn: 0.9745455\ttotal: 244ms\tremaining: 382ms\n",
            "39:\tlearn: 0.9745455\ttotal: 251ms\tremaining: 376ms\n",
            "40:\tlearn: 0.9745455\ttotal: 262ms\tremaining: 376ms\n",
            "41:\tlearn: 0.9745455\ttotal: 266ms\tremaining: 368ms\n",
            "42:\tlearn: 0.9745455\ttotal: 271ms\tremaining: 359ms\n",
            "43:\tlearn: 0.9745455\ttotal: 275ms\tremaining: 350ms\n",
            "44:\tlearn: 0.9745455\ttotal: 288ms\tremaining: 352ms\n",
            "45:\tlearn: 0.9745455\ttotal: 300ms\tremaining: 352ms\n",
            "46:\tlearn: 0.9745455\ttotal: 310ms\tremaining: 350ms\n",
            "47:\tlearn: 0.9763636\ttotal: 321ms\tremaining: 348ms\n",
            "48:\tlearn: 0.9745455\ttotal: 332ms\tremaining: 346ms\n",
            "49:\tlearn: 0.9745455\ttotal: 344ms\tremaining: 344ms\n",
            "50:\tlearn: 0.9763636\ttotal: 355ms\tremaining: 342ms\n",
            "51:\tlearn: 0.9745455\ttotal: 368ms\tremaining: 339ms\n",
            "52:\tlearn: 0.9745455\ttotal: 379ms\tremaining: 336ms\n",
            "53:\tlearn: 0.9763636\ttotal: 390ms\tremaining: 333ms\n",
            "54:\tlearn: 0.9763636\ttotal: 409ms\tremaining: 334ms\n",
            "55:\tlearn: 0.9745455\ttotal: 430ms\tremaining: 338ms\n",
            "56:\tlearn: 0.9745455\ttotal: 441ms\tremaining: 333ms\n",
            "57:\tlearn: 0.9745455\ttotal: 452ms\tremaining: 328ms\n",
            "58:\tlearn: 0.9745455\ttotal: 464ms\tremaining: 322ms\n",
            "59:\tlearn: 0.9745455\ttotal: 490ms\tremaining: 327ms\n",
            "60:\tlearn: 0.9763636\ttotal: 503ms\tremaining: 322ms\n",
            "61:\tlearn: 0.9745455\ttotal: 519ms\tremaining: 318ms\n",
            "62:\tlearn: 0.9745455\ttotal: 533ms\tremaining: 313ms\n",
            "63:\tlearn: 0.9745455\ttotal: 538ms\tremaining: 302ms\n",
            "64:\tlearn: 0.9727273\ttotal: 542ms\tremaining: 292ms\n",
            "65:\tlearn: 0.9745455\ttotal: 547ms\tremaining: 282ms\n",
            "66:\tlearn: 0.9763636\ttotal: 552ms\tremaining: 272ms\n",
            "67:\tlearn: 0.9763636\ttotal: 556ms\tremaining: 262ms\n",
            "68:\tlearn: 0.9781818\ttotal: 561ms\tremaining: 252ms\n",
            "69:\tlearn: 0.9781818\ttotal: 565ms\tremaining: 242ms\n",
            "70:\tlearn: 0.9763636\ttotal: 570ms\tremaining: 233ms\n",
            "71:\tlearn: 0.9800000\ttotal: 574ms\tremaining: 223ms\n",
            "72:\tlearn: 0.9763636\ttotal: 579ms\tremaining: 214ms\n",
            "73:\tlearn: 0.9800000\ttotal: 583ms\tremaining: 205ms\n",
            "74:\tlearn: 0.9800000\ttotal: 588ms\tremaining: 196ms\n",
            "75:\tlearn: 0.9800000\ttotal: 592ms\tremaining: 187ms\n",
            "76:\tlearn: 0.9800000\ttotal: 597ms\tremaining: 178ms\n",
            "77:\tlearn: 0.9800000\ttotal: 602ms\tremaining: 170ms\n",
            "78:\tlearn: 0.9800000\ttotal: 606ms\tremaining: 161ms\n",
            "79:\tlearn: 0.9800000\ttotal: 611ms\tremaining: 153ms\n",
            "80:\tlearn: 0.9800000\ttotal: 620ms\tremaining: 145ms\n",
            "81:\tlearn: 0.9800000\ttotal: 624ms\tremaining: 137ms\n",
            "82:\tlearn: 0.9800000\ttotal: 629ms\tremaining: 129ms\n",
            "83:\tlearn: 0.9800000\ttotal: 634ms\tremaining: 121ms\n",
            "84:\tlearn: 0.9800000\ttotal: 639ms\tremaining: 113ms\n",
            "85:\tlearn: 0.9800000\ttotal: 643ms\tremaining: 105ms\n",
            "86:\tlearn: 0.9800000\ttotal: 648ms\tremaining: 96.8ms\n",
            "87:\tlearn: 0.9800000\ttotal: 652ms\tremaining: 88.9ms\n",
            "88:\tlearn: 0.9800000\ttotal: 657ms\tremaining: 81.2ms\n",
            "89:\tlearn: 0.9800000\ttotal: 661ms\tremaining: 73.5ms\n",
            "90:\tlearn: 0.9800000\ttotal: 666ms\tremaining: 65.8ms\n",
            "91:\tlearn: 0.9800000\ttotal: 672ms\tremaining: 58.4ms\n",
            "92:\tlearn: 0.9800000\ttotal: 676ms\tremaining: 50.9ms\n",
            "93:\tlearn: 0.9800000\ttotal: 681ms\tremaining: 43.5ms\n",
            "94:\tlearn: 0.9818182\ttotal: 685ms\tremaining: 36.1ms\n",
            "95:\tlearn: 0.9818182\ttotal: 690ms\tremaining: 28.7ms\n",
            "96:\tlearn: 0.9818182\ttotal: 694ms\tremaining: 21.5ms\n",
            "97:\tlearn: 0.9836364\ttotal: 699ms\tremaining: 14.3ms\n",
            "98:\tlearn: 0.9818182\ttotal: 703ms\tremaining: 7.1ms\n",
            "99:\tlearn: 0.9818182\ttotal: 708ms\tremaining: 0us\n",
            "0:\tlearn: 0.9200000\ttotal: 12.8ms\tremaining: 1.27s\n",
            "1:\tlearn: 0.9454545\ttotal: 27.5ms\tremaining: 1.35s\n",
            "2:\tlearn: 0.9600000\ttotal: 38.7ms\tremaining: 1.25s\n",
            "3:\tlearn: 0.9636364\ttotal: 50.2ms\tremaining: 1.2s\n",
            "4:\tlearn: 0.9581818\ttotal: 57ms\tremaining: 1.08s\n",
            "5:\tlearn: 0.9636364\ttotal: 62.5ms\tremaining: 979ms\n",
            "6:\tlearn: 0.9600000\ttotal: 70ms\tremaining: 930ms\n",
            "7:\tlearn: 0.9636364\ttotal: 87.4ms\tremaining: 1s\n",
            "8:\tlearn: 0.9618182\ttotal: 91.9ms\tremaining: 929ms\n",
            "9:\tlearn: 0.9636364\ttotal: 102ms\tremaining: 921ms\n",
            "10:\tlearn: 0.9636364\ttotal: 109ms\tremaining: 880ms\n",
            "11:\tlearn: 0.9672727\ttotal: 115ms\tremaining: 846ms\n",
            "12:\tlearn: 0.9672727\ttotal: 120ms\tremaining: 802ms\n",
            "13:\tlearn: 0.9672727\ttotal: 127ms\tremaining: 780ms\n",
            "14:\tlearn: 0.9709091\ttotal: 131ms\tremaining: 745ms\n",
            "15:\tlearn: 0.9690909\ttotal: 136ms\tremaining: 712ms\n",
            "16:\tlearn: 0.9672727\ttotal: 140ms\tremaining: 684ms\n",
            "17:\tlearn: 0.9690909\ttotal: 144ms\tremaining: 657ms\n",
            "18:\tlearn: 0.9672727\ttotal: 149ms\tremaining: 633ms\n",
            "19:\tlearn: 0.9672727\ttotal: 153ms\tremaining: 611ms\n",
            "20:\tlearn: 0.9690909\ttotal: 157ms\tremaining: 591ms\n",
            "21:\tlearn: 0.9690909\ttotal: 161ms\tremaining: 571ms\n",
            "22:\tlearn: 0.9672727\ttotal: 165ms\tremaining: 554ms\n",
            "23:\tlearn: 0.9690909\ttotal: 170ms\tremaining: 538ms\n",
            "24:\tlearn: 0.9690909\ttotal: 174ms\tremaining: 523ms\n",
            "25:\tlearn: 0.9690909\ttotal: 179ms\tremaining: 509ms\n",
            "26:\tlearn: 0.9709091\ttotal: 185ms\tremaining: 499ms\n",
            "27:\tlearn: 0.9690909\ttotal: 190ms\tremaining: 488ms\n",
            "28:\tlearn: 0.9690909\ttotal: 195ms\tremaining: 476ms\n",
            "29:\tlearn: 0.9690909\ttotal: 199ms\tremaining: 465ms\n",
            "30:\tlearn: 0.9709091\ttotal: 204ms\tremaining: 453ms\n",
            "31:\tlearn: 0.9690909\ttotal: 208ms\tremaining: 443ms\n",
            "32:\tlearn: 0.9709091\ttotal: 214ms\tremaining: 435ms\n",
            "33:\tlearn: 0.9709091\ttotal: 219ms\tremaining: 425ms\n",
            "34:\tlearn: 0.9727273\ttotal: 223ms\tremaining: 414ms\n",
            "35:\tlearn: 0.9745455\ttotal: 227ms\tremaining: 404ms\n",
            "36:\tlearn: 0.9745455\ttotal: 231ms\tremaining: 394ms\n",
            "37:\tlearn: 0.9727273\ttotal: 236ms\tremaining: 384ms\n",
            "38:\tlearn: 0.9745455\ttotal: 240ms\tremaining: 375ms\n",
            "39:\tlearn: 0.9745455\ttotal: 244ms\tremaining: 366ms\n",
            "40:\tlearn: 0.9745455\ttotal: 248ms\tremaining: 357ms\n",
            "41:\tlearn: 0.9745455\ttotal: 253ms\tremaining: 349ms\n",
            "42:\tlearn: 0.9745455\ttotal: 258ms\tremaining: 341ms\n",
            "43:\tlearn: 0.9763636\ttotal: 262ms\tremaining: 334ms\n",
            "44:\tlearn: 0.9745455\ttotal: 267ms\tremaining: 326ms\n",
            "45:\tlearn: 0.9763636\ttotal: 273ms\tremaining: 321ms\n",
            "46:\tlearn: 0.9745455\ttotal: 280ms\tremaining: 316ms\n",
            "47:\tlearn: 0.9727273\ttotal: 285ms\tremaining: 309ms\n",
            "48:\tlearn: 0.9727273\ttotal: 289ms\tremaining: 301ms\n",
            "49:\tlearn: 0.9745455\ttotal: 294ms\tremaining: 294ms\n",
            "50:\tlearn: 0.9763636\ttotal: 299ms\tremaining: 287ms\n",
            "51:\tlearn: 0.9763636\ttotal: 303ms\tremaining: 280ms\n",
            "52:\tlearn: 0.9745455\ttotal: 308ms\tremaining: 273ms\n",
            "53:\tlearn: 0.9781818\ttotal: 318ms\tremaining: 271ms\n",
            "54:\tlearn: 0.9781818\ttotal: 340ms\tremaining: 278ms\n",
            "55:\tlearn: 0.9763636\ttotal: 353ms\tremaining: 277ms\n",
            "56:\tlearn: 0.9763636\ttotal: 376ms\tremaining: 283ms\n",
            "57:\tlearn: 0.9763636\ttotal: 381ms\tremaining: 276ms\n",
            "58:\tlearn: 0.9763636\ttotal: 385ms\tremaining: 268ms\n",
            "59:\tlearn: 0.9763636\ttotal: 390ms\tremaining: 260ms\n",
            "60:\tlearn: 0.9763636\ttotal: 395ms\tremaining: 252ms\n",
            "61:\tlearn: 0.9763636\ttotal: 399ms\tremaining: 245ms\n",
            "62:\tlearn: 0.9763636\ttotal: 403ms\tremaining: 237ms\n",
            "63:\tlearn: 0.9763636\ttotal: 408ms\tremaining: 229ms\n",
            "64:\tlearn: 0.9763636\ttotal: 412ms\tremaining: 222ms\n",
            "65:\tlearn: 0.9763636\ttotal: 417ms\tremaining: 215ms\n",
            "66:\tlearn: 0.9763636\ttotal: 421ms\tremaining: 207ms\n",
            "67:\tlearn: 0.9781818\ttotal: 426ms\tremaining: 200ms\n",
            "68:\tlearn: 0.9781818\ttotal: 430ms\tremaining: 193ms\n",
            "69:\tlearn: 0.9781818\ttotal: 435ms\tremaining: 186ms\n",
            "70:\tlearn: 0.9781818\ttotal: 439ms\tremaining: 179ms\n",
            "71:\tlearn: 0.9781818\ttotal: 444ms\tremaining: 173ms\n",
            "72:\tlearn: 0.9781818\ttotal: 448ms\tremaining: 166ms\n",
            "73:\tlearn: 0.9763636\ttotal: 453ms\tremaining: 159ms\n",
            "74:\tlearn: 0.9763636\ttotal: 457ms\tremaining: 152ms\n",
            "75:\tlearn: 0.9800000\ttotal: 462ms\tremaining: 146ms\n",
            "76:\tlearn: 0.9781818\ttotal: 467ms\tremaining: 140ms\n",
            "77:\tlearn: 0.9781818\ttotal: 475ms\tremaining: 134ms\n",
            "78:\tlearn: 0.9781818\ttotal: 479ms\tremaining: 127ms\n",
            "79:\tlearn: 0.9781818\ttotal: 484ms\tremaining: 121ms\n",
            "80:\tlearn: 0.9781818\ttotal: 488ms\tremaining: 115ms\n",
            "81:\tlearn: 0.9781818\ttotal: 493ms\tremaining: 108ms\n",
            "82:\tlearn: 0.9781818\ttotal: 497ms\tremaining: 102ms\n",
            "83:\tlearn: 0.9781818\ttotal: 502ms\tremaining: 95.5ms\n",
            "84:\tlearn: 0.9781818\ttotal: 506ms\tremaining: 89.3ms\n",
            "85:\tlearn: 0.9781818\ttotal: 510ms\tremaining: 83.1ms\n",
            "86:\tlearn: 0.9781818\ttotal: 515ms\tremaining: 76.9ms\n",
            "87:\tlearn: 0.9781818\ttotal: 519ms\tremaining: 70.8ms\n",
            "88:\tlearn: 0.9818182\ttotal: 524ms\tremaining: 64.7ms\n",
            "89:\tlearn: 0.9818182\ttotal: 529ms\tremaining: 58.8ms\n",
            "90:\tlearn: 0.9818182\ttotal: 533ms\tremaining: 52.8ms\n",
            "91:\tlearn: 0.9818182\ttotal: 538ms\tremaining: 46.8ms\n",
            "92:\tlearn: 0.9818182\ttotal: 543ms\tremaining: 40.8ms\n",
            "93:\tlearn: 0.9818182\ttotal: 550ms\tremaining: 35.1ms\n",
            "94:\tlearn: 0.9836364\ttotal: 557ms\tremaining: 29.3ms\n",
            "95:\tlearn: 0.9836364\ttotal: 561ms\tremaining: 23.4ms\n",
            "96:\tlearn: 0.9836364\ttotal: 565ms\tremaining: 17.5ms\n",
            "97:\tlearn: 0.9836364\ttotal: 570ms\tremaining: 11.6ms\n",
            "98:\tlearn: 0.9818182\ttotal: 574ms\tremaining: 5.8ms\n",
            "99:\tlearn: 0.9836364\ttotal: 578ms\tremaining: 0us\n",
            "0:\tlearn: 0.9218182\ttotal: 8.89ms\tremaining: 881ms\n",
            "1:\tlearn: 0.9509091\ttotal: 14.9ms\tremaining: 732ms\n",
            "2:\tlearn: 0.9509091\ttotal: 21.6ms\tremaining: 699ms\n",
            "3:\tlearn: 0.9509091\ttotal: 26.4ms\tremaining: 633ms\n",
            "4:\tlearn: 0.9618182\ttotal: 32.1ms\tremaining: 610ms\n",
            "5:\tlearn: 0.9618182\ttotal: 36.9ms\tremaining: 579ms\n",
            "6:\tlearn: 0.9636364\ttotal: 42.5ms\tremaining: 565ms\n",
            "7:\tlearn: 0.9636364\ttotal: 50.8ms\tremaining: 584ms\n",
            "8:\tlearn: 0.9690909\ttotal: 64.4ms\tremaining: 651ms\n",
            "9:\tlearn: 0.9672727\ttotal: 73ms\tremaining: 657ms\n",
            "10:\tlearn: 0.9672727\ttotal: 77.6ms\tremaining: 628ms\n",
            "11:\tlearn: 0.9690909\ttotal: 82.2ms\tremaining: 602ms\n",
            "12:\tlearn: 0.9690909\ttotal: 86.6ms\tremaining: 580ms\n",
            "13:\tlearn: 0.9690909\ttotal: 91.2ms\tremaining: 560ms\n",
            "14:\tlearn: 0.9690909\ttotal: 95.8ms\tremaining: 543ms\n",
            "15:\tlearn: 0.9690909\ttotal: 100ms\tremaining: 526ms\n",
            "16:\tlearn: 0.9709091\ttotal: 105ms\tremaining: 512ms\n",
            "17:\tlearn: 0.9690909\ttotal: 109ms\tremaining: 499ms\n",
            "18:\tlearn: 0.9690909\ttotal: 114ms\tremaining: 486ms\n",
            "19:\tlearn: 0.9690909\ttotal: 118ms\tremaining: 473ms\n",
            "20:\tlearn: 0.9690909\ttotal: 123ms\tremaining: 462ms\n",
            "21:\tlearn: 0.9709091\ttotal: 128ms\tremaining: 452ms\n",
            "22:\tlearn: 0.9709091\ttotal: 132ms\tremaining: 442ms\n",
            "23:\tlearn: 0.9690909\ttotal: 137ms\tremaining: 433ms\n",
            "24:\tlearn: 0.9690909\ttotal: 141ms\tremaining: 424ms\n",
            "25:\tlearn: 0.9709091\ttotal: 146ms\tremaining: 415ms\n",
            "26:\tlearn: 0.9690909\ttotal: 150ms\tremaining: 406ms\n",
            "27:\tlearn: 0.9690909\ttotal: 154ms\tremaining: 397ms\n",
            "28:\tlearn: 0.9690909\ttotal: 159ms\tremaining: 389ms\n",
            "29:\tlearn: 0.9690909\ttotal: 163ms\tremaining: 381ms\n",
            "30:\tlearn: 0.9690909\ttotal: 168ms\tremaining: 373ms\n",
            "31:\tlearn: 0.9690909\ttotal: 172ms\tremaining: 366ms\n",
            "32:\tlearn: 0.9690909\ttotal: 177ms\tremaining: 359ms\n",
            "33:\tlearn: 0.9690909\ttotal: 181ms\tremaining: 352ms\n",
            "34:\tlearn: 0.9709091\ttotal: 186ms\tremaining: 345ms\n",
            "35:\tlearn: 0.9690909\ttotal: 190ms\tremaining: 338ms\n",
            "36:\tlearn: 0.9690909\ttotal: 195ms\tremaining: 332ms\n",
            "37:\tlearn: 0.9690909\ttotal: 199ms\tremaining: 325ms\n",
            "38:\tlearn: 0.9709091\ttotal: 204ms\tremaining: 318ms\n",
            "39:\tlearn: 0.9709091\ttotal: 208ms\tremaining: 312ms\n",
            "40:\tlearn: 0.9690909\ttotal: 212ms\tremaining: 305ms\n",
            "41:\tlearn: 0.9709091\ttotal: 217ms\tremaining: 299ms\n",
            "42:\tlearn: 0.9709091\ttotal: 221ms\tremaining: 293ms\n",
            "43:\tlearn: 0.9745455\ttotal: 226ms\tremaining: 287ms\n",
            "44:\tlearn: 0.9727273\ttotal: 230ms\tremaining: 281ms\n",
            "45:\tlearn: 0.9727273\ttotal: 235ms\tremaining: 275ms\n",
            "46:\tlearn: 0.9727273\ttotal: 239ms\tremaining: 269ms\n",
            "47:\tlearn: 0.9727273\ttotal: 243ms\tremaining: 264ms\n",
            "48:\tlearn: 0.9709091\ttotal: 249ms\tremaining: 259ms\n",
            "49:\tlearn: 0.9727273\ttotal: 254ms\tremaining: 254ms\n",
            "50:\tlearn: 0.9727273\ttotal: 258ms\tremaining: 248ms\n",
            "51:\tlearn: 0.9727273\ttotal: 268ms\tremaining: 247ms\n",
            "52:\tlearn: 0.9727273\ttotal: 276ms\tremaining: 245ms\n",
            "53:\tlearn: 0.9727273\ttotal: 283ms\tremaining: 241ms\n",
            "54:\tlearn: 0.9727273\ttotal: 293ms\tremaining: 240ms\n",
            "55:\tlearn: 0.9745455\ttotal: 302ms\tremaining: 237ms\n",
            "56:\tlearn: 0.9745455\ttotal: 314ms\tremaining: 237ms\n",
            "57:\tlearn: 0.9745455\ttotal: 330ms\tremaining: 239ms\n",
            "58:\tlearn: 0.9745455\ttotal: 345ms\tremaining: 240ms\n",
            "59:\tlearn: 0.9745455\ttotal: 350ms\tremaining: 233ms\n",
            "60:\tlearn: 0.9745455\ttotal: 359ms\tremaining: 230ms\n",
            "61:\tlearn: 0.9763636\ttotal: 366ms\tremaining: 224ms\n",
            "62:\tlearn: 0.9763636\ttotal: 382ms\tremaining: 224ms\n",
            "63:\tlearn: 0.9745455\ttotal: 398ms\tremaining: 224ms\n",
            "64:\tlearn: 0.9745455\ttotal: 414ms\tremaining: 223ms\n",
            "65:\tlearn: 0.9763636\ttotal: 424ms\tremaining: 218ms\n",
            "66:\tlearn: 0.9763636\ttotal: 434ms\tremaining: 214ms\n",
            "67:\tlearn: 0.9781818\ttotal: 457ms\tremaining: 215ms\n",
            "68:\tlearn: 0.9781818\ttotal: 481ms\tremaining: 216ms\n",
            "69:\tlearn: 0.9781818\ttotal: 494ms\tremaining: 212ms\n",
            "70:\tlearn: 0.9781818\ttotal: 510ms\tremaining: 208ms\n",
            "71:\tlearn: 0.9781818\ttotal: 522ms\tremaining: 203ms\n",
            "72:\tlearn: 0.9781818\ttotal: 535ms\tremaining: 198ms\n",
            "73:\tlearn: 0.9781818\ttotal: 545ms\tremaining: 191ms\n",
            "74:\tlearn: 0.9781818\ttotal: 560ms\tremaining: 187ms\n",
            "75:\tlearn: 0.9781818\ttotal: 572ms\tremaining: 181ms\n",
            "76:\tlearn: 0.9781818\ttotal: 596ms\tremaining: 178ms\n",
            "77:\tlearn: 0.9781818\ttotal: 603ms\tremaining: 170ms\n",
            "78:\tlearn: 0.9781818\ttotal: 610ms\tremaining: 162ms\n",
            "79:\tlearn: 0.9781818\ttotal: 615ms\tremaining: 154ms\n",
            "80:\tlearn: 0.9781818\ttotal: 621ms\tremaining: 146ms\n",
            "81:\tlearn: 0.9781818\ttotal: 626ms\tremaining: 137ms\n",
            "82:\tlearn: 0.9781818\ttotal: 633ms\tremaining: 130ms\n",
            "83:\tlearn: 0.9781818\ttotal: 653ms\tremaining: 124ms\n",
            "84:\tlearn: 0.9781818\ttotal: 672ms\tremaining: 119ms\n",
            "85:\tlearn: 0.9800000\ttotal: 690ms\tremaining: 112ms\n",
            "86:\tlearn: 0.9818182\ttotal: 702ms\tremaining: 105ms\n",
            "87:\tlearn: 0.9818182\ttotal: 715ms\tremaining: 97.5ms\n",
            "88:\tlearn: 0.9818182\ttotal: 725ms\tremaining: 89.6ms\n",
            "89:\tlearn: 0.9818182\ttotal: 746ms\tremaining: 82.9ms\n",
            "90:\tlearn: 0.9818182\ttotal: 762ms\tremaining: 75.3ms\n",
            "91:\tlearn: 0.9818182\ttotal: 767ms\tremaining: 66.7ms\n",
            "92:\tlearn: 0.9818182\ttotal: 771ms\tremaining: 58ms\n",
            "93:\tlearn: 0.9836364\ttotal: 776ms\tremaining: 49.5ms\n",
            "94:\tlearn: 0.9836364\ttotal: 780ms\tremaining: 41.1ms\n",
            "95:\tlearn: 0.9836364\ttotal: 785ms\tremaining: 32.7ms\n",
            "96:\tlearn: 0.9836364\ttotal: 790ms\tremaining: 24.4ms\n",
            "97:\tlearn: 0.9836364\ttotal: 794ms\tremaining: 16.2ms\n",
            "98:\tlearn: 0.9836364\ttotal: 799ms\tremaining: 8.06ms\n",
            "99:\tlearn: 0.9836364\ttotal: 803ms\tremaining: 0us\n",
            "0:\tlearn: 0.9163636\ttotal: 4.5ms\tremaining: 445ms\n",
            "1:\tlearn: 0.9618182\ttotal: 9.29ms\tremaining: 455ms\n",
            "2:\tlearn: 0.9545455\ttotal: 14ms\tremaining: 451ms\n",
            "3:\tlearn: 0.9563636\ttotal: 24ms\tremaining: 576ms\n",
            "4:\tlearn: 0.9563636\ttotal: 30ms\tremaining: 571ms\n",
            "5:\tlearn: 0.9563636\ttotal: 34.6ms\tremaining: 542ms\n",
            "6:\tlearn: 0.9600000\ttotal: 39.3ms\tremaining: 522ms\n",
            "7:\tlearn: 0.9563636\ttotal: 43.9ms\tremaining: 505ms\n",
            "8:\tlearn: 0.9618182\ttotal: 48.5ms\tremaining: 490ms\n",
            "9:\tlearn: 0.9563636\ttotal: 53ms\tremaining: 477ms\n",
            "10:\tlearn: 0.9654545\ttotal: 59.9ms\tremaining: 485ms\n",
            "11:\tlearn: 0.9654545\ttotal: 70.6ms\tremaining: 518ms\n",
            "12:\tlearn: 0.9654545\ttotal: 75.1ms\tremaining: 502ms\n",
            "13:\tlearn: 0.9672727\ttotal: 79.5ms\tremaining: 488ms\n",
            "14:\tlearn: 0.9636364\ttotal: 84.2ms\tremaining: 477ms\n",
            "15:\tlearn: 0.9636364\ttotal: 88.8ms\tremaining: 466ms\n",
            "16:\tlearn: 0.9654545\ttotal: 93.6ms\tremaining: 457ms\n",
            "17:\tlearn: 0.9690909\ttotal: 98.2ms\tremaining: 447ms\n",
            "18:\tlearn: 0.9690909\ttotal: 103ms\tremaining: 439ms\n",
            "19:\tlearn: 0.9672727\ttotal: 108ms\tremaining: 431ms\n",
            "20:\tlearn: 0.9690909\ttotal: 113ms\tremaining: 423ms\n",
            "21:\tlearn: 0.9690909\ttotal: 117ms\tremaining: 415ms\n",
            "22:\tlearn: 0.9690909\ttotal: 122ms\tremaining: 407ms\n",
            "23:\tlearn: 0.9690909\ttotal: 126ms\tremaining: 399ms\n",
            "24:\tlearn: 0.9690909\ttotal: 131ms\tremaining: 393ms\n",
            "25:\tlearn: 0.9690909\ttotal: 135ms\tremaining: 385ms\n",
            "26:\tlearn: 0.9690909\ttotal: 140ms\tremaining: 378ms\n",
            "27:\tlearn: 0.9672727\ttotal: 144ms\tremaining: 371ms\n",
            "28:\tlearn: 0.9690909\ttotal: 149ms\tremaining: 364ms\n",
            "29:\tlearn: 0.9690909\ttotal: 153ms\tremaining: 358ms\n",
            "30:\tlearn: 0.9690909\ttotal: 158ms\tremaining: 352ms\n",
            "31:\tlearn: 0.9690909\ttotal: 168ms\tremaining: 357ms\n",
            "32:\tlearn: 0.9690909\ttotal: 185ms\tremaining: 375ms\n",
            "33:\tlearn: 0.9690909\ttotal: 196ms\tremaining: 381ms\n",
            "34:\tlearn: 0.9690909\ttotal: 211ms\tremaining: 392ms\n",
            "35:\tlearn: 0.9690909\ttotal: 223ms\tremaining: 396ms\n",
            "36:\tlearn: 0.9690909\ttotal: 240ms\tremaining: 408ms\n",
            "37:\tlearn: 0.9709091\ttotal: 255ms\tremaining: 415ms\n",
            "38:\tlearn: 0.9727273\ttotal: 267ms\tremaining: 418ms\n",
            "39:\tlearn: 0.9709091\ttotal: 309ms\tremaining: 463ms\n",
            "40:\tlearn: 0.9745455\ttotal: 328ms\tremaining: 472ms\n",
            "41:\tlearn: 0.9727273\ttotal: 345ms\tremaining: 477ms\n",
            "42:\tlearn: 0.9727273\ttotal: 365ms\tremaining: 484ms\n",
            "43:\tlearn: 0.9709091\ttotal: 382ms\tremaining: 486ms\n",
            "44:\tlearn: 0.9709091\ttotal: 398ms\tremaining: 487ms\n",
            "45:\tlearn: 0.9727273\ttotal: 417ms\tremaining: 490ms\n",
            "46:\tlearn: 0.9745455\ttotal: 438ms\tremaining: 494ms\n",
            "47:\tlearn: 0.9745455\ttotal: 450ms\tremaining: 488ms\n",
            "48:\tlearn: 0.9745455\ttotal: 459ms\tremaining: 478ms\n",
            "49:\tlearn: 0.9763636\ttotal: 466ms\tremaining: 466ms\n",
            "50:\tlearn: 0.9763636\ttotal: 471ms\tremaining: 453ms\n",
            "51:\tlearn: 0.9763636\ttotal: 477ms\tremaining: 440ms\n",
            "52:\tlearn: 0.9763636\ttotal: 497ms\tremaining: 441ms\n",
            "53:\tlearn: 0.9763636\ttotal: 517ms\tremaining: 440ms\n",
            "54:\tlearn: 0.9745455\ttotal: 535ms\tremaining: 438ms\n",
            "55:\tlearn: 0.9745455\ttotal: 540ms\tremaining: 425ms\n",
            "56:\tlearn: 0.9745455\ttotal: 547ms\tremaining: 413ms\n",
            "57:\tlearn: 0.9745455\ttotal: 553ms\tremaining: 401ms\n",
            "58:\tlearn: 0.9745455\ttotal: 575ms\tremaining: 399ms\n",
            "59:\tlearn: 0.9745455\ttotal: 595ms\tremaining: 397ms\n",
            "60:\tlearn: 0.9745455\ttotal: 623ms\tremaining: 399ms\n",
            "61:\tlearn: 0.9745455\ttotal: 631ms\tremaining: 387ms\n",
            "62:\tlearn: 0.9745455\ttotal: 636ms\tremaining: 373ms\n",
            "63:\tlearn: 0.9745455\ttotal: 642ms\tremaining: 361ms\n",
            "64:\tlearn: 0.9745455\ttotal: 646ms\tremaining: 348ms\n",
            "65:\tlearn: 0.9745455\ttotal: 652ms\tremaining: 336ms\n",
            "66:\tlearn: 0.9745455\ttotal: 658ms\tremaining: 324ms\n",
            "67:\tlearn: 0.9745455\ttotal: 679ms\tremaining: 320ms\n",
            "68:\tlearn: 0.9745455\ttotal: 686ms\tremaining: 308ms\n",
            "69:\tlearn: 0.9745455\ttotal: 700ms\tremaining: 300ms\n",
            "70:\tlearn: 0.9745455\ttotal: 708ms\tremaining: 289ms\n",
            "71:\tlearn: 0.9763636\ttotal: 719ms\tremaining: 280ms\n",
            "72:\tlearn: 0.9781818\ttotal: 734ms\tremaining: 271ms\n",
            "73:\tlearn: 0.9781818\ttotal: 744ms\tremaining: 261ms\n",
            "74:\tlearn: 0.9781818\ttotal: 753ms\tremaining: 251ms\n",
            "75:\tlearn: 0.9763636\ttotal: 767ms\tremaining: 242ms\n",
            "76:\tlearn: 0.9781818\ttotal: 789ms\tremaining: 236ms\n",
            "77:\tlearn: 0.9781818\ttotal: 807ms\tremaining: 228ms\n",
            "78:\tlearn: 0.9800000\ttotal: 822ms\tremaining: 218ms\n",
            "79:\tlearn: 0.9800000\ttotal: 837ms\tremaining: 209ms\n",
            "80:\tlearn: 0.9800000\ttotal: 853ms\tremaining: 200ms\n",
            "81:\tlearn: 0.9800000\ttotal: 870ms\tremaining: 191ms\n",
            "82:\tlearn: 0.9800000\ttotal: 885ms\tremaining: 181ms\n",
            "83:\tlearn: 0.9800000\ttotal: 903ms\tremaining: 172ms\n",
            "84:\tlearn: 0.9800000\ttotal: 919ms\tremaining: 162ms\n",
            "85:\tlearn: 0.9800000\ttotal: 934ms\tremaining: 152ms\n",
            "86:\tlearn: 0.9818182\ttotal: 941ms\tremaining: 141ms\n",
            "87:\tlearn: 0.9800000\ttotal: 947ms\tremaining: 129ms\n",
            "88:\tlearn: 0.9800000\ttotal: 954ms\tremaining: 118ms\n",
            "89:\tlearn: 0.9818182\ttotal: 963ms\tremaining: 107ms\n",
            "90:\tlearn: 0.9800000\ttotal: 969ms\tremaining: 95.9ms\n",
            "91:\tlearn: 0.9818182\ttotal: 978ms\tremaining: 85ms\n",
            "92:\tlearn: 0.9818182\ttotal: 988ms\tremaining: 74.3ms\n",
            "93:\tlearn: 0.9818182\ttotal: 994ms\tremaining: 63.5ms\n",
            "94:\tlearn: 0.9818182\ttotal: 999ms\tremaining: 52.6ms\n",
            "95:\tlearn: 0.9818182\ttotal: 1.01s\tremaining: 42.2ms\n",
            "96:\tlearn: 0.9818182\ttotal: 1.02s\tremaining: 31.6ms\n",
            "97:\tlearn: 0.9818182\ttotal: 1.03s\tremaining: 21ms\n",
            "98:\tlearn: 0.9818182\ttotal: 1.03s\tremaining: 10.4ms\n",
            "99:\tlearn: 0.9818182\ttotal: 1.04s\tremaining: 0us\n",
            "0:\tlearn: 0.9254545\ttotal: 4.37ms\tremaining: 433ms\n",
            "1:\tlearn: 0.9472727\ttotal: 8.94ms\tremaining: 438ms\n",
            "2:\tlearn: 0.9418182\ttotal: 13.7ms\tremaining: 442ms\n",
            "3:\tlearn: 0.9600000\ttotal: 18.4ms\tremaining: 443ms\n",
            "4:\tlearn: 0.9600000\ttotal: 22.8ms\tremaining: 433ms\n",
            "5:\tlearn: 0.9636364\ttotal: 27.1ms\tremaining: 425ms\n",
            "6:\tlearn: 0.9636364\ttotal: 31.5ms\tremaining: 419ms\n",
            "7:\tlearn: 0.9618182\ttotal: 37.3ms\tremaining: 429ms\n",
            "8:\tlearn: 0.9618182\ttotal: 48.2ms\tremaining: 487ms\n",
            "9:\tlearn: 0.9618182\ttotal: 53ms\tremaining: 477ms\n",
            "10:\tlearn: 0.9654545\ttotal: 57.5ms\tremaining: 465ms\n",
            "11:\tlearn: 0.9654545\ttotal: 62ms\tremaining: 455ms\n",
            "12:\tlearn: 0.9654545\ttotal: 66.5ms\tremaining: 445ms\n",
            "13:\tlearn: 0.9654545\ttotal: 71.2ms\tremaining: 437ms\n",
            "14:\tlearn: 0.9636364\ttotal: 75.7ms\tremaining: 429ms\n",
            "15:\tlearn: 0.9654545\ttotal: 80.1ms\tremaining: 420ms\n",
            "16:\tlearn: 0.9654545\ttotal: 84.8ms\tremaining: 414ms\n",
            "17:\tlearn: 0.9636364\ttotal: 89.1ms\tremaining: 406ms\n",
            "18:\tlearn: 0.9672727\ttotal: 93.6ms\tremaining: 399ms\n",
            "19:\tlearn: 0.9672727\ttotal: 98ms\tremaining: 392ms\n",
            "20:\tlearn: 0.9690909\ttotal: 102ms\tremaining: 385ms\n",
            "21:\tlearn: 0.9690909\ttotal: 107ms\tremaining: 379ms\n",
            "22:\tlearn: 0.9690909\ttotal: 111ms\tremaining: 372ms\n",
            "23:\tlearn: 0.9690909\ttotal: 116ms\tremaining: 366ms\n",
            "24:\tlearn: 0.9690909\ttotal: 120ms\tremaining: 361ms\n",
            "25:\tlearn: 0.9709091\ttotal: 125ms\tremaining: 356ms\n",
            "26:\tlearn: 0.9709091\ttotal: 129ms\tremaining: 350ms\n",
            "27:\tlearn: 0.9709091\ttotal: 134ms\tremaining: 344ms\n",
            "28:\tlearn: 0.9709091\ttotal: 138ms\tremaining: 338ms\n",
            "29:\tlearn: 0.9709091\ttotal: 143ms\tremaining: 333ms\n",
            "30:\tlearn: 0.9709091\ttotal: 147ms\tremaining: 327ms\n",
            "31:\tlearn: 0.9709091\ttotal: 153ms\tremaining: 326ms\n",
            "32:\tlearn: 0.9709091\ttotal: 162ms\tremaining: 329ms\n",
            "33:\tlearn: 0.9709091\ttotal: 167ms\tremaining: 324ms\n",
            "34:\tlearn: 0.9727273\ttotal: 171ms\tremaining: 318ms\n",
            "35:\tlearn: 0.9727273\ttotal: 175ms\tremaining: 312ms\n",
            "36:\tlearn: 0.9745455\ttotal: 180ms\tremaining: 306ms\n",
            "37:\tlearn: 0.9727273\ttotal: 190ms\tremaining: 310ms\n",
            "38:\tlearn: 0.9745455\ttotal: 214ms\tremaining: 335ms\n",
            "39:\tlearn: 0.9745455\ttotal: 241ms\tremaining: 361ms\n",
            "40:\tlearn: 0.9727273\ttotal: 265ms\tremaining: 382ms\n",
            "41:\tlearn: 0.9727273\ttotal: 278ms\tremaining: 384ms\n",
            "42:\tlearn: 0.9745455\ttotal: 293ms\tremaining: 388ms\n",
            "43:\tlearn: 0.9727273\ttotal: 306ms\tremaining: 389ms\n",
            "44:\tlearn: 0.9745455\ttotal: 320ms\tremaining: 391ms\n",
            "45:\tlearn: 0.9727273\ttotal: 331ms\tremaining: 388ms\n",
            "46:\tlearn: 0.9763636\ttotal: 362ms\tremaining: 408ms\n",
            "47:\tlearn: 0.9763636\ttotal: 372ms\tremaining: 403ms\n",
            "48:\tlearn: 0.9727273\ttotal: 380ms\tremaining: 395ms\n",
            "49:\tlearn: 0.9763636\ttotal: 388ms\tremaining: 388ms\n",
            "50:\tlearn: 0.9763636\ttotal: 393ms\tremaining: 377ms\n",
            "51:\tlearn: 0.9745455\ttotal: 405ms\tremaining: 373ms\n",
            "52:\tlearn: 0.9745455\ttotal: 429ms\tremaining: 381ms\n",
            "53:\tlearn: 0.9745455\ttotal: 439ms\tremaining: 374ms\n",
            "54:\tlearn: 0.9745455\ttotal: 461ms\tremaining: 377ms\n",
            "55:\tlearn: 0.9745455\ttotal: 473ms\tremaining: 371ms\n",
            "56:\tlearn: 0.9745455\ttotal: 493ms\tremaining: 372ms\n",
            "57:\tlearn: 0.9745455\ttotal: 511ms\tremaining: 370ms\n",
            "58:\tlearn: 0.9745455\ttotal: 521ms\tremaining: 362ms\n",
            "59:\tlearn: 0.9745455\ttotal: 535ms\tremaining: 356ms\n",
            "60:\tlearn: 0.9727273\ttotal: 546ms\tremaining: 349ms\n",
            "61:\tlearn: 0.9727273\ttotal: 566ms\tremaining: 347ms\n",
            "62:\tlearn: 0.9727273\ttotal: 575ms\tremaining: 338ms\n",
            "63:\tlearn: 0.9727273\ttotal: 589ms\tremaining: 331ms\n",
            "64:\tlearn: 0.9727273\ttotal: 596ms\tremaining: 321ms\n",
            "65:\tlearn: 0.9727273\ttotal: 600ms\tremaining: 309ms\n",
            "66:\tlearn: 0.9745455\ttotal: 604ms\tremaining: 298ms\n",
            "67:\tlearn: 0.9763636\ttotal: 608ms\tremaining: 286ms\n",
            "68:\tlearn: 0.9763636\ttotal: 613ms\tremaining: 275ms\n",
            "69:\tlearn: 0.9763636\ttotal: 617ms\tremaining: 265ms\n",
            "70:\tlearn: 0.9781818\ttotal: 622ms\tremaining: 254ms\n",
            "71:\tlearn: 0.9781818\ttotal: 626ms\tremaining: 244ms\n",
            "72:\tlearn: 0.9781818\ttotal: 634ms\tremaining: 235ms\n",
            "73:\tlearn: 0.9781818\ttotal: 644ms\tremaining: 226ms\n",
            "74:\tlearn: 0.9781818\ttotal: 648ms\tremaining: 216ms\n",
            "75:\tlearn: 0.9781818\ttotal: 652ms\tremaining: 206ms\n",
            "76:\tlearn: 0.9781818\ttotal: 657ms\tremaining: 196ms\n",
            "77:\tlearn: 0.9781818\ttotal: 661ms\tremaining: 187ms\n",
            "78:\tlearn: 0.9781818\ttotal: 666ms\tremaining: 177ms\n",
            "79:\tlearn: 0.9781818\ttotal: 670ms\tremaining: 168ms\n",
            "80:\tlearn: 0.9781818\ttotal: 675ms\tremaining: 158ms\n",
            "81:\tlearn: 0.9781818\ttotal: 679ms\tremaining: 149ms\n",
            "82:\tlearn: 0.9781818\ttotal: 684ms\tremaining: 140ms\n",
            "83:\tlearn: 0.9781818\ttotal: 689ms\tremaining: 131ms\n",
            "84:\tlearn: 0.9800000\ttotal: 693ms\tremaining: 122ms\n",
            "85:\tlearn: 0.9800000\ttotal: 698ms\tremaining: 114ms\n",
            "86:\tlearn: 0.9800000\ttotal: 702ms\tremaining: 105ms\n",
            "87:\tlearn: 0.9800000\ttotal: 707ms\tremaining: 96.4ms\n",
            "88:\tlearn: 0.9800000\ttotal: 711ms\tremaining: 87.9ms\n",
            "89:\tlearn: 0.9800000\ttotal: 716ms\tremaining: 79.6ms\n",
            "90:\tlearn: 0.9836364\ttotal: 720ms\tremaining: 71.2ms\n",
            "91:\tlearn: 0.9818182\ttotal: 725ms\tremaining: 63ms\n",
            "92:\tlearn: 0.9818182\ttotal: 732ms\tremaining: 55.1ms\n",
            "93:\tlearn: 0.9836364\ttotal: 743ms\tremaining: 47.4ms\n",
            "94:\tlearn: 0.9836364\ttotal: 768ms\tremaining: 40.4ms\n",
            "95:\tlearn: 0.9836364\ttotal: 786ms\tremaining: 32.7ms\n",
            "96:\tlearn: 0.9836364\ttotal: 801ms\tremaining: 24.8ms\n",
            "97:\tlearn: 0.9836364\ttotal: 812ms\tremaining: 16.6ms\n",
            "98:\tlearn: 0.9836364\ttotal: 819ms\tremaining: 8.27ms\n",
            "99:\tlearn: 0.9836364\ttotal: 823ms\tremaining: 0us\n",
            "0:\tlearn: 0.9145455\ttotal: 4.39ms\tremaining: 435ms\n",
            "1:\tlearn: 0.9272727\ttotal: 9.08ms\tremaining: 445ms\n",
            "2:\tlearn: 0.9309091\ttotal: 14.6ms\tremaining: 473ms\n",
            "3:\tlearn: 0.9454545\ttotal: 19.2ms\tremaining: 460ms\n",
            "4:\tlearn: 0.9563636\ttotal: 23.7ms\tremaining: 451ms\n",
            "5:\tlearn: 0.9545455\ttotal: 28.1ms\tremaining: 440ms\n",
            "6:\tlearn: 0.9509091\ttotal: 32.5ms\tremaining: 431ms\n",
            "7:\tlearn: 0.9545455\ttotal: 36.9ms\tremaining: 424ms\n",
            "8:\tlearn: 0.9509091\ttotal: 41.3ms\tremaining: 417ms\n",
            "9:\tlearn: 0.9581818\ttotal: 45.7ms\tremaining: 411ms\n",
            "10:\tlearn: 0.9545455\ttotal: 50ms\tremaining: 404ms\n",
            "11:\tlearn: 0.9600000\ttotal: 54.5ms\tremaining: 399ms\n",
            "12:\tlearn: 0.9618182\ttotal: 59ms\tremaining: 395ms\n",
            "13:\tlearn: 0.9636364\ttotal: 63.8ms\tremaining: 392ms\n",
            "14:\tlearn: 0.9654545\ttotal: 68.3ms\tremaining: 387ms\n",
            "15:\tlearn: 0.9672727\ttotal: 72.7ms\tremaining: 382ms\n",
            "16:\tlearn: 0.9654545\ttotal: 77.2ms\tremaining: 377ms\n",
            "17:\tlearn: 0.9672727\ttotal: 81.7ms\tremaining: 372ms\n",
            "18:\tlearn: 0.9672727\ttotal: 86.1ms\tremaining: 367ms\n",
            "19:\tlearn: 0.9654545\ttotal: 90.4ms\tremaining: 362ms\n",
            "20:\tlearn: 0.9709091\ttotal: 94.8ms\tremaining: 357ms\n",
            "21:\tlearn: 0.9690909\ttotal: 99.1ms\tremaining: 351ms\n",
            "22:\tlearn: 0.9709091\ttotal: 103ms\tremaining: 346ms\n",
            "23:\tlearn: 0.9672727\ttotal: 112ms\tremaining: 354ms\n",
            "24:\tlearn: 0.9654545\ttotal: 122ms\tremaining: 365ms\n",
            "25:\tlearn: 0.9690909\ttotal: 132ms\tremaining: 375ms\n",
            "26:\tlearn: 0.9690909\ttotal: 141ms\tremaining: 381ms\n",
            "27:\tlearn: 0.9709091\ttotal: 145ms\tremaining: 374ms\n",
            "28:\tlearn: 0.9690909\ttotal: 150ms\tremaining: 367ms\n",
            "29:\tlearn: 0.9709091\ttotal: 155ms\tremaining: 361ms\n",
            "30:\tlearn: 0.9709091\ttotal: 159ms\tremaining: 354ms\n",
            "31:\tlearn: 0.9709091\ttotal: 163ms\tremaining: 347ms\n",
            "32:\tlearn: 0.9709091\ttotal: 168ms\tremaining: 340ms\n",
            "33:\tlearn: 0.9709091\ttotal: 172ms\tremaining: 334ms\n",
            "34:\tlearn: 0.9709091\ttotal: 176ms\tremaining: 328ms\n",
            "35:\tlearn: 0.9709091\ttotal: 181ms\tremaining: 322ms\n",
            "36:\tlearn: 0.9709091\ttotal: 191ms\tremaining: 326ms\n",
            "37:\tlearn: 0.9709091\ttotal: 197ms\tremaining: 322ms\n",
            "38:\tlearn: 0.9727273\ttotal: 203ms\tremaining: 317ms\n",
            "39:\tlearn: 0.9727273\ttotal: 210ms\tremaining: 315ms\n",
            "40:\tlearn: 0.9727273\ttotal: 215ms\tremaining: 309ms\n",
            "41:\tlearn: 0.9727273\ttotal: 221ms\tremaining: 306ms\n",
            "42:\tlearn: 0.9727273\ttotal: 228ms\tremaining: 303ms\n",
            "43:\tlearn: 0.9727273\ttotal: 234ms\tremaining: 298ms\n",
            "44:\tlearn: 0.9709091\ttotal: 240ms\tremaining: 293ms\n",
            "45:\tlearn: 0.9709091\ttotal: 252ms\tremaining: 295ms\n",
            "46:\tlearn: 0.9709091\ttotal: 265ms\tremaining: 299ms\n",
            "47:\tlearn: 0.9709091\ttotal: 277ms\tremaining: 300ms\n",
            "48:\tlearn: 0.9709091\ttotal: 288ms\tremaining: 300ms\n",
            "49:\tlearn: 0.9709091\ttotal: 301ms\tremaining: 301ms\n",
            "50:\tlearn: 0.9709091\ttotal: 322ms\tremaining: 309ms\n",
            "51:\tlearn: 0.9709091\ttotal: 333ms\tremaining: 308ms\n",
            "52:\tlearn: 0.9709091\ttotal: 345ms\tremaining: 306ms\n",
            "53:\tlearn: 0.9709091\ttotal: 366ms\tremaining: 312ms\n",
            "54:\tlearn: 0.9727273\ttotal: 378ms\tremaining: 309ms\n",
            "55:\tlearn: 0.9727273\ttotal: 394ms\tremaining: 309ms\n",
            "56:\tlearn: 0.9727273\ttotal: 418ms\tremaining: 315ms\n",
            "57:\tlearn: 0.9727273\ttotal: 451ms\tremaining: 327ms\n",
            "58:\tlearn: 0.9727273\ttotal: 462ms\tremaining: 321ms\n",
            "59:\tlearn: 0.9745455\ttotal: 480ms\tremaining: 320ms\n",
            "60:\tlearn: 0.9763636\ttotal: 508ms\tremaining: 325ms\n",
            "61:\tlearn: 0.9763636\ttotal: 519ms\tremaining: 318ms\n",
            "62:\tlearn: 0.9763636\ttotal: 532ms\tremaining: 312ms\n",
            "63:\tlearn: 0.9763636\ttotal: 546ms\tremaining: 307ms\n",
            "64:\tlearn: 0.9763636\ttotal: 562ms\tremaining: 302ms\n",
            "65:\tlearn: 0.9763636\ttotal: 572ms\tremaining: 295ms\n",
            "66:\tlearn: 0.9763636\ttotal: 583ms\tremaining: 287ms\n",
            "67:\tlearn: 0.9763636\ttotal: 594ms\tremaining: 279ms\n",
            "68:\tlearn: 0.9763636\ttotal: 605ms\tremaining: 272ms\n",
            "69:\tlearn: 0.9763636\ttotal: 616ms\tremaining: 264ms\n",
            "70:\tlearn: 0.9763636\ttotal: 628ms\tremaining: 256ms\n",
            "71:\tlearn: 0.9763636\ttotal: 633ms\tremaining: 246ms\n",
            "72:\tlearn: 0.9763636\ttotal: 642ms\tremaining: 237ms\n",
            "73:\tlearn: 0.9763636\ttotal: 648ms\tremaining: 228ms\n",
            "74:\tlearn: 0.9763636\ttotal: 659ms\tremaining: 220ms\n",
            "75:\tlearn: 0.9781818\ttotal: 664ms\tremaining: 210ms\n",
            "76:\tlearn: 0.9781818\ttotal: 673ms\tremaining: 201ms\n",
            "77:\tlearn: 0.9781818\ttotal: 678ms\tremaining: 191ms\n",
            "78:\tlearn: 0.9818182\ttotal: 684ms\tremaining: 182ms\n",
            "79:\tlearn: 0.9818182\ttotal: 690ms\tremaining: 173ms\n",
            "80:\tlearn: 0.9818182\ttotal: 696ms\tremaining: 163ms\n",
            "81:\tlearn: 0.9818182\ttotal: 702ms\tremaining: 154ms\n",
            "82:\tlearn: 0.9818182\ttotal: 707ms\tremaining: 145ms\n",
            "83:\tlearn: 0.9818182\ttotal: 715ms\tremaining: 136ms\n",
            "84:\tlearn: 0.9836364\ttotal: 720ms\tremaining: 127ms\n",
            "85:\tlearn: 0.9836364\ttotal: 726ms\tremaining: 118ms\n",
            "86:\tlearn: 0.9836364\ttotal: 733ms\tremaining: 110ms\n",
            "87:\tlearn: 0.9836364\ttotal: 743ms\tremaining: 101ms\n",
            "88:\tlearn: 0.9836364\ttotal: 754ms\tremaining: 93.2ms\n",
            "89:\tlearn: 0.9836364\ttotal: 765ms\tremaining: 85ms\n",
            "90:\tlearn: 0.9836364\ttotal: 770ms\tremaining: 76.1ms\n",
            "91:\tlearn: 0.9836364\ttotal: 782ms\tremaining: 68ms\n",
            "92:\tlearn: 0.9836364\ttotal: 798ms\tremaining: 60.1ms\n",
            "93:\tlearn: 0.9836364\ttotal: 820ms\tremaining: 52.3ms\n",
            "94:\tlearn: 0.9836364\ttotal: 830ms\tremaining: 43.7ms\n",
            "95:\tlearn: 0.9854545\ttotal: 849ms\tremaining: 35.4ms\n",
            "96:\tlearn: 0.9854545\ttotal: 871ms\tremaining: 26.9ms\n",
            "97:\tlearn: 0.9854545\ttotal: 920ms\tremaining: 18.8ms\n",
            "98:\tlearn: 0.9854545\ttotal: 941ms\tremaining: 9.51ms\n",
            "99:\tlearn: 0.9836364\ttotal: 964ms\tremaining: 0us\n",
            "0:\tlearn: 0.9181818\ttotal: 4.61ms\tremaining: 456ms\n",
            "1:\tlearn: 0.9472727\ttotal: 11.5ms\tremaining: 564ms\n",
            "2:\tlearn: 0.9436364\ttotal: 23.9ms\tremaining: 774ms\n",
            "3:\tlearn: 0.9563636\ttotal: 29.8ms\tremaining: 715ms\n",
            "4:\tlearn: 0.9672727\ttotal: 36.1ms\tremaining: 686ms\n",
            "5:\tlearn: 0.9636364\ttotal: 43ms\tremaining: 673ms\n",
            "6:\tlearn: 0.9636364\ttotal: 53.9ms\tremaining: 716ms\n",
            "7:\tlearn: 0.9672727\ttotal: 60.7ms\tremaining: 699ms\n",
            "8:\tlearn: 0.9672727\ttotal: 84.3ms\tremaining: 852ms\n",
            "9:\tlearn: 0.9690909\ttotal: 93.7ms\tremaining: 844ms\n",
            "10:\tlearn: 0.9636364\ttotal: 101ms\tremaining: 817ms\n",
            "11:\tlearn: 0.9618182\ttotal: 107ms\tremaining: 786ms\n",
            "12:\tlearn: 0.9618182\ttotal: 120ms\tremaining: 802ms\n",
            "13:\tlearn: 0.9618182\ttotal: 126ms\tremaining: 775ms\n",
            "14:\tlearn: 0.9618182\ttotal: 136ms\tremaining: 772ms\n",
            "15:\tlearn: 0.9654545\ttotal: 149ms\tremaining: 782ms\n",
            "16:\tlearn: 0.9654545\ttotal: 170ms\tremaining: 830ms\n",
            "17:\tlearn: 0.9636364\ttotal: 184ms\tremaining: 837ms\n",
            "18:\tlearn: 0.9636364\ttotal: 218ms\tremaining: 931ms\n",
            "19:\tlearn: 0.9636364\ttotal: 228ms\tremaining: 912ms\n",
            "20:\tlearn: 0.9672727\ttotal: 245ms\tremaining: 923ms\n",
            "21:\tlearn: 0.9709091\ttotal: 263ms\tremaining: 933ms\n",
            "22:\tlearn: 0.9690909\ttotal: 275ms\tremaining: 921ms\n",
            "23:\tlearn: 0.9690909\ttotal: 288ms\tremaining: 913ms\n",
            "24:\tlearn: 0.9690909\ttotal: 301ms\tremaining: 903ms\n",
            "25:\tlearn: 0.9690909\ttotal: 319ms\tremaining: 909ms\n",
            "26:\tlearn: 0.9672727\ttotal: 345ms\tremaining: 932ms\n",
            "27:\tlearn: 0.9690909\ttotal: 363ms\tremaining: 934ms\n",
            "28:\tlearn: 0.9690909\ttotal: 385ms\tremaining: 942ms\n",
            "29:\tlearn: 0.9690909\ttotal: 401ms\tremaining: 935ms\n",
            "30:\tlearn: 0.9690909\ttotal: 419ms\tremaining: 932ms\n",
            "31:\tlearn: 0.9672727\ttotal: 442ms\tremaining: 938ms\n",
            "32:\tlearn: 0.9672727\ttotal: 458ms\tremaining: 930ms\n",
            "33:\tlearn: 0.9690909\ttotal: 473ms\tremaining: 917ms\n",
            "34:\tlearn: 0.9672727\ttotal: 507ms\tremaining: 941ms\n",
            "35:\tlearn: 0.9672727\ttotal: 520ms\tremaining: 925ms\n",
            "36:\tlearn: 0.9672727\ttotal: 555ms\tremaining: 946ms\n",
            "37:\tlearn: 0.9672727\ttotal: 584ms\tremaining: 952ms\n",
            "38:\tlearn: 0.9709091\ttotal: 611ms\tremaining: 955ms\n",
            "39:\tlearn: 0.9709091\ttotal: 627ms\tremaining: 941ms\n",
            "40:\tlearn: 0.9709091\ttotal: 648ms\tremaining: 933ms\n",
            "41:\tlearn: 0.9690909\ttotal: 665ms\tremaining: 918ms\n",
            "42:\tlearn: 0.9690909\ttotal: 675ms\tremaining: 895ms\n",
            "43:\tlearn: 0.9690909\ttotal: 682ms\tremaining: 868ms\n",
            "44:\tlearn: 0.9690909\ttotal: 689ms\tremaining: 842ms\n",
            "45:\tlearn: 0.9709091\ttotal: 700ms\tremaining: 822ms\n",
            "46:\tlearn: 0.9709091\ttotal: 708ms\tremaining: 798ms\n",
            "47:\tlearn: 0.9709091\ttotal: 713ms\tremaining: 773ms\n",
            "48:\tlearn: 0.9690909\ttotal: 719ms\tremaining: 748ms\n",
            "49:\tlearn: 0.9727273\ttotal: 724ms\tremaining: 724ms\n",
            "50:\tlearn: 0.9727273\ttotal: 730ms\tremaining: 702ms\n",
            "51:\tlearn: 0.9709091\ttotal: 736ms\tremaining: 679ms\n",
            "52:\tlearn: 0.9709091\ttotal: 742ms\tremaining: 658ms\n",
            "53:\tlearn: 0.9709091\ttotal: 749ms\tremaining: 638ms\n",
            "54:\tlearn: 0.9727273\ttotal: 761ms\tremaining: 623ms\n",
            "55:\tlearn: 0.9727273\ttotal: 766ms\tremaining: 602ms\n",
            "56:\tlearn: 0.9727273\ttotal: 772ms\tremaining: 582ms\n",
            "57:\tlearn: 0.9709091\ttotal: 778ms\tremaining: 563ms\n",
            "58:\tlearn: 0.9709091\ttotal: 791ms\tremaining: 550ms\n",
            "59:\tlearn: 0.9727273\ttotal: 801ms\tremaining: 534ms\n",
            "60:\tlearn: 0.9727273\ttotal: 808ms\tremaining: 517ms\n",
            "61:\tlearn: 0.9727273\ttotal: 813ms\tremaining: 498ms\n",
            "62:\tlearn: 0.9727273\ttotal: 819ms\tremaining: 481ms\n",
            "63:\tlearn: 0.9727273\ttotal: 824ms\tremaining: 463ms\n",
            "64:\tlearn: 0.9727273\ttotal: 830ms\tremaining: 447ms\n",
            "65:\tlearn: 0.9727273\ttotal: 835ms\tremaining: 430ms\n",
            "66:\tlearn: 0.9745455\ttotal: 841ms\tremaining: 414ms\n",
            "67:\tlearn: 0.9745455\ttotal: 846ms\tremaining: 398ms\n",
            "68:\tlearn: 0.9745455\ttotal: 851ms\tremaining: 383ms\n",
            "69:\tlearn: 0.9745455\ttotal: 857ms\tremaining: 367ms\n",
            "70:\tlearn: 0.9745455\ttotal: 862ms\tremaining: 352ms\n",
            "71:\tlearn: 0.9745455\ttotal: 868ms\tremaining: 337ms\n",
            "72:\tlearn: 0.9727273\ttotal: 874ms\tremaining: 323ms\n",
            "73:\tlearn: 0.9727273\ttotal: 880ms\tremaining: 309ms\n",
            "74:\tlearn: 0.9727273\ttotal: 903ms\tremaining: 301ms\n",
            "75:\tlearn: 0.9745455\ttotal: 923ms\tremaining: 292ms\n",
            "76:\tlearn: 0.9745455\ttotal: 941ms\tremaining: 281ms\n",
            "77:\tlearn: 0.9745455\ttotal: 956ms\tremaining: 270ms\n",
            "78:\tlearn: 0.9745455\ttotal: 967ms\tremaining: 257ms\n",
            "79:\tlearn: 0.9763636\ttotal: 977ms\tremaining: 244ms\n",
            "80:\tlearn: 0.9781818\ttotal: 986ms\tremaining: 231ms\n",
            "81:\tlearn: 0.9781818\ttotal: 998ms\tremaining: 219ms\n",
            "82:\tlearn: 0.9781818\ttotal: 1.02s\tremaining: 209ms\n",
            "83:\tlearn: 0.9781818\ttotal: 1.05s\tremaining: 199ms\n",
            "84:\tlearn: 0.9781818\ttotal: 1.07s\tremaining: 188ms\n",
            "85:\tlearn: 0.9781818\ttotal: 1.08s\tremaining: 177ms\n",
            "86:\tlearn: 0.9781818\ttotal: 1.1s\tremaining: 165ms\n",
            "87:\tlearn: 0.9781818\ttotal: 1.12s\tremaining: 153ms\n",
            "88:\tlearn: 0.9781818\ttotal: 1.14s\tremaining: 141ms\n",
            "89:\tlearn: 0.9781818\ttotal: 1.16s\tremaining: 129ms\n",
            "90:\tlearn: 0.9781818\ttotal: 1.18s\tremaining: 117ms\n",
            "91:\tlearn: 0.9781818\ttotal: 1.22s\tremaining: 106ms\n",
            "92:\tlearn: 0.9781818\ttotal: 1.24s\tremaining: 93.2ms\n",
            "93:\tlearn: 0.9781818\ttotal: 1.26s\tremaining: 80.3ms\n",
            "94:\tlearn: 0.9800000\ttotal: 1.28s\tremaining: 67.4ms\n",
            "95:\tlearn: 0.9800000\ttotal: 1.3s\tremaining: 54.1ms\n",
            "96:\tlearn: 0.9800000\ttotal: 1.32s\tremaining: 40.9ms\n",
            "97:\tlearn: 0.9800000\ttotal: 1.34s\tremaining: 27.5ms\n",
            "98:\tlearn: 0.9800000\ttotal: 1.38s\tremaining: 13.9ms\n",
            "99:\tlearn: 0.9800000\ttotal: 1.4s\tremaining: 0us\n",
            "0:\tlearn: 0.9290909\ttotal: 16.1ms\tremaining: 1.6s\n",
            "1:\tlearn: 0.9618182\ttotal: 39.3ms\tremaining: 1.93s\n",
            "2:\tlearn: 0.9636364\ttotal: 72.5ms\tremaining: 2.34s\n",
            "3:\tlearn: 0.9654545\ttotal: 99.1ms\tremaining: 2.38s\n",
            "4:\tlearn: 0.9618182\ttotal: 119ms\tremaining: 2.26s\n",
            "5:\tlearn: 0.9581818\ttotal: 147ms\tremaining: 2.3s\n",
            "6:\tlearn: 0.9581818\ttotal: 168ms\tremaining: 2.23s\n",
            "7:\tlearn: 0.9618182\ttotal: 184ms\tremaining: 2.12s\n",
            "8:\tlearn: 0.9618182\ttotal: 202ms\tremaining: 2.04s\n",
            "9:\tlearn: 0.9636364\ttotal: 230ms\tremaining: 2.07s\n",
            "10:\tlearn: 0.9618182\ttotal: 263ms\tremaining: 2.13s\n",
            "11:\tlearn: 0.9672727\ttotal: 285ms\tremaining: 2.09s\n",
            "12:\tlearn: 0.9654545\ttotal: 306ms\tremaining: 2.05s\n",
            "13:\tlearn: 0.9690909\ttotal: 338ms\tremaining: 2.08s\n",
            "14:\tlearn: 0.9690909\ttotal: 358ms\tremaining: 2.03s\n",
            "15:\tlearn: 0.9709091\ttotal: 372ms\tremaining: 1.95s\n",
            "16:\tlearn: 0.9709091\ttotal: 386ms\tremaining: 1.88s\n",
            "17:\tlearn: 0.9727273\ttotal: 399ms\tremaining: 1.82s\n",
            "18:\tlearn: 0.9709091\ttotal: 425ms\tremaining: 1.81s\n",
            "19:\tlearn: 0.9727273\ttotal: 434ms\tremaining: 1.73s\n",
            "20:\tlearn: 0.9727273\ttotal: 454ms\tremaining: 1.71s\n",
            "21:\tlearn: 0.9727273\ttotal: 470ms\tremaining: 1.67s\n",
            "22:\tlearn: 0.9727273\ttotal: 485ms\tremaining: 1.62s\n",
            "23:\tlearn: 0.9727273\ttotal: 508ms\tremaining: 1.61s\n",
            "24:\tlearn: 0.9709091\ttotal: 536ms\tremaining: 1.61s\n",
            "25:\tlearn: 0.9727273\ttotal: 559ms\tremaining: 1.59s\n",
            "26:\tlearn: 0.9745455\ttotal: 574ms\tremaining: 1.55s\n",
            "27:\tlearn: 0.9727273\ttotal: 616ms\tremaining: 1.58s\n",
            "28:\tlearn: 0.9709091\ttotal: 653ms\tremaining: 1.6s\n",
            "29:\tlearn: 0.9709091\ttotal: 669ms\tremaining: 1.56s\n",
            "30:\tlearn: 0.9709091\ttotal: 678ms\tremaining: 1.51s\n",
            "31:\tlearn: 0.9690909\ttotal: 690ms\tremaining: 1.47s\n",
            "32:\tlearn: 0.9709091\ttotal: 713ms\tremaining: 1.45s\n",
            "33:\tlearn: 0.9709091\ttotal: 743ms\tremaining: 1.44s\n",
            "34:\tlearn: 0.9709091\ttotal: 753ms\tremaining: 1.4s\n",
            "35:\tlearn: 0.9727273\ttotal: 771ms\tremaining: 1.37s\n",
            "36:\tlearn: 0.9727273\ttotal: 781ms\tremaining: 1.33s\n",
            "37:\tlearn: 0.9727273\ttotal: 801ms\tremaining: 1.31s\n",
            "38:\tlearn: 0.9727273\ttotal: 812ms\tremaining: 1.27s\n",
            "39:\tlearn: 0.9727273\ttotal: 826ms\tremaining: 1.24s\n",
            "40:\tlearn: 0.9727273\ttotal: 845ms\tremaining: 1.22s\n",
            "41:\tlearn: 0.9745455\ttotal: 880ms\tremaining: 1.22s\n",
            "42:\tlearn: 0.9727273\ttotal: 901ms\tremaining: 1.19s\n",
            "43:\tlearn: 0.9727273\ttotal: 911ms\tremaining: 1.16s\n",
            "44:\tlearn: 0.9745455\ttotal: 939ms\tremaining: 1.15s\n",
            "45:\tlearn: 0.9745455\ttotal: 968ms\tremaining: 1.14s\n",
            "46:\tlearn: 0.9727273\ttotal: 986ms\tremaining: 1.11s\n",
            "47:\tlearn: 0.9745455\ttotal: 1.01s\tremaining: 1.1s\n",
            "48:\tlearn: 0.9745455\ttotal: 1.03s\tremaining: 1.07s\n",
            "49:\tlearn: 0.9763636\ttotal: 1.05s\tremaining: 1.05s\n",
            "50:\tlearn: 0.9763636\ttotal: 1.06s\tremaining: 1.02s\n",
            "51:\tlearn: 0.9763636\ttotal: 1.08s\tremaining: 994ms\n",
            "52:\tlearn: 0.9745455\ttotal: 1.1s\tremaining: 974ms\n",
            "53:\tlearn: 0.9781818\ttotal: 1.12s\tremaining: 957ms\n",
            "54:\tlearn: 0.9763636\ttotal: 1.14s\tremaining: 936ms\n",
            "55:\tlearn: 0.9745455\ttotal: 1.18s\tremaining: 924ms\n",
            "56:\tlearn: 0.9745455\ttotal: 1.19s\tremaining: 900ms\n",
            "57:\tlearn: 0.9745455\ttotal: 1.23s\tremaining: 891ms\n",
            "58:\tlearn: 0.9745455\ttotal: 1.25s\tremaining: 871ms\n",
            "59:\tlearn: 0.9745455\ttotal: 1.28s\tremaining: 854ms\n",
            "60:\tlearn: 0.9745455\ttotal: 1.3s\tremaining: 830ms\n",
            "61:\tlearn: 0.9745455\ttotal: 1.32s\tremaining: 807ms\n",
            "62:\tlearn: 0.9745455\ttotal: 1.34s\tremaining: 788ms\n",
            "63:\tlearn: 0.9763636\ttotal: 1.37s\tremaining: 769ms\n",
            "64:\tlearn: 0.9763636\ttotal: 1.39s\tremaining: 747ms\n",
            "65:\tlearn: 0.9763636\ttotal: 1.4s\tremaining: 723ms\n",
            "66:\tlearn: 0.9745455\ttotal: 1.42s\tremaining: 697ms\n",
            "67:\tlearn: 0.9763636\ttotal: 1.43s\tremaining: 675ms\n",
            "68:\tlearn: 0.9763636\ttotal: 1.45s\tremaining: 652ms\n",
            "69:\tlearn: 0.9745455\ttotal: 1.47s\tremaining: 629ms\n",
            "70:\tlearn: 0.9763636\ttotal: 1.5s\tremaining: 612ms\n",
            "71:\tlearn: 0.9763636\ttotal: 1.52s\tremaining: 590ms\n",
            "72:\tlearn: 0.9763636\ttotal: 1.53s\tremaining: 568ms\n",
            "73:\tlearn: 0.9763636\ttotal: 1.55s\tremaining: 544ms\n",
            "74:\tlearn: 0.9763636\ttotal: 1.56s\tremaining: 522ms\n",
            "75:\tlearn: 0.9763636\ttotal: 1.58s\tremaining: 499ms\n",
            "76:\tlearn: 0.9763636\ttotal: 1.59s\tremaining: 476ms\n",
            "77:\tlearn: 0.9763636\ttotal: 1.62s\tremaining: 456ms\n",
            "78:\tlearn: 0.9763636\ttotal: 1.63s\tremaining: 433ms\n",
            "79:\tlearn: 0.9781818\ttotal: 1.64s\tremaining: 411ms\n",
            "80:\tlearn: 0.9763636\ttotal: 1.66s\tremaining: 390ms\n",
            "81:\tlearn: 0.9781818\ttotal: 1.68s\tremaining: 370ms\n",
            "82:\tlearn: 0.9800000\ttotal: 1.71s\tremaining: 350ms\n",
            "83:\tlearn: 0.9781818\ttotal: 1.74s\tremaining: 331ms\n",
            "84:\tlearn: 0.9800000\ttotal: 1.76s\tremaining: 310ms\n",
            "85:\tlearn: 0.9800000\ttotal: 1.79s\tremaining: 291ms\n",
            "86:\tlearn: 0.9800000\ttotal: 1.81s\tremaining: 271ms\n",
            "87:\tlearn: 0.9800000\ttotal: 1.83s\tremaining: 250ms\n",
            "88:\tlearn: 0.9800000\ttotal: 1.84s\tremaining: 228ms\n",
            "89:\tlearn: 0.9800000\ttotal: 1.86s\tremaining: 207ms\n",
            "90:\tlearn: 0.9800000\ttotal: 1.88s\tremaining: 186ms\n",
            "91:\tlearn: 0.9800000\ttotal: 1.9s\tremaining: 165ms\n",
            "92:\tlearn: 0.9800000\ttotal: 1.92s\tremaining: 144ms\n",
            "93:\tlearn: 0.9800000\ttotal: 1.94s\tremaining: 124ms\n",
            "94:\tlearn: 0.9800000\ttotal: 1.95s\tremaining: 102ms\n",
            "95:\tlearn: 0.9800000\ttotal: 1.96s\tremaining: 81.6ms\n",
            "96:\tlearn: 0.9800000\ttotal: 1.97s\tremaining: 60.9ms\n",
            "97:\tlearn: 0.9836364\ttotal: 1.98s\tremaining: 40.4ms\n",
            "98:\tlearn: 0.9818182\ttotal: 2.01s\tremaining: 20.3ms\n",
            "99:\tlearn: 0.9836364\ttotal: 2.02s\tremaining: 0us\n",
            "0:\tlearn: 0.9181818\ttotal: 15.2ms\tremaining: 1.5s\n",
            "1:\tlearn: 0.9545455\ttotal: 40ms\tremaining: 1.96s\n",
            "2:\tlearn: 0.9472727\ttotal: 72.1ms\tremaining: 2.33s\n",
            "3:\tlearn: 0.9563636\ttotal: 92.2ms\tremaining: 2.21s\n",
            "4:\tlearn: 0.9600000\ttotal: 115ms\tremaining: 2.18s\n",
            "5:\tlearn: 0.9581818\ttotal: 139ms\tremaining: 2.18s\n",
            "6:\tlearn: 0.9618182\ttotal: 160ms\tremaining: 2.12s\n",
            "7:\tlearn: 0.9581818\ttotal: 190ms\tremaining: 2.18s\n",
            "8:\tlearn: 0.9600000\ttotal: 204ms\tremaining: 2.06s\n",
            "9:\tlearn: 0.9581818\ttotal: 228ms\tremaining: 2.06s\n",
            "10:\tlearn: 0.9600000\ttotal: 248ms\tremaining: 2.01s\n",
            "11:\tlearn: 0.9618182\ttotal: 278ms\tremaining: 2.04s\n",
            "12:\tlearn: 0.9600000\ttotal: 303ms\tremaining: 2.03s\n",
            "13:\tlearn: 0.9636364\ttotal: 321ms\tremaining: 1.97s\n",
            "14:\tlearn: 0.9654545\ttotal: 334ms\tremaining: 1.89s\n",
            "15:\tlearn: 0.9672727\ttotal: 349ms\tremaining: 1.83s\n",
            "16:\tlearn: 0.9636364\ttotal: 368ms\tremaining: 1.8s\n",
            "17:\tlearn: 0.9672727\ttotal: 390ms\tremaining: 1.77s\n",
            "18:\tlearn: 0.9709091\ttotal: 412ms\tremaining: 1.75s\n",
            "19:\tlearn: 0.9709091\ttotal: 433ms\tremaining: 1.73s\n",
            "20:\tlearn: 0.9709091\ttotal: 463ms\tremaining: 1.74s\n",
            "21:\tlearn: 0.9727273\ttotal: 479ms\tremaining: 1.7s\n",
            "22:\tlearn: 0.9709091\ttotal: 486ms\tremaining: 1.63s\n",
            "23:\tlearn: 0.9709091\ttotal: 509ms\tremaining: 1.61s\n",
            "24:\tlearn: 0.9709091\ttotal: 528ms\tremaining: 1.58s\n",
            "25:\tlearn: 0.9727273\ttotal: 539ms\tremaining: 1.53s\n",
            "26:\tlearn: 0.9727273\ttotal: 552ms\tremaining: 1.49s\n",
            "27:\tlearn: 0.9727273\ttotal: 561ms\tremaining: 1.44s\n",
            "28:\tlearn: 0.9745455\ttotal: 574ms\tremaining: 1.41s\n",
            "29:\tlearn: 0.9745455\ttotal: 584ms\tremaining: 1.36s\n",
            "30:\tlearn: 0.9727273\ttotal: 595ms\tremaining: 1.32s\n",
            "31:\tlearn: 0.9745455\ttotal: 612ms\tremaining: 1.3s\n",
            "32:\tlearn: 0.9727273\ttotal: 623ms\tremaining: 1.26s\n",
            "33:\tlearn: 0.9727273\ttotal: 642ms\tremaining: 1.25s\n",
            "34:\tlearn: 0.9745455\ttotal: 656ms\tremaining: 1.22s\n",
            "35:\tlearn: 0.9763636\ttotal: 671ms\tremaining: 1.19s\n",
            "36:\tlearn: 0.9745455\ttotal: 685ms\tremaining: 1.17s\n",
            "37:\tlearn: 0.9745455\ttotal: 696ms\tremaining: 1.14s\n",
            "38:\tlearn: 0.9745455\ttotal: 706ms\tremaining: 1.1s\n",
            "39:\tlearn: 0.9763636\ttotal: 717ms\tremaining: 1.07s\n",
            "40:\tlearn: 0.9745455\ttotal: 727ms\tremaining: 1.04s\n",
            "41:\tlearn: 0.9763636\ttotal: 745ms\tremaining: 1.03s\n",
            "42:\tlearn: 0.9781818\ttotal: 752ms\tremaining: 997ms\n",
            "43:\tlearn: 0.9781818\ttotal: 756ms\tremaining: 963ms\n",
            "44:\tlearn: 0.9781818\ttotal: 762ms\tremaining: 932ms\n",
            "45:\tlearn: 0.9781818\ttotal: 767ms\tremaining: 900ms\n",
            "46:\tlearn: 0.9781818\ttotal: 774ms\tremaining: 872ms\n",
            "47:\tlearn: 0.9763636\ttotal: 778ms\tremaining: 843ms\n",
            "48:\tlearn: 0.9763636\ttotal: 783ms\tremaining: 815ms\n",
            "49:\tlearn: 0.9781818\ttotal: 790ms\tremaining: 790ms\n",
            "50:\tlearn: 0.9781818\ttotal: 819ms\tremaining: 787ms\n",
            "51:\tlearn: 0.9781818\ttotal: 838ms\tremaining: 773ms\n",
            "52:\tlearn: 0.9763636\ttotal: 853ms\tremaining: 757ms\n",
            "53:\tlearn: 0.9781818\ttotal: 872ms\tremaining: 743ms\n",
            "54:\tlearn: 0.9781818\ttotal: 888ms\tremaining: 726ms\n",
            "55:\tlearn: 0.9781818\ttotal: 899ms\tremaining: 707ms\n",
            "56:\tlearn: 0.9781818\ttotal: 913ms\tremaining: 689ms\n",
            "57:\tlearn: 0.9781818\ttotal: 918ms\tremaining: 665ms\n",
            "58:\tlearn: 0.9763636\ttotal: 922ms\tremaining: 641ms\n",
            "59:\tlearn: 0.9763636\ttotal: 935ms\tremaining: 623ms\n",
            "60:\tlearn: 0.9763636\ttotal: 947ms\tremaining: 605ms\n",
            "61:\tlearn: 0.9763636\ttotal: 959ms\tremaining: 588ms\n",
            "62:\tlearn: 0.9763636\ttotal: 966ms\tremaining: 568ms\n",
            "63:\tlearn: 0.9763636\ttotal: 973ms\tremaining: 547ms\n",
            "64:\tlearn: 0.9763636\ttotal: 977ms\tremaining: 526ms\n",
            "65:\tlearn: 0.9763636\ttotal: 984ms\tremaining: 507ms\n",
            "66:\tlearn: 0.9800000\ttotal: 988ms\tremaining: 487ms\n",
            "67:\tlearn: 0.9800000\ttotal: 994ms\tremaining: 468ms\n",
            "68:\tlearn: 0.9800000\ttotal: 998ms\tremaining: 449ms\n",
            "69:\tlearn: 0.9800000\ttotal: 1s\tremaining: 431ms\n",
            "70:\tlearn: 0.9781818\ttotal: 1.01s\tremaining: 412ms\n",
            "71:\tlearn: 0.9800000\ttotal: 1.02s\tremaining: 398ms\n",
            "72:\tlearn: 0.9781818\ttotal: 1.04s\tremaining: 384ms\n",
            "73:\tlearn: 0.9800000\ttotal: 1.06s\tremaining: 372ms\n",
            "74:\tlearn: 0.9800000\ttotal: 1.07s\tremaining: 357ms\n",
            "75:\tlearn: 0.9800000\ttotal: 1.08s\tremaining: 343ms\n",
            "76:\tlearn: 0.9800000\ttotal: 1.09s\tremaining: 326ms\n",
            "77:\tlearn: 0.9800000\ttotal: 1.1s\tremaining: 311ms\n",
            "78:\tlearn: 0.9800000\ttotal: 1.11s\tremaining: 296ms\n",
            "79:\tlearn: 0.9781818\ttotal: 1.13s\tremaining: 283ms\n",
            "80:\tlearn: 0.9781818\ttotal: 1.15s\tremaining: 270ms\n",
            "81:\tlearn: 0.9781818\ttotal: 1.17s\tremaining: 256ms\n",
            "82:\tlearn: 0.9781818\ttotal: 1.18s\tremaining: 242ms\n",
            "83:\tlearn: 0.9800000\ttotal: 1.22s\tremaining: 232ms\n",
            "84:\tlearn: 0.9800000\ttotal: 1.23s\tremaining: 218ms\n",
            "85:\tlearn: 0.9818182\ttotal: 1.25s\tremaining: 204ms\n",
            "86:\tlearn: 0.9818182\ttotal: 1.26s\tremaining: 189ms\n",
            "87:\tlearn: 0.9818182\ttotal: 1.28s\tremaining: 174ms\n",
            "88:\tlearn: 0.9818182\ttotal: 1.29s\tremaining: 159ms\n",
            "89:\tlearn: 0.9818182\ttotal: 1.33s\tremaining: 148ms\n",
            "90:\tlearn: 0.9818182\ttotal: 1.34s\tremaining: 133ms\n",
            "91:\tlearn: 0.9818182\ttotal: 1.36s\tremaining: 118ms\n",
            "92:\tlearn: 0.9818182\ttotal: 1.38s\tremaining: 104ms\n",
            "93:\tlearn: 0.9818182\ttotal: 1.39s\tremaining: 88.5ms\n",
            "94:\tlearn: 0.9818182\ttotal: 1.4s\tremaining: 73.7ms\n",
            "95:\tlearn: 0.9818182\ttotal: 1.41s\tremaining: 58.8ms\n",
            "96:\tlearn: 0.9818182\ttotal: 1.42s\tremaining: 44ms\n",
            "97:\tlearn: 0.9818182\ttotal: 1.45s\tremaining: 29.5ms\n",
            "98:\tlearn: 0.9836364\ttotal: 1.47s\tremaining: 14.8ms\n",
            "99:\tlearn: 0.9818182\ttotal: 1.48s\tremaining: 0us\n",
            "0:\tlearn: 0.9163636\ttotal: 22.1ms\tremaining: 2.19s\n",
            "1:\tlearn: 0.9418182\ttotal: 34.5ms\tremaining: 1.69s\n",
            "2:\tlearn: 0.9381818\ttotal: 45.4ms\tremaining: 1.47s\n",
            "3:\tlearn: 0.9472727\ttotal: 54.3ms\tremaining: 1.3s\n",
            "4:\tlearn: 0.9454545\ttotal: 65.3ms\tremaining: 1.24s\n",
            "5:\tlearn: 0.9490909\ttotal: 74.9ms\tremaining: 1.17s\n",
            "6:\tlearn: 0.9490909\ttotal: 92.7ms\tremaining: 1.23s\n",
            "7:\tlearn: 0.9563636\ttotal: 105ms\tremaining: 1.21s\n",
            "8:\tlearn: 0.9563636\ttotal: 114ms\tremaining: 1.15s\n",
            "9:\tlearn: 0.9581818\ttotal: 125ms\tremaining: 1.13s\n",
            "10:\tlearn: 0.9600000\ttotal: 137ms\tremaining: 1.1s\n",
            "11:\tlearn: 0.9600000\ttotal: 147ms\tremaining: 1.08s\n",
            "12:\tlearn: 0.9618182\ttotal: 157ms\tremaining: 1.05s\n",
            "13:\tlearn: 0.9654545\ttotal: 169ms\tremaining: 1.04s\n",
            "14:\tlearn: 0.9618182\ttotal: 180ms\tremaining: 1.02s\n",
            "15:\tlearn: 0.9618182\ttotal: 192ms\tremaining: 1.01s\n",
            "16:\tlearn: 0.9654545\ttotal: 204ms\tremaining: 994ms\n",
            "17:\tlearn: 0.9672727\ttotal: 221ms\tremaining: 1.01s\n",
            "18:\tlearn: 0.9672727\ttotal: 234ms\tremaining: 997ms\n",
            "19:\tlearn: 0.9654545\ttotal: 240ms\tremaining: 960ms\n",
            "20:\tlearn: 0.9690909\ttotal: 251ms\tremaining: 946ms\n",
            "21:\tlearn: 0.9690909\ttotal: 276ms\tremaining: 978ms\n",
            "22:\tlearn: 0.9690909\ttotal: 281ms\tremaining: 941ms\n",
            "23:\tlearn: 0.9654545\ttotal: 287ms\tremaining: 909ms\n",
            "24:\tlearn: 0.9672727\ttotal: 292ms\tremaining: 877ms\n",
            "25:\tlearn: 0.9672727\ttotal: 298ms\tremaining: 849ms\n",
            "26:\tlearn: 0.9690909\ttotal: 303ms\tremaining: 819ms\n",
            "27:\tlearn: 0.9690909\ttotal: 309ms\tremaining: 795ms\n",
            "28:\tlearn: 0.9690909\ttotal: 317ms\tremaining: 775ms\n",
            "29:\tlearn: 0.9690909\ttotal: 323ms\tremaining: 753ms\n",
            "30:\tlearn: 0.9672727\ttotal: 328ms\tremaining: 729ms\n",
            "31:\tlearn: 0.9672727\ttotal: 334ms\tremaining: 709ms\n",
            "32:\tlearn: 0.9672727\ttotal: 338ms\tremaining: 686ms\n",
            "33:\tlearn: 0.9690909\ttotal: 344ms\tremaining: 669ms\n",
            "34:\tlearn: 0.9672727\ttotal: 349ms\tremaining: 647ms\n",
            "35:\tlearn: 0.9727273\ttotal: 359ms\tremaining: 638ms\n",
            "36:\tlearn: 0.9709091\ttotal: 368ms\tremaining: 626ms\n",
            "37:\tlearn: 0.9709091\ttotal: 375ms\tremaining: 612ms\n",
            "38:\tlearn: 0.9727273\ttotal: 385ms\tremaining: 603ms\n",
            "39:\tlearn: 0.9727273\ttotal: 395ms\tremaining: 592ms\n",
            "40:\tlearn: 0.9727273\ttotal: 409ms\tremaining: 588ms\n",
            "41:\tlearn: 0.9745455\ttotal: 421ms\tremaining: 582ms\n",
            "42:\tlearn: 0.9745455\ttotal: 432ms\tremaining: 573ms\n",
            "43:\tlearn: 0.9727273\ttotal: 442ms\tremaining: 563ms\n",
            "44:\tlearn: 0.9727273\ttotal: 453ms\tremaining: 554ms\n",
            "45:\tlearn: 0.9727273\ttotal: 471ms\tremaining: 553ms\n",
            "46:\tlearn: 0.9745455\ttotal: 483ms\tremaining: 545ms\n",
            "47:\tlearn: 0.9745455\ttotal: 495ms\tremaining: 536ms\n",
            "48:\tlearn: 0.9727273\ttotal: 512ms\tremaining: 532ms\n",
            "49:\tlearn: 0.9745455\ttotal: 527ms\tremaining: 527ms\n",
            "50:\tlearn: 0.9745455\ttotal: 532ms\tremaining: 511ms\n",
            "51:\tlearn: 0.9745455\ttotal: 561ms\tremaining: 518ms\n",
            "52:\tlearn: 0.9745455\ttotal: 576ms\tremaining: 511ms\n",
            "53:\tlearn: 0.9745455\ttotal: 588ms\tremaining: 501ms\n",
            "54:\tlearn: 0.9745455\ttotal: 596ms\tremaining: 488ms\n",
            "55:\tlearn: 0.9745455\ttotal: 605ms\tremaining: 475ms\n",
            "56:\tlearn: 0.9745455\ttotal: 609ms\tremaining: 459ms\n",
            "57:\tlearn: 0.9745455\ttotal: 616ms\tremaining: 446ms\n",
            "58:\tlearn: 0.9745455\ttotal: 621ms\tremaining: 431ms\n",
            "59:\tlearn: 0.9745455\ttotal: 626ms\tremaining: 417ms\n",
            "60:\tlearn: 0.9745455\ttotal: 632ms\tremaining: 404ms\n",
            "61:\tlearn: 0.9745455\ttotal: 639ms\tremaining: 391ms\n",
            "62:\tlearn: 0.9745455\ttotal: 643ms\tremaining: 378ms\n",
            "63:\tlearn: 0.9745455\ttotal: 655ms\tremaining: 368ms\n",
            "64:\tlearn: 0.9745455\ttotal: 659ms\tremaining: 355ms\n",
            "65:\tlearn: 0.9745455\ttotal: 666ms\tremaining: 343ms\n",
            "66:\tlearn: 0.9745455\ttotal: 675ms\tremaining: 332ms\n",
            "67:\tlearn: 0.9763636\ttotal: 684ms\tremaining: 322ms\n",
            "68:\tlearn: 0.9781818\ttotal: 694ms\tremaining: 312ms\n",
            "69:\tlearn: 0.9781818\ttotal: 707ms\tremaining: 303ms\n",
            "70:\tlearn: 0.9781818\ttotal: 718ms\tremaining: 293ms\n",
            "71:\tlearn: 0.9800000\ttotal: 729ms\tremaining: 284ms\n",
            "72:\tlearn: 0.9800000\ttotal: 737ms\tremaining: 272ms\n",
            "73:\tlearn: 0.9800000\ttotal: 743ms\tremaining: 261ms\n",
            "74:\tlearn: 0.9800000\ttotal: 749ms\tremaining: 250ms\n",
            "75:\tlearn: 0.9800000\ttotal: 753ms\tremaining: 238ms\n",
            "76:\tlearn: 0.9800000\ttotal: 760ms\tremaining: 227ms\n",
            "77:\tlearn: 0.9800000\ttotal: 764ms\tremaining: 215ms\n",
            "78:\tlearn: 0.9800000\ttotal: 771ms\tremaining: 205ms\n",
            "79:\tlearn: 0.9800000\ttotal: 775ms\tremaining: 194ms\n",
            "80:\tlearn: 0.9800000\ttotal: 781ms\tremaining: 183ms\n",
            "81:\tlearn: 0.9800000\ttotal: 789ms\tremaining: 173ms\n",
            "82:\tlearn: 0.9800000\ttotal: 795ms\tremaining: 163ms\n",
            "83:\tlearn: 0.9800000\ttotal: 802ms\tremaining: 153ms\n",
            "84:\tlearn: 0.9800000\ttotal: 809ms\tremaining: 143ms\n",
            "85:\tlearn: 0.9800000\ttotal: 816ms\tremaining: 133ms\n",
            "86:\tlearn: 0.9800000\ttotal: 822ms\tremaining: 123ms\n",
            "87:\tlearn: 0.9800000\ttotal: 827ms\tremaining: 113ms\n",
            "88:\tlearn: 0.9800000\ttotal: 833ms\tremaining: 103ms\n",
            "89:\tlearn: 0.9818182\ttotal: 837ms\tremaining: 93ms\n",
            "90:\tlearn: 0.9800000\ttotal: 863ms\tremaining: 85.3ms\n",
            "91:\tlearn: 0.9800000\ttotal: 872ms\tremaining: 75.8ms\n",
            "92:\tlearn: 0.9800000\ttotal: 882ms\tremaining: 66.4ms\n",
            "93:\tlearn: 0.9800000\ttotal: 892ms\tremaining: 57ms\n",
            "94:\tlearn: 0.9818182\ttotal: 903ms\tremaining: 47.5ms\n",
            "95:\tlearn: 0.9818182\ttotal: 914ms\tremaining: 38.1ms\n",
            "96:\tlearn: 0.9818182\ttotal: 924ms\tremaining: 28.6ms\n",
            "97:\tlearn: 0.9818182\ttotal: 937ms\tremaining: 19.1ms\n",
            "98:\tlearn: 0.9836364\ttotal: 948ms\tremaining: 9.58ms\n",
            "99:\tlearn: 0.9836364\ttotal: 960ms\tremaining: 0us\n",
            "0:\tlearn: 0.9327273\ttotal: 25.2ms\tremaining: 2.5s\n",
            "1:\tlearn: 0.9600000\ttotal: 35.8ms\tremaining: 1.76s\n",
            "2:\tlearn: 0.9472727\ttotal: 54.8ms\tremaining: 1.77s\n",
            "3:\tlearn: 0.9472727\ttotal: 63.8ms\tremaining: 1.53s\n",
            "4:\tlearn: 0.9545455\ttotal: 78.4ms\tremaining: 1.49s\n",
            "5:\tlearn: 0.9545455\ttotal: 90.1ms\tremaining: 1.41s\n",
            "6:\tlearn: 0.9527273\ttotal: 99.5ms\tremaining: 1.32s\n",
            "7:\tlearn: 0.9545455\ttotal: 111ms\tremaining: 1.28s\n",
            "8:\tlearn: 0.9600000\ttotal: 123ms\tremaining: 1.24s\n",
            "9:\tlearn: 0.9600000\ttotal: 134ms\tremaining: 1.21s\n",
            "10:\tlearn: 0.9654545\ttotal: 149ms\tremaining: 1.21s\n",
            "11:\tlearn: 0.9636364\ttotal: 161ms\tremaining: 1.18s\n",
            "12:\tlearn: 0.9636364\ttotal: 174ms\tremaining: 1.16s\n",
            "13:\tlearn: 0.9636364\ttotal: 184ms\tremaining: 1.13s\n",
            "14:\tlearn: 0.9636364\ttotal: 195ms\tremaining: 1.1s\n",
            "15:\tlearn: 0.9636364\ttotal: 205ms\tremaining: 1.08s\n",
            "16:\tlearn: 0.9636364\ttotal: 217ms\tremaining: 1.06s\n",
            "17:\tlearn: 0.9636364\ttotal: 228ms\tremaining: 1.04s\n",
            "18:\tlearn: 0.9654545\ttotal: 239ms\tremaining: 1.02s\n",
            "19:\tlearn: 0.9672727\ttotal: 258ms\tremaining: 1.03s\n",
            "20:\tlearn: 0.9654545\ttotal: 269ms\tremaining: 1.01s\n",
            "21:\tlearn: 0.9727273\ttotal: 279ms\tremaining: 988ms\n",
            "22:\tlearn: 0.9690909\ttotal: 290ms\tremaining: 969ms\n",
            "23:\tlearn: 0.9690909\ttotal: 301ms\tremaining: 952ms\n",
            "24:\tlearn: 0.9709091\ttotal: 312ms\tremaining: 937ms\n",
            "25:\tlearn: 0.9709091\ttotal: 322ms\tremaining: 916ms\n",
            "26:\tlearn: 0.9709091\ttotal: 336ms\tremaining: 907ms\n",
            "27:\tlearn: 0.9709091\ttotal: 347ms\tremaining: 891ms\n",
            "28:\tlearn: 0.9709091\ttotal: 359ms\tremaining: 878ms\n",
            "29:\tlearn: 0.9727273\ttotal: 370ms\tremaining: 863ms\n",
            "30:\tlearn: 0.9727273\ttotal: 381ms\tremaining: 849ms\n",
            "31:\tlearn: 0.9745455\ttotal: 391ms\tremaining: 831ms\n",
            "32:\tlearn: 0.9745455\ttotal: 401ms\tremaining: 813ms\n",
            "33:\tlearn: 0.9745455\ttotal: 412ms\tremaining: 800ms\n",
            "34:\tlearn: 0.9763636\ttotal: 443ms\tremaining: 822ms\n",
            "35:\tlearn: 0.9745455\ttotal: 468ms\tremaining: 833ms\n",
            "36:\tlearn: 0.9745455\ttotal: 481ms\tremaining: 819ms\n",
            "37:\tlearn: 0.9745455\ttotal: 490ms\tremaining: 800ms\n",
            "38:\tlearn: 0.9745455\ttotal: 502ms\tremaining: 785ms\n",
            "39:\tlearn: 0.9763636\ttotal: 512ms\tremaining: 768ms\n",
            "40:\tlearn: 0.9763636\ttotal: 521ms\tremaining: 750ms\n",
            "41:\tlearn: 0.9763636\ttotal: 535ms\tremaining: 739ms\n",
            "42:\tlearn: 0.9763636\ttotal: 547ms\tremaining: 725ms\n",
            "43:\tlearn: 0.9763636\ttotal: 557ms\tremaining: 709ms\n",
            "44:\tlearn: 0.9763636\ttotal: 567ms\tremaining: 693ms\n",
            "45:\tlearn: 0.9763636\ttotal: 581ms\tremaining: 681ms\n",
            "46:\tlearn: 0.9763636\ttotal: 591ms\tremaining: 666ms\n",
            "47:\tlearn: 0.9763636\ttotal: 601ms\tremaining: 652ms\n",
            "48:\tlearn: 0.9763636\ttotal: 612ms\tremaining: 637ms\n",
            "49:\tlearn: 0.9763636\ttotal: 621ms\tremaining: 621ms\n",
            "50:\tlearn: 0.9763636\ttotal: 632ms\tremaining: 608ms\n",
            "51:\tlearn: 0.9763636\ttotal: 642ms\tremaining: 593ms\n",
            "52:\tlearn: 0.9763636\ttotal: 665ms\tremaining: 590ms\n",
            "53:\tlearn: 0.9763636\ttotal: 671ms\tremaining: 572ms\n",
            "54:\tlearn: 0.9781818\ttotal: 677ms\tremaining: 554ms\n",
            "55:\tlearn: 0.9781818\ttotal: 683ms\tremaining: 537ms\n",
            "56:\tlearn: 0.9781818\ttotal: 687ms\tremaining: 519ms\n",
            "57:\tlearn: 0.9781818\ttotal: 693ms\tremaining: 502ms\n",
            "58:\tlearn: 0.9781818\ttotal: 698ms\tremaining: 485ms\n",
            "59:\tlearn: 0.9781818\ttotal: 705ms\tremaining: 470ms\n",
            "60:\tlearn: 0.9781818\ttotal: 709ms\tremaining: 453ms\n",
            "61:\tlearn: 0.9763636\ttotal: 718ms\tremaining: 440ms\n",
            "62:\tlearn: 0.9781818\ttotal: 723ms\tremaining: 425ms\n",
            "63:\tlearn: 0.9781818\ttotal: 728ms\tremaining: 409ms\n",
            "64:\tlearn: 0.9781818\ttotal: 734ms\tremaining: 395ms\n",
            "65:\tlearn: 0.9781818\ttotal: 739ms\tremaining: 380ms\n",
            "66:\tlearn: 0.9781818\ttotal: 757ms\tremaining: 373ms\n",
            "67:\tlearn: 0.9781818\ttotal: 762ms\tremaining: 359ms\n",
            "68:\tlearn: 0.9781818\ttotal: 771ms\tremaining: 347ms\n",
            "69:\tlearn: 0.9781818\ttotal: 777ms\tremaining: 333ms\n",
            "70:\tlearn: 0.9781818\ttotal: 781ms\tremaining: 319ms\n",
            "71:\tlearn: 0.9781818\ttotal: 788ms\tremaining: 306ms\n",
            "72:\tlearn: 0.9781818\ttotal: 792ms\tremaining: 293ms\n",
            "73:\tlearn: 0.9781818\ttotal: 798ms\tremaining: 280ms\n",
            "74:\tlearn: 0.9781818\ttotal: 802ms\tremaining: 267ms\n",
            "75:\tlearn: 0.9781818\ttotal: 809ms\tremaining: 255ms\n",
            "76:\tlearn: 0.9781818\ttotal: 813ms\tremaining: 243ms\n",
            "77:\tlearn: 0.9781818\ttotal: 826ms\tremaining: 233ms\n",
            "78:\tlearn: 0.9781818\ttotal: 833ms\tremaining: 221ms\n",
            "79:\tlearn: 0.9781818\ttotal: 837ms\tremaining: 209ms\n",
            "80:\tlearn: 0.9781818\ttotal: 844ms\tremaining: 198ms\n",
            "81:\tlearn: 0.9781818\ttotal: 848ms\tremaining: 186ms\n",
            "82:\tlearn: 0.9800000\ttotal: 870ms\tremaining: 178ms\n",
            "83:\tlearn: 0.9800000\ttotal: 898ms\tremaining: 171ms\n",
            "84:\tlearn: 0.9800000\ttotal: 907ms\tremaining: 160ms\n",
            "85:\tlearn: 0.9800000\ttotal: 917ms\tremaining: 149ms\n",
            "86:\tlearn: 0.9800000\ttotal: 923ms\tremaining: 138ms\n",
            "87:\tlearn: 0.9800000\ttotal: 930ms\tremaining: 127ms\n",
            "88:\tlearn: 0.9800000\ttotal: 936ms\tremaining: 116ms\n",
            "89:\tlearn: 0.9800000\ttotal: 940ms\tremaining: 104ms\n",
            "90:\tlearn: 0.9800000\ttotal: 957ms\tremaining: 94.6ms\n",
            "91:\tlearn: 0.9800000\ttotal: 968ms\tremaining: 84.2ms\n",
            "92:\tlearn: 0.9800000\ttotal: 973ms\tremaining: 73.2ms\n",
            "93:\tlearn: 0.9818182\ttotal: 979ms\tremaining: 62.5ms\n",
            "94:\tlearn: 0.9818182\ttotal: 983ms\tremaining: 51.8ms\n",
            "95:\tlearn: 0.9818182\ttotal: 1s\tremaining: 41.9ms\n",
            "96:\tlearn: 0.9818182\ttotal: 1.02s\tremaining: 31.5ms\n",
            "97:\tlearn: 0.9818182\ttotal: 1.02s\tremaining: 20.9ms\n",
            "98:\tlearn: 0.9818182\ttotal: 1.05s\tremaining: 10.6ms\n",
            "99:\tlearn: 0.9818182\ttotal: 1.05s\tremaining: 0us\n",
            "0:\tlearn: 0.9218182\ttotal: 4.42ms\tremaining: 437ms\n",
            "1:\tlearn: 0.9472727\ttotal: 10.7ms\tremaining: 527ms\n",
            "2:\tlearn: 0.9472727\ttotal: 15.2ms\tremaining: 490ms\n",
            "3:\tlearn: 0.9490909\ttotal: 21.1ms\tremaining: 507ms\n",
            "4:\tlearn: 0.9636364\ttotal: 25.4ms\tremaining: 483ms\n",
            "5:\tlearn: 0.9581818\ttotal: 31.8ms\tremaining: 498ms\n",
            "6:\tlearn: 0.9581818\ttotal: 35.9ms\tremaining: 478ms\n",
            "7:\tlearn: 0.9618182\ttotal: 42.4ms\tremaining: 487ms\n",
            "8:\tlearn: 0.9636364\ttotal: 46.6ms\tremaining: 471ms\n",
            "9:\tlearn: 0.9636364\ttotal: 52.9ms\tremaining: 476ms\n",
            "10:\tlearn: 0.9618182\ttotal: 57.1ms\tremaining: 462ms\n",
            "11:\tlearn: 0.9636364\ttotal: 62.3ms\tremaining: 457ms\n",
            "12:\tlearn: 0.9636364\ttotal: 74.7ms\tremaining: 500ms\n",
            "13:\tlearn: 0.9654545\ttotal: 82.5ms\tremaining: 507ms\n",
            "14:\tlearn: 0.9618182\ttotal: 87ms\tremaining: 493ms\n",
            "15:\tlearn: 0.9618182\ttotal: 93.4ms\tremaining: 491ms\n",
            "16:\tlearn: 0.9600000\ttotal: 99.2ms\tremaining: 484ms\n",
            "17:\tlearn: 0.9618182\ttotal: 104ms\tremaining: 475ms\n",
            "18:\tlearn: 0.9618182\ttotal: 110ms\tremaining: 469ms\n",
            "19:\tlearn: 0.9618182\ttotal: 115ms\tremaining: 459ms\n",
            "20:\tlearn: 0.9636364\ttotal: 136ms\tremaining: 512ms\n",
            "21:\tlearn: 0.9654545\ttotal: 147ms\tremaining: 520ms\n",
            "22:\tlearn: 0.9672727\ttotal: 157ms\tremaining: 525ms\n",
            "23:\tlearn: 0.9690909\ttotal: 171ms\tremaining: 543ms\n",
            "24:\tlearn: 0.9709091\ttotal: 181ms\tremaining: 543ms\n",
            "25:\tlearn: 0.9709091\ttotal: 190ms\tremaining: 541ms\n",
            "26:\tlearn: 0.9727273\ttotal: 202ms\tremaining: 547ms\n",
            "27:\tlearn: 0.9745455\ttotal: 212ms\tremaining: 546ms\n",
            "28:\tlearn: 0.9727273\ttotal: 220ms\tremaining: 537ms\n",
            "29:\tlearn: 0.9709091\ttotal: 224ms\tremaining: 522ms\n",
            "30:\tlearn: 0.9709091\ttotal: 230ms\tremaining: 511ms\n",
            "31:\tlearn: 0.9709091\ttotal: 235ms\tremaining: 500ms\n",
            "32:\tlearn: 0.9709091\ttotal: 240ms\tremaining: 487ms\n",
            "33:\tlearn: 0.9709091\ttotal: 247ms\tremaining: 479ms\n",
            "34:\tlearn: 0.9709091\ttotal: 252ms\tremaining: 467ms\n",
            "35:\tlearn: 0.9709091\ttotal: 262ms\tremaining: 466ms\n",
            "36:\tlearn: 0.9709091\ttotal: 284ms\tremaining: 484ms\n",
            "37:\tlearn: 0.9727273\ttotal: 289ms\tremaining: 471ms\n",
            "38:\tlearn: 0.9727273\ttotal: 313ms\tremaining: 489ms\n",
            "39:\tlearn: 0.9727273\ttotal: 340ms\tremaining: 510ms\n",
            "40:\tlearn: 0.9745455\ttotal: 348ms\tremaining: 501ms\n",
            "41:\tlearn: 0.9727273\ttotal: 363ms\tremaining: 501ms\n",
            "42:\tlearn: 0.9727273\ttotal: 372ms\tremaining: 493ms\n",
            "43:\tlearn: 0.9727273\ttotal: 376ms\tremaining: 479ms\n",
            "44:\tlearn: 0.9727273\ttotal: 382ms\tremaining: 467ms\n",
            "45:\tlearn: 0.9727273\ttotal: 388ms\tremaining: 456ms\n",
            "46:\tlearn: 0.9745455\ttotal: 394ms\tremaining: 444ms\n",
            "47:\tlearn: 0.9727273\ttotal: 401ms\tremaining: 434ms\n",
            "48:\tlearn: 0.9745455\ttotal: 405ms\tremaining: 422ms\n",
            "49:\tlearn: 0.9745455\ttotal: 412ms\tremaining: 412ms\n",
            "50:\tlearn: 0.9745455\ttotal: 419ms\tremaining: 403ms\n",
            "51:\tlearn: 0.9727273\ttotal: 425ms\tremaining: 392ms\n",
            "52:\tlearn: 0.9709091\ttotal: 430ms\tremaining: 381ms\n",
            "53:\tlearn: 0.9709091\ttotal: 435ms\tremaining: 370ms\n",
            "54:\tlearn: 0.9709091\ttotal: 447ms\tremaining: 366ms\n",
            "55:\tlearn: 0.9727273\ttotal: 453ms\tremaining: 356ms\n",
            "56:\tlearn: 0.9727273\ttotal: 459ms\tremaining: 346ms\n",
            "57:\tlearn: 0.9745455\ttotal: 464ms\tremaining: 336ms\n",
            "58:\tlearn: 0.9745455\ttotal: 469ms\tremaining: 326ms\n",
            "59:\tlearn: 0.9745455\ttotal: 479ms\tremaining: 319ms\n",
            "60:\tlearn: 0.9745455\ttotal: 483ms\tremaining: 309ms\n",
            "61:\tlearn: 0.9745455\ttotal: 489ms\tremaining: 300ms\n",
            "62:\tlearn: 0.9745455\ttotal: 501ms\tremaining: 294ms\n",
            "63:\tlearn: 0.9727273\ttotal: 505ms\tremaining: 284ms\n",
            "64:\tlearn: 0.9763636\ttotal: 512ms\tremaining: 275ms\n",
            "65:\tlearn: 0.9763636\ttotal: 526ms\tremaining: 271ms\n",
            "66:\tlearn: 0.9745455\ttotal: 541ms\tremaining: 266ms\n",
            "67:\tlearn: 0.9745455\ttotal: 551ms\tremaining: 259ms\n",
            "68:\tlearn: 0.9763636\ttotal: 562ms\tremaining: 252ms\n",
            "69:\tlearn: 0.9781818\ttotal: 575ms\tremaining: 247ms\n",
            "70:\tlearn: 0.9763636\ttotal: 590ms\tremaining: 241ms\n",
            "71:\tlearn: 0.9763636\ttotal: 601ms\tremaining: 234ms\n",
            "72:\tlearn: 0.9763636\ttotal: 619ms\tremaining: 229ms\n",
            "73:\tlearn: 0.9781818\ttotal: 625ms\tremaining: 220ms\n",
            "74:\tlearn: 0.9781818\ttotal: 629ms\tremaining: 210ms\n",
            "75:\tlearn: 0.9781818\ttotal: 636ms\tremaining: 201ms\n",
            "76:\tlearn: 0.9781818\ttotal: 640ms\tremaining: 191ms\n",
            "77:\tlearn: 0.9781818\ttotal: 646ms\tremaining: 182ms\n",
            "78:\tlearn: 0.9781818\ttotal: 660ms\tremaining: 176ms\n",
            "79:\tlearn: 0.9781818\ttotal: 667ms\tremaining: 167ms\n",
            "80:\tlearn: 0.9781818\ttotal: 673ms\tremaining: 158ms\n",
            "81:\tlearn: 0.9781818\ttotal: 678ms\tremaining: 149ms\n",
            "82:\tlearn: 0.9781818\ttotal: 684ms\tremaining: 140ms\n",
            "83:\tlearn: 0.9781818\ttotal: 689ms\tremaining: 131ms\n",
            "84:\tlearn: 0.9781818\ttotal: 695ms\tremaining: 123ms\n",
            "85:\tlearn: 0.9781818\ttotal: 701ms\tremaining: 114ms\n",
            "86:\tlearn: 0.9781818\ttotal: 705ms\tremaining: 105ms\n",
            "87:\tlearn: 0.9781818\ttotal: 713ms\tremaining: 97.2ms\n",
            "88:\tlearn: 0.9800000\ttotal: 719ms\tremaining: 88.9ms\n",
            "89:\tlearn: 0.9800000\ttotal: 725ms\tremaining: 80.6ms\n",
            "90:\tlearn: 0.9800000\ttotal: 737ms\tremaining: 72.9ms\n",
            "91:\tlearn: 0.9800000\ttotal: 748ms\tremaining: 65ms\n",
            "92:\tlearn: 0.9818182\ttotal: 777ms\tremaining: 58.5ms\n",
            "93:\tlearn: 0.9800000\ttotal: 782ms\tremaining: 49.9ms\n",
            "94:\tlearn: 0.9818182\ttotal: 788ms\tremaining: 41.5ms\n",
            "95:\tlearn: 0.9818182\ttotal: 794ms\tremaining: 33.1ms\n",
            "96:\tlearn: 0.9818182\ttotal: 799ms\tremaining: 24.7ms\n",
            "97:\tlearn: 0.9836364\ttotal: 807ms\tremaining: 16.5ms\n",
            "98:\tlearn: 0.9836364\ttotal: 814ms\tremaining: 8.22ms\n",
            "99:\tlearn: 0.9836364\ttotal: 819ms\tremaining: 0us\n",
            "0:\tlearn: 0.9183303\ttotal: 9.9ms\tremaining: 980ms\n",
            "1:\tlearn: 0.9310345\ttotal: 17.5ms\tremaining: 859ms\n",
            "2:\tlearn: 0.9528131\ttotal: 21.9ms\tremaining: 709ms\n",
            "3:\tlearn: 0.9491833\ttotal: 36.2ms\tremaining: 868ms\n",
            "4:\tlearn: 0.9528131\ttotal: 40.5ms\tremaining: 770ms\n",
            "5:\tlearn: 0.9546279\ttotal: 46.6ms\tremaining: 731ms\n",
            "6:\tlearn: 0.9546279\ttotal: 51.6ms\tremaining: 686ms\n",
            "7:\tlearn: 0.9600726\ttotal: 57.9ms\tremaining: 666ms\n",
            "8:\tlearn: 0.9618875\ttotal: 63.1ms\tremaining: 638ms\n",
            "9:\tlearn: 0.9637024\ttotal: 68.5ms\tremaining: 616ms\n",
            "10:\tlearn: 0.9600726\ttotal: 74.2ms\tremaining: 601ms\n",
            "11:\tlearn: 0.9637024\ttotal: 79.9ms\tremaining: 586ms\n",
            "12:\tlearn: 0.9600726\ttotal: 84.2ms\tremaining: 563ms\n",
            "13:\tlearn: 0.9655172\ttotal: 90.3ms\tremaining: 555ms\n",
            "14:\tlearn: 0.9673321\ttotal: 95.4ms\tremaining: 541ms\n",
            "15:\tlearn: 0.9673321\ttotal: 103ms\tremaining: 540ms\n",
            "16:\tlearn: 0.9655172\ttotal: 107ms\tremaining: 524ms\n",
            "17:\tlearn: 0.9673321\ttotal: 113ms\tremaining: 515ms\n",
            "18:\tlearn: 0.9673321\ttotal: 117ms\tremaining: 501ms\n",
            "19:\tlearn: 0.9673321\ttotal: 124ms\tremaining: 497ms\n",
            "20:\tlearn: 0.9673321\ttotal: 129ms\tremaining: 484ms\n",
            "21:\tlearn: 0.9673321\ttotal: 135ms\tremaining: 480ms\n",
            "22:\tlearn: 0.9691470\ttotal: 140ms\tremaining: 469ms\n",
            "23:\tlearn: 0.9673321\ttotal: 145ms\tremaining: 459ms\n",
            "24:\tlearn: 0.9691470\ttotal: 156ms\tremaining: 469ms\n",
            "25:\tlearn: 0.9673321\ttotal: 166ms\tremaining: 471ms\n",
            "26:\tlearn: 0.9709619\ttotal: 183ms\tremaining: 493ms\n",
            "27:\tlearn: 0.9691470\ttotal: 189ms\tremaining: 487ms\n",
            "28:\tlearn: 0.9709619\ttotal: 194ms\tremaining: 474ms\n",
            "29:\tlearn: 0.9709619\ttotal: 200ms\tremaining: 466ms\n",
            "30:\tlearn: 0.9709619\ttotal: 204ms\tremaining: 454ms\n",
            "31:\tlearn: 0.9709619\ttotal: 209ms\tremaining: 445ms\n",
            "32:\tlearn: 0.9691470\ttotal: 216ms\tremaining: 438ms\n",
            "33:\tlearn: 0.9691470\ttotal: 230ms\tremaining: 447ms\n",
            "34:\tlearn: 0.9691470\ttotal: 236ms\tremaining: 439ms\n",
            "35:\tlearn: 0.9691470\ttotal: 241ms\tremaining: 428ms\n",
            "36:\tlearn: 0.9709619\ttotal: 247ms\tremaining: 421ms\n",
            "37:\tlearn: 0.9709619\ttotal: 254ms\tremaining: 414ms\n",
            "38:\tlearn: 0.9709619\ttotal: 260ms\tremaining: 407ms\n",
            "39:\tlearn: 0.9709619\ttotal: 265ms\tremaining: 398ms\n",
            "40:\tlearn: 0.9709619\ttotal: 272ms\tremaining: 391ms\n",
            "41:\tlearn: 0.9709619\ttotal: 278ms\tremaining: 384ms\n",
            "42:\tlearn: 0.9709619\ttotal: 286ms\tremaining: 379ms\n",
            "43:\tlearn: 0.9727768\ttotal: 296ms\tremaining: 376ms\n",
            "44:\tlearn: 0.9727768\ttotal: 305ms\tremaining: 372ms\n",
            "45:\tlearn: 0.9727768\ttotal: 316ms\tremaining: 371ms\n",
            "46:\tlearn: 0.9727768\ttotal: 332ms\tremaining: 375ms\n",
            "47:\tlearn: 0.9727768\ttotal: 377ms\tremaining: 408ms\n",
            "48:\tlearn: 0.9727768\ttotal: 389ms\tremaining: 405ms\n",
            "49:\tlearn: 0.9727768\ttotal: 434ms\tremaining: 434ms\n",
            "50:\tlearn: 0.9727768\ttotal: 452ms\tremaining: 435ms\n",
            "51:\tlearn: 0.9745917\ttotal: 474ms\tremaining: 438ms\n",
            "52:\tlearn: 0.9745917\ttotal: 484ms\tremaining: 429ms\n",
            "53:\tlearn: 0.9745917\ttotal: 496ms\tremaining: 422ms\n",
            "54:\tlearn: 0.9727768\ttotal: 506ms\tremaining: 414ms\n",
            "55:\tlearn: 0.9745917\ttotal: 517ms\tremaining: 406ms\n",
            "56:\tlearn: 0.9745917\ttotal: 528ms\tremaining: 398ms\n",
            "57:\tlearn: 0.9745917\ttotal: 545ms\tremaining: 394ms\n",
            "58:\tlearn: 0.9745917\ttotal: 555ms\tremaining: 386ms\n",
            "59:\tlearn: 0.9745917\ttotal: 574ms\tremaining: 383ms\n",
            "60:\tlearn: 0.9745917\ttotal: 593ms\tremaining: 379ms\n",
            "61:\tlearn: 0.9745917\ttotal: 602ms\tremaining: 369ms\n",
            "62:\tlearn: 0.9745917\ttotal: 628ms\tremaining: 369ms\n",
            "63:\tlearn: 0.9745917\ttotal: 644ms\tremaining: 362ms\n",
            "64:\tlearn: 0.9745917\ttotal: 658ms\tremaining: 354ms\n",
            "65:\tlearn: 0.9764065\ttotal: 670ms\tremaining: 345ms\n",
            "66:\tlearn: 0.9764065\ttotal: 681ms\tremaining: 335ms\n",
            "67:\tlearn: 0.9764065\ttotal: 694ms\tremaining: 326ms\n",
            "68:\tlearn: 0.9764065\ttotal: 707ms\tremaining: 318ms\n",
            "69:\tlearn: 0.9764065\ttotal: 717ms\tremaining: 307ms\n",
            "70:\tlearn: 0.9764065\ttotal: 729ms\tremaining: 298ms\n",
            "71:\tlearn: 0.9764065\ttotal: 741ms\tremaining: 288ms\n",
            "72:\tlearn: 0.9764065\ttotal: 750ms\tremaining: 277ms\n",
            "73:\tlearn: 0.9782214\ttotal: 762ms\tremaining: 268ms\n",
            "74:\tlearn: 0.9782214\ttotal: 780ms\tremaining: 260ms\n",
            "75:\tlearn: 0.9782214\ttotal: 786ms\tremaining: 248ms\n",
            "76:\tlearn: 0.9782214\ttotal: 802ms\tremaining: 240ms\n",
            "77:\tlearn: 0.9782214\ttotal: 814ms\tremaining: 230ms\n",
            "78:\tlearn: 0.9800363\ttotal: 819ms\tremaining: 218ms\n",
            "79:\tlearn: 0.9818512\ttotal: 825ms\tremaining: 206ms\n",
            "80:\tlearn: 0.9818512\ttotal: 830ms\tremaining: 195ms\n",
            "81:\tlearn: 0.9818512\ttotal: 836ms\tremaining: 183ms\n",
            "82:\tlearn: 0.9818512\ttotal: 840ms\tremaining: 172ms\n",
            "83:\tlearn: 0.9800363\ttotal: 847ms\tremaining: 161ms\n",
            "84:\tlearn: 0.9818512\ttotal: 851ms\tremaining: 150ms\n",
            "85:\tlearn: 0.9836661\ttotal: 857ms\tremaining: 140ms\n",
            "86:\tlearn: 0.9854809\ttotal: 862ms\tremaining: 129ms\n",
            "87:\tlearn: 0.9854809\ttotal: 869ms\tremaining: 118ms\n",
            "88:\tlearn: 0.9836661\ttotal: 873ms\tremaining: 108ms\n",
            "89:\tlearn: 0.9854809\ttotal: 879ms\tremaining: 97.7ms\n",
            "90:\tlearn: 0.9854809\ttotal: 883ms\tremaining: 87.3ms\n",
            "91:\tlearn: 0.9854809\ttotal: 889ms\tremaining: 77.3ms\n",
            "92:\tlearn: 0.9854809\ttotal: 901ms\tremaining: 67.8ms\n",
            "93:\tlearn: 0.9854809\ttotal: 912ms\tremaining: 58.2ms\n",
            "94:\tlearn: 0.9854809\ttotal: 927ms\tremaining: 48.8ms\n",
            "95:\tlearn: 0.9854809\ttotal: 934ms\tremaining: 38.9ms\n",
            "96:\tlearn: 0.9854809\ttotal: 940ms\tremaining: 29.1ms\n",
            "97:\tlearn: 0.9854809\ttotal: 944ms\tremaining: 19.3ms\n",
            "98:\tlearn: 0.9854809\ttotal: 955ms\tremaining: 9.65ms\n",
            "99:\tlearn: 0.9854809\ttotal: 960ms\tremaining: 0us\n",
            "Acurácia Média: 96.32%\n"
          ]
        }
      ]
    },
    {
      "cell_type": "markdown",
      "source": [
        "# Considerações:"
      ],
      "metadata": {
        "id": "xakUJG-Vj73j"
      }
    },
    {
      "cell_type": "markdown",
      "source": [
        "## Os modelos tiveram as seguintes acurácias:"
      ],
      "metadata": {
        "id": "G-vMYxeNj_Dg"
      }
    },
    {
      "cell_type": "markdown",
      "source": [
        "### Com \"preditores\":"
      ],
      "metadata": {
        "id": "eNJVebrWlfa3"
      }
    },
    {
      "cell_type": "markdown",
      "source": [
        "####Naive Bayes: 92.40%\n",
        "####Regressão Logística: 95.91%\n",
        "#### SVC: 95.32%\n",
        "#### Árvore de decisão: 94.74%\n",
        "#### Floresta Aleatória: 95.32%\n",
        "#### KNN: 96.49%\n",
        "#### XGBoost: 97.66%\n",
        "#### LGBM: 97.08%\n",
        "#### Catboost: 97.67%"
      ],
      "metadata": {
        "id": "sOQ2gbWPkFDC"
      }
    },
    {
      "cell_type": "markdown",
      "source": [
        "### Com \"preditores_esc\":"
      ],
      "metadata": {
        "id": "e1F2bEawln44"
      }
    },
    {
      "cell_type": "markdown",
      "source": [
        "####Naive Bayes: 91.23%\n",
        "####Regressão Logística: 97.66%\n",
        "#### SVC: 98.25%\n",
        "#### Árvore de decisão: 94.74%\n",
        "#### Floresta Aleatória: 95.32%\n",
        "#### KNN: 95.91%\n",
        "#### XGBoost: 97.66%\n",
        "#### LGBM: 97.08%\n",
        "#### Catboost: 97.67%"
      ],
      "metadata": {
        "id": "GICtb6W9lwAv"
      }
    },
    {
      "cell_type": "markdown",
      "source": [
        "## O modelo com melhor resultado foi o Support Vector Machine Classifier - SVC: 98.25% de acurácia.\n",
        "## Os Hiperparametros utilizados foram: \n",
        "- kernel='rbf'\n",
        "- C=4"
      ],
      "metadata": {
        "id": "OjVnqghiJTPP"
      }
    }
  ]
}